{
 "cells": [
  {
   "cell_type": "markdown",
   "id": "5a5b53ef-c3fe-487c-bbf1-2056c5b5ec81",
   "metadata": {},
   "source": [
    "# conditional statements\n",
    "- it is used to execute the code badsed on some condition\n",
    "-assume a statement\n",
    "    - if rain comes i will stay hostel\n",
    "    - if rain comes i will stay hostel otherwise i will go to play circket\n",
    "    - if rain comes i will stay hostel otherwise i will go to play ground but if omkar sir call i will go to nareshaIT\n",
    "\n",
    "\n",
    "    - if rain comes i will stay hostel else i will go to play circket\n",
    "- if\n",
    "- if-else\n",
    "- if-elif-else "
   ]
  },
  {
   "cell_type": "code",
   "execution_count": 3,
   "id": "3169ca5e-a323-415d-bf65-7be657cc7357",
   "metadata": {},
   "outputs": [
    {
     "ename": "SyntaxError",
     "evalue": "invalid syntax (2080251217.py, line 1)",
     "output_type": "error",
     "traceback": [
      "\u001b[1;36m  Cell \u001b[1;32mIn[3], line 1\u001b[1;36m\u001b[0m\n\u001b[1;33m    if <condition>:   #colon shuold be given after the condition\u001b[0m\n\u001b[1;37m       ^\u001b[0m\n\u001b[1;31mSyntaxError\u001b[0m\u001b[1;31m:\u001b[0m invalid syntax\n"
     ]
    }
   ],
   "source": [
    "if <condition>:   #colon shuold be given after the condition\n",
    "    #write ur code here\n",
    "\n",
    "\n",
    "\n",
    "# whenever the conditon is true\n",
    "# then python will side the if area then lines will be executed"
   ]
  },
  {
   "cell_type": "code",
   "execution_count": 2,
   "id": "91c12dad-48e3-4f04-9e7a-a1b5170098cf",
   "metadata": {},
   "outputs": [
    {
     "name": "stdout",
     "output_type": "stream",
     "text": [
      "False\n",
      "True\n",
      "False\n",
      "False\n",
      "True\n",
      "True\n"
     ]
    }
   ],
   "source": [
    "num=10\n",
    "print(num==100)\n",
    "print(num==10)\n",
    "print(num>10)\n",
    "print(num<10)\n",
    "print(num>=10)\n",
    "print(num<=10)"
   ]
  },
  {
   "cell_type": "code",
   "execution_count": 5,
   "id": "55a8ffd0-4887-4739-abbc-c0a509b500fa",
   "metadata": {},
   "outputs": [
    {
     "name": "stdout",
     "output_type": "stream",
     "text": [
      "true\n"
     ]
    }
   ],
   "source": [
    "if 100>10:\n",
    "    print('true')"
   ]
  },
  {
   "cell_type": "code",
   "execution_count": 6,
   "id": "69c6ea07-a76a-4585-9233-2148ce3f06db",
   "metadata": {},
   "outputs": [
    {
     "ename": "IndentationError",
     "evalue": "expected an indented block after 'if' statement on line 1 (4153549045.py, line 2)",
     "output_type": "error",
     "traceback": [
      "\u001b[1;36m  Cell \u001b[1;32mIn[6], line 2\u001b[1;36m\u001b[0m\n\u001b[1;33m    print('true') # here we removed the space before the print ir result to indentatyion error\u001b[0m\n\u001b[1;37m    ^\u001b[0m\n\u001b[1;31mIndentationError\u001b[0m\u001b[1;31m:\u001b[0m expected an indented block after 'if' statement on line 1\n"
     ]
    }
   ],
   "source": [
    "if 100>10:\n",
    "print('true') # here we removed the space before the print ir result to indentatyion error "
   ]
  },
  {
   "cell_type": "markdown",
   "id": "88c34977-5ef7-4f06-8dcf-4786b3147270",
   "metadata": {},
   "source": [
    "**mistake 1- indentation error**\n",
    "    - whenever a line starts with keyword at last we gives the colon the next line stationg there will a tab space if we remove the tab space then it results to indentation error"
   ]
  },
  {
   "cell_type": "markdown",
   "id": "d45cedb7-eb3f-4804-a387-46ef63cf2146",
   "metadata": {},
   "source": [
    "**mistake 2**\n",
    "- forgetting colon after the condition"
   ]
  },
  {
   "cell_type": "markdown",
   "id": "a9337109-6af4-4a8f-8223-f57631353609",
   "metadata": {},
   "source": [
    "**we can directly give condition as the true and false**"
   ]
  },
  {
   "cell_type": "code",
   "execution_count": 8,
   "id": "6c0d88bd-278c-4abd-aa69-cc2858913f26",
   "metadata": {},
   "outputs": [
    {
     "name": "stdout",
     "output_type": "stream",
     "text": [
      "hello\n"
     ]
    }
   ],
   "source": [
    "if bool(100):\n",
    "    print(\"hello\")"
   ]
  },
  {
   "cell_type": "code",
   "execution_count": 9,
   "id": "41bd1d14-c01a-4d5d-b658-ff30de599a80",
   "metadata": {},
   "outputs": [
    {
     "name": "stdout",
     "output_type": "stream",
     "text": [
      "hii\n",
      "hello\n",
      "with condition bye\n",
      "without condition bye\n"
     ]
    }
   ],
   "source": [
    "if 100>10:\n",
    "    print(\"hii\")\n",
    "    print(\"hello\")\n",
    "    print(\"with condition bye\")\n",
    "print(\"without condition bye\")"
   ]
  },
  {
   "cell_type": "code",
   "execution_count": 10,
   "id": "52fe90ac-2f49-4a2f-b7e2-622d2ec4577d",
   "metadata": {},
   "outputs": [
    {
     "name": "stdout",
     "output_type": "stream",
     "text": [
      "without condition bye\n"
     ]
    }
   ],
   "source": [
    "if 100<10:\n",
    "    print(\"hii\")\n",
    "    print(\"hello\")\n",
    "    print(\"with condition bye\")\n",
    "print(\"without condition bye\")"
   ]
  },
  {
   "cell_type": "markdown",
   "id": "4d85b763-aff8-43e3-bcf6-877b78d0aede",
   "metadata": {},
   "source": [
    "# if-else"
   ]
  },
  {
   "cell_type": "markdown",
   "id": "b18f589b-88f6-4c42-be9f-260f4f786962",
   "metadata": {},
   "source": [
    "- if any condition is true then if statement will execute\n",
    "- if condition is false then else statement will execute\n",
    "- one condition two outputs\n",
    "- if needs conditon but not else"
   ]
  },
  {
   "cell_type": "code",
   "execution_count": 13,
   "id": "ce2ae0a3-152f-4ae2-86db-5cace3626dd0",
   "metadata": {},
   "outputs": [
    {
     "ename": "SyntaxError",
     "evalue": "invalid syntax (3860971737.py, line 2)",
     "output_type": "error",
     "traceback": [
      "\u001b[1;36m  Cell \u001b[1;32mIn[13], line 2\u001b[1;36m\u001b[0m\n\u001b[1;33m    if <condition>:\u001b[0m\n\u001b[1;37m       ^\u001b[0m\n\u001b[1;31mSyntaxError\u001b[0m\u001b[1;31m:\u001b[0m invalid syntax\n"
     ]
    }
   ],
   "source": [
    "# syntax\n",
    "if <condition>:\n",
    "    <write code here>\n",
    "else:\n",
    "    <write your code here>"
   ]
  },
  {
   "cell_type": "code",
   "execution_count": 16,
   "id": "25e467da-8fcf-440c-9bea-f563212d6aee",
   "metadata": {},
   "outputs": [
    {
     "name": "stdout",
     "output_type": "stream",
     "text": [
      "positive number\n"
     ]
    }
   ],
   "source": [
    "if 100>10:                   #here if statement is true so if statement executes\n",
    "    print(\"positive number\")\n",
    "else:\n",
    "    print(\"negative number\")"
   ]
  },
  {
   "cell_type": "code",
   "execution_count": 17,
   "id": "d04377e4-985e-4e8e-9d00-6843b061ff31",
   "metadata": {},
   "outputs": [
    {
     "name": "stdout",
     "output_type": "stream",
     "text": [
      "negative number\n"
     ]
    }
   ],
   "source": [
    "if 100<10:\n",
    "    print(\"positive number\")\n",
    "else:                   #here if statement is false then it executes the else statement\n",
    "    print(\"negative number\")"
   ]
  },
  {
   "cell_type": "code",
   "execution_count": 18,
   "id": "d4b51ee6-9645-4569-bb5f-1e6724504554",
   "metadata": {},
   "outputs": [
    {
     "name": "stdin",
     "output_type": "stream",
     "text": [
      "enter the value: 6\n"
     ]
    },
    {
     "name": "stdout",
     "output_type": "stream",
     "text": [
      "negative number\n"
     ]
    }
   ],
   "source": [
    "n=eval(input(\"enter the value:\"))\n",
    "if n>10:\n",
    "    print(\"positive number\")\n",
    "else:\n",
    "    print(\"negative number\")"
   ]
  },
  {
   "cell_type": "code",
   "execution_count": 19,
   "id": "9cfc3a0f-2d36-40d2-ab6c-d9a157f833b6",
   "metadata": {},
   "outputs": [
    {
     "name": "stdin",
     "output_type": "stream",
     "text": [
      "enter the value: 15\n"
     ]
    },
    {
     "name": "stdout",
     "output_type": "stream",
     "text": [
      "positive number\n"
     ]
    }
   ],
   "source": [
    "n=eval(input(\"enter the value:\"))\n",
    "if n>10:\n",
    "    print(\"positive number\")\n",
    "else:\n",
    "    print(\"negative number\")"
   ]
  },
  {
   "cell_type": "code",
   "execution_count": 21,
   "id": "0dbfb6e0-dda6-44da-9eea-b0605068e717",
   "metadata": {},
   "outputs": [
    {
     "name": "stdout",
     "output_type": "stream",
     "text": [
      "-17 is a negative number\n"
     ]
    }
   ],
   "source": [
    "import random\n",
    "n=random.randint(-100,100)\n",
    "if n>0:\n",
    "    print(f\"{n} is a positive number\")\n",
    "else:\n",
    "    print(f\"{n} is a negative number\")\n",
    "    "
   ]
  },
  {
   "cell_type": "code",
   "execution_count": 22,
   "id": "be6acd68-e86c-46ca-bc6b-739665ec5817",
   "metadata": {},
   "outputs": [
    {
     "name": "stdout",
     "output_type": "stream",
     "text": [
      "hello\n",
      "negative number\n"
     ]
    }
   ],
   "source": [
    "print(\"hello\")\n",
    "if 100<10:\n",
    "    print(\"positive number\")\n",
    "else:                   #here if statement is false then it executes the else statement\n",
    "    print(\"negative number\")"
   ]
  },
  {
   "cell_type": "code",
   "execution_count": 23,
   "id": "095f7cc3-6e61-425f-822d-588520ddc2b3",
   "metadata": {},
   "outputs": [
    {
     "name": "stdout",
     "output_type": "stream",
     "text": [
      "hello\n",
      "positive number\n"
     ]
    }
   ],
   "source": [
    "print(\"hello\")\n",
    "if 100>10:                   #here if statement is true so if statement executes\n",
    "    print(\"positive number\")\n",
    "else:\n",
    "    print(\"negative number\")"
   ]
  },
  {
   "cell_type": "code",
   "execution_count": 25,
   "id": "a753b340-3f09-40f7-a852-da105e09d63e",
   "metadata": {},
   "outputs": [
    {
     "ename": "SyntaxError",
     "evalue": "invalid syntax (4142849840.py, line 5)",
     "output_type": "error",
     "traceback": [
      "\u001b[1;36m  Cell \u001b[1;32mIn[25], line 5\u001b[1;36m\u001b[0m\n\u001b[1;33m    else:\u001b[0m\n\u001b[1;37m    ^\u001b[0m\n\u001b[1;31mSyntaxError\u001b[0m\u001b[1;31m:\u001b[0m invalid syntax\n"
     ]
    }
   ],
   "source": [
    "print(\"hello\")\n",
    "if 100>10:                   #here if statement is true so if statement executes\n",
    "    print(\"positive number\")\n",
    "print(\"hii\")   # there should be no any statements between the if and else conditions it leads to erroe\n",
    "else:\n",
    "    print(\"negative number\")"
   ]
  },
  {
   "cell_type": "code",
   "execution_count": 26,
   "id": "1c1b285b-7d20-4250-b170-485fa23160af",
   "metadata": {},
   "outputs": [
    {
     "name": "stdin",
     "output_type": "stream",
     "text": [
      "enter n1: 25\n",
      "enetr n2: 29\n"
     ]
    },
    {
     "name": "stdout",
     "output_type": "stream",
     "text": [
      "29 is greatre than the 25\n"
     ]
    }
   ],
   "source": [
    "# enter two numbers and find the greatest number\n",
    "n1=eval(input(\"enter n1:\"))\n",
    "n2=eval(input(\"enetr n2:\"))\n",
    "if n1>n2:\n",
    "    print(f\"{n1} is greatre than the {n2}\")\n",
    "else:\n",
    "     print(f\"{n2} is greatre than the {n1}\")  "
   ]
  },
  {
   "cell_type": "code",
   "execution_count": 28,
   "id": "85c21928-a5e3-4885-a4cf-a8599a1f8ec8",
   "metadata": {},
   "outputs": [
    {
     "name": "stdout",
     "output_type": "stream",
     "text": [
      "n2=81 is greatre than the n1=79\n"
     ]
    }
   ],
   "source": [
    "import random\n",
    "n1=random.randint(1,100)\n",
    "n2=random.randint(1,100)\n",
    "if n1>n2:\n",
    "    print(f\"n1={n1} is greatre than the n2={n2}\")\n",
    "else:\n",
    "     print(f\"n2={n2} is greatre than the n1={n1}\")  "
   ]
  },
  {
   "cell_type": "code",
   "execution_count": 33,
   "id": "f065cdd1-33db-4083-910c-d6fcc4a9b62d",
   "metadata": {},
   "outputs": [
    {
     "name": "stdin",
     "output_type": "stream",
     "text": [
      "enter the distance 26\n",
      "charge per km: 3\n"
     ]
    },
    {
     "name": "stdout",
     "output_type": "stream",
     "text": [
      "total charge is 78\n"
     ]
    }
   ],
   "source": [
    "#enter distance if distance greater than 25km then ask cgarge per km then calculate total charge otherwwisw print free ride\n",
    "distance=eval(input(\"enter the distance\"))\n",
    "if distance>25:\n",
    "    charge=eval(input(\"charge per km:\"))\n",
    "    charge=distance*charge\n",
    "    print(f\"total charge is {charge}\")\n",
    "else:\n",
    "    print(\"free ride\")"
   ]
  },
  {
   "cell_type": "code",
   "execution_count": 37,
   "id": "6021ab06-1fc5-4f70-b7ab-e126319f79f3",
   "metadata": {},
   "outputs": [
    {
     "name": "stdin",
     "output_type": "stream",
     "text": [
      "enter the distance 50\n",
      "charge per km: 5\n"
     ]
    },
    {
     "name": "stdout",
     "output_type": "stream",
     "text": [
      "total charge is 125\n"
     ]
    }
   ],
   "source": [
    "distance=eval(input(\"enter the distance\"))\n",
    "free_distance=25\n",
    "if distance>25:\n",
    "    charge=eval(input(\"charge per km:\"))\n",
    "    distance_covered=distance-free_distance\n",
    "    charge=distance_covered*charge\n",
    "    print(f\"total charge is {charge}\")\n",
    "else:\n",
    "    print(\"free ride\")"
   ]
  },
  {
   "cell_type": "code",
   "execution_count": 40,
   "id": "3828c974-56f4-45a7-a777-4e45858a0306",
   "metadata": {},
   "outputs": [
    {
     "name": "stdin",
     "output_type": "stream",
     "text": [
      "enter the distance 26\n",
      "charge per km: 5\n"
     ]
    },
    {
     "name": "stdout",
     "output_type": "stream",
     "text": [
      "total charge is 5\n"
     ]
    }
   ],
   "source": [
    "distance=eval(input(\"enter the distance\"))\n",
    "free_distance=25\n",
    "if distance>free_distance:\n",
    "    charge=eval(input(\"charge per km:\"))\n",
    "    distance_covered=distance-free_distance\n",
    "    charge=distance_covered*charge\n",
    "    print(f\"total charge is {charge}\")\n",
    "else:\n",
    "    print(\"free ride\")"
   ]
  },
  {
   "cell_type": "code",
   "execution_count": 45,
   "id": "6e64dac2-f4dc-4196-944a-31741b33498a",
   "metadata": {},
   "outputs": [
    {
     "name": "stdout",
     "output_type": "stream",
     "text": [
      "distance is:31kms\n"
     ]
    },
    {
     "name": "stdin",
     "output_type": "stream",
     "text": [
      "charge per km: 2\n"
     ]
    },
    {
     "name": "stdout",
     "output_type": "stream",
     "text": [
      "total charge is 12\n"
     ]
    }
   ],
   "source": [
    "import random\n",
    "distance=random.randint(1,100)\n",
    "free_distance=25\n",
    "print(f\"distance is:{distance}kms\")\n",
    "if distance>free_distance:\n",
    "    charge=eval(input(\"charge per km:\"))\n",
    "    distance_covered=distance-free_distance\n",
    "    charge=distance_covered*charge\n",
    "    print(f\"total charge is {charge}\")\n",
    "else:\n",
    "    print(\"free ride\")"
   ]
  },
  {
   "cell_type": "code",
   "execution_count": 46,
   "id": "8d3f31f8-5214-41ea-a50c-1b42092f73ee",
   "metadata": {},
   "outputs": [
    {
     "name": "stdin",
     "output_type": "stream",
     "text": [
      "enter the distance: 100\n",
      "enter the govt free distance: 25\n"
     ]
    },
    {
     "name": "stdout",
     "output_type": "stream",
     "text": [
      "actual distance is75\n"
     ]
    },
    {
     "name": "stdin",
     "output_type": "stream",
     "text": [
      "charge per km: 5\n"
     ]
    },
    {
     "name": "stdout",
     "output_type": "stream",
     "text": [
      "total charge is 375\n"
     ]
    }
   ],
   "source": [
    "total_distance=eval(input(\"enter the distance:\"))\n",
    "free_distance=eval(input(\"enter the govt free distance:\"))\n",
    "if total_distance>free_distance:\n",
    "    actual_distance=total_distance-free_distance\n",
    "    print(f\"actual distance is{actual_distance}\")\n",
    "    charge=eval(input(\"charge per km:\"))\n",
    "    charge=actual_distance*charge\n",
    "    print(f\"total charge is {charge}\")\n",
    "else:\n",
    "    print(\"free ride\")\n"
   ]
  },
  {
   "cell_type": "code",
   "execution_count": 47,
   "id": "98f1c76a-b8e1-4836-bf8a-d4f503466949",
   "metadata": {},
   "outputs": [
    {
     "name": "stdin",
     "output_type": "stream",
     "text": [
      "enter the number: 7\n"
     ]
    },
    {
     "name": "stdout",
     "output_type": "stream",
     "text": [
      "lucky.. won\n"
     ]
    }
   ],
   "source": [
    "n1=eval(input(\"enter the number:\"))\n",
    "n2=random.randint(1,10)\n",
    "if n1==n2:\n",
    "    print(\"lucky.. won\")\n",
    "else:\n",
    "    print(\"unlucky...lost\")"
   ]
  },
  {
   "cell_type": "code",
   "execution_count": 53,
   "id": "a05c13f8-c313-48e9-b916-5bf30837f190",
   "metadata": {},
   "outputs": [
    {
     "name": "stdin",
     "output_type": "stream",
     "text": [
      "enter course name: data_science\n",
      "enter institute name: naresh_IT\n"
     ]
    },
    {
     "name": "stdout",
     "output_type": "stream",
     "text": [
      "you are at safe place\n"
     ]
    }
   ],
   "source": [
    "course_name=\"data_science\"\n",
    "institute_name=\"naresh_IT\"\n",
    "course_name_by_user=input(\"enter course name:\")\n",
    "institute_name_by_user=input(\"enter institute name:\")\n",
    "if course_name==course_name_by_user and institute_name==institute_name_by_user:\n",
    "    print(\"you are at safe place\")\n",
    "\n",
    "else:\n",
    "    print(\"katham zindagi\")"
   ]
  },
  {
   "cell_type": "code",
   "execution_count": 54,
   "id": "69f9eabc-c69b-4987-8290-bd2899aa3df2",
   "metadata": {},
   "outputs": [
    {
     "name": "stdin",
     "output_type": "stream",
     "text": [
      "enter course name: data_science\n",
      "enter institute name: abc\n"
     ]
    },
    {
     "name": "stdout",
     "output_type": "stream",
     "text": [
      "you are at safe place\n"
     ]
    }
   ],
   "source": [
    "course_name=\"data_science\"\n",
    "institute_name=\"naresh_IT\"\n",
    "course_name_by_user=input(\"enter course name:\")\n",
    "institute_name_by_user=input(\"enter institute name:\")\n",
    "if course_name==course_name_by_user or institute_name==institute_name_by_user:\n",
    "    print(\"you are at safe place\")\n",
    "\n",
    "else:\n",
    "    print(\"katham zindagi\")"
   ]
  },
  {
   "cell_type": "code",
   "execution_count": 57,
   "id": "53cc4010-976a-42c9-9a79-0d150ce19288",
   "metadata": {},
   "outputs": [
    {
     "name": "stdin",
     "output_type": "stream",
     "text": [
      "enter a number: 20\n"
     ]
    },
    {
     "name": "stdout",
     "output_type": "stream",
     "text": [
      "even number\n"
     ]
    }
   ],
   "source": [
    "n1=eval(input(\"enter a number:\"))\n",
    "remainder=n1%2\n",
    "if remainder==0:\n",
    "    print(\"even number\")\n",
    "else:\n",
    "    print(\"odd number\")"
   ]
  },
  {
   "cell_type": "code",
   "execution_count": 63,
   "id": "aede217c-57e1-4b15-9d11-f8723a6779be",
   "metadata": {
    "jp-MarkdownHeadingCollapsed": true
   },
   "outputs": [
    {
     "name": "stdin",
     "output_type": "stream",
     "text": [
      "son: fghj\n",
      "father: rtgh\n",
      "son: fgh\n",
      "father: erty\n",
      "son: cvb\n",
      "father: wsdc\n",
      "son: ujm\n",
      "father: rfgb\n",
      "ente the telugu marks: 78\n",
      "ente the hindi marks: 56\n",
      "ente the english marks: 78\n",
      "ente the maths marks 98\n",
      "ente the science marks: 34\n",
      "ente the social marks: 56\n"
     ]
    },
    {
     "name": "stdout",
     "output_type": "stream",
     "text": [
      "telugu marks:78\n",
      "hindi marks:56\n",
      "english marks:78\n",
      "maths marks:98\n",
      "science marks:34\n",
      "social marks:56\n",
      "fail\n"
     ]
    }
   ],
   "source": [
    "from random import randint\n",
    "from time import sleep\n",
    "from math import ceil\n",
    "son=input(\"son:\")\n",
    "father=input(\"father:\")\n",
    "son=input(\"son:\")\n",
    "father=input(\"father:\")\n",
    "son=input(\"son:\")\n",
    "father=input(\"father:\")\n",
    "son=input(\"son:\")\n",
    "father=input(\"father:\")\n",
    "sleep(5)\n",
    "telugu=eval(input(\"ente the telugu marks:\"))\n",
    "hindi=eval(input(\"ente the hindi marks:\"))\n",
    "english=eval(input(\"ente the english marks:\"))\n",
    "maths=eval(input(\"ente the maths marks\"))\n",
    "science=eval(input(\"ente the science marks:\"))\n",
    "social=eval(input(\"ente the social marks:\"))\n",
    "print(f\"telugu marks:{telugu}\")\n",
    "print(f\"hindi marks:{hindi}\")\n",
    "print(f\"english marks:{english}\")\n",
    "print(f\"maths marks:{maths}\")\n",
    "print(f\"science marks:{science}\")\n",
    "print(f\"social marks:{social}\")\n",
    "sleep(3)\n",
    "if telugu>35 and hindi>35 and english>35 and maths>35 and science>35 and social>35:\n",
    "    average=(telugu+hindi+english+maths+science+social)/6\n",
    "    percentage=(telugu+hindi+english+maths+science+social)/600*100\n",
    "    print(f\"avrage of marks:{average}\")\n",
    "    print(f\"pecentage of marks:{percentage}\")\n",
    "    roundoff_average=ceil(average)\n",
    "    roundoff_percentage=ceil(percentage)\n",
    "    sleep(2)\n",
    "    print(f\"roundoff value of above average is:{roundoff_average}\")\n",
    "    print(f\"roundoff value of above percentage is:{roundoff_percentage}\")\n",
    "else:\n",
    "    print(\"fail\")"
   ]
  },
  {
   "cell_type": "code",
   "execution_count": 64,
   "id": "e43061ae-1758-4b80-981e-aa0692daeaab",
   "metadata": {},
   "outputs": [
    {
     "name": "stdin",
     "output_type": "stream",
     "text": [
      "son: rtgh\n",
      "father: fgh\n",
      "son: ujm\n",
      "father: cghu\n",
      "son: wedfg\n",
      "father: cvghjio\n",
      "son: qsdfgbhji\n",
      "father: erfg\n"
     ]
    },
    {
     "name": "stdout",
     "output_type": "stream",
     "text": [
      "telugu marks:7\n",
      "hindi marks:28\n",
      "english marks:31\n",
      "maths marks:63\n",
      "science marks:29\n",
      "social marks:39\n",
      "fail\n"
     ]
    }
   ],
   "source": [
    "from random import randint\n",
    "from time import sleep\n",
    "from math import ceil\n",
    "son=input(\"son:\")\n",
    "father=input(\"father:\")\n",
    "son=input(\"son:\")\n",
    "father=input(\"father:\")\n",
    "son=input(\"son:\")\n",
    "father=input(\"father:\")\n",
    "son=input(\"son:\")\n",
    "father=input(\"father:\")\n",
    "sleep(5)\n",
    "telugu=randint(1,100)\n",
    "hindi=randint(1,100)\n",
    "english=randint(1,100)\n",
    "maths=randint(1,100)\n",
    "science=randint(1,100)\n",
    "social=randint(1,100)\n",
    "print(f\"telugu marks:{telugu}\")\n",
    "print(f\"hindi marks:{hindi}\")\n",
    "print(f\"english marks:{english}\")\n",
    "print(f\"maths marks:{maths}\")\n",
    "print(f\"science marks:{science}\")\n",
    "print(f\"social marks:{social}\")\n",
    "sleep(3)\n",
    "if telugu>35 and hindi>35 and english>35 and maths>35 and science>35 and social>35:\n",
    "    average=(telugu+hindi+english+maths+science+social)/6\n",
    "    percentage=(telugu+hindi+english+maths+science+social)/600*100\n",
    "    print(f\"avrage of marks:{average}\")\n",
    "    print(f\"pecentage of marks:{percentage}\")\n",
    "    roundoff_average=ceil(average)\n",
    "    roundoff_percentage=ceil(percentage)\n",
    "    sleep(2)\n",
    "    print(f\"roundoff value of above average is:{roundoff_average}\")\n",
    "    print(f\"roundoff value of above percentage is:{roundoff_percentage}\")\n",
    "else:\n",
    "    print(\"fail\")"
   ]
  },
  {
   "cell_type": "markdown",
   "id": "5139af05-b3b6-4600-9835-6675b8bcc910",
   "metadata": {},
   "source": [
    "**if-elif-else**\n",
    "\n",
    "- whenevwr we have multiple conditions we will do if-elif-else\n",
    "- if single condition is there we go if-else\n",
    "    - two answers\n",
    "    - if needs condition and else does not require any condition\n",
    "      \n",
    "\n",
    "- if two conditions are there we will go if-elif-else\n",
    "    - three answers\n",
    "    - here if and elif need condition and else does not require any condition\n",
    "      \n",
    "\n",
    "- if three conditions are there we will go if-elif-elif-else\n",
    "    -four answers\n",
    "    - here if-elif-elif needs condition and else does not require any condition "
   ]
  },
  {
   "cell_type": "code",
   "execution_count": 68,
   "id": "82122b70-70c5-4822-a426-3285baf75f66",
   "metadata": {},
   "outputs": [
    {
     "name": "stdin",
     "output_type": "stream",
     "text": [
      "enter the number from 1-3: 5\n"
     ]
    },
    {
     "name": "stdout",
     "output_type": "stream",
     "text": [
      "enter valid number\n"
     ]
    }
   ],
   "source": [
    "n1=eval(input(\"enter the number from 1-3:\"))\n",
    "if n1==1:\n",
    "    print(\"n1=one\")\n",
    "elif n1==2:\n",
    "    print(\"n1=two\")\n",
    "elif n1==3:\n",
    "    print(\"n1=three\")\n",
    "else:\n",
    "    print(\"enter valid number\")"
   ]
  },
  {
   "cell_type": "code",
   "execution_count": 93,
   "id": "9bbc4b7b-39c6-4584-9d98-ff7885c95f43",
   "metadata": {},
   "outputs": [
    {
     "name": "stdin",
     "output_type": "stream",
     "text": [
      "entyer the percentage: 65\n"
     ]
    },
    {
     "name": "stdout",
     "output_type": "stream",
     "text": [
      "C grade\n"
     ]
    }
   ],
   "source": [
    "percentage=eval(input(\"entyer the percentage:\"))\n",
    "if percentage>=90:\n",
    "    print(\"A grade\")\n",
    "elif percentage>=70:\n",
    "    print(\"B grade\")\n",
    "elif percentage>=50:\n",
    "    print(\"C grade\")\n",
    "elif percentage>=35:\n",
    "    print(\"D grade\")\n",
    "else:\n",
    "    print(\"fail\")"
   ]
  },
  {
   "cell_type": "code",
   "execution_count": null,
   "id": "066180f6-5ab1-40ab-b8e5-c0f35018abc8",
   "metadata": {},
   "outputs": [],
   "source": []
  },
  {
   "cell_type": "code",
   "execution_count": 97,
   "id": "c70350ad-d51d-4134-bfc0-d36cd6c89cec",
   "metadata": {},
   "outputs": [
    {
     "name": "stdin",
     "output_type": "stream",
     "text": [
      "enter the age: 35\n"
     ]
    },
    {
     "name": "stdout",
     "output_type": "stream",
     "text": [
      "young\n"
     ]
    }
   ],
   "source": [
    "age=eval(input(\"enter the age:\"))\n",
    "if age>100:\n",
    "    print(\"unlucky\")\n",
    "elif age>=80:\n",
    "    print(\"old guy\")\n",
    "elif age>=60:\n",
    "    print(\"senior citizen\")\n",
    "elif age>=40:\n",
    "    print(\"middle age\")\n",
    "elif age>=20:\n",
    "    print(\"young\")\n",
    "elif age>=10:\n",
    "    print(\"teenage\")\n",
    "else:\n",
    "    print(\"kid\")"
   ]
  },
  {
   "cell_type": "code",
   "execution_count": 107,
   "id": "25ca19c6-611f-41fd-9d2c-074a1df1c136",
   "metadata": {},
   "outputs": [
    {
     "name": "stdin",
     "output_type": "stream",
     "text": [
      "enter the gender: male\n",
      "enter your age: 17\n"
     ]
    },
    {
     "name": "stdout",
     "output_type": "stream",
     "text": [
      "young\n"
     ]
    }
   ],
   "source": [
    "\n",
    "gender=input(\"enter the gender:\")\n",
    "if gender=='male':\n",
    "    age=eval(input(\"enter your age:\"))\n",
    "    if age>=60:\n",
    "        print(\"senoir citizen\")\n",
    "    elif age>=30:\n",
    "        print(\"middle age\")\n",
    "    elif age>=15:\n",
    "        print(\"young\")\n",
    "    else:\n",
    "        print(\"boy\")\n",
    "\n",
    "elif gender=='female':\n",
    "    age=eval(input(\"enter your age:\"))\n",
    "    if age>=60:\n",
    "        print(\"senoir citizen\")\n",
    "    elif age>=30:\n",
    "        print(\"middle age\")\n",
    "    elif age>=15:\n",
    "        print(\"young\")\n",
    "    else:\n",
    "        print(\"girl\")\n",
    "\n",
    "else:\n",
    "    print(\"enter valid gender\")\n",
    "    "
   ]
  },
  {
   "cell_type": "code",
   "execution_count": 113,
   "id": "d3607485-38f7-4ced-8193-7602e30fcb28",
   "metadata": {},
   "outputs": [
    {
     "name": "stdin",
     "output_type": "stream",
     "text": [
      "enter the number: 78\n"
     ]
    },
    {
     "name": "stdout",
     "output_type": "stream",
     "text": [
      "positive number\n"
     ]
    }
   ],
   "source": [
    "n1=eval(input(\"enter the number:\"))\n",
    "if n1>=0:\n",
    "    if n1>0:\n",
    "        print(\"positive number\")\n",
    "    else:\n",
    "        print(\"zere\")\n",
    "\n",
    "else:\n",
    "    print(\"negative number\")"
   ]
  },
  {
   "cell_type": "code",
   "execution_count": 125,
   "id": "8be5a20c-01a7-4730-afa7-b17a34d92f83",
   "metadata": {},
   "outputs": [
    {
     "name": "stdin",
     "output_type": "stream",
     "text": [
      "enter operation: sub\n",
      "enter the value1: 25\n",
      "enter the value2: 15\n"
     ]
    },
    {
     "name": "stdout",
     "output_type": "stream",
     "text": [
      "10\n"
     ]
    }
   ],
   "source": [
    "operation=input(\"enter operation:\")\n",
    "if operation=='addition':\n",
    "    n1=eval(input(\"enter the value1:\"))\n",
    "    n2=eval(input(\"enter the value2:\"))\n",
    "    add=n1+n2\n",
    "    print(add)\n",
    "\n",
    "elif operation=='sub':\n",
    "    n1=eval(input(\"enter the value1:\"))\n",
    "    n2=eval(input(\"enter the value2:\"))\n",
    "    sub=n1-n2\n",
    "    print(sub)\n",
    "\n",
    "elif operation=='mul':\n",
    "    n1=eval(input(\"enter the value1:\"))\n",
    "    n2=eval(input(\"enter the value2:\"))\n",
    "    mul=n1*n2\n",
    "    print(mul)\n",
    "\n",
    "elif operation=='div':\n",
    "    n1=eval(input(\"enter the value1:\"))\n",
    "    n2=eval(input(\"enter the value2:\"))\n",
    "    div=n1/n2\n",
    "    print(div)\n",
    "else:\n",
    "    print(\"valid operation\")"
   ]
  },
  {
   "cell_type": "code",
   "execution_count": null,
   "id": "78c91153-7f2e-4741-8b67-4938a4dfe4c0",
   "metadata": {},
   "outputs": [],
   "source": []
  }
 ],
 "metadata": {
  "kernelspec": {
   "display_name": "Python 3 (ipykernel)",
   "language": "python",
   "name": "python3"
  },
  "language_info": {
   "codemirror_mode": {
    "name": "ipython",
    "version": 3
   },
   "file_extension": ".py",
   "mimetype": "text/x-python",
   "name": "python",
   "nbconvert_exporter": "python",
   "pygments_lexer": "ipython3",
   "version": "3.12.7"
  }
 },
 "nbformat": 4,
 "nbformat_minor": 5
}
