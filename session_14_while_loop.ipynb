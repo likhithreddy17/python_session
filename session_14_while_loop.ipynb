{
 "cells": [
  {
   "cell_type": "markdown",
   "id": "d6b6963f-e91e-4713-ac1d-e9ae9d1060b1",
   "metadata": {},
   "source": [
    "## while loop"
   ]
  },
  {
   "cell_type": "markdown",
   "id": "1fd7eac2-ea69-4c39-a0ef-d77860574407",
   "metadata": {},
   "source": [
    "- initialization\n",
    "- increment or decrement\n",
    "- condition to stop"
   ]
  },
  {
   "cell_type": "code",
   "execution_count": 1,
   "id": "719c1beb-f2e6-4e3a-a777-8449f11a6538",
   "metadata": {},
   "outputs": [],
   "source": [
    "#syntax\n",
    "#<initialization>\n",
    "#while <condition>:\n",
    "#   wrire any code\n",
    "#   icrement/decrement"
   ]
  },
  {
   "cell_type": "code",
   "execution_count": 2,
   "id": "c97fac75-4365-4cf7-85f0-894f42477d97",
   "metadata": {},
   "outputs": [
    {
     "name": "stdout",
     "output_type": "stream",
     "text": [
      "1  2  3  4  5  6  7  8  9  "
     ]
    }
   ],
   "source": [
    "for i in range(1,10):\n",
    "    print(i,end=\"  \")"
   ]
  },
  {
   "cell_type": "code",
   "execution_count": 3,
   "id": "7c7666dd-9e98-4066-8242-f1412c6cda5b",
   "metadata": {},
   "outputs": [
    {
     "name": "stdout",
     "output_type": "stream",
     "text": [
      "1 2 3 4 5 6 7 8 9 "
     ]
    }
   ],
   "source": [
    "i=1\n",
    "while i<10:\n",
    "    print(i,end=\" \")\n",
    "    i=i+1"
   ]
  },
  {
   "cell_type": "code",
   "execution_count": 4,
   "id": "1eda1d6a-9c0e-4c6f-a577-780dfbed727f",
   "metadata": {},
   "outputs": [
    {
     "name": "stdout",
     "output_type": "stream",
     "text": [
      "10  9  8  7  6  5  4  3  2  1  "
     ]
    }
   ],
   "source": [
    "i=10\n",
    "while i>0:\n",
    "    print(i,end=\"  \")\n",
    "    i=i-1"
   ]
  },
  {
   "cell_type": "code",
   "execution_count": 1,
   "id": "18006879-df1f-4306-b589-91e806f48a5f",
   "metadata": {},
   "outputs": [
    {
     "name": "stdout",
     "output_type": "stream",
     "text": [
      "-1  -2  -3  -4  -5  -6  -7  -8  -9  -10  "
     ]
    }
   ],
   "source": [
    "i=-1\n",
    "while i>-11:\n",
    "    print(i,end=\"  \")\n",
    "    i=i-1"
   ]
  },
  {
   "cell_type": "code",
   "execution_count": 1,
   "id": "8c73ddfc-eacb-46a8-b701-bd4f97bbad9a",
   "metadata": {},
   "outputs": [
    {
     "name": "stdout",
     "output_type": "stream",
     "text": [
      "-10  -9  -8  -7  -6  -5  -4  -3  -2  -1  "
     ]
    }
   ],
   "source": [
    "i=-10\n",
    "while i<0:\n",
    "    print(i,end=\"  \")\n",
    "    i=i+1"
   ]
  },
  {
   "cell_type": "code",
   "execution_count": 9,
   "id": "d4a10426-6783-4d48-afd6-1b6d690e9218",
   "metadata": {},
   "outputs": [
    {
     "name": "stdin",
     "output_type": "stream",
     "text": [
      "enter a number: 3\n"
     ]
    },
    {
     "name": "stdout",
     "output_type": "stream",
     "text": [
      "u won\n"
     ]
    }
   ],
   "source": [
    "import random\n",
    "\n",
    "i=1\n",
    "while i<3:\n",
    "    num=random.randint(1,10)\n",
    "    num1=eval(input(\"enter a number:\"))\n",
    "    if num==num1:\n",
    "        print(\"u won\")\n",
    "        break\n",
    "    else:\n",
    "        print(\"u lost\")\n",
    "    i=i+1"
   ]
  },
  {
   "cell_type": "code",
   "execution_count": 12,
   "id": "71ad9139-8e31-4a7a-8ea8-3328a3c470d9",
   "metadata": {},
   "outputs": [
    {
     "name": "stdin",
     "output_type": "stream",
     "text": [
      "enter no.of attempts: 4\n",
      "enter a number: 8\n"
     ]
    },
    {
     "name": "stdout",
     "output_type": "stream",
     "text": [
      "u won\n"
     ]
    }
   ],
   "source": [
    "import random\n",
    "n=eval(input(\"enter no.of attempts:\"))\n",
    "i=1\n",
    "while i<3:\n",
    "    num=random.randint(1,10)\n",
    "    num1=eval(input(\"enter a number:\"))\n",
    "    if num==num1:\n",
    "        print(\"u won\")\n",
    "        break\n",
    "    else:\n",
    "        print(\"u lost\")\n",
    "        n=n-1\n",
    "        print(f\"no of chances left is {n}\")\n",
    "    i=i+1"
   ]
  },
  {
   "cell_type": "code",
   "execution_count": 26,
   "id": "b27afe03-6862-46a0-b05f-d44acf1077eb",
   "metadata": {},
   "outputs": [
    {
     "name": "stdin",
     "output_type": "stream",
     "text": [
      "enter no.of attempts up to 10 only: 3\n",
      "enter a number: 8\n"
     ]
    },
    {
     "name": "stdout",
     "output_type": "stream",
     "text": [
      "u lost\n",
      "no of chances left is 2\n"
     ]
    },
    {
     "name": "stdin",
     "output_type": "stream",
     "text": [
      "enter a number: 8\n"
     ]
    },
    {
     "name": "stdout",
     "output_type": "stream",
     "text": [
      "u lost\n",
      "no of chances left is 1\n"
     ]
    },
    {
     "name": "stdin",
     "output_type": "stream",
     "text": [
      "enter a number: 8\n"
     ]
    },
    {
     "name": "stdout",
     "output_type": "stream",
     "text": [
      "u lost\n",
      "no of chances left is 0\n",
      "try after 24 hours\n"
     ]
    }
   ],
   "source": [
    "import random\n",
    "n=eval(input(\"enter no.of attempts up to 10 only:\"))\n",
    "i=1\n",
    "while i<10:\n",
    "    num=random.randint(1,10)\n",
    "    num1=eval(input(\"enter a number:\"))\n",
    "    if num==num1:\n",
    "        print(\"u won\")\n",
    "        break\n",
    "    else:\n",
    "        print(\"u lost\")\n",
    "        n=n-1\n",
    "        print(f\"no of chances left is {n}\")\n",
    "        if n==0:\n",
    "            print(\"try after 24 hours\")\n",
    "            break\n",
    "        i=i+1"
   ]
  },
  {
   "cell_type": "code",
   "execution_count": null,
   "id": "72106c23-d0e6-47a5-b6e6-891fd3cebfa7",
   "metadata": {},
   "outputs": [],
   "source": []
  }
 ],
 "metadata": {
  "kernelspec": {
   "display_name": "Python 3 (ipykernel)",
   "language": "python",
   "name": "python3"
  },
  "language_info": {
   "codemirror_mode": {
    "name": "ipython",
    "version": 3
   },
   "file_extension": ".py",
   "mimetype": "text/x-python",
   "name": "python",
   "nbconvert_exporter": "python",
   "pygments_lexer": "ipython3",
   "version": "3.12.7"
  }
 },
 "nbformat": 4,
 "nbformat_minor": 5
}
