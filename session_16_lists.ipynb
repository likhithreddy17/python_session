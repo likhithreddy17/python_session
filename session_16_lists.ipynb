{
 "cells": [
  {
   "cell_type": "markdown",
   "id": "6d70cb3e-09a5-443a-a40d-c60cf4a51d1a",
   "metadata": {},
   "source": [
    "**Basic representation**"
   ]
  },
  {
   "cell_type": "markdown",
   "id": "cd4e6e4c-3881-40d7-9b4c-049ee2bce1e3",
   "metadata": {},
   "source": [
    "- strings will use in quotes\n",
    "- list elements is in square brackets"
   ]
  },
  {
   "cell_type": "code",
   "execution_count": 1,
   "id": "47929ff5-f8a2-45e8-8ebf-3832948d4012",
   "metadata": {},
   "outputs": [
    {
     "data": {
      "text/plain": [
       "[1, 2, 3, 4]"
      ]
     },
     "execution_count": 1,
     "metadata": {},
     "output_type": "execute_result"
    }
   ],
   "source": [
    "list1=[1,2,3,4]\n",
    "list1"
   ]
  },
  {
   "cell_type": "code",
   "execution_count": 2,
   "id": "cbc168d9-8006-4e74-bc1a-0398f79d573d",
   "metadata": {},
   "outputs": [
    {
     "name": "stdout",
     "output_type": "stream",
     "text": [
      "[1, 2, 3, 4]\n"
     ]
    }
   ],
   "source": [
    "print(list1)"
   ]
  },
  {
   "cell_type": "code",
   "execution_count": 3,
   "id": "b3361bf0-0cc1-469f-afdf-8e25d70eed65",
   "metadata": {},
   "outputs": [
    {
     "data": {
      "text/plain": [
       "4"
      ]
     },
     "execution_count": 3,
     "metadata": {},
     "output_type": "execute_result"
    }
   ],
   "source": [
    "len(list1)"
   ]
  },
  {
   "cell_type": "code",
   "execution_count": 4,
   "id": "f0ce8a7c-9156-47ac-8afc-e4166b358705",
   "metadata": {},
   "outputs": [
    {
     "data": {
      "text/plain": [
       "list"
      ]
     },
     "execution_count": 4,
     "metadata": {},
     "output_type": "execute_result"
    }
   ],
   "source": [
    "type(list1)"
   ]
  },
  {
   "cell_type": "code",
   "execution_count": 5,
   "id": "4e30b918-2cf2-466b-9c14-136778cef410",
   "metadata": {},
   "outputs": [
    {
     "data": {
      "text/plain": [
       "1"
      ]
     },
     "execution_count": 5,
     "metadata": {},
     "output_type": "execute_result"
    }
   ],
   "source": [
    "min(list1)"
   ]
  },
  {
   "cell_type": "code",
   "execution_count": 6,
   "id": "9d970f5e-9d61-4dca-8f84-117a8d31c4f3",
   "metadata": {},
   "outputs": [
    {
     "data": {
      "text/plain": [
       "4"
      ]
     },
     "execution_count": 6,
     "metadata": {},
     "output_type": "execute_result"
    }
   ],
   "source": [
    "max(list1)"
   ]
  },
  {
   "cell_type": "code",
   "execution_count": 7,
   "id": "91a51783-eee7-4654-bcbe-0907dece155b",
   "metadata": {},
   "outputs": [
    {
     "data": {
      "text/plain": [
       "[1, 2, 3, 4]"
      ]
     },
     "execution_count": 7,
     "metadata": {},
     "output_type": "execute_result"
    }
   ],
   "source": [
    "sorted(list1)"
   ]
  },
  {
   "cell_type": "code",
   "execution_count": 10,
   "id": "de597ca8-ccf6-46a4-a60d-bcf8537b2524",
   "metadata": {},
   "outputs": [
    {
     "data": {
      "text/plain": [
       "['$', '%', '&', '*', '@']"
      ]
     },
     "execution_count": 10,
     "metadata": {},
     "output_type": "execute_result"
    }
   ],
   "source": [
    "list2=[\"$\",\"%\",\"&\",\"*\",\"@\"]\n",
    "list2"
   ]
  },
  {
   "cell_type": "code",
   "execution_count": 12,
   "id": "e8897dc0-28c7-482d-9945-8290930efc44",
   "metadata": {},
   "outputs": [
    {
     "data": {
      "text/plain": [
       "[1, 2, 3, 4, 'A', 'B', 'C']"
      ]
     },
     "execution_count": 12,
     "metadata": {},
     "output_type": "execute_result"
    }
   ],
   "source": [
    "list3=[1,2,3,4,\"A\",\"B\",\"C\"]\n",
    "list3"
   ]
  },
  {
   "cell_type": "code",
   "execution_count": 13,
   "id": "0e03acee-01c7-4652-b951-efd2ff4d16a1",
   "metadata": {},
   "outputs": [
    {
     "data": {
      "text/plain": [
       "['likhith', 'reddy']"
      ]
     },
     "execution_count": 13,
     "metadata": {},
     "output_type": "execute_result"
    }
   ],
   "source": [
    "list4=[\"likhith\",\"reddy\"]\n",
    "list4"
   ]
  },
  {
   "cell_type": "code",
   "execution_count": 15,
   "id": "6fe09c87-4773-4208-aa6c-d76c7113efb6",
   "metadata": {},
   "outputs": [
    {
     "data": {
      "text/plain": [
       "['korpol']"
      ]
     },
     "execution_count": 15,
     "metadata": {},
     "output_type": "execute_result"
    }
   ],
   "source": [
    "list5=[\"korpol\"]\n",
    "list5"
   ]
  },
  {
   "cell_type": "code",
   "execution_count": 16,
   "id": "8e42428a-850d-46d2-9f53-aa35040c22b1",
   "metadata": {},
   "outputs": [
    {
     "data": {
      "text/plain": [
       "['likhith', 'reddy', 'korpol']"
      ]
     },
     "execution_count": 16,
     "metadata": {},
     "output_type": "execute_result"
    }
   ],
   "source": [
    "list6=list4+list5\n",
    "list6"
   ]
  },
  {
   "cell_type": "code",
   "execution_count": 23,
   "id": "6f52beb3-a1bf-4a0e-9846-062bacc147f9",
   "metadata": {},
   "outputs": [],
   "source": [
    "list7=[\"medak\"].append(list6)\n",
    "list7"
   ]
  },
  {
   "cell_type": "code",
   "execution_count": 25,
   "id": "9f0ad491-dcb1-402c-867b-6bcedef59e66",
   "metadata": {},
   "outputs": [
    {
     "data": {
      "text/plain": [
       "[[['likhith', 'reddy', 'korpol']]]"
      ]
     },
     "execution_count": 25,
     "metadata": {},
     "output_type": "execute_result"
    }
   ],
   "source": [
    "name=\"python\"\n",
    "list8=[name]\n",
    "list9=[_]\n",
    "list9"
   ]
  },
  {
   "cell_type": "code",
   "execution_count": 26,
   "id": "6aeee2b8-2e97-4b41-b5c6-29e05e9863f8",
   "metadata": {},
   "outputs": [],
   "source": [
    "list11=[10,20,25,75]\n",
    "list22=[\"apple\",\"banana\",\"cherry\"]\n",
    "list33=[10,20,25,75,\"apple\",\"banana\",\"cherry\"]"
   ]
  },
  {
   "cell_type": "code",
   "execution_count": 28,
   "id": "b4bade79-7a3a-4327-ab42-4e9d52f418ff",
   "metadata": {},
   "outputs": [
    {
     "data": {
      "text/plain": [
       "4"
      ]
     },
     "execution_count": 28,
     "metadata": {},
     "output_type": "execute_result"
    }
   ],
   "source": [
    "len(list11)"
   ]
  },
  {
   "cell_type": "code",
   "execution_count": 29,
   "id": "ab3705e9-767e-40fe-abfb-60985f35cb58",
   "metadata": {},
   "outputs": [
    {
     "data": {
      "text/plain": [
       "3"
      ]
     },
     "execution_count": 29,
     "metadata": {},
     "output_type": "execute_result"
    }
   ],
   "source": [
    "len(list22)"
   ]
  },
  {
   "cell_type": "code",
   "execution_count": 30,
   "id": "8caf65c9-ba9a-4a47-8d5e-8fc06e3ff23f",
   "metadata": {},
   "outputs": [
    {
     "data": {
      "text/plain": [
       "7"
      ]
     },
     "execution_count": 30,
     "metadata": {},
     "output_type": "execute_result"
    }
   ],
   "source": [
    "len(list33)"
   ]
  },
  {
   "cell_type": "code",
   "execution_count": 31,
   "id": "be23aee8-6a65-405c-aa95-ce6674d989e3",
   "metadata": {},
   "outputs": [
    {
     "data": {
      "text/plain": [
       "75"
      ]
     },
     "execution_count": 31,
     "metadata": {},
     "output_type": "execute_result"
    }
   ],
   "source": [
    "max(list11)"
   ]
  },
  {
   "cell_type": "code",
   "execution_count": 32,
   "id": "8d00a2b1-9677-496d-8a3a-22b50e706f00",
   "metadata": {},
   "outputs": [
    {
     "data": {
      "text/plain": [
       "'cherry'"
      ]
     },
     "execution_count": 32,
     "metadata": {},
     "output_type": "execute_result"
    }
   ],
   "source": [
    "max(list22)"
   ]
  },
  {
   "cell_type": "code",
   "execution_count": 33,
   "id": "3d49bef3-7320-4190-98a4-bebfd20838a2",
   "metadata": {},
   "outputs": [
    {
     "ename": "TypeError",
     "evalue": "'>' not supported between instances of 'str' and 'int'",
     "output_type": "error",
     "traceback": [
      "\u001b[1;31m---------------------------------------------------------------------------\u001b[0m",
      "\u001b[1;31mTypeError\u001b[0m                                 Traceback (most recent call last)",
      "Cell \u001b[1;32mIn[33], line 1\u001b[0m\n\u001b[1;32m----> 1\u001b[0m \u001b[38;5;28mmax\u001b[39m(list33)\n",
      "\u001b[1;31mTypeError\u001b[0m: '>' not supported between instances of 'str' and 'int'"
     ]
    }
   ],
   "source": [
    "max(list33)"
   ]
  },
  {
   "cell_type": "code",
   "execution_count": 34,
   "id": "93a29774-9771-474f-9d4f-7082bf7a8933",
   "metadata": {},
   "outputs": [
    {
     "data": {
      "text/plain": [
       "10"
      ]
     },
     "execution_count": 34,
     "metadata": {},
     "output_type": "execute_result"
    }
   ],
   "source": [
    "min(list11)"
   ]
  },
  {
   "cell_type": "code",
   "execution_count": 35,
   "id": "09a86449-6dd2-4a65-ad96-4f18762d65e7",
   "metadata": {},
   "outputs": [
    {
     "data": {
      "text/plain": [
       "'apple'"
      ]
     },
     "execution_count": 35,
     "metadata": {},
     "output_type": "execute_result"
    }
   ],
   "source": [
    "min(list22)"
   ]
  },
  {
   "cell_type": "code",
   "execution_count": 36,
   "id": "3eec9f51-22cd-4b68-82f2-d267ae1c064f",
   "metadata": {},
   "outputs": [
    {
     "ename": "TypeError",
     "evalue": "'<' not supported between instances of 'str' and 'int'",
     "output_type": "error",
     "traceback": [
      "\u001b[1;31m---------------------------------------------------------------------------\u001b[0m",
      "\u001b[1;31mTypeError\u001b[0m                                 Traceback (most recent call last)",
      "Cell \u001b[1;32mIn[36], line 1\u001b[0m\n\u001b[1;32m----> 1\u001b[0m \u001b[38;5;28mmin\u001b[39m(list33)\n",
      "\u001b[1;31mTypeError\u001b[0m: '<' not supported between instances of 'str' and 'int'"
     ]
    }
   ],
   "source": [
    "min(list33)"
   ]
  },
  {
   "cell_type": "code",
   "execution_count": 37,
   "id": "6ae93dbf-e10d-42d8-9e72-4924de6661f6",
   "metadata": {},
   "outputs": [
    {
     "data": {
      "text/plain": [
       "130"
      ]
     },
     "execution_count": 37,
     "metadata": {},
     "output_type": "execute_result"
    }
   ],
   "source": [
    "sum(list11)"
   ]
  },
  {
   "cell_type": "code",
   "execution_count": 38,
   "id": "122d614a-341b-4e46-95d9-0447df43abac",
   "metadata": {},
   "outputs": [
    {
     "ename": "TypeError",
     "evalue": "unsupported operand type(s) for +: 'int' and 'str'",
     "output_type": "error",
     "traceback": [
      "\u001b[1;31m---------------------------------------------------------------------------\u001b[0m",
      "\u001b[1;31mTypeError\u001b[0m                                 Traceback (most recent call last)",
      "Cell \u001b[1;32mIn[38], line 1\u001b[0m\n\u001b[1;32m----> 1\u001b[0m \u001b[38;5;28msum\u001b[39m(list22)\n",
      "\u001b[1;31mTypeError\u001b[0m: unsupported operand type(s) for +: 'int' and 'str'"
     ]
    }
   ],
   "source": [
    "sum(list22)"
   ]
  },
  {
   "cell_type": "code",
   "execution_count": 39,
   "id": "5d53ca2a-4a42-4244-9ba4-1f407dbdbdd6",
   "metadata": {},
   "outputs": [
    {
     "ename": "TypeError",
     "evalue": "unsupported operand type(s) for +: 'int' and 'str'",
     "output_type": "error",
     "traceback": [
      "\u001b[1;31m---------------------------------------------------------------------------\u001b[0m",
      "\u001b[1;31mTypeError\u001b[0m                                 Traceback (most recent call last)",
      "Cell \u001b[1;32mIn[39], line 1\u001b[0m\n\u001b[1;32m----> 1\u001b[0m \u001b[38;5;28msum\u001b[39m(list33)\n",
      "\u001b[1;31mTypeError\u001b[0m: unsupported operand type(s) for +: 'int' and 'str'"
     ]
    }
   ],
   "source": [
    "sum(list33)"
   ]
  },
  {
   "cell_type": "code",
   "execution_count": 40,
   "id": "986c02e9-4021-40ff-9332-bc71358be665",
   "metadata": {},
   "outputs": [
    {
     "data": {
      "text/plain": [
       "[10, 20, 25, 75]"
      ]
     },
     "execution_count": 40,
     "metadata": {},
     "output_type": "execute_result"
    }
   ],
   "source": [
    "sorted(list11)"
   ]
  },
  {
   "cell_type": "code",
   "execution_count": 41,
   "id": "b3eb103d-a8a2-44b2-b561-1e446045fb95",
   "metadata": {},
   "outputs": [
    {
     "data": {
      "text/plain": [
       "['apple', 'banana', 'cherry']"
      ]
     },
     "execution_count": 41,
     "metadata": {},
     "output_type": "execute_result"
    }
   ],
   "source": [
    "sorted(list22)"
   ]
  },
  {
   "cell_type": "code",
   "execution_count": 42,
   "id": "ebe74862-d671-42e7-88b1-215389bfb55e",
   "metadata": {},
   "outputs": [
    {
     "ename": "TypeError",
     "evalue": "'<' not supported between instances of 'str' and 'int'",
     "output_type": "error",
     "traceback": [
      "\u001b[1;31m---------------------------------------------------------------------------\u001b[0m",
      "\u001b[1;31mTypeError\u001b[0m                                 Traceback (most recent call last)",
      "Cell \u001b[1;32mIn[42], line 1\u001b[0m\n\u001b[1;32m----> 1\u001b[0m \u001b[38;5;28msorted\u001b[39m(list33)\n",
      "\u001b[1;31mTypeError\u001b[0m: '<' not supported between instances of 'str' and 'int'"
     ]
    }
   ],
   "source": [
    "sorted(list33)"
   ]
  },
  {
   "cell_type": "code",
   "execution_count": 59,
   "id": "1921f70a-0701-4ff1-9261-417e84221115",
   "metadata": {},
   "outputs": [
    {
     "data": {
      "text/plain": [
       "<list_reverseiterator at 0x1355d822aa0>"
      ]
     },
     "execution_count": 59,
     "metadata": {},
     "output_type": "execute_result"
    }
   ],
   "source": [
    "ans=reversed(list11)\n",
    "ans"
   ]
  },
  {
   "cell_type": "code",
   "execution_count": 60,
   "id": "e13768a3-cfc7-4987-9700-8c4df1f5704d",
   "metadata": {},
   "outputs": [
    {
     "name": "stdout",
     "output_type": "stream",
     "text": [
      "75  25  20  10  "
     ]
    }
   ],
   "source": [
    "for i in ans:\n",
    "    print(i,end=\"  \")"
   ]
  },
  {
   "cell_type": "code",
   "execution_count": 72,
   "id": "2fbfc2cf-20db-43e3-9ae6-98dce626881e",
   "metadata": {},
   "outputs": [
    {
     "data": {
      "text/plain": [
       "<list_reverseiterator at 0x1355e3d8490>"
      ]
     },
     "execution_count": 72,
     "metadata": {},
     "output_type": "execute_result"
    }
   ],
   "source": [
    "ans1=reversed(list22)\n",
    "ans1"
   ]
  },
  {
   "cell_type": "code",
   "execution_count": 73,
   "id": "f3743299-4909-4060-bae0-a3315b327d45",
   "metadata": {},
   "outputs": [
    {
     "name": "stdout",
     "output_type": "stream",
     "text": [
      "cherry banana apple "
     ]
    }
   ],
   "source": [
    "for i in ans1:\n",
    "    print(i,end=\" \")"
   ]
  },
  {
   "cell_type": "code",
   "execution_count": 74,
   "id": "722c1bba-9bd0-420d-b110-b7d109dcb83b",
   "metadata": {},
   "outputs": [
    {
     "data": {
      "text/plain": [
       "<list_reverseiterator at 0x1355d820820>"
      ]
     },
     "execution_count": 74,
     "metadata": {},
     "output_type": "execute_result"
    }
   ],
   "source": [
    "ans2=reversed(list33)\n",
    "ans2"
   ]
  },
  {
   "cell_type": "code",
   "execution_count": 75,
   "id": "4b13a598-1f14-429e-8da2-88953a33cd99",
   "metadata": {},
   "outputs": [
    {
     "name": "stdout",
     "output_type": "stream",
     "text": [
      "cherry banana apple 75 25 20 10 "
     ]
    }
   ],
   "source": [
    "for i in ans2:\n",
    "    print(i,end=\" \")"
   ]
  },
  {
   "cell_type": "code",
   "execution_count": 76,
   "id": "405298df-2605-4665-bdbf-cb702ce0659c",
   "metadata": {},
   "outputs": [
    {
     "data": {
      "text/plain": [
       "[1, 10, 22, 56, 7, 9, 17, 18]"
      ]
     },
     "execution_count": 76,
     "metadata": {},
     "output_type": "execute_result"
    }
   ],
   "source": [
    "list17=[1,10,22,56,7,9,17,18]\n",
    "list17"
   ]
  },
  {
   "cell_type": "code",
   "execution_count": 77,
   "id": "c3f4a012-4a4a-4283-91d8-a8090ff62ca9",
   "metadata": {},
   "outputs": [
    {
     "data": {
      "text/plain": [
       "[1, 7, 9, 10, 17, 18, 22, 56]"
      ]
     },
     "execution_count": 77,
     "metadata": {},
     "output_type": "execute_result"
    }
   ],
   "source": [
    "sorted(list17)"
   ]
  },
  {
   "cell_type": "code",
   "execution_count": 83,
   "id": "82dbff2a-57c4-4560-bfd6-c3bf75aa7c0e",
   "metadata": {},
   "outputs": [
    {
     "data": {
      "text/plain": [
       "[56, 22, 18, 17, 10, 9, 7, 1]"
      ]
     },
     "execution_count": 83,
     "metadata": {},
     "output_type": "execute_result"
    }
   ],
   "source": [
    "sorted(list17,reverse=True)"
   ]
  },
  {
   "cell_type": "code",
   "execution_count": 78,
   "id": "123c07c0-38a3-4428-a26e-bdb93aaf47f2",
   "metadata": {},
   "outputs": [
    {
     "data": {
      "text/plain": [
       "<list_reverseiterator at 0x1355d51b0a0>"
      ]
     },
     "execution_count": 78,
     "metadata": {},
     "output_type": "execute_result"
    }
   ],
   "source": [
    "ans111=reversed(list17)\n",
    "ans111"
   ]
  },
  {
   "cell_type": "code",
   "execution_count": 79,
   "id": "1cf91116-c521-437b-8f3c-c8c76258b668",
   "metadata": {},
   "outputs": [
    {
     "name": "stdout",
     "output_type": "stream",
     "text": [
      "18 17 9 7 56 22 10 1 "
     ]
    }
   ],
   "source": [
    "for i in ans111:\n",
    "    print(i,end=\" \")\n"
   ]
  },
  {
   "cell_type": "code",
   "execution_count": 80,
   "id": "f9c0dc3c-87fd-416f-8f7a-12acc2dce04e",
   "metadata": {},
   "outputs": [
    {
     "data": {
      "text/plain": [
       "[18, 17, 9, 7, 56, 22, 10, 1]"
      ]
     },
     "execution_count": 80,
     "metadata": {},
     "output_type": "execute_result"
    }
   ],
   "source": [
    "list(reversed(list17))"
   ]
  },
  {
   "cell_type": "markdown",
   "id": "a93745ed-8172-44dd-8a40-69ba7efeb4ac",
   "metadata": {},
   "source": [
    "**concatenation**"
   ]
  },
  {
   "cell_type": "code",
   "execution_count": 84,
   "id": "ba0dc664-1dbd-4b0e-845d-3575c2e1ad6a",
   "metadata": {},
   "outputs": [],
   "source": [
    "list12=[1,2,3]\n",
    "list21=[4,5,6]"
   ]
  },
  {
   "cell_type": "code",
   "execution_count": 85,
   "id": "0397945a-6348-4c66-8e95-09d1e62c49dc",
   "metadata": {},
   "outputs": [
    {
     "data": {
      "text/plain": [
       "[1, 2, 3, 4, 5, 6]"
      ]
     },
     "execution_count": 85,
     "metadata": {},
     "output_type": "execute_result"
    }
   ],
   "source": [
    "list123=list12+list21\n",
    "list123"
   ]
  },
  {
   "cell_type": "code",
   "execution_count": 86,
   "id": "6be562b9-28df-4de7-8004-02e071980823",
   "metadata": {},
   "outputs": [
    {
     "data": {
      "text/plain": [
       "[1, 2, 3, 4, 5, 6, 1, 2, 3, 4, 5, 6]"
      ]
     },
     "execution_count": 86,
     "metadata": {},
     "output_type": "execute_result"
    }
   ],
   "source": [
    "list123*2"
   ]
  },
  {
   "cell_type": "code",
   "execution_count": 87,
   "id": "2d053534-4b04-4689-866f-8c4db97ccce3",
   "metadata": {},
   "outputs": [
    {
     "ename": "TypeError",
     "evalue": "unsupported operand type(s) for /: 'list' and 'int'",
     "output_type": "error",
     "traceback": [
      "\u001b[1;31m---------------------------------------------------------------------------\u001b[0m",
      "\u001b[1;31mTypeError\u001b[0m                                 Traceback (most recent call last)",
      "Cell \u001b[1;32mIn[87], line 1\u001b[0m\n\u001b[1;32m----> 1\u001b[0m list123\u001b[38;5;241m/\u001b[39m\u001b[38;5;241m2\u001b[39m\n",
      "\u001b[1;31mTypeError\u001b[0m: unsupported operand type(s) for /: 'list' and 'int'"
     ]
    }
   ],
   "source": [
    "list123/2"
   ]
  },
  {
   "cell_type": "code",
   "execution_count": 88,
   "id": "60d7ec46-9f57-4e0e-9e68-4e33fb329f17",
   "metadata": {},
   "outputs": [
    {
     "data": {
      "text/plain": [
       "[1, 2, 3, 'a', 'b', 'c']"
      ]
     },
     "execution_count": 88,
     "metadata": {},
     "output_type": "execute_result"
    }
   ],
   "source": [
    "list1=[1,2,3]\n",
    "list2=[\"a\",\"b\",\"c\"]\n",
    "list3=list1+list2\n",
    "list3"
   ]
  },
  {
   "cell_type": "code",
   "execution_count": 89,
   "id": "02a586fc-03c9-4838-a02c-d837c669dd6d",
   "metadata": {},
   "outputs": [
    {
     "data": {
      "text/plain": [
       "[1, 2, 3, 'a', 'b', 'c', 1, 2, 3, 'a', 'b', 'c', 1, 2, 3, 'a', 'b', 'c']"
      ]
     },
     "execution_count": 89,
     "metadata": {},
     "output_type": "execute_result"
    }
   ],
   "source": [
    "list3*3"
   ]
  },
  {
   "cell_type": "markdown",
   "id": "f468bc9f-38b3-4e9c-bbaf-ae8553d03b42",
   "metadata": {},
   "source": [
    "**indexing**"
   ]
  },
  {
   "cell_type": "code",
   "execution_count": 91,
   "id": "a5ad60b5-0e43-4bbb-be80-48d103eab40e",
   "metadata": {},
   "outputs": [
    {
     "data": {
      "text/plain": [
       "10"
      ]
     },
     "execution_count": 91,
     "metadata": {},
     "output_type": "execute_result"
    }
   ],
   "source": [
    "list1=[10,20,30,\"a\",\"b\",\"c\"]\n",
    "list1[0]"
   ]
  },
  {
   "cell_type": "code",
   "execution_count": 101,
   "id": "6751d8bf-22cd-4689-89c3-dff8d4bf532f",
   "metadata": {},
   "outputs": [
    {
     "name": "stdout",
     "output_type": "stream",
     "text": [
      "positive index of 10 is 0\n",
      "positive index of 20 is 1\n",
      "positive index of 30 is 2\n",
      "positive index of a is 3\n",
      "positive index of b is 4\n",
      "positive index of c is 5\n"
     ]
    }
   ],
   "source": [
    "list1=[10,20,30,\"a\",\"b\",\"c\"]\n",
    "for i in range(0,6):\n",
    "    print(f\"positive index of {list1[i]} is {i}\")"
   ]
  },
  {
   "cell_type": "code",
   "execution_count": 105,
   "id": "5faec771-d0bc-44ec-9912-f92e64a9dad5",
   "metadata": {},
   "outputs": [
    {
     "name": "stdout",
     "output_type": "stream",
     "text": [
      "positive index of 10 is -5\n",
      "positive index of 20 is -4\n",
      "positive index of 30 is -3\n",
      "positive index of a is -2\n",
      "positive index of b is -1\n",
      "positive index of c is 0\n"
     ]
    }
   ],
   "source": [
    "list1=[10,20,30,\"a\",\"b\",\"c\"]\n",
    "for i in range(-6,0):\n",
    "    print(f\"positive index of {list1[i]} is {i+1}\")"
   ]
  },
  {
   "cell_type": "code",
   "execution_count": 111,
   "id": "2d8447ea-fe9d-4c58-be4d-36d50213319f",
   "metadata": {},
   "outputs": [
    {
     "name": "stdout",
     "output_type": "stream",
     "text": [
      "positive index of is 1 and negative index is -6 for 10\n",
      "positive index of is 2 and negative index is -5 for 20\n",
      "positive index of is 3 and negative index is -4 for 30\n",
      "positive index of is 4 and negative index is -3 for a\n",
      "positive index of is 5 and negative index is -2 for b\n",
      "positive index of is 6 and negative index is -1 for c\n"
     ]
    }
   ],
   "source": [
    "list1=[10,20,30,\"a\",\"b\",\"c\"]\n",
    "for i in range(0,6):\n",
    "    print(f\"positive index of is {i+1} and negative index is {i-6} for {list1[i]}\")"
   ]
  },
  {
   "cell_type": "code",
   "execution_count": null,
   "id": "f474fa42-5f4e-43a3-aaf7-7115b7dc69d3",
   "metadata": {},
   "outputs": [],
   "source": [
    "list1=[[10,20]]\n",
    "list2"
   ]
  },
  {
   "cell_type": "markdown",
   "id": "04f2ba61-7c57-4118-9d68-89cdd3227547",
   "metadata": {},
   "source": [
    "**in**"
   ]
  },
  {
   "cell_type": "code",
   "execution_count": 2,
   "id": "cefd4ebe-7153-41a4-8b83-182982fe944a",
   "metadata": {},
   "outputs": [
    {
     "data": {
      "text/plain": [
       "True"
      ]
     },
     "execution_count": 2,
     "metadata": {},
     "output_type": "execute_result"
    }
   ],
   "source": [
    "list1=[\"p\",\"y\"]\n",
    "\"p\" in list1"
   ]
  },
  {
   "cell_type": "markdown",
   "id": "a54b61a4-dcc6-4489-9b19-3d7da1b3a1c0",
   "metadata": {},
   "source": [
    "**range vs in**"
   ]
  },
  {
   "cell_type": "markdown",
   "id": "aa6dc4eb-8027-4d74-9b8a-46c943e47089",
   "metadata": {},
   "source": [
    "- when we have use index then go for range\n",
    "- when we have use with only element go for in"
   ]
  },
  {
   "cell_type": "markdown",
   "id": "0f8b8393-dc64-4715-bdd9-74455e34ceab",
   "metadata": {},
   "source": [
    "**mutable and immutable**"
   ]
  },
  {
   "cell_type": "code",
   "execution_count": 7,
   "id": "5dbb8dc7-721c-4af0-aed7-cfb1bb985e03",
   "metadata": {},
   "outputs": [
    {
     "data": {
      "text/plain": [
       "[1, 29, 22, 56, 7, 9, 17, 18]"
      ]
     },
     "execution_count": 7,
     "metadata": {},
     "output_type": "execute_result"
    }
   ],
   "source": [
    "list17=[1,10,22,56,7,9,17,18]\n",
    "list17[1]=29\n",
    "list17"
   ]
  },
  {
   "cell_type": "markdown",
   "id": "8309fe19-0f27-41a9-97c3-4c4d0a95c52c",
   "metadata": {},
   "source": [
    "**lists are mutable**"
   ]
  },
  {
   "cell_type": "markdown",
   "id": "840c72e9-4123-4f88-9445-3d6c2a532e2c",
   "metadata": {},
   "source": [
    "**slicing**"
   ]
  },
  {
   "cell_type": "code",
   "execution_count": 8,
   "id": "d58ed7dc-8b09-474a-99e3-e41f307cb5ac",
   "metadata": {},
   "outputs": [],
   "source": [
    "#  -12-11-10 -9 -8 -7  -6  -5  -4  -3    -2       -1\n",
    "l1=[10,20,30,40,50,\"A\",\"B\",\"C\",\"D\",\"E\",\"apple\",\"banana\"]\n",
    "#    0  1 2  3  4   5   6   7   8   9    10       11 "
   ]
  },
  {
   "cell_type": "code",
   "execution_count": 10,
   "id": "e9880b6b-c438-4f2e-862d-e622d070b993",
   "metadata": {},
   "outputs": [
    {
     "data": {
      "text/plain": [
       "[10, 20, 30, 40, 50, 'A', 'B', 'C', 'D', 'E', 'apple', 'banana']"
      ]
     },
     "execution_count": 10,
     "metadata": {},
     "output_type": "execute_result"
    }
   ],
   "source": [
    "l1[:]"
   ]
  },
  {
   "cell_type": "code",
   "execution_count": 12,
   "id": "c2fd03ad-f9d9-480d-8950-47b3a61d32b5",
   "metadata": {},
   "outputs": [
    {
     "data": {
      "text/plain": [
       "[10, 20, 30, 40, 50, 'A', 'B', 'C', 'D', 'E', 'apple', 'banana']"
      ]
     },
     "execution_count": 12,
     "metadata": {},
     "output_type": "execute_result"
    }
   ],
   "source": [
    "l1[::]"
   ]
  },
  {
   "cell_type": "code",
   "execution_count": 13,
   "id": "fd96badb-1cad-4834-ab1b-c3ea979412de",
   "metadata": {},
   "outputs": [
    {
     "data": {
      "text/plain": [
       "['banana', 'apple', 'E', 'D', 'C', 'B', 'A', 50, 40, 30, 20, 10]"
      ]
     },
     "execution_count": 13,
     "metadata": {},
     "output_type": "execute_result"
    }
   ],
   "source": [
    "l1[::-1]"
   ]
  },
  {
   "cell_type": "code",
   "execution_count": 15,
   "id": "740b3b3a-7862-40b7-a285-17bf651cb3c7",
   "metadata": {},
   "outputs": [
    {
     "data": {
      "text/plain": [
       "[30, 50, 'B', 'D']"
      ]
     },
     "execution_count": 15,
     "metadata": {},
     "output_type": "execute_result"
    }
   ],
   "source": [
    "l1[2:10:2]"
   ]
  },
  {
   "cell_type": "code",
   "execution_count": 16,
   "id": "1e31c154-7e71-4870-bb5e-9ba945306bd9",
   "metadata": {},
   "outputs": [
    {
     "data": {
      "text/plain": [
       "[]"
      ]
     },
     "execution_count": 16,
     "metadata": {},
     "output_type": "execute_result"
    }
   ],
   "source": [
    "l1[2:10:-2]"
   ]
  },
  {
   "cell_type": "code",
   "execution_count": 17,
   "id": "54b6b141-0b8e-4162-a01b-47dd624407f1",
   "metadata": {},
   "outputs": [
    {
     "data": {
      "text/plain": [
       "[]"
      ]
     },
     "execution_count": 17,
     "metadata": {},
     "output_type": "execute_result"
    }
   ],
   "source": [
    "l1[-2:10:2]"
   ]
  },
  {
   "cell_type": "code",
   "execution_count": 19,
   "id": "12cbeb0d-5455-4bc5-a13b-003e7c2d71d1",
   "metadata": {},
   "outputs": [
    {
     "data": {
      "text/plain": [
       "[]"
      ]
     },
     "execution_count": 19,
     "metadata": {},
     "output_type": "execute_result"
    }
   ],
   "source": [
    "l1[2:-10:2]"
   ]
  },
  {
   "cell_type": "code",
   "execution_count": 20,
   "id": "7480dedf-6df9-47a2-9834-99916c35ba7a",
   "metadata": {},
   "outputs": [
    {
     "data": {
      "text/plain": [
       "[]"
      ]
     },
     "execution_count": 20,
     "metadata": {},
     "output_type": "execute_result"
    }
   ],
   "source": [
    "l1[-2:10:-2]"
   ]
  },
  {
   "cell_type": "code",
   "execution_count": 21,
   "id": "86ff287f-b73e-44f0-b5a5-cc8e3e0a3a6d",
   "metadata": {},
   "outputs": [
    {
     "data": {
      "text/plain": [
       "[]"
      ]
     },
     "execution_count": 21,
     "metadata": {},
     "output_type": "execute_result"
    }
   ],
   "source": [
    "l1[2:-10:-2]"
   ]
  },
  {
   "cell_type": "code",
   "execution_count": 22,
   "id": "40f3626a-eb32-4643-8638-3c1ee0cca603",
   "metadata": {},
   "outputs": [
    {
     "data": {
      "text/plain": [
       "['apple', 'D', 'B', 50]"
      ]
     },
     "execution_count": 22,
     "metadata": {},
     "output_type": "execute_result"
    }
   ],
   "source": [
    "l1[-2:-10:-2]"
   ]
  },
  {
   "cell_type": "code",
   "execution_count": 23,
   "id": "6596d6d9-a1c7-4767-9fc5-a15d6b86011b",
   "metadata": {},
   "outputs": [
    {
     "data": {
      "text/plain": [
       "[]"
      ]
     },
     "execution_count": 23,
     "metadata": {},
     "output_type": "execute_result"
    }
   ],
   "source": [
    "l1[10:2:2]"
   ]
  },
  {
   "cell_type": "code",
   "execution_count": 24,
   "id": "e3d0a1d7-32b2-4235-b9b9-c069ca69805a",
   "metadata": {},
   "outputs": [
    {
     "data": {
      "text/plain": [
       "['apple', 'D', 'B', 50]"
      ]
     },
     "execution_count": 24,
     "metadata": {},
     "output_type": "execute_result"
    }
   ],
   "source": [
    "l1[10:2:-2]"
   ]
  },
  {
   "cell_type": "code",
   "execution_count": 25,
   "id": "dc4fef8b-b03b-4e84-9b46-fcf726850f0e",
   "metadata": {},
   "outputs": [
    {
     "data": {
      "text/plain": [
       "[]"
      ]
     },
     "execution_count": 25,
     "metadata": {},
     "output_type": "execute_result"
    }
   ],
   "source": [
    "l1[-10:2:-2]"
   ]
  },
  {
   "cell_type": "code",
   "execution_count": 26,
   "id": "8fd87df3-0d0e-458b-b910-9bd996d47b72",
   "metadata": {},
   "outputs": [
    {
     "data": {
      "text/plain": [
       "[]"
      ]
     },
     "execution_count": 26,
     "metadata": {},
     "output_type": "execute_result"
    }
   ],
   "source": [
    "l1[-10:-2:-2]"
   ]
  },
  {
   "cell_type": "markdown",
   "id": "4be920fe-253a-4c98-8894-856d23641f7d",
   "metadata": {},
   "source": [
    "**methods**"
   ]
  },
  {
   "cell_type": "markdown",
   "id": "c821788d-e06d-4cbc-bb56-16e544a68178",
   "metadata": {},
   "source": [
    "- if we wants to know the strings methods \n",
    "- dir(\"\")\n",
    "- if we want to know the list methods\n",
    "- dir([])"
   ]
  },
  {
   "cell_type": "code",
   "execution_count": 28,
   "id": "c7cf9ef3-49af-462b-90c6-d63ec2cfe221",
   "metadata": {},
   "outputs": [
    {
     "data": {
      "text/plain": [
       "['__add__',\n",
       " '__class__',\n",
       " '__class_getitem__',\n",
       " '__contains__',\n",
       " '__delattr__',\n",
       " '__delitem__',\n",
       " '__dir__',\n",
       " '__doc__',\n",
       " '__eq__',\n",
       " '__format__',\n",
       " '__ge__',\n",
       " '__getattribute__',\n",
       " '__getitem__',\n",
       " '__getstate__',\n",
       " '__gt__',\n",
       " '__hash__',\n",
       " '__iadd__',\n",
       " '__imul__',\n",
       " '__init__',\n",
       " '__init_subclass__',\n",
       " '__iter__',\n",
       " '__le__',\n",
       " '__len__',\n",
       " '__lt__',\n",
       " '__mul__',\n",
       " '__ne__',\n",
       " '__new__',\n",
       " '__reduce__',\n",
       " '__reduce_ex__',\n",
       " '__repr__',\n",
       " '__reversed__',\n",
       " '__rmul__',\n",
       " '__setattr__',\n",
       " '__setitem__',\n",
       " '__sizeof__',\n",
       " '__str__',\n",
       " '__subclasshook__',\n",
       " 'append',\n",
       " 'clear',\n",
       " 'copy',\n",
       " 'count',\n",
       " 'extend',\n",
       " 'index',\n",
       " 'insert',\n",
       " 'pop',\n",
       " 'remove',\n",
       " 'reverse',\n",
       " 'sort']"
      ]
     },
     "execution_count": 28,
     "metadata": {},
     "output_type": "execute_result"
    }
   ],
   "source": [
    "dir([])"
   ]
  },
  {
   "cell_type": "code",
   "execution_count": 29,
   "id": "e0a387d0-8f7c-4cd0-8ea5-37ab4b437963",
   "metadata": {},
   "outputs": [],
   "source": [
    "l1=[10,20,30,40,50,\"A\",\"B\",\"C\",\"D\",\"E\",\"apple\",\"banana\"]"
   ]
  },
  {
   "cell_type": "code",
   "execution_count": 31,
   "id": "7c032014-7f51-4a6d-916a-1bf41d513abd",
   "metadata": {},
   "outputs": [],
   "source": [
    "l1.clear()"
   ]
  },
  {
   "cell_type": "code",
   "execution_count": 32,
   "id": "44f402bf-cf3b-45b2-aa32-09a60d02231b",
   "metadata": {},
   "outputs": [
    {
     "data": {
      "text/plain": [
       "[]"
      ]
     },
     "execution_count": 32,
     "metadata": {},
     "output_type": "execute_result"
    }
   ],
   "source": [
    "l1"
   ]
  },
  {
   "cell_type": "code",
   "execution_count": 33,
   "id": "873f6bd6-0d51-46d2-a5cb-f8aa18888775",
   "metadata": {},
   "outputs": [
    {
     "data": {
      "text/plain": [
       "[10, 20, 30, 40, 50, 'A', 'B', 'C', 'D', 'E', 'apple', 'banana']"
      ]
     },
     "execution_count": 33,
     "metadata": {},
     "output_type": "execute_result"
    }
   ],
   "source": [
    "l1=[10,20,30,40,50,\"A\",\"B\",\"C\",\"D\",\"E\",\"apple\",\"banana\"]\n",
    "l1.copy()"
   ]
  },
  {
   "cell_type": "code",
   "execution_count": 35,
   "id": "86922d7d-3d0b-4b8b-8638-76c90b8b5c7d",
   "metadata": {},
   "outputs": [
    {
     "data": {
      "text/plain": [
       "5"
      ]
     },
     "execution_count": 35,
     "metadata": {},
     "output_type": "execute_result"
    }
   ],
   "source": [
    "l1=[10,20,10,30,10,40,10,50,10,\"A\",\"B\",\"C\",\"D\",\"E\",\"apple\",\"banana\"]\n",
    "l1.count(10)"
   ]
  },
  {
   "cell_type": "code",
   "execution_count": 41,
   "id": "0ea0770d-4eb7-4fe5-9f89-86cf669bb952",
   "metadata": {},
   "outputs": [
    {
     "name": "stdout",
     "output_type": "stream",
     "text": [
      "[]\n",
      "[10, 20, 30, 40, 50, 'A', 'B', 'C', 'D', 'E', 'apple', 'banana']\n"
     ]
    }
   ],
   "source": [
    "l1=[10,20,30,40,50,\"A\",\"B\",\"C\",\"D\",\"E\",\"apple\",\"banana\"]\n",
    "l2=l1.copy()\n",
    "l1.clear()\n",
    "print(l1)\n",
    "print(l2)"
   ]
  },
  {
   "cell_type": "markdown",
   "id": "01d41113-18ac-4b75-aa1c-61ae765a8e72",
   "metadata": {},
   "source": [
    "**append**\n",
    "- append is very important method in entire list\n",
    "- in our life we will use this method very very frequently\n",
    "- append mwns adding an elent at last"
   ]
  },
  {
   "cell_type": "code",
   "execution_count": 40,
   "id": "911a0e07-6ff4-4a5a-b479-86e67e3daad0",
   "metadata": {},
   "outputs": [
    {
     "data": {
      "text/plain": [
       "[10,\n",
       " 20,\n",
       " 10,\n",
       " 30,\n",
       " 10,\n",
       " 40,\n",
       " 10,\n",
       " 50,\n",
       " 10,\n",
       " 'A',\n",
       " 'B',\n",
       " 'C',\n",
       " 'D',\n",
       " 'E',\n",
       " 'apple',\n",
       " 'banana',\n",
       " 'apple',\n",
       " 'apple',\n",
       " 'apple',\n",
       " 'apple']"
      ]
     },
     "execution_count": 40,
     "metadata": {},
     "output_type": "execute_result"
    }
   ],
   "source": [
    "l1.append(\"apple\")\n",
    "l1"
   ]
  },
  {
   "cell_type": "code",
   "execution_count": 42,
   "id": "20b694ed-4477-495b-9b5b-3b05544dd311",
   "metadata": {},
   "outputs": [
    {
     "data": {
      "text/plain": [
       "[10, 20, 30, 'apple']"
      ]
     },
     "execution_count": 42,
     "metadata": {},
     "output_type": "execute_result"
    }
   ],
   "source": [
    "l1=[10,20,30]\n",
    "l1.append(\"apple\")\n",
    "l1"
   ]
  },
  {
   "cell_type": "code",
   "execution_count": 43,
   "id": "e5bf1fdc-fd33-4b95-8207-e9e4d3a427cc",
   "metadata": {},
   "outputs": [
    {
     "data": {
      "text/plain": [
       "[10, 20, 30, 'apple', 'banana']"
      ]
     },
     "execution_count": 43,
     "metadata": {},
     "output_type": "execute_result"
    }
   ],
   "source": [
    "l1=[10,20,30]\n",
    "l1.append(\"apple\")\n",
    "l1.append(\"banana\")\n",
    "l1"
   ]
  },
  {
   "cell_type": "code",
   "execution_count": 44,
   "id": "3a0fb8c6-1594-48b5-84bc-5eef21c23654",
   "metadata": {},
   "outputs": [
    {
     "ename": "TypeError",
     "evalue": "list.append() takes exactly one argument (2 given)",
     "output_type": "error",
     "traceback": [
      "\u001b[1;31m---------------------------------------------------------------------------\u001b[0m",
      "\u001b[1;31mTypeError\u001b[0m                                 Traceback (most recent call last)",
      "Cell \u001b[1;32mIn[44], line 2\u001b[0m\n\u001b[0;32m      1\u001b[0m l1\u001b[38;5;241m=\u001b[39m[\u001b[38;5;241m10\u001b[39m,\u001b[38;5;241m20\u001b[39m,\u001b[38;5;241m30\u001b[39m]\n\u001b[1;32m----> 2\u001b[0m l1\u001b[38;5;241m.\u001b[39mappend(\u001b[38;5;124m\"\u001b[39m\u001b[38;5;124mapple\u001b[39m\u001b[38;5;124m\"\u001b[39m,\u001b[38;5;124m\"\u001b[39m\u001b[38;5;124mbanana\u001b[39m\u001b[38;5;124m\"\u001b[39m)\n\u001b[0;32m      3\u001b[0m l1\n",
      "\u001b[1;31mTypeError\u001b[0m: list.append() takes exactly one argument (2 given)"
     ]
    }
   ],
   "source": [
    "l1=[10,20,30]\n",
    "l1.append(\"apple\",\"banana\")\n",
    "l1"
   ]
  },
  {
   "cell_type": "code",
   "execution_count": 45,
   "id": "3d86d192-efb5-4e7e-946a-d77feb6bb1ba",
   "metadata": {},
   "outputs": [
    {
     "data": {
      "text/plain": [
       "[10, 20, 30, ['apple', 'banana']]"
      ]
     },
     "execution_count": 45,
     "metadata": {},
     "output_type": "execute_result"
    }
   ],
   "source": [
    "l1=[10,20,30]\n",
    "l1.append([\"apple\",\"banana\"]) # when we need to append multiple elements then we use list type to append\n",
    "l1"
   ]
  },
  {
   "cell_type": "markdown",
   "id": "7f89f7c0-23d6-4fc3-88f1-3918d44580ef",
   "metadata": {},
   "source": [
    "**append method is used tostore the outputs**"
   ]
  },
  {
   "cell_type": "code",
   "execution_count": 53,
   "id": "7fd45879-51e8-4817-8f35-927fb8e66925",
   "metadata": {},
   "outputs": [
    {
     "data": {
      "text/plain": [
       "[0, 1, 2, 3, 4, 5]"
      ]
     },
     "execution_count": 53,
     "metadata": {},
     "output_type": "execute_result"
    }
   ],
   "source": [
    "l=[]\n",
    "for i in range(0,6):\n",
    "    l.append(i)\n",
    "l"
   ]
  },
  {
   "cell_type": "code",
   "execution_count": 62,
   "id": "66ffeb95-8dbb-4d2f-aa3c-5fcffaa2619a",
   "metadata": {},
   "outputs": [
    {
     "name": "stdout",
     "output_type": "stream",
     "text": [
      "random numbers is 13\n",
      "squares of random numbers is 169\n",
      "random numbers is 48\n",
      "squares of random numbers is 2304\n",
      "random numbers is 90\n",
      "squares of random numbers is 8100\n"
     ]
    },
    {
     "data": {
      "text/plain": [
       "[169, 2304, 8100]"
      ]
     },
     "execution_count": 62,
     "metadata": {},
     "output_type": "execute_result"
    }
   ],
   "source": [
    "import random\n",
    "l1=[]\n",
    "for i in range(0,3):\n",
    "    num=random.randint(1,100)\n",
    "    print(f\"random numbers is {num}\")\n",
    "    num1=num*num\n",
    "    print(f\"squares of random numbers is {num1}\")\n",
    "    l1.append(num1)\n",
    "l1"
   ]
  },
  {
   "cell_type": "code",
   "execution_count": 94,
   "id": "524bedbd-0d4f-4b1d-a087-d7a86bb7d7b9",
   "metadata": {},
   "outputs": [
    {
     "name": "stdout",
     "output_type": "stream",
     "text": [
      "[10, 12]\n",
      "[47, 53, 27]\n"
     ]
    }
   ],
   "source": [
    "l=[10,47,53,12,27]\n",
    "even_l=[]\n",
    "odd_l=[]\n",
    "for i in range(0,5):\n",
    "    if l[i]%2==0:\n",
    "        even_l.append(l[i])\n",
    "    else:\n",
    "        odd_l.append(l[i])\n",
    "    \n",
    "print(even_l)\n",
    "print(odd_l)"
   ]
  },
  {
   "cell_type": "code",
   "execution_count": null,
   "id": "3d8e336e-6a76-4c02-8a5a-af22abd5131e",
   "metadata": {},
   "outputs": [],
   "source": []
  },
  {
   "cell_type": "code",
   "execution_count": 98,
   "id": "d32df16e-85b8-41bc-9944-b7619e1f4c4e",
   "metadata": {},
   "outputs": [
    {
     "name": "stdout",
     "output_type": "stream",
     "text": [
      "7\n"
     ]
    }
   ],
   "source": [
    "l1=[10,20,30,40,\"apple\",\"banana\",\"cherry\",40]\n",
    "i1=l1.index(40)\n",
    "print(l1.index(40,i1+1))"
   ]
  },
  {
   "cell_type": "markdown",
   "id": "f2b2b144-4f4f-487b-b69e-6e4756d2c567",
   "metadata": {},
   "source": [
    "**insert**"
   ]
  },
  {
   "cell_type": "markdown",
   "id": "5d9fed93-bf0a-4a00-bde4-6846ba168484",
   "metadata": {},
   "source": [
    "- it is used to add element at particular position"
   ]
  },
  {
   "cell_type": "code",
   "execution_count": 107,
   "id": "e695148c-8b5f-4c5b-89f0-6b7d074bdcca",
   "metadata": {},
   "outputs": [
    {
     "data": {
      "text/plain": [
       "[10, 20, 100, 30, 40, 'apple', 'banana', 'cherry', 40]"
      ]
     },
     "execution_count": 107,
     "metadata": {},
     "output_type": "execute_result"
    }
   ],
   "source": [
    "l1=[10,20,30,40,\"apple\",\"banana\",\"cherry\",40]\n",
    "l1.insert(2,100)\n",
    "l1"
   ]
  },
  {
   "cell_type": "markdown",
   "id": "d42e6b39-7dbd-4d98-9ad2-d7b451bdeef5",
   "metadata": {},
   "source": [
    "**pop vs remove**"
   ]
  },
  {
   "cell_type": "markdown",
   "id": "1827911b-fcd3-4459-b9f0-c9f71d1ca6e3",
   "metadata": {},
   "source": [
    "- pop is used to take the element from the list\n",
    "- remove is used to remove the element from the list"
   ]
  },
  {
   "cell_type": "code",
   "execution_count": 111,
   "id": "458494b4-2614-41a1-be6c-971b8fed10b8",
   "metadata": {},
   "outputs": [
    {
     "data": {
      "text/plain": [
       "40"
      ]
     },
     "execution_count": 111,
     "metadata": {},
     "output_type": "execute_result"
    }
   ],
   "source": [
    "l1=[10,20,30,40,\"apple\",\"banana\",\"cherry\",40]\n",
    "l1.pop()"
   ]
  },
  {
   "cell_type": "code",
   "execution_count": 113,
   "id": "079b3a81-6260-48ba-8833-0feb7e63b435",
   "metadata": {},
   "outputs": [
    {
     "data": {
      "text/plain": [
       "[20, 30, 40, 'apple', 'banana', 'cherry', 40]"
      ]
     },
     "execution_count": 113,
     "metadata": {},
     "output_type": "execute_result"
    }
   ],
   "source": [
    "l1=[10,20,30,40,\"apple\",\"banana\",\"cherry\",40]\n",
    "l1.pop(0)\n",
    "l1"
   ]
  },
  {
   "cell_type": "code",
   "execution_count": 116,
   "id": "6d85cfcf-7409-4c15-9c20-ff294040b26f",
   "metadata": {},
   "outputs": [
    {
     "data": {
      "text/plain": [
       "[10, 20, 30, 40, 'apple', 'cherry', 40]"
      ]
     },
     "execution_count": 116,
     "metadata": {},
     "output_type": "execute_result"
    }
   ],
   "source": [
    "l1=[10,20,30,40,\"apple\",\"banana\",\"cherry\",40]\n",
    "del(l1[5])\n",
    "l1"
   ]
  },
  {
   "cell_type": "markdown",
   "id": "75592dc5-6e11-41fc-89b9-f24cba58bbfa",
   "metadata": {},
   "source": [
    "**reverse-reversed**"
   ]
  },
  {
   "cell_type": "markdown",
   "id": "81bd2bec-45e7-4042-9348-882262f23634",
   "metadata": {},
   "source": [
    "- reverse is a method\n",
    "- reversed is a inbuilt function"
   ]
  },
  {
   "cell_type": "code",
   "execution_count": 118,
   "id": "0f5e73d4-5a29-4523-9ecc-a44534bdbe20",
   "metadata": {},
   "outputs": [
    {
     "data": {
      "text/plain": [
       "[40, 30, 20, 10]"
      ]
     },
     "execution_count": 118,
     "metadata": {},
     "output_type": "execute_result"
    }
   ],
   "source": [
    "l1=[10,20,30,40]\n",
    "l1.reverse()\n",
    "l1"
   ]
  },
  {
   "cell_type": "markdown",
   "id": "16e9754c-20aa-4df7-a387-9fb77dd74bfe",
   "metadata": {},
   "source": [
    "**in place**\n",
    "- when we perform the operations some times the value will not overwride\n",
    "- if we see **inplace** word or **inplace=True\n",
    "- this indicates the output will be overwrite in corresponding variable"
   ]
  },
  {
   "cell_type": "code",
   "execution_count": 120,
   "id": "8b69f1a5-46d8-44e9-b030-eddc79ac7d09",
   "metadata": {},
   "outputs": [
    {
     "name": "stdout",
     "output_type": "stream",
     "text": [
      "[10, 20, 30, 40]\n"
     ]
    }
   ],
   "source": [
    "l1=[10,20,30,40]\n",
    "reversed(l1)\n",
    "print(l1)"
   ]
  },
  {
   "cell_type": "code",
   "execution_count": null,
   "id": "5b16c847-0b6a-48b3-b7b0-3b1035d3c547",
   "metadata": {},
   "outputs": [],
   "source": [
    "sort vs sorted"
   ]
  },
  {
   "cell_type": "code",
   "execution_count": 121,
   "id": "42deb50d-f41b-4380-9f93-3076e930ff6a",
   "metadata": {},
   "outputs": [
    {
     "data": {
      "text/plain": [
       "[5, 7, 10, 20, 30, 40]"
      ]
     },
     "execution_count": 121,
     "metadata": {},
     "output_type": "execute_result"
    }
   ],
   "source": [
    "l1=[10,20,5,7,30,40]\n",
    "l1.sort()\n",
    "l1"
   ]
  },
  {
   "cell_type": "code",
   "execution_count": 124,
   "id": "732b1930-e83d-4643-8910-0ccc59e347a5",
   "metadata": {},
   "outputs": [
    {
     "ename": "TypeError",
     "evalue": "sorted expected 1 argument, got 0",
     "output_type": "error",
     "traceback": [
      "\u001b[1;31m---------------------------------------------------------------------------\u001b[0m",
      "\u001b[1;31mTypeError\u001b[0m                                 Traceback (most recent call last)",
      "Cell \u001b[1;32mIn[124], line 2\u001b[0m\n\u001b[0;32m      1\u001b[0m l1\u001b[38;5;241m=\u001b[39m[\u001b[38;5;241m10\u001b[39m,\u001b[38;5;241m20\u001b[39m,\u001b[38;5;241m5\u001b[39m,\u001b[38;5;241m7\u001b[39m,\u001b[38;5;241m30\u001b[39m,\u001b[38;5;241m40\u001b[39m]\n\u001b[1;32m----> 2\u001b[0m \u001b[38;5;28msorted\u001b[39m(reverese\u001b[38;5;241m=\u001b[39m\u001b[38;5;28;01mTrue\u001b[39;00m)\n\u001b[0;32m      3\u001b[0m \u001b[38;5;28mprint\u001b[39m(l1)\n",
      "\u001b[1;31mTypeError\u001b[0m: sorted expected 1 argument, got 0"
     ]
    }
   ],
   "source": [
    "l1=[10,20,5,7,30,40]\n",
    "sorted(reverese=True)\n",
    "print(l1)"
   ]
  },
  {
   "cell_type": "code",
   "execution_count": null,
   "id": "e82541c8-57b8-403f-9802-ee65d622fa23",
   "metadata": {},
   "outputs": [],
   "source": []
  }
 ],
 "metadata": {
  "kernelspec": {
   "display_name": "Python 3 (ipykernel)",
   "language": "python",
   "name": "python3"
  },
  "language_info": {
   "codemirror_mode": {
    "name": "ipython",
    "version": 3
   },
   "file_extension": ".py",
   "mimetype": "text/x-python",
   "name": "python",
   "nbconvert_exporter": "python",
   "pygments_lexer": "ipython3",
   "version": "3.12.7"
  }
 },
 "nbformat": 4,
 "nbformat_minor": 5
}
