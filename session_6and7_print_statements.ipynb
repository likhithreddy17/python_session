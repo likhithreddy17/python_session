{
 "cells": [
  {
   "cell_type": "code",
   "execution_count": 1,
   "id": "5be54f77-24e8-4189-8880-8aae8e60825d",
   "metadata": {},
   "outputs": [
    {
     "name": "stdout",
     "output_type": "stream",
     "text": [
      "10\n",
      "20\n"
     ]
    }
   ],
   "source": [
    "a=10\n",
    "b=20\n",
    "print(a)\n",
    "print(b)"
   ]
  },
  {
   "cell_type": "code",
   "execution_count": 2,
   "id": "75fad33a-b809-4141-a582-a86a166be78c",
   "metadata": {},
   "outputs": [
    {
     "name": "stdout",
     "output_type": "stream",
     "text": [
      "10 20\n"
     ]
    }
   ],
   "source": [
    "print(a,b)"
   ]
  },
  {
   "cell_type": "code",
   "execution_count": 3,
   "id": "fc8b1c33-a743-44dd-9368-86a6f9f27087",
   "metadata": {},
   "outputs": [
    {
     "name": "stdout",
     "output_type": "stream",
     "text": [
      "the addition 100 and 200 is 300\n",
      "the addition of num1 and num2 is 300\n",
      "the addition of 100 and 200 is 300\n"
     ]
    }
   ],
   "source": [
    "num1=100\n",
    "num2=200\n",
    "add=num1+num2\n",
    "print(\"the addition 100 and 200 is 300\")\n",
    "print(\"the addition of num1 and num2 is 300\")\n",
    "print(\"the addition of\",num1,\"and\", num2,\"is\",add)"
   ]
  },
  {
   "cell_type": "code",
   "execution_count": 5,
   "id": "10372e47-e4c3-457c-ba41-3950be8b4fc6",
   "metadata": {},
   "outputs": [
    {
     "name": "stdout",
     "output_type": "stream",
     "text": [
      "my name is python im 10 years old and came from hyd\n",
      "my name is python im 10 years old and came from hyd\n"
     ]
    }
   ],
   "source": [
    "name=\"python\"\n",
    "age=10\n",
    "city=\"hyd\"\n",
    "print(\"my name is python im 10 years old and came from hyd\")\n",
    "print(\"my name is\", name,\"im\",age,\"years old and came from\",city)"
   ]
  },
  {
   "cell_type": "markdown",
   "id": "9e092323-2329-4353-9c72-c223b65f5c21",
   "metadata": {},
   "source": [
    "# format method"
   ]
  },
  {
   "cell_type": "code",
   "execution_count": 11,
   "id": "92bc7d9f-f384-46c2-bbd8-84d4de866638",
   "metadata": {},
   "outputs": [
    {
     "name": "stdout",
     "output_type": "stream",
     "text": [
      "my name is python im 10 years old and came from hydhyd\n"
     ]
    }
   ],
   "source": [
    "name=\"python\"\n",
    "age=10\n",
    "city=\"hyd\"\n",
    "print(\"my name is {} im {} years old and came from hyd{}\".format(name,age,city))\n",
    "# in format we should give in the particular order"
   ]
  },
  {
   "cell_type": "code",
   "execution_count": 19,
   "id": "1634616d-7841-4cc6-bcf5-74d295d2257a",
   "metadata": {},
   "outputs": [
    {
     "name": "stdout",
     "output_type": "stream",
     "text": [
      "my name is python im 10 years old and came from hyd\n",
      "my name is python im 10 years old and came from hyd\n",
      "my name is python im 10 years old and came from hyd\n"
     ]
    }
   ],
   "source": [
    "name=\"python\"\n",
    "age=10\n",
    "city=\"hyd\"\n",
    "print(\"my name is python im 10 years old and came from hyd\")\n",
    "print(\"my name is\", name,\"im\",age,\"years old and came from\",city)\n",
    "print(\"my name is {} im {} years old and came from {}\".format(name,age,city))"
   ]
  },
  {
   "cell_type": "code",
   "execution_count": 14,
   "id": "bcbc598e-a295-4260-9099-bbe8a673a41c",
   "metadata": {},
   "outputs": [
    {
     "name": "stdout",
     "output_type": "stream",
     "text": [
      "the addition 100 and 200 is 300\n",
      "the addition of num1 and num2 is 300\n",
      "the addition of 100 and 200 is 300\n",
      "the addition of 100 and 200 is 300\n"
     ]
    }
   ],
   "source": [
    "num1=100\n",
    "num2=200\n",
    "add=num1+num2\n",
    "print(\"the addition 100 and 200 is 300\")\n",
    "print(\"the addition of num1 and num2 is 300\")\n",
    "print(\"the addition of\",num1,\"and\", num2,\"is\",add)\n",
    "print(\"the addition of {} and {} is {}\".format(num1,num2,add))"
   ]
  },
  {
   "cell_type": "code",
   "execution_count": 15,
   "id": "7ec12f65-329f-4d32-813e-ee83f477dad2",
   "metadata": {},
   "outputs": [
    {
     "name": "stdout",
     "output_type": "stream",
     "text": [
      "the addition of 100 and 200 is 300\n",
      "the subtraction of 100 and 200 is -100\n",
      "the multiplication of 100 and 200 is 20000\n",
      "the division of 100 and 200 is 0.5\n"
     ]
    }
   ],
   "source": [
    "num1=100\n",
    "num2=200\n",
    "add=num1+num2\n",
    "sub=num1-num2\n",
    "mul=num1*num2\n",
    "div=num1/num2\n",
    "print(\"the addition of {} and {} is {}\".format(num1,num2,add))\n",
    "print(\"the subtraction of {} and {} is {}\".format(num1,num2,sub))\n",
    "print(\"the multiplication of {} and {} is {}\".format(num1,num2,mul))\n",
    "print(\"the division of {} and {} is {}\".format(num1,num2,div))"
   ]
  },
  {
   "cell_type": "code",
   "execution_count": 16,
   "id": "416e2086-770e-4ee9-89d9-450c14f0c3a2",
   "metadata": {},
   "outputs": [
    {
     "name": "stdout",
     "output_type": "stream",
     "text": [
      "average of 2 4 6 is 4.0\n"
     ]
    }
   ],
   "source": [
    "a=2\n",
    "b=4\n",
    "c=6\n",
    "avg=(a+b+c)/3\n",
    "print(\"average of {} {} {} is {}\".format(a,b,c,avg))"
   ]
  },
  {
   "cell_type": "markdown",
   "id": "f611a4a0-8a08-419c-a33c-5bab5d04ae4e",
   "metadata": {},
   "source": [
    "### f string method: formatted string method"
   ]
  },
  {
   "cell_type": "code",
   "execution_count": 17,
   "id": "bdfdb7f2-949b-415d-99b2-ee8a4c318153",
   "metadata": {},
   "outputs": [
    {
     "name": "stdout",
     "output_type": "stream",
     "text": [
      "the addition of 100 and 200 is 300\n",
      "the subtraction of 100 and 200 is -100\n",
      "the multiplication of 100 and 200 is 20000\n",
      "the division of 100 and 200 is 0.5\n"
     ]
    }
   ],
   "source": [
    "# f string method\n",
    "num1=100\n",
    "num2=200\n",
    "add=num1+num2\n",
    "sub=num1-num2\n",
    "mul=num1*num2\n",
    "div=num1/num2\n",
    "print(f\"the addition of {num1} and {num2} is {add}\")\n",
    "print(f\"the subtraction of {num1} and {num2} is {sub}\")\n",
    "print(f\"the multiplication of {num1} and {num2} is {mul}\")\n",
    "print(f\"the division of {num1} and {num2} is {div}\")"
   ]
  },
  {
   "cell_type": "code",
   "execution_count": 18,
   "id": "a13d21d4-333d-4570-9c8c-f801c2892174",
   "metadata": {},
   "outputs": [
    {
     "name": "stdout",
     "output_type": "stream",
     "text": [
      "my name is python im 10 years old and came from hyd\n"
     ]
    }
   ],
   "source": [
    "name=\"python\"\n",
    "age=10\n",
    "city=\"hyd\"\n",
    "print(f\"my name is {name} im {age} years old and came from {city}\")"
   ]
  },
  {
   "cell_type": "code",
   "execution_count": 21,
   "id": "dd6201ba-c1ed-4e2d-86ed-c4ed633ff584",
   "metadata": {},
   "outputs": [
    {
     "name": "stdout",
     "output_type": "stream",
     "text": [
      "average of 2 4 6 is 4.0\n"
     ]
    }
   ],
   "source": [
    "a=2\n",
    "b=4\n",
    "c=6\n",
    "avg=(a+b+c)/3\n",
    "print(f\"average of {a} {b} {c} is {avg}\")"
   ]
  },
  {
   "cell_type": "markdown",
   "id": "d9b437d8-6ac9-4432-b96f-627dde5b8f8e",
   "metadata": {},
   "source": [
    "**round method**"
   ]
  },
  {
   "cell_type": "code",
   "execution_count": 22,
   "id": "ffc54dba-d05b-4e89-853a-0cdf76628204",
   "metadata": {},
   "outputs": [
    {
     "data": {
      "text/plain": [
       "11"
      ]
     },
     "execution_count": 22,
     "metadata": {},
     "output_type": "execute_result"
    }
   ],
   "source": [
    "round(10.777)"
   ]
  },
  {
   "cell_type": "code",
   "execution_count": 23,
   "id": "b2a589d5-3997-46ea-9c98-f6ce09d9f3ed",
   "metadata": {},
   "outputs": [
    {
     "data": {
      "text/plain": [
       "10"
      ]
     },
     "execution_count": 23,
     "metadata": {},
     "output_type": "execute_result"
    }
   ],
   "source": [
    "round(10.444455)"
   ]
  },
  {
   "cell_type": "code",
   "execution_count": 25,
   "id": "72ef8649-78e9-4f2d-9296-18d72690204c",
   "metadata": {},
   "outputs": [
    {
     "data": {
      "text/plain": [
       "10.78"
      ]
     },
     "execution_count": 25,
     "metadata": {},
     "output_type": "execute_result"
    }
   ],
   "source": [
    "round(10.777,2)   # ,2 is used to define the no of digits after the decimal point"
   ]
  },
  {
   "cell_type": "code",
   "execution_count": 27,
   "id": "86d7c7d4-ea53-48f6-88e0-76a8c6924f76",
   "metadata": {},
   "outputs": [
    {
     "name": "stdout",
     "output_type": "stream",
     "text": [
      "10.23\n",
      "10.235\n",
      "10.2346\n"
     ]
    }
   ],
   "source": [
    "print(round(10.23456,2))\n",
    "print(round(10.23456,3))\n",
    "print(round(10.23456,4))"
   ]
  },
  {
   "cell_type": "code",
   "execution_count": 29,
   "id": "881bae0c-a919-4463-9797-9b69d939dd36",
   "metadata": {},
   "outputs": [
    {
     "name": "stdout",
     "output_type": "stream",
     "text": [
      "20.33\n"
     ]
    }
   ],
   "source": [
    "a=11\n",
    "b=20\n",
    "c=30\n",
    "avg=(a+b+c)/3\n",
    "print(round(avg,2))"
   ]
  },
  {
   "cell_type": "code",
   "execution_count": 30,
   "id": "59a721db-90c6-4ffe-81fc-0d2f70dbdffc",
   "metadata": {},
   "outputs": [
    {
     "name": "stdout",
     "output_type": "stream",
     "text": [
      "20.3333\n"
     ]
    }
   ],
   "source": [
    "a=11\n",
    "b=20\n",
    "c=30\n",
    "avg=(a+b+c)/3\n",
    "print(round(avg,4))"
   ]
  },
  {
   "cell_type": "code",
   "execution_count": 31,
   "id": "4dcce681-80e4-4bb1-b7e8-e28a63875bcd",
   "metadata": {},
   "outputs": [
    {
     "name": "stdout",
     "output_type": "stream",
     "text": [
      "20.33\n"
     ]
    }
   ],
   "source": [
    "a=11\n",
    "b=20\n",
    "c=30\n",
    "avg=(a+b+c)/3\n",
    "avg1=round(avg,2)\n",
    "print(avg1)"
   ]
  },
  {
   "cell_type": "markdown",
   "id": "ccb99b45-936b-40f9-b2ff-674e5c4cb0e8",
   "metadata": {},
   "source": [
    "**end operator**"
   ]
  },
  {
   "cell_type": "code",
   "execution_count": 34,
   "id": "d59003e3-038a-48f9-b9eb-9534b92594e3",
   "metadata": {},
   "outputs": [
    {
     "name": "stdout",
     "output_type": "stream",
     "text": [
      "10  20\n"
     ]
    }
   ],
   "source": [
    "print(10, end=\"  \")  # the space provided in the end will leads to space between two print statements \n",
    "print(20)"
   ]
  },
  {
   "cell_type": "code",
   "execution_count": 41,
   "id": "1ff89d18-7677-4bac-8600-d6ccce8d3065",
   "metadata": {},
   "outputs": [
    {
     "name": "stdout",
     "output_type": "stream",
     "text": [
      "10==>20\n"
     ]
    }
   ],
   "source": [
    "print(10, end=\"==>\")\n",
    "print(20)"
   ]
  },
  {
   "cell_type": "code",
   "execution_count": 35,
   "id": "e0c2cc93-c505-4da6-a1ef-e6bd6c81855c",
   "metadata": {},
   "outputs": [
    {
     "name": "stdout",
     "output_type": "stream",
     "text": [
      "10  20  30\n"
     ]
    }
   ],
   "source": [
    "print(10, end=\"  \")\n",
    "print(20, end=\"  \")\n",
    "print(30)"
   ]
  },
  {
   "cell_type": "code",
   "execution_count": 37,
   "id": "affd373b-3416-4090-b7da-75be82adbfb9",
   "metadata": {},
   "outputs": [
    {
     "name": "stdout",
     "output_type": "stream",
     "text": [
      "hello how are you\n"
     ]
    }
   ],
   "source": [
    "print(\"hello\",end=\" \")\n",
    "print(\"how\",end=\" \")\n",
    "print(\"are\",end=\" \")\n",
    "print(\"you\")"
   ]
  },
  {
   "cell_type": "markdown",
   "id": "fb3753ef-2689-4476-895b-c770517ca1d4",
   "metadata": {},
   "source": [
    "**sep operator**"
   ]
  },
  {
   "cell_type": "code",
   "execution_count": 39,
   "id": "3a417fb7-a610-4b96-86f5-0a2ee69e3230",
   "metadata": {},
   "outputs": [
    {
     "name": "stdout",
     "output_type": "stream",
     "text": [
      "10 20 30\n"
     ]
    }
   ],
   "source": [
    "print(10,20,30,sep=\" \")"
   ]
  },
  {
   "cell_type": "code",
   "execution_count": 40,
   "id": "a828e045-f603-4add-b981-da78600bf055",
   "metadata": {},
   "outputs": [
    {
     "name": "stdout",
     "output_type": "stream",
     "text": [
      "10===>20===>30\n"
     ]
    }
   ],
   "source": [
    "print(10,20,30,sep=\"===>\")"
   ]
  },
  {
   "cell_type": "markdown",
   "id": "20295394-4a17-4129-9021-197b1e333cb6",
   "metadata": {},
   "source": [
    "#### exercise given by sir"
   ]
  },
  {
   "cell_type": "code",
   "execution_count": 67,
   "id": "43d07104-f178-4503-bb32-5a8c5424a455",
   "metadata": {},
   "outputs": [
    {
     "name": "stdout",
     "output_type": "stream",
     "text": [
      "when the radius of the circle is 5 then the area of the circle is 78.5.\n",
      "when the radius of the circle is 5 then the area of the circle is 78.5\n"
     ]
    }
   ],
   "source": [
    "# calculate the area of circle\n",
    "radius=5\n",
    "pi=3.14\n",
    "area=pi*radius*radius\n",
    "print(f\"when the radius of the circle is {radius} then the area of the circle is {area}.\")\n",
    "print(\"when the radius of the circle is {} then the area of the circle is {}\".format(radius,area))"
   ]
  },
  {
   "cell_type": "code",
   "execution_count": 71,
   "id": "9c28b4f1-4cef-4af5-8210-f2faa4d408f9",
   "metadata": {},
   "outputs": [
    {
     "name": "stdout",
     "output_type": "stream",
     "text": [
      "when breadth=4 and height=6 then the area of right angle triangle is 12.0\n",
      "when breadth=4 and height=6 then the area of right angle triangle is 12.0\n"
     ]
    }
   ],
   "source": [
    "# calculate the area of the right angled triangle\n",
    "breadth=4\n",
    "height=6\n",
    "area=0.5*breadth*height\n",
    "print(f\"when breadth={breadth} and height={height} then the area of right angle triangle is {area}\")\n",
    "print(\"when breadth={} and height={} then the area of right angle triangle is {}\".format(breadth,height,area))"
   ]
  },
  {
   "cell_type": "code",
   "execution_count": 78,
   "id": "084c5a1c-0983-4f2d-a1e2-5863e6447be6",
   "metadata": {},
   "outputs": [
    {
     "name": "stdout",
     "output_type": "stream",
     "text": [
      "when bill amount is 1000 and tip amount is 100 then the total bill is 1100\n",
      "when bill amount is 1000 and tip amount is 100 then the total bill is 1100\n"
     ]
    }
   ],
   "source": [
    "# calculate total bill\n",
    "bill_amount=1000\n",
    "tip_amount=100\n",
    "total_bill=bill_amount+tip_amount\n",
    "print(f\"when bill amount is {bill_amount} and tip amount is {tip_amount} then the total bill is {total_bill}\")\n",
    "print(\"when bill amount is {} and tip amount is {} then the total bill is {}\".format(bill_amount,tip_amount,total_bill))"
   ]
  },
  {
   "cell_type": "code",
   "execution_count": 80,
   "id": "10973826-2240-4b04-be01-374c80cc508c",
   "metadata": {},
   "outputs": [
    {
     "name": "stdout",
     "output_type": "stream",
     "text": [
      "when the length is 5 and breadth is 7 then the area of rectangle is 35\n",
      "when the length is 5 and breadth is 7 then the area of rectangle is 35\n"
     ]
    }
   ],
   "source": [
    "# calculate the area of the rectangle\n",
    "length=5\n",
    "breadth=7\n",
    "area=length*breadth\n",
    "print(f\"when the length is {length} and breadth is {breadth} then the area of rectangle is {area}\")\n",
    "print(\"when the length is {} and breadth is {} then the area of rectangle is {}\".format(length,breadth,area))"
   ]
  },
  {
   "cell_type": "markdown",
   "id": "5ee2270a-357a-49d2-a162-d902b246458a",
   "metadata": {},
   "source": [
    "**input**\n",
    "- in above exercies we provided the value\n",
    "- input is the inbuikt function\n",
    "- using input the user can provide any value"
   ]
  },
  {
   "cell_type": "code",
   "execution_count": 83,
   "id": "3606c00d-db15-47ae-b4ad-ceed9b16b1a3",
   "metadata": {},
   "outputs": [
    {
     "data": {
      "text/plain": [
       "<bound method Kernel.raw_input of <ipykernel.ipkernel.IPythonKernel object at 0x000001993B7C7710>>"
      ]
     },
     "execution_count": 83,
     "metadata": {},
     "output_type": "execute_result"
    }
   ],
   "source": [
    "input"
   ]
  },
  {
   "cell_type": "markdown",
   "id": "2992ab49-0ec4-45ed-b966-f2f64a0eb583",
   "metadata": {},
   "source": [
    "**note**\n",
    "- whenever if we see bound method or function which indicates the we forget the brackets"
   ]
  },
  {
   "cell_type": "code",
   "execution_count": 86,
   "id": "678c83b6-ea54-4d54-b045-e7e8f33b318e",
   "metadata": {},
   "outputs": [
    {
     "name": "stdin",
     "output_type": "stream",
     "text": [
      " 20\n"
     ]
    },
    {
     "data": {
      "text/plain": [
       "'20'"
      ]
     },
     "execution_count": 86,
     "metadata": {},
     "output_type": "execute_result"
    }
   ],
   "source": [
    "input()"
   ]
  },
  {
   "cell_type": "code",
   "execution_count": 87,
   "id": "0ae6b921-0ee5-4bbc-ac92-3a0eeb4c42d4",
   "metadata": {},
   "outputs": [
    {
     "name": "stdin",
     "output_type": "stream",
     "text": [
      " 25\n"
     ]
    }
   ],
   "source": [
    "a=input()"
   ]
  },
  {
   "cell_type": "code",
   "execution_count": 88,
   "id": "3fe3db8c-8e89-496e-b2c7-998182d84eae",
   "metadata": {},
   "outputs": [
    {
     "data": {
      "text/plain": [
       "'25'"
      ]
     },
     "execution_count": 88,
     "metadata": {},
     "output_type": "execute_result"
    }
   ],
   "source": [
    "a"
   ]
  },
  {
   "cell_type": "code",
   "execution_count": 90,
   "id": "0149b9a8-5489-449a-8bd8-dbd40ce33972",
   "metadata": {},
   "outputs": [
    {
     "name": "stdin",
     "output_type": "stream",
     "text": [
      " likhith\n"
     ]
    }
   ],
   "source": [
    "name=input()"
   ]
  },
  {
   "cell_type": "code",
   "execution_count": 91,
   "id": "d88ad05f-6882-40e9-834e-45488d8fd0e8",
   "metadata": {},
   "outputs": [
    {
     "data": {
      "text/plain": [
       "'likhith'"
      ]
     },
     "execution_count": 91,
     "metadata": {},
     "output_type": "execute_result"
    }
   ],
   "source": [
    "name"
   ]
  },
  {
   "cell_type": "code",
   "execution_count": 95,
   "id": "682f3ca4-e60e-4ad3-b8f2-2ca3644f2ee5",
   "metadata": {},
   "outputs": [
    {
     "name": "stdin",
     "output_type": "stream",
     "text": [
      " 10\n",
      " 20\n",
      " 30\n"
     ]
    }
   ],
   "source": [
    "n1=input()\n",
    "n2=input()\n",
    "n3=input()"
   ]
  },
  {
   "cell_type": "code",
   "execution_count": 96,
   "id": "2cb3a2db-e36f-4c04-9067-b3f66f945ce3",
   "metadata": {},
   "outputs": [
    {
     "data": {
      "text/plain": [
       "('10', '20', '30')"
      ]
     },
     "execution_count": 96,
     "metadata": {},
     "output_type": "execute_result"
    }
   ],
   "source": [
    "n1,n2,n3"
   ]
  },
  {
   "cell_type": "code",
   "execution_count": 102,
   "id": "97b05d79-dc3f-405d-9beb-02a5f72c334d",
   "metadata": {},
   "outputs": [
    {
     "name": "stdin",
     "output_type": "stream",
     "text": [
      "enter the number 1: 17\n"
     ]
    }
   ],
   "source": [
    "n1=input(\"enter the number 1:\")"
   ]
  },
  {
   "cell_type": "code",
   "execution_count": 98,
   "id": "21ab6d2a-6424-4a95-a382-bc9642ace473",
   "metadata": {},
   "outputs": [
    {
     "name": "stdin",
     "output_type": "stream",
     "text": [
      "enter the number2: 3\n"
     ]
    }
   ],
   "source": [
    "n2=input(\"enter the number2:\")"
   ]
  },
  {
   "cell_type": "code",
   "execution_count": 103,
   "id": "8eb3163a-5da9-407a-b401-460360e97b39",
   "metadata": {},
   "outputs": [
    {
     "data": {
      "text/plain": [
       "'173'"
      ]
     },
     "execution_count": 103,
     "metadata": {},
     "output_type": "execute_result"
    }
   ],
   "source": [
    "n1+n2 #in the input() function values are by default string type"
   ]
  },
  {
   "cell_type": "code",
   "execution_count": 108,
   "id": "396ba56b-8f59-4406-92b7-ba1d02482b23",
   "metadata": {},
   "outputs": [
    {
     "name": "stdin",
     "output_type": "stream",
     "text": [
      "enter the data1: apple\n",
      "enter the data2: is\n",
      "enter the data3: fruit\n"
     ]
    },
    {
     "data": {
      "text/plain": [
       "'appleisfruit'"
      ]
     },
     "execution_count": 108,
     "metadata": {},
     "output_type": "execute_result"
    }
   ],
   "source": [
    "str1=input(\"enter the data1:\")\n",
    "str2=input(\"enter the data2:\")\n",
    "str3=input(\"enter the data3:\")\n",
    "str1+str2+str3"
   ]
  },
  {
   "cell_type": "code",
   "execution_count": 109,
   "id": "47914abf-c7f5-496c-9149-0b72001da96f",
   "metadata": {},
   "outputs": [
    {
     "name": "stdin",
     "output_type": "stream",
     "text": [
      "enter the data1: apple\n",
      "enter the data2:  is\n",
      "enter the data3:  fruit\n"
     ]
    },
    {
     "data": {
      "text/plain": [
       "'apple is fruit'"
      ]
     },
     "execution_count": 109,
     "metadata": {},
     "output_type": "execute_result"
    }
   ],
   "source": [
    "str1=input(\"enter the data1:\")\n",
    "str2=input(\"enter the data2:\")\n",
    "str3=input(\"enter the data3:\")\n",
    "str1+str2+str3"
   ]
  },
  {
   "cell_type": "code",
   "execution_count": 111,
   "id": "4b5804a3-afc6-416a-b242-0366f562145e",
   "metadata": {},
   "outputs": [
    {
     "name": "stdin",
     "output_type": "stream",
     "text": [
      "enter the number 1: 17\n",
      "enter the number2: 3\n"
     ]
    },
    {
     "data": {
      "text/plain": [
       "20"
      ]
     },
     "execution_count": 111,
     "metadata": {},
     "output_type": "execute_result"
    }
   ],
   "source": [
    "n1=int(input(\"enter the number 1:\"))  # here we used the int() function to convert the by default string which os provided by the input() function\n",
    "n2=int(input(\"enter the number2:\"))\n",
    "n1+n2"
   ]
  },
  {
   "cell_type": "code",
   "execution_count": 113,
   "id": "f1583af6-9231-4f51-b29c-315d46710fde",
   "metadata": {},
   "outputs": [
    {
     "name": "stdin",
     "output_type": "stream",
     "text": [
      "enter the number 1: 17\n",
      "enter the number2: 3\n"
     ]
    },
    {
     "data": {
      "text/plain": [
       "20"
      ]
     },
     "execution_count": 113,
     "metadata": {},
     "output_type": "execute_result"
    }
   ],
   "source": [
    "n1=input(\"enter the number 1:\")\n",
    "n2=input(\"enter the number2:\")\n",
    "int(n1)+int(n2)     # here we provided the int() function directly to the n1 and n2 after loading the data as string"
   ]
  },
  {
   "cell_type": "markdown",
   "id": "5821055d-103b-4d59-9305-ce95d588468b",
   "metadata": {},
   "source": [
    "#### there is a drawback by using the int() nor float() functions the we use eval function"
   ]
  },
  {
   "cell_type": "markdown",
   "id": "8acdfab3-2ad9-470f-a399-b47b9ace6711",
   "metadata": {},
   "source": [
    "**eval**\n",
    "- eval means evaluate\n",
    "- it is related to math family\n",
    "- which means it works only for number represents as strins\n",
    "- it will not works on english letters\n",
    "- eval will convert the respective data type which is user enters\n",
    "- if user enter 10 in quotes it will convert into 10\n",
    "- if user enter 10.5 in quotes it will convert into 10.5"
   ]
  },
  {
   "cell_type": "code",
   "execution_count": 115,
   "id": "1e0fc5a8-d5cd-47d9-a680-7d80d8b361e2",
   "metadata": {},
   "outputs": [
    {
     "name": "stdin",
     "output_type": "stream",
     "text": [
      "enter the number 1: 10.5\n",
      "enter the number2: 20\n"
     ]
    },
    {
     "data": {
      "text/plain": [
       "30.5"
      ]
     },
     "execution_count": 115,
     "metadata": {},
     "output_type": "execute_result"
    }
   ],
   "source": [
    "n1=eval(input(\"enter the number 1:\"))  # here we used the int() function to convert the by default string which os provided by the input() function\n",
    "n2=eval(input(\"enter the number2:\"))\n",
    "n1+n2"
   ]
  },
  {
   "cell_type": "code",
   "execution_count": null,
   "id": "c005e722-69ca-4cb8-b0f8-14449efd9646",
   "metadata": {},
   "outputs": [],
   "source": []
  }
 ],
 "metadata": {
  "kernelspec": {
   "display_name": "Python 3 (ipykernel)",
   "language": "python",
   "name": "python3"
  },
  "language_info": {
   "codemirror_mode": {
    "name": "ipython",
    "version": 3
   },
   "file_extension": ".py",
   "mimetype": "text/x-python",
   "name": "python",
   "nbconvert_exporter": "python",
   "pygments_lexer": "ipython3",
   "version": "3.12.7"
  }
 },
 "nbformat": 4,
 "nbformat_minor": 5
}
