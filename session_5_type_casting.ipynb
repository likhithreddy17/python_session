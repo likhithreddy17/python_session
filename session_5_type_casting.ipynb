{
 "cells": [
  {
   "cell_type": "markdown",
   "id": "591ec66c-3e05-481d-b2be-c0b0ca626919",
   "metadata": {},
   "source": [
    "# type casting\n",
    "- convert one data type to another data type"
   ]
  },
  {
   "cell_type": "markdown",
   "id": "dc029b03-6245-4c6e-803e-0d45f2d46b56",
   "metadata": {},
   "source": [
    "**int to other datatypes**"
   ]
  },
  {
   "cell_type": "code",
   "execution_count": 1,
   "id": "b2c822ca-9d0d-4c8d-9dad-96d8a8404cff",
   "metadata": {},
   "outputs": [
    {
     "data": {
      "text/plain": [
       "100"
      ]
     },
     "execution_count": 1,
     "metadata": {},
     "output_type": "execute_result"
    }
   ],
   "source": [
    "num=100\n",
    "num"
   ]
  },
  {
   "cell_type": "code",
   "execution_count": 2,
   "id": "206866f1-f0ee-4a02-a9df-f79f0a047fc7",
   "metadata": {},
   "outputs": [
    {
     "data": {
      "text/plain": [
       "int"
      ]
     },
     "execution_count": 2,
     "metadata": {},
     "output_type": "execute_result"
    }
   ],
   "source": [
    "type(num)"
   ]
  },
  {
   "cell_type": "code",
   "execution_count": 9,
   "id": "dcf0ecb1-e832-4c73-97fd-6be50fbf2f25",
   "metadata": {},
   "outputs": [
    {
     "data": {
      "text/plain": [
       "float"
      ]
     },
     "execution_count": 9,
     "metadata": {},
     "output_type": "execute_result"
    }
   ],
   "source": [
    "float_num=float(num)\n",
    "type(float_num)"
   ]
  },
  {
   "cell_type": "code",
   "execution_count": 4,
   "id": "bde573dd-6f6a-49e5-a1fa-f94cb353c9df",
   "metadata": {},
   "outputs": [
    {
     "data": {
      "text/plain": [
       "bool"
      ]
     },
     "execution_count": 4,
     "metadata": {},
     "output_type": "execute_result"
    }
   ],
   "source": [
    "boolean_num=bool(num)\n",
    "type(boolean_num)"
   ]
  },
  {
   "cell_type": "code",
   "execution_count": 5,
   "id": "fd9e4c8f-6a0b-4a49-955c-51d8661bc650",
   "metadata": {},
   "outputs": [
    {
     "data": {
      "text/plain": [
       "str"
      ]
     },
     "execution_count": 5,
     "metadata": {},
     "output_type": "execute_result"
    }
   ],
   "source": [
    "str_num=str(num)\n",
    "type(str_num)"
   ]
  },
  {
   "cell_type": "code",
   "execution_count": 13,
   "id": "4771b5b3-3aa4-4f78-9e3f-b3dc611abe1c",
   "metadata": {},
   "outputs": [
    {
     "name": "stdout",
     "output_type": "stream",
     "text": [
      "100.0\n",
      "True\n",
      "100\n"
     ]
    }
   ],
   "source": [
    "print(float(100))\n",
    "print(bool(100))\n",
    "print(str(100))"
   ]
  },
  {
   "cell_type": "code",
   "execution_count": 14,
   "id": "56df40d7-945e-4081-af1e-f0064d4f96ac",
   "metadata": {},
   "outputs": [
    {
     "name": "stdout",
     "output_type": "stream",
     "text": [
      "-100.0\n",
      "True\n",
      "-100\n"
     ]
    }
   ],
   "source": [
    "print(float(-100))\n",
    "print(bool(-100))\n",
    "print(str(-100))"
   ]
  },
  {
   "cell_type": "code",
   "execution_count": 15,
   "id": "ed5c6bcd-40b5-4d67-86bf-ce58d7f1afab",
   "metadata": {},
   "outputs": [
    {
     "name": "stdout",
     "output_type": "stream",
     "text": [
      "0.0\n",
      "False\n",
      "0\n"
     ]
    }
   ],
   "source": [
    "print(float(0))\n",
    "print(bool(0))\n",
    "print(str(0))"
   ]
  },
  {
   "cell_type": "markdown",
   "id": "31c390f7-14c9-4a1a-8200-766aa0577919",
   "metadata": {},
   "source": [
    "**float to other datatypes**"
   ]
  },
  {
   "cell_type": "code",
   "execution_count": 21,
   "id": "986900fb-5157-409c-a20e-913237df3cc1",
   "metadata": {},
   "outputs": [
    {
     "data": {
      "text/plain": [
       "100.5"
      ]
     },
     "execution_count": 21,
     "metadata": {},
     "output_type": "execute_result"
    }
   ],
   "source": [
    "num1=100.5\n",
    "num1"
   ]
  },
  {
   "cell_type": "code",
   "execution_count": 22,
   "id": "abda9518-b32b-4e72-b04e-3e6ad9edec4a",
   "metadata": {},
   "outputs": [
    {
     "data": {
      "text/plain": [
       "float"
      ]
     },
     "execution_count": 22,
     "metadata": {},
     "output_type": "execute_result"
    }
   ],
   "source": [
    "type(num1)"
   ]
  },
  {
   "cell_type": "code",
   "execution_count": 23,
   "id": "74cc3ccd-7011-48ac-b235-e48b1b841369",
   "metadata": {},
   "outputs": [
    {
     "data": {
      "text/plain": [
       "100"
      ]
     },
     "execution_count": 23,
     "metadata": {},
     "output_type": "execute_result"
    }
   ],
   "source": [
    "int(num1)"
   ]
  },
  {
   "cell_type": "code",
   "execution_count": 24,
   "id": "b45a538e-e9a7-4052-b6d5-5d9a7b6e2279",
   "metadata": {},
   "outputs": [
    {
     "data": {
      "text/plain": [
       "True"
      ]
     },
     "execution_count": 24,
     "metadata": {},
     "output_type": "execute_result"
    }
   ],
   "source": [
    "bool(num1)"
   ]
  },
  {
   "cell_type": "code",
   "execution_count": 25,
   "id": "ec4664ff-b9d9-4d88-8ffc-435250d66c76",
   "metadata": {},
   "outputs": [
    {
     "data": {
      "text/plain": [
       "'100.5'"
      ]
     },
     "execution_count": 25,
     "metadata": {},
     "output_type": "execute_result"
    }
   ],
   "source": [
    "str(num1)"
   ]
  },
  {
   "cell_type": "code",
   "execution_count": 27,
   "id": "dbba2801-3e19-4824-aaeb-4bd37a670d5e",
   "metadata": {},
   "outputs": [
    {
     "name": "stdout",
     "output_type": "stream",
     "text": [
      "100\n",
      "True\n",
      "100.5\n"
     ]
    }
   ],
   "source": [
    "n1=int(100.5)\n",
    "n2=bool(100.5)\n",
    "n3=str(100.5)\n",
    "print(n1)\n",
    "print(n2)\n",
    "print(n3)"
   ]
  },
  {
   "cell_type": "code",
   "execution_count": 28,
   "id": "ab0c4608-5761-42c5-ad0c-db97a3557c1e",
   "metadata": {},
   "outputs": [
    {
     "name": "stdout",
     "output_type": "stream",
     "text": [
      "0\n",
      "False\n",
      "0.0\n"
     ]
    }
   ],
   "source": [
    "n1=int(0.0)\n",
    "n2=bool(0.0)\n",
    "n3=str(0.0)\n",
    "print(n1)\n",
    "print(n2)\n",
    "print(n3)"
   ]
  },
  {
   "cell_type": "markdown",
   "id": "f722d57b-2cd1-483c-8adc-b45ff8c7b186",
   "metadata": {},
   "source": [
    "**string to other datatypes**"
   ]
  },
  {
   "cell_type": "code",
   "execution_count": 29,
   "id": "ef354b5e-8141-4b5b-b347-6609de876fa7",
   "metadata": {},
   "outputs": [
    {
     "data": {
      "text/plain": [
       "True"
      ]
     },
     "execution_count": 29,
     "metadata": {},
     "output_type": "execute_result"
    }
   ],
   "source": [
    "bool('apple')"
   ]
  },
  {
   "cell_type": "code",
   "execution_count": 30,
   "id": "ecbae9a8-afc4-4728-b543-ca6b8f33d921",
   "metadata": {},
   "outputs": [
    {
     "data": {
      "text/plain": [
       "True"
      ]
     },
     "execution_count": 30,
     "metadata": {},
     "output_type": "execute_result"
    }
   ],
   "source": [
    "bool('0')"
   ]
  },
  {
   "cell_type": "code",
   "execution_count": 31,
   "id": "d14cb630-d263-4f1d-954e-a7016c891795",
   "metadata": {},
   "outputs": [
    {
     "data": {
      "text/plain": [
       "False"
      ]
     },
     "execution_count": 31,
     "metadata": {},
     "output_type": "execute_result"
    }
   ],
   "source": [
    "bool('')"
   ]
  },
  {
   "cell_type": "code",
   "execution_count": 36,
   "id": "a3a8ff14-10e3-4d84-8837-a5ecef29a1aa",
   "metadata": {},
   "outputs": [
    {
     "data": {
      "text/plain": [
       "True"
      ]
     },
     "execution_count": 36,
     "metadata": {},
     "output_type": "execute_result"
    }
   ],
   "source": [
    "bool(' ')"
   ]
  },
  {
   "cell_type": "code",
   "execution_count": 32,
   "id": "e6e4c2e1-d84f-4b61-b5b2-6b2702019395",
   "metadata": {},
   "outputs": [
    {
     "data": {
      "text/plain": [
       "5"
      ]
     },
     "execution_count": 32,
     "metadata": {},
     "output_type": "execute_result"
    }
   ],
   "source": [
    "len('apple')"
   ]
  },
  {
   "cell_type": "code",
   "execution_count": 34,
   "id": "824d2545-0f7c-4273-87f5-7dbce34f5463",
   "metadata": {},
   "outputs": [
    {
     "data": {
      "text/plain": [
       "1"
      ]
     },
     "execution_count": 34,
     "metadata": {},
     "output_type": "execute_result"
    }
   ],
   "source": [
    "len('0')"
   ]
  },
  {
   "cell_type": "code",
   "execution_count": 35,
   "id": "05226c47-9d5f-4e00-a948-a599c90eeeb5",
   "metadata": {},
   "outputs": [
    {
     "data": {
      "text/plain": [
       "0"
      ]
     },
     "execution_count": 35,
     "metadata": {},
     "output_type": "execute_result"
    }
   ],
   "source": [
    "len('')"
   ]
  },
  {
   "cell_type": "code",
   "execution_count": 38,
   "id": "3919c8d4-cbfd-437f-a341-23805ce3a48a",
   "metadata": {},
   "outputs": [
    {
     "data": {
      "text/plain": [
       "1"
      ]
     },
     "execution_count": 38,
     "metadata": {},
     "output_type": "execute_result"
    }
   ],
   "source": [
    "len(' ')  #spacde is also consider as a value"
   ]
  },
  {
   "cell_type": "markdown",
   "id": "5ac703a2-c0a2-41a2-8c6a-164ab1d9912e",
   "metadata": {},
   "source": [
    "- for number 0 and 0.0 boolean conversion gives **false**\n",
    "- for stringds empty boolean conversion gives **false**"
   ]
  },
  {
   "cell_type": "code",
   "execution_count": 40,
   "id": "01c97f3c-1628-4921-91ab-5bd8ee55e982",
   "metadata": {},
   "outputs": [
    {
     "name": "stdout",
     "output_type": "stream",
     "text": [
      "10.0\n",
      "True\n",
      "10\n"
     ]
    }
   ],
   "source": [
    "n1=float('10')\n",
    "n2=bool('10')\n",
    "n3=int('10')\n",
    "print(n1)\n",
    "print(n2)\n",
    "print(n3)"
   ]
  },
  {
   "cell_type": "code",
   "execution_count": 42,
   "id": "e20de42b-e31d-48c4-bd1f-9a3576c6138b",
   "metadata": {},
   "outputs": [
    {
     "ename": "ValueError",
     "evalue": "invalid literal for int() with base 10: '10.5'",
     "output_type": "error",
     "traceback": [
      "\u001b[1;31m---------------------------------------------------------------------------\u001b[0m",
      "\u001b[1;31mValueError\u001b[0m                                Traceback (most recent call last)",
      "Cell \u001b[1;32mIn[42], line 1\u001b[0m\n\u001b[1;32m----> 1\u001b[0m \u001b[38;5;28mint\u001b[39m(\u001b[38;5;124m'\u001b[39m\u001b[38;5;124m10.5\u001b[39m\u001b[38;5;124m'\u001b[39m)\n",
      "\u001b[1;31mValueError\u001b[0m: invalid literal for int() with base 10: '10.5'"
     ]
    }
   ],
   "source": [
    "int('10.5')   #while converting str to int, when we give float number then it gives erro"
   ]
  },
  {
   "cell_type": "markdown",
   "id": "3c812779-1d07-4bb2-97e8-44edaef36d9f",
   "metadata": {},
   "source": [
    "**boolean to other data types**\n",
    "- true means 1\n",
    "- false means 0"
   ]
  },
  {
   "cell_type": "code",
   "execution_count": 45,
   "id": "ee499c85-ca98-44a1-9ef9-0cce9664ff69",
   "metadata": {},
   "outputs": [
    {
     "data": {
      "text/plain": [
       "1"
      ]
     },
     "execution_count": 45,
     "metadata": {},
     "output_type": "execute_result"
    }
   ],
   "source": [
    "int(True)"
   ]
  },
  {
   "cell_type": "code",
   "execution_count": 46,
   "id": "eb00acef-d0e4-42d4-9742-af2f77e64423",
   "metadata": {},
   "outputs": [
    {
     "data": {
      "text/plain": [
       "0"
      ]
     },
     "execution_count": 46,
     "metadata": {},
     "output_type": "execute_result"
    }
   ],
   "source": [
    "int(False)"
   ]
  },
  {
   "cell_type": "code",
   "execution_count": 47,
   "id": "6bbbdb7a-5187-4fad-8a28-44d419aa52f8",
   "metadata": {},
   "outputs": [
    {
     "data": {
      "text/plain": [
       "1.0"
      ]
     },
     "execution_count": 47,
     "metadata": {},
     "output_type": "execute_result"
    }
   ],
   "source": [
    "float(True)"
   ]
  },
  {
   "cell_type": "code",
   "execution_count": 48,
   "id": "b9b603bf-2ace-45f9-acf3-fc07b1ca6536",
   "metadata": {},
   "outputs": [
    {
     "data": {
      "text/plain": [
       "0.0"
      ]
     },
     "execution_count": 48,
     "metadata": {},
     "output_type": "execute_result"
    }
   ],
   "source": [
    "float(False)"
   ]
  },
  {
   "cell_type": "code",
   "execution_count": 49,
   "id": "35b83dee-4f45-423a-83bd-503d343fb030",
   "metadata": {},
   "outputs": [
    {
     "data": {
      "text/plain": [
       "'True'"
      ]
     },
     "execution_count": 49,
     "metadata": {},
     "output_type": "execute_result"
    }
   ],
   "source": [
    "str(True)"
   ]
  },
  {
   "cell_type": "code",
   "execution_count": 50,
   "id": "f7b47654-68f2-4b3d-a2ac-a7d22d688133",
   "metadata": {},
   "outputs": [
    {
     "data": {
      "text/plain": [
       "'False'"
      ]
     },
     "execution_count": 50,
     "metadata": {},
     "output_type": "execute_result"
    }
   ],
   "source": [
    "str(False)"
   ]
  },
  {
   "cell_type": "code",
   "execution_count": null,
   "id": "64a3ccab-22b2-4b39-8ac3-2776443c434f",
   "metadata": {},
   "outputs": [],
   "source": []
  }
 ],
 "metadata": {
  "kernelspec": {
   "display_name": "Python 3 (ipykernel)",
   "language": "python",
   "name": "python3"
  },
  "language_info": {
   "codemirror_mode": {
    "name": "ipython",
    "version": 3
   },
   "file_extension": ".py",
   "mimetype": "text/x-python",
   "name": "python",
   "nbconvert_exporter": "python",
   "pygments_lexer": "ipython3",
   "version": "3.12.7"
  }
 },
 "nbformat": 4,
 "nbformat_minor": 5
}
