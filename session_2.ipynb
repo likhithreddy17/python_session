{
 "cells": [
  {
   "cell_type": "raw",
   "id": "771ba520-2edb-43fa-96b7-e4bf413ce762",
   "metadata": {},
   "source": [
    "import os\n",
    "os.getcwd()"
   ]
  },
  {
   "cell_type": "code",
   "execution_count": 1,
   "id": "ab1124ad-11de-4e39-a544-54b509cfb8b4",
   "metadata": {},
   "outputs": [
    {
     "data": {
      "text/plain": [
       "<function nt.getcwd()>"
      ]
     },
     "execution_count": 1,
     "metadata": {},
     "output_type": "execute_result"
    }
   ],
   "source": [
    "import os\n",
    "os.getcwd"
   ]
  },
  {
   "cell_type": "code",
   "execution_count": 2,
   "id": "9393adf6-4b85-4e1e-b905-fec1ebcfefb7",
   "metadata": {},
   "outputs": [
    {
     "data": {
      "text/plain": [
       "'C:\\\\Users\\\\likhith reddy\\\\Documents\\\\Naresh IT\\\\python_session'"
      ]
     },
     "execution_count": 2,
     "metadata": {},
     "output_type": "execute_result"
    }
   ],
   "source": [
    "import os\n",
    "os.getcwd()"
   ]
  },
  {
   "cell_type": "code",
   "execution_count": null,
   "id": "e084d9ed-850f-4b37-aa20-af7c6e055caf",
   "metadata": {},
   "outputs": [],
   "source": [
    "#checkpoint -1\n",
    "#empty square bracket before the code cell indicates we did not run cell\n",
    "#2\n",
    "#if we see* mark insude the barcket do not run the next code cell\n",
    "#3\n",
    "#star* indicates kernel os busy"
   ]
  },
  {
   "cell_type": "code",
   "execution_count": 3,
   "id": "31761e0c-8735-4996-aa8f-2dac6aadfaa0",
   "metadata": {},
   "outputs": [],
   "source": [
    "number=100"
   ]
  },
  {
   "cell_type": "code",
   "execution_count": 4,
   "id": "5f9aa06e-e198-42ff-9b66-c8ebb1326091",
   "metadata": {},
   "outputs": [
    {
     "data": {
      "text/plain": [
       "100"
      ]
     },
     "execution_count": 4,
     "metadata": {},
     "output_type": "execute_result"
    }
   ],
   "source": [
    "number"
   ]
  },
  {
   "cell_type": "code",
   "execution_count": 5,
   "id": "c4b61c64-df62-4427-ae71-dfccfd61b836",
   "metadata": {},
   "outputs": [],
   "source": [
    "number1=10\n",
    "number2=20"
   ]
  },
  {
   "cell_type": "code",
   "execution_count": 6,
   "id": "af236952-9a3f-4e2f-82ab-4aea668800ec",
   "metadata": {},
   "outputs": [
    {
     "data": {
      "text/plain": [
       "30"
      ]
     },
     "execution_count": 6,
     "metadata": {},
     "output_type": "execute_result"
    }
   ],
   "source": [
    "number1+number2"
   ]
  },
  {
   "cell_type": "code",
   "execution_count": 7,
   "id": "511f39fb-2e11-4a2d-b278-cc5973c11e6c",
   "metadata": {},
   "outputs": [],
   "source": [
    "name=\"revanth\""
   ]
  },
  {
   "cell_type": "code",
   "execution_count": 8,
   "id": "74fe3d89-53dd-4e38-9047-23f65c8f0140",
   "metadata": {},
   "outputs": [
    {
     "data": {
      "text/plain": [
       "'revanth'"
      ]
     },
     "execution_count": 8,
     "metadata": {},
     "output_type": "execute_result"
    }
   ],
   "source": [
    "name"
   ]
  },
  {
   "cell_type": "markdown",
   "id": "56c15120-6437-4437-9819-80f18c256dfc",
   "metadata": {},
   "source": [
    "hello today iam learning python\n",
    "\n",
    "square backet is there :yes\n",
    "code node is there :yes\n",
    "if these two are there which will indicates this current cell used for to wite code only \n",
    "if you write english i will throw error\n",
    "go to top code mode after a dropdown symbol is there \n",
    "click on that\n",
    "we can see markdown option then select it\n",
    "then we cannot see any square bracket"
   ]
  },
  {
   "cell_type": "markdown",
   "id": "3bd75c3e-0ee8-4bb0-a09c-fe3293627511",
   "metadata": {},
   "source": [
    "# python \n",
    "\n",
    "- esc+m will change to markdown mode\n",
    "- then shift enter to run\n",
    "\n",
    "- esc+y will change markdown mode to code mode\n",
    "\n",
    "\n",
    "\"- \" is used to get bullet points in markdown mode\n",
    "\n",
    "** ** text between them will gives the bold text\n",
    "\n",
    "\n",
    "no of #symblos will decreses the font size of the next text to the #symbol\n",
    "\n",
    "\n",
    "to paste image we require markdown mode"
   ]
  },
  {
   "cell_type": "markdown",
   "id": "7464680b-bea2-47f9-a2a1-f726054b222c",
   "metadata": {},
   "source": [
    "<img id=\"dimg_NHdzZ7edI9Oa4-EPwp6ryQg_59\" src=\"data:image/jpeg;base64,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\" class=\"YQ4gaf\" height=\"168\" style=\"object-position:44% 0%\" width=\"299\" alt=\"What are the Top Python Compilers for ...\" data-csiid=\"NHdzZ7edI9Oa4-EPwp6ryQg_40\" data-atf=\"4\">"
   ]
  },
  {
   "cell_type": "code",
   "execution_count": null,
   "id": "27a52610-bdc8-42e8-b720-5e44ba4dd444",
   "metadata": {},
   "outputs": [],
   "source": []
  }
 ],
 "metadata": {
  "kernelspec": {
   "display_name": "Python 3 (ipykernel)",
   "language": "python",
   "name": "python3"
  },
  "language_info": {
   "codemirror_mode": {
    "name": "ipython",
    "version": 3
   },
   "file_extension": ".py",
   "mimetype": "text/x-python",
   "name": "python",
   "nbconvert_exporter": "python",
   "pygments_lexer": "ipython3",
   "version": "3.12.7"
  }
 },
 "nbformat": 4,
 "nbformat_minor": 5
}
