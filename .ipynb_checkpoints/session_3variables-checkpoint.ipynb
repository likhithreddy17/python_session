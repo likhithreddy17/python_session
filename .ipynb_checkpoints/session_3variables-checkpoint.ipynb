{
 "cells": [
  {
   "cell_type": "markdown",
   "id": "ed3a33c6-c5fe-4af7-82fb-63f4dcd3f5b8",
   "metadata": {},
   "source": [
    "# variables"
   ]
  },
  {
   "cell_type": "markdown",
   "id": "0f4ac8c6-b0bb-467c-a09f-a930b30dccc4",
   "metadata": {},
   "source": [
    "- Variables are used to store the data\n",
    "\n",
    "- the data can be change \n",
    "\n",
    "- these variables can be used to manipulate the python code"
   ]
  },
  {
   "cell_type": "code",
   "execution_count": 1,
   "id": "f363de4d-6c8b-4e6a-a603-be7e1fcff38c",
   "metadata": {},
   "outputs": [],
   "source": [
    "number=100"
   ]
  },
  {
   "cell_type": "code",
   "execution_count": 2,
   "id": "473d1618-f0ce-49ad-8524-21f4b724d2d5",
   "metadata": {},
   "outputs": [],
   "source": [
    "NUMBER=200"
   ]
  },
  {
   "cell_type": "code",
   "execution_count": 3,
   "id": "705dd25b-c0f3-4930-9ab7-2a6569ab78bd",
   "metadata": {},
   "outputs": [],
   "source": [
    "Number=400"
   ]
  },
  {
   "cell_type": "code",
   "execution_count": 4,
   "id": "5648f378-a6c5-4a63-933e-7eb6d6909591",
   "metadata": {},
   "outputs": [
    {
     "data": {
      "text/plain": [
       "(100, 200, 400)"
      ]
     },
     "execution_count": 4,
     "metadata": {},
     "output_type": "execute_result"
    }
   ],
   "source": [
    "number,NUMBER, Number"
   ]
  },
  {
   "cell_type": "markdown",
   "id": "32f0a25e-cdd0-40b6-9962-dbc18bf213f7",
   "metadata": {},
   "source": [
    "**note**\n",
    "  \n",
    "- variable should be in black color\n",
    "- green color indication is not a variable\n",
    "- we can use numbers as suffix\n",
    "- if we use numbers as preffix then it give error\n",
    "- special characters not allowed in the variables like %$@ etc\n",
    "- space also a special character\n",
    "- we can use unserscore_ in the variable\n",
    "- keywords cannot use as variables"
   ]
  },
  {
   "cell_type": "code",
   "execution_count": 5,
   "id": "c8039275-1642-40a3-a790-aedb9111d923",
   "metadata": {},
   "outputs": [
    {
     "data": {
      "text/plain": [
       "100"
      ]
     },
     "execution_count": 5,
     "metadata": {},
     "output_type": "execute_result"
    }
   ],
   "source": [
    "_=100\n",
    "_"
   ]
  },
  {
   "cell_type": "code",
   "execution_count": null,
   "id": "d453d3c2-195e-4d9f-993f-93f7c0abf971",
   "metadata": {},
   "outputs": [],
   "source": []
  }
 ],
 "metadata": {
  "kernelspec": {
   "display_name": "Python 3 (ipykernel)",
   "language": "python",
   "name": "python3"
  },
  "language_info": {
   "codemirror_mode": {
    "name": "ipython",
    "version": 3
   },
   "file_extension": ".py",
   "mimetype": "text/x-python",
   "name": "python",
   "nbconvert_exporter": "python",
   "pygments_lexer": "ipython3",
   "version": "3.12.7"
  }
 },
 "nbformat": 4,
 "nbformat_minor": 5
}
