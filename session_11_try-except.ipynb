{
 "cells": [
  {
   "cell_type": "markdown",
   "id": "5d2c22d1-4872-4cc1-a9e8-99bf79c99495",
   "metadata": {},
   "source": [
    "**try-execpt**\n",
    "- it is a concept of exception handling\n",
    "- there are two blocks\n",
    "    - 1.try block\n",
    "    - 2.except block\n",
    "- original code we will run under try block\n",
    "- if any occurs in try block, the error will catch by except block\n",
    "- usecase 1: the code should catch the errors automatically\n",
    "- usecase 2: the code should continue eventhough we got error "
   ]
  },
  {
   "cell_type": "code",
   "execution_count": 6,
   "id": "fd27187f-4361-4b93-a45e-f5638c67937d",
   "metadata": {},
   "outputs": [
    {
     "name": "stdout",
     "output_type": "stream",
     "text": [
      "aaaa\n"
     ]
    }
   ],
   "source": [
    "try:\n",
    "    a=5\n",
    "    b=0\n",
    "    c=a/b\n",
    "    print(c)\n",
    "\n",
    "except:\n",
    "    print(\"aaaa\")"
   ]
  },
  {
   "cell_type": "code",
   "execution_count": 7,
   "id": "507035d6-1c1d-4ce7-867b-a4d201b4087c",
   "metadata": {},
   "outputs": [
    {
     "name": "stdout",
     "output_type": "stream",
     "text": [
      "25.0\n"
     ]
    }
   ],
   "source": [
    "try:\n",
    "    a=50\n",
    "    b=2\n",
    "    c=a/b\n",
    "    print(c)\n",
    "\n",
    "except:\n",
    "    print(\"aaaa\")"
   ]
  },
  {
   "cell_type": "markdown",
   "id": "c5d0f3f3-5d21-4b7e-a695-a4cc2c517dce",
   "metadata": {},
   "source": [
    "**note**\n",
    "-except block will run when we got the error in try block\n",
    "- if code is correct in try block, then only try block will executed except block will not executes"
   ]
  },
  {
   "cell_type": "code",
   "execution_count": 9,
   "id": "73d6222a-334b-4a76-8864-ee205a15bd01",
   "metadata": {},
   "outputs": [
    {
     "ename": "SyntaxError",
     "evalue": "incomplete input (945618380.py, line 4)",
     "output_type": "error",
     "traceback": [
      "\u001b[1;36m  Cell \u001b[1;32mIn[9], line 4\u001b[1;36m\u001b[0m\n\u001b[1;33m    print(c\u001b[0m\n\u001b[1;37m           ^\u001b[0m\n\u001b[1;31mSyntaxError\u001b[0m\u001b[1;31m:\u001b[0m incomplete input\n"
     ]
    }
   ],
   "source": [
    "a=10\n",
    "b=5\n",
    "c=a+b\n",
    "print(c"
   ]
  },
  {
   "cell_type": "code",
   "execution_count": 10,
   "id": "08190ccd-4d06-4529-81c3-1743009d2a4e",
   "metadata": {},
   "outputs": [
    {
     "ename": "TypeError",
     "evalue": "can only concatenate str (not \"int\") to str",
     "output_type": "error",
     "traceback": [
      "\u001b[1;31m---------------------------------------------------------------------------\u001b[0m",
      "\u001b[1;31mTypeError\u001b[0m                                 Traceback (most recent call last)",
      "Cell \u001b[1;32mIn[10], line 3\u001b[0m\n\u001b[0;32m      1\u001b[0m a\u001b[38;5;241m=\u001b[39m\u001b[38;5;124m\"\u001b[39m\u001b[38;5;124m10\u001b[39m\u001b[38;5;124m\"\u001b[39m\n\u001b[0;32m      2\u001b[0m b\u001b[38;5;241m=\u001b[39m\u001b[38;5;241m5\u001b[39m\n\u001b[1;32m----> 3\u001b[0m c\u001b[38;5;241m=\u001b[39ma\u001b[38;5;241m+\u001b[39mb\n\u001b[0;32m      4\u001b[0m \u001b[38;5;28mprint\u001b[39m(c)\n",
      "\u001b[1;31mTypeError\u001b[0m: can only concatenate str (not \"int\") to str"
     ]
    }
   ],
   "source": [
    "a=\"10\"\n",
    "b=5\n",
    "c=a+b\n",
    "print(c)"
   ]
  },
  {
   "cell_type": "code",
   "execution_count": 11,
   "id": "a5791471-0dd9-42d0-bbc1-3c1e278ff98b",
   "metadata": {},
   "outputs": [
    {
     "ename": "NameError",
     "evalue": "name 'num1' is not defined",
     "output_type": "error",
     "traceback": [
      "\u001b[1;31m---------------------------------------------------------------------------\u001b[0m",
      "\u001b[1;31mNameError\u001b[0m                                 Traceback (most recent call last)",
      "Cell \u001b[1;32mIn[11], line 1\u001b[0m\n\u001b[1;32m----> 1\u001b[0m c\u001b[38;5;241m=\u001b[39mnum1\u001b[38;5;241m+\u001b[39mnum2\n",
      "\u001b[1;31mNameError\u001b[0m: name 'num1' is not defined"
     ]
    }
   ],
   "source": [
    "c=num1+num2"
   ]
  },
  {
   "cell_type": "code",
   "execution_count": 12,
   "id": "8dee852e-2314-40a4-8177-72a6df2ffe12",
   "metadata": {},
   "outputs": [
    {
     "ename": "ModuleNotFoundError",
     "evalue": "No module named 'likhith'",
     "output_type": "error",
     "traceback": [
      "\u001b[1;31m---------------------------------------------------------------------------\u001b[0m",
      "\u001b[1;31mModuleNotFoundError\u001b[0m                       Traceback (most recent call last)",
      "Cell \u001b[1;32mIn[12], line 1\u001b[0m\n\u001b[1;32m----> 1\u001b[0m \u001b[38;5;28;01mimport\u001b[39;00m \u001b[38;5;21;01mlikhith\u001b[39;00m\n",
      "\u001b[1;31mModuleNotFoundError\u001b[0m: No module named 'likhith'"
     ]
    }
   ],
   "source": [
    "import likhith"
   ]
  },
  {
   "cell_type": "code",
   "execution_count": 13,
   "id": "61e554c0-8e4a-49df-9645-53d2f4d14440",
   "metadata": {},
   "outputs": [
    {
     "ename": "NameError",
     "evalue": "name 'random' is not defined",
     "output_type": "error",
     "traceback": [
      "\u001b[1;31m---------------------------------------------------------------------------\u001b[0m",
      "\u001b[1;31mNameError\u001b[0m                                 Traceback (most recent call last)",
      "Cell \u001b[1;32mIn[13], line 1\u001b[0m\n\u001b[1;32m----> 1\u001b[0m random()\n",
      "\u001b[1;31mNameError\u001b[0m: name 'random' is not defined"
     ]
    }
   ],
   "source": [
    "random()"
   ]
  },
  {
   "cell_type": "code",
   "execution_count": 15,
   "id": "972d5789-0053-4081-a38b-1909cabd258f",
   "metadata": {},
   "outputs": [
    {
     "ename": "ZeroDivisionError",
     "evalue": "division by zero",
     "output_type": "error",
     "traceback": [
      "\u001b[1;31m---------------------------------------------------------------------------\u001b[0m",
      "\u001b[1;31mZeroDivisionError\u001b[0m                         Traceback (most recent call last)",
      "Cell \u001b[1;32mIn[15], line 3\u001b[0m\n\u001b[0;32m      1\u001b[0m a\u001b[38;5;241m=\u001b[39m\u001b[38;5;241m10\u001b[39m\n\u001b[0;32m      2\u001b[0m b\u001b[38;5;241m=\u001b[39m\u001b[38;5;241m0\u001b[39m\n\u001b[1;32m----> 3\u001b[0m c\u001b[38;5;241m=\u001b[39ma\u001b[38;5;241m/\u001b[39mb\n",
      "\u001b[1;31mZeroDivisionError\u001b[0m: division by zero"
     ]
    }
   ],
   "source": [
    "a=10\n",
    "b=0\n",
    "c=a/b"
   ]
  },
  {
   "cell_type": "code",
   "execution_count": 17,
   "id": "d6b7f05b-f295-41bc-b0d0-bcad83c569de",
   "metadata": {},
   "outputs": [
    {
     "ename": "AttributeError",
     "evalue": "module 'random' has no attribute 'likhith'",
     "output_type": "error",
     "traceback": [
      "\u001b[1;31m---------------------------------------------------------------------------\u001b[0m",
      "\u001b[1;31mAttributeError\u001b[0m                            Traceback (most recent call last)",
      "Cell \u001b[1;32mIn[17], line 2\u001b[0m\n\u001b[0;32m      1\u001b[0m \u001b[38;5;28;01mimport\u001b[39;00m \u001b[38;5;21;01mrandom\u001b[39;00m\n\u001b[1;32m----> 2\u001b[0m random\u001b[38;5;241m.\u001b[39mlikhith\n",
      "\u001b[1;31mAttributeError\u001b[0m: module 'random' has no attribute 'likhith'"
     ]
    }
   ],
   "source": [
    "import random\n",
    "random.likhith"
   ]
  },
  {
   "cell_type": "code",
   "execution_count": 18,
   "id": "d4dcb09f-3d74-4904-b0ad-e185a5648095",
   "metadata": {},
   "outputs": [
    {
     "ename": "TypeError",
     "evalue": "can't multiply sequence by non-int of type 'str'",
     "output_type": "error",
     "traceback": [
      "\u001b[1;31m---------------------------------------------------------------------------\u001b[0m",
      "\u001b[1;31mTypeError\u001b[0m                                 Traceback (most recent call last)",
      "Cell \u001b[1;32mIn[18], line 1\u001b[0m\n\u001b[1;32m----> 1\u001b[0m \u001b[38;5;124m\"\u001b[39m\u001b[38;5;124m10\u001b[39m\u001b[38;5;124m\"\u001b[39m\u001b[38;5;241m*\u001b[39m\u001b[38;5;124m\"\u001b[39m\u001b[38;5;124m10\u001b[39m\u001b[38;5;124m\"\u001b[39m\n",
      "\u001b[1;31mTypeError\u001b[0m: can't multiply sequence by non-int of type 'str'"
     ]
    }
   ],
   "source": [
    "\"10\"*\"10\""
   ]
  },
  {
   "cell_type": "code",
   "execution_count": 19,
   "id": "fe653c30-c830-426f-8e9a-edce856a25fb",
   "metadata": {},
   "outputs": [
    {
     "name": "stdin",
     "output_type": "stream",
     "text": [
      "enter num1: 10\n",
      "enter num2: 2\n"
     ]
    },
    {
     "name": "stdout",
     "output_type": "stream",
     "text": [
      "div=5.0\n"
     ]
    }
   ],
   "source": [
    "num1=eval(input(\"enter num1:\"))\n",
    "num2=eval(input(\"enter num2:\"))\n",
    "div=num1/num2\n",
    "print(f\"div={div}\")"
   ]
  },
  {
   "cell_type": "code",
   "execution_count": 25,
   "id": "f998e74c-4fc7-4a5e-ae41-3235daeb25da",
   "metadata": {},
   "outputs": [
    {
     "name": "stdin",
     "output_type": "stream",
     "text": [
      "enter num1: 19\n",
      "enter num2: 0\n"
     ]
    },
    {
     "name": "stdout",
     "output_type": "stream",
     "text": [
      "division by zero\n"
     ]
    }
   ],
   "source": [
    "try:\n",
    "    num1=eval(input(\"enter num1:\"))\n",
    "    num2=eval(input(\"enter num2:\"))\n",
    "    div=num1/num2\n",
    "    print(f\"div={div}\")\n",
    "\n",
    "except Exception as e:\n",
    "    print(e)"
   ]
  },
  {
   "cell_type": "code",
   "execution_count": 24,
   "id": "bd7edc1e-30b9-4ca3-b7b2-0f5647708ccf",
   "metadata": {},
   "outputs": [
    {
     "name": "stdout",
     "output_type": "stream",
     "text": [
      "can only concatenate str (not \"int\") to str\n"
     ]
    }
   ],
   "source": [
    "try:\n",
    "    a=\"10\"\n",
    "    b=5\n",
    "    c=a+b\n",
    "    print(c)\n",
    "\n",
    "except Exception as e:\n",
    "    print(e)"
   ]
  },
  {
   "cell_type": "code",
   "execution_count": null,
   "id": "54df9e6d-5e9c-44e8-a2e6-6a7d25229e6c",
   "metadata": {},
   "outputs": [],
   "source": []
  }
 ],
 "metadata": {
  "kernelspec": {
   "display_name": "Python 3 (ipykernel)",
   "language": "python",
   "name": "python3"
  },
  "language_info": {
   "codemirror_mode": {
    "name": "ipython",
    "version": 3
   },
   "file_extension": ".py",
   "mimetype": "text/x-python",
   "name": "python",
   "nbconvert_exporter": "python",
   "pygments_lexer": "ipython3",
   "version": "3.12.7"
  }
 },
 "nbformat": 4,
 "nbformat_minor": 5
}
