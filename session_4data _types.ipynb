{
 "cells": [
  {
   "cell_type": "markdown",
   "id": "1eb92a12-44bf-4d23-b7e6-f1fa6f04d031",
   "metadata": {},
   "source": [
    "# Data Types"
   ]
  },
  {
   "cell_type": "markdown",
   "id": "6ba1e2a6-a827-4661-a276-be8fd14521ab",
   "metadata": {},
   "source": [
    "- integer\n",
    "- float\n",
    "- string\n",
    "- list\n",
    "- tuple\n",
    "- set\n",
    "  - frozen set\n",
    "- dictionary\n",
    "- bolean\n",
    "- complex\n",
    "- range\n",
    "- byte\n",
    "- byte array\n",
    "- memory view\n",
    "- none type "
   ]
  },
  {
   "cell_type": "markdown",
   "id": "68878e65-efe6-4f74-8889-4f742db86958",
   "metadata": {},
   "source": [
    "$integer$"
   ]
  },
  {
   "cell_type": "markdown",
   "id": "be35262b-ac6f-4ae4-96cf-5dba4e1b2c1a",
   "metadata": {},
   "source": [
    "- text between two dollar symbols it gives text in itallic style "
   ]
  },
  {
   "cell_type": "code",
   "execution_count": 2,
   "id": "67c25e9c-0406-4695-bd61-3f0c7b08e908",
   "metadata": {},
   "outputs": [
    {
     "data": {
      "text/plain": [
       "100"
      ]
     },
     "execution_count": 2,
     "metadata": {},
     "output_type": "execute_result"
    }
   ],
   "source": [
    "number=100\n",
    "number"
   ]
  },
  {
   "cell_type": "code",
   "execution_count": 4,
   "id": "cbe155ab-abb8-4e62-bddb-fdecbef18d42",
   "metadata": {},
   "outputs": [
    {
     "data": {
      "text/plain": [
       "int"
      ]
     },
     "execution_count": 4,
     "metadata": {},
     "output_type": "execute_result"
    }
   ],
   "source": [
    "type(number)"
   ]
  },
  {
   "cell_type": "markdown",
   "id": "afe690de-3aff-4742-9393-c439cd57a798",
   "metadata": {},
   "source": [
    "**Number system**\n",
    "- binary number system\n",
    "- decimal number system\n",
    "- octa number system\n",
    "- hexa number system"
   ]
  },
  {
   "cell_type": "markdown",
   "id": "a4dbff26-c0b1-4d83-9bbe-98d94cdd2fca",
   "metadata": {},
   "source": [
    "**Binary number system**\n",
    "- it is dented with **b** or **0B**\n",
    "- binary means two\n",
    "- we have generally 0 to 9 digits available\n",
    "- binary means only two digits allowed : 0 and 1\n",
    "- ex: 0b101  0b111 0b001\n",
    "- not valid: 0b123 0b0012"
   ]
  },
  {
   "cell_type": "code",
   "execution_count": 5,
   "id": "5add12ad-253f-4389-86d8-1b248d70d02b",
   "metadata": {},
   "outputs": [
    {
     "data": {
      "text/plain": [
       "29"
      ]
     },
     "execution_count": 5,
     "metadata": {},
     "output_type": "execute_result"
    }
   ],
   "source": [
    "0b11101"
   ]
  },
  {
   "cell_type": "code",
   "execution_count": 6,
   "id": "6fb084c9-35e2-4443-adad-57757e4671db",
   "metadata": {
    "jp-MarkdownHeadingCollapsed": true
   },
   "outputs": [
    {
     "data": {
      "text/plain": [
       "11"
      ]
     },
     "execution_count": 6,
     "metadata": {},
     "output_type": "execute_result"
    }
   ],
   "source": [
    "0b01011"
   ]
  },
  {
   "cell_type": "code",
   "execution_count": null,
   "id": "6eddb872-a2a7-4eda-9622-04af83719e87",
   "metadata": {},
   "outputs": [],
   "source": [
    "2^2  2^1   2^0\n",
    "4    2      1\n",
    "===================\n",
    "0     0     0      0\n",
    "0     0     1      1\n",
    "0     1     0      2\n",
    "0     1     1      3\n",
    "1     0     0      4\n",
    "1     0     1      5\n",
    "1     1     0      6\n",
    "1     1     1      7"
   ]
  },
  {
   "cell_type": "markdown",
   "id": "925d1850-9c61-4a54-a949-003a7a33d65a",
   "metadata": {},
   "source": [
    "**Octa number system**\n",
    "- it is dented with **o** or **0o**\n",
    "- octa means 8\n",
    "- we have generally 0 to 7 digits available\n",
    "- binary means only two digits allowed : 0 1  2 3 4 5 6 7 \n",
    "- ex: 0o567  0o067 0o001\n",
    "- not valid: 0o0128 0o00129"
   ]
  },
  {
   "cell_type": "code",
   "execution_count": 7,
   "id": "1a8ff97b-0962-46c2-b605-638d6fe39fec",
   "metadata": {},
   "outputs": [
    {
     "data": {
      "text/plain": [
       "83"
      ]
     },
     "execution_count": 7,
     "metadata": {},
     "output_type": "execute_result"
    }
   ],
   "source": [
    "0o123"
   ]
  },
  {
   "cell_type": "code",
   "execution_count": 8,
   "id": "982af081-8053-42c9-b498-eb5289803fe5",
   "metadata": {},
   "outputs": [
    {
     "data": {
      "text/plain": [
       "375"
      ]
     },
     "execution_count": 8,
     "metadata": {},
     "output_type": "execute_result"
    }
   ],
   "source": [
    "0o567"
   ]
  },
  {
   "cell_type": "markdown",
   "id": "e227a923-e029-4144-9051-14aa74a32533",
   "metadata": {},
   "source": [
    "**hexa number system**\n",
    "- it is dented with **x** or **0x**\n",
    "- hexa means 16\n",
    "- we have generally 0 to 15 digits available\n",
    "- binary means only two digits allowed : 0 1  2 3 4 5 6 7 8 9  a  b c d e f \n",
    "- ex: 0xabc 0x123a 0o002b\n",
    "- not valid: 0x10g 0x123g"
   ]
  },
  {
   "cell_type": "code",
   "execution_count": 9,
   "id": "2046723d-2049-490d-b808-b95969f986b9",
   "metadata": {},
   "outputs": [
    {
     "data": {
      "text/plain": [
       "2025"
      ]
     },
     "execution_count": 9,
     "metadata": {},
     "output_type": "execute_result"
    }
   ],
   "source": [
    "0b11111101001"
   ]
  },
  {
   "cell_type": "markdown",
   "id": "eb414389-8e14-471d-bf79-892321a5698f",
   "metadata": {},
   "source": [
    "# float"
   ]
  },
  {
   "cell_type": "markdown",
   "id": "7c366411-bdd1-4335-b786-a1948ecd1026",
   "metadata": {},
   "source": [
    "**e representation**"
   ]
  },
  {
   "cell_type": "code",
   "execution_count": 16,
   "id": "ea5cd225-713c-4772-aa26-5fcf126d13de",
   "metadata": {},
   "outputs": [
    {
     "data": {
      "text/plain": [
       "10.0"
      ]
     },
     "execution_count": 16,
     "metadata": {},
     "output_type": "execute_result"
    }
   ],
   "source": [
    "1e1 #1*10"
   ]
  },
  {
   "cell_type": "code",
   "execution_count": 17,
   "id": "da3a9c5d-114f-41cc-aae4-36b3835ad840",
   "metadata": {},
   "outputs": [
    {
     "data": {
      "text/plain": [
       "100.0"
      ]
     },
     "execution_count": 17,
     "metadata": {},
     "output_type": "execute_result"
    }
   ],
   "source": [
    "1e2   #1*10"
   ]
  },
  {
   "cell_type": "code",
   "execution_count": 18,
   "id": "66af20cc-270a-43f3-ae65-4b61bd07906e",
   "metadata": {},
   "outputs": [
    {
     "data": {
      "text/plain": [
       "1000.0"
      ]
     },
     "execution_count": 18,
     "metadata": {},
     "output_type": "execute_result"
    }
   ],
   "source": [
    "1e3   #1*1000"
   ]
  },
  {
   "cell_type": "code",
   "execution_count": 19,
   "id": "f1fb2eb9-5c27-457d-9a33-f32736f79b0a",
   "metadata": {},
   "outputs": [
    {
     "data": {
      "text/plain": [
       "20.0"
      ]
     },
     "execution_count": 19,
     "metadata": {},
     "output_type": "execute_result"
    }
   ],
   "source": [
    "2e1    #2*10"
   ]
  },
  {
   "cell_type": "code",
   "execution_count": 22,
   "id": "ef480dea-4ee5-40d8-803d-caf6efa524a7",
   "metadata": {},
   "outputs": [
    {
     "data": {
      "text/plain": [
       "200.0"
      ]
     },
     "execution_count": 22,
     "metadata": {},
     "output_type": "execute_result"
    }
   ],
   "source": [
    "2e2   #2*100"
   ]
  },
  {
   "cell_type": "code",
   "execution_count": 21,
   "id": "70c1108e-411b-4497-8a99-824fa7f91b74",
   "metadata": {},
   "outputs": [
    {
     "data": {
      "text/plain": [
       "2000.0"
      ]
     },
     "execution_count": 21,
     "metadata": {},
     "output_type": "execute_result"
    }
   ],
   "source": [
    "2e3    #2*1000"
   ]
  },
  {
   "cell_type": "code",
   "execution_count": 26,
   "id": "c28d7fcb-a751-48db-be6a-ba8f40bf053c",
   "metadata": {},
   "outputs": [
    {
     "name": "stdout",
     "output_type": "stream",
     "text": [
      "0.1\n",
      "0.02\n"
     ]
    }
   ],
   "source": [
    "print(1e-1)   #1/10\n",
    "print(2e-2)    #2/100"
   ]
  },
  {
   "cell_type": "markdown",
   "id": "0a188195-6dd0-4b46-801b-48238bfff9e8",
   "metadata": {},
   "source": [
    "# boolean data type"
   ]
  },
  {
   "cell_type": "code",
   "execution_count": 1,
   "id": "1e83dc7d-550b-4f8e-8e1d-a3ceb48c2800",
   "metadata": {},
   "outputs": [
    {
     "data": {
      "text/plain": [
       "True"
      ]
     },
     "execution_count": 1,
     "metadata": {},
     "output_type": "execute_result"
    }
   ],
   "source": [
    "val=True\n",
    "val"
   ]
  },
  {
   "cell_type": "code",
   "execution_count": 2,
   "id": "c395b7a5-40cd-41b3-ba8f-37b4194360f1",
   "metadata": {},
   "outputs": [
    {
     "data": {
      "text/plain": [
       "bool"
      ]
     },
     "execution_count": 2,
     "metadata": {},
     "output_type": "execute_result"
    }
   ],
   "source": [
    "type(val)"
   ]
  },
  {
   "cell_type": "markdown",
   "id": "aa9af201-32dc-43fb-92f0-5865229e68ee",
   "metadata": {},
   "source": [
    "# strings"
   ]
  },
  {
   "cell_type": "markdown",
   "id": "2a93ee13-7ba8-4bf8-8fa1-995a005b4d5b",
   "metadata": {},
   "source": [
    "- represented in the english format\n",
    "- string is represented in quotes \" \" , ' ' , \"\"\"  \"\"\" ,\n",
    "- string is in the red color"
   ]
  },
  {
   "cell_type": "code",
   "execution_count": 3,
   "id": "84fb93bd-ab60-416a-9616-63d2d2a663b9",
   "metadata": {},
   "outputs": [
    {
     "data": {
      "text/plain": [
       "'python'"
      ]
     },
     "execution_count": 3,
     "metadata": {},
     "output_type": "execute_result"
    }
   ],
   "source": [
    "name='python'\n",
    "name"
   ]
  },
  {
   "cell_type": "code",
   "execution_count": 4,
   "id": "425d4bda-f606-4f54-8859-cb3f0cfdc746",
   "metadata": {},
   "outputs": [
    {
     "data": {
      "text/plain": [
       "str"
      ]
     },
     "execution_count": 4,
     "metadata": {},
     "output_type": "execute_result"
    }
   ],
   "source": [
    "type(name)"
   ]
  },
  {
   "cell_type": "code",
   "execution_count": 6,
   "id": "048458a5-e0ad-40e5-8aff-2d26d26d3428",
   "metadata": {},
   "outputs": [
    {
     "name": "stdout",
     "output_type": "stream",
     "text": [
      "python\n"
     ]
    }
   ],
   "source": [
    "print(name)\n",
    "#when we print the string we not able to see the quotes"
   ]
  },
  {
   "cell_type": "code",
   "execution_count": 7,
   "id": "1f6199fc-14c6-46bc-9921-ada690279513",
   "metadata": {},
   "outputs": [
    {
     "data": {
      "text/plain": [
       "'17'"
      ]
     },
     "execution_count": 7,
     "metadata": {},
     "output_type": "execute_result"
    }
   ],
   "source": [
    "val='17'\n",
    "val"
   ]
  },
  {
   "cell_type": "code",
   "execution_count": 8,
   "id": "95ef2838-3cff-4449-a9c0-2b7bb03d2790",
   "metadata": {},
   "outputs": [
    {
     "data": {
      "text/plain": [
       "str"
      ]
     },
     "execution_count": 8,
     "metadata": {},
     "output_type": "execute_result"
    }
   ],
   "source": [
    "type(val)"
   ]
  },
  {
   "cell_type": "code",
   "execution_count": 9,
   "id": "f0a25677-cb78-43ae-981b-2434ddb397ce",
   "metadata": {},
   "outputs": [
    {
     "data": {
      "text/plain": [
       "int"
      ]
     },
     "execution_count": 9,
     "metadata": {},
     "output_type": "execute_result"
    }
   ],
   "source": [
    "val1=10\n",
    "type(val1)"
   ]
  },
  {
   "cell_type": "code",
   "execution_count": 10,
   "id": "9e43d991-fa99-4586-aec6-8a848ece2ec4",
   "metadata": {},
   "outputs": [
    {
     "data": {
      "text/plain": [
       "'likhith'"
      ]
     },
     "execution_count": 10,
     "metadata": {},
     "output_type": "execute_result"
    }
   ],
   "source": [
    "name=\"likhith\"\n",
    "name"
   ]
  },
  {
   "cell_type": "code",
   "execution_count": 11,
   "id": "f6d6433f-73d7-4ea5-aa2f-354e96aefa38",
   "metadata": {},
   "outputs": [
    {
     "data": {
      "text/plain": [
       "str"
      ]
     },
     "execution_count": 11,
     "metadata": {},
     "output_type": "execute_result"
    }
   ],
   "source": [
    "type(name)"
   ]
  },
  {
   "cell_type": "code",
   "execution_count": 12,
   "id": "a36574d6-18ac-4882-966e-6e6218545bfb",
   "metadata": {},
   "outputs": [
    {
     "name": "stdout",
     "output_type": "stream",
     "text": [
      "likhith\n"
     ]
    }
   ],
   "source": [
    "print(name)"
   ]
  },
  {
   "cell_type": "code",
   "execution_count": 18,
   "id": "8ae2a9a0-b20e-4f68-9197-bc3df2d8e61c",
   "metadata": {},
   "outputs": [
    {
     "name": "stdout",
     "output_type": "stream",
     "text": [
      "I love 'python'\n"
     ]
    }
   ],
   "source": [
    "str1=\"I love 'python'\"\n",
    "print(str1)"
   ]
  },
  {
   "cell_type": "markdown",
   "id": "e44013f7-ef17-4a0e-9ec2-ede2db540b75",
   "metadata": {},
   "source": [
    "**triple quotes**"
   ]
  },
  {
   "cell_type": "markdown",
   "id": "136c2361-f1b1-4f25-a679-c449b9e02b1e",
   "metadata": {},
   "source": [
    "- triple quotes cannot used in the coding part\n",
    "- triple quotes used to convey the info\n",
    "- this prpocess is called the **doc string**\n",
    "- in the jupyter notebook we have the markdown option to provide the doc string\n",
    "- but vscode or pycharm there ios no markdown option\n",
    "- so user will convey the info by using the triple quotes\n",
    "- triple quote is used for multiple lines"
   ]
  },
  {
   "cell_type": "code",
   "execution_count": null,
   "id": "c1cc69d9-4eef-4f5f-b055-e31030c292e7",
   "metadata": {},
   "outputs": [],
   "source": []
  }
 ],
 "metadata": {
  "kernelspec": {
   "display_name": "Python 3 (ipykernel)",
   "language": "python",
   "name": "python3"
  },
  "language_info": {
   "codemirror_mode": {
    "name": "ipython",
    "version": 3
   },
   "file_extension": ".py",
   "mimetype": "text/x-python",
   "name": "python",
   "nbconvert_exporter": "python",
   "pygments_lexer": "ipython3",
   "version": "3.12.7"
  }
 },
 "nbformat": 4,
 "nbformat_minor": 5
}
