{
 "cells": [
  {
   "cell_type": "markdown",
   "id": "752614ba-4b3f-4bf0-9951-5156e57ff2b6",
   "metadata": {},
   "source": [
    "- basic representations\n",
    "- inbuilt functions\n",
    "    - print\n",
    "    - type\n",
    "    - len\n",
    "    - sum\n",
    "    - max\n",
    "    - min\n",
    "    - sorted\n",
    "    - reversed\n",
    "- concatenation\n",
    "- indexing\n",
    "- mutable or immutable\n",
    "- slicing\n",
    "- methods"
   ]
  },
  {
   "cell_type": "markdown",
   "id": "ae893d50-930a-49f3-acd3-b39ad892a36b",
   "metadata": {},
   "source": [
    "**basic representation**"
   ]
  },
  {
   "cell_type": "code",
   "execution_count": 1,
   "id": "3e7e0136-e2b0-4e96-bb17-be954c99a82a",
   "metadata": {},
   "outputs": [
    {
     "data": {
      "text/plain": [
       "'python'"
      ]
     },
     "execution_count": 1,
     "metadata": {},
     "output_type": "execute_result"
    }
   ],
   "source": [
    "name=\"python\"\n",
    "name"
   ]
  },
  {
   "cell_type": "code",
   "execution_count": 2,
   "id": "1d9a1ef8-ba66-4a44-921f-bb4df150ef27",
   "metadata": {},
   "outputs": [
    {
     "name": "stdout",
     "output_type": "stream",
     "text": [
      "python\n"
     ]
    }
   ],
   "source": [
    "print(name)  #whwn we print we not able to see quotes"
   ]
  },
  {
   "cell_type": "markdown",
   "id": "75c12d15-8401-4421-a736-8c6429a830a7",
   "metadata": {},
   "source": [
    "- python by xdefault gives output in single quotes\n",
    "- when we print the string the output displays without quotes"
   ]
  },
  {
   "cell_type": "code",
   "execution_count": 6,
   "id": "a4c617e0-1e8c-4e1a-91c2-c5fdea4b809b",
   "metadata": {},
   "outputs": [
    {
     "name": "stdout",
     "output_type": "stream",
     "text": [
      "i love 'python'\n"
     ]
    }
   ],
   "source": [
    "str1=\"i love 'python'\"\n",
    "print(str1)"
   ]
  },
  {
   "cell_type": "code",
   "execution_count": 7,
   "id": "5a7013b5-f9c7-4327-8885-b40a65de4108",
   "metadata": {},
   "outputs": [
    {
     "name": "stdout",
     "output_type": "stream",
     "text": [
      "i love \"python\"\n"
     ]
    }
   ],
   "source": [
    "str1='i love \"python\"'\n",
    "print(str1)"
   ]
  },
  {
   "cell_type": "markdown",
   "id": "e6edcdbb-3ea0-485e-9660-013dc2c3e502",
   "metadata": {},
   "source": [
    "**doc string**\n",
    "- triple quotes also called as doc string\n",
    "- triple quotes means the user trying to convey some information"
   ]
  },
  {
   "cell_type": "markdown",
   "id": "e5d646bf-11e7-48de-8337-305d421da567",
   "metadata": {},
   "source": [
    "**type**"
   ]
  },
  {
   "cell_type": "code",
   "execution_count": 8,
   "id": "3fb6ac79-7a8f-4c6a-ae57-e16f6f6a5e03",
   "metadata": {},
   "outputs": [
    {
     "data": {
      "text/plain": [
       "str"
      ]
     },
     "execution_count": 8,
     "metadata": {},
     "output_type": "execute_result"
    }
   ],
   "source": [
    "str1=\"python\"\n",
    "type(str1)"
   ]
  },
  {
   "cell_type": "markdown",
   "id": "9380debc-8cf8-431b-831b-a8eee3d13f09",
   "metadata": {},
   "source": [
    "**len**"
   ]
  },
  {
   "cell_type": "code",
   "execution_count": 10,
   "id": "5b3a5bbb-8c2c-44b4-97ec-bc41669d34d6",
   "metadata": {},
   "outputs": [
    {
     "data": {
      "text/plain": [
       "6"
      ]
     },
     "execution_count": 10,
     "metadata": {},
     "output_type": "execute_result"
    }
   ],
   "source": [
    "str1=\"python\"\n",
    "len(str1)"
   ]
  },
  {
   "cell_type": "code",
   "execution_count": 15,
   "id": "4f1556cb-0ad1-4140-95eb-cb2a65751753",
   "metadata": {},
   "outputs": [
    {
     "data": {
      "text/plain": [
       "7"
      ]
     },
     "execution_count": 15,
     "metadata": {},
     "output_type": "execute_result"
    }
   ],
   "source": [
    "len(\"likhith\")"
   ]
  },
  {
   "cell_type": "markdown",
   "id": "501e0ab8-7ae2-4aff-81c3-92521d51cbfc",
   "metadata": {},
   "source": [
    "**max**"
   ]
  },
  {
   "cell_type": "code",
   "execution_count": 11,
   "id": "5841133c-c681-4cf5-9216-147d76f3c5f3",
   "metadata": {},
   "outputs": [
    {
     "data": {
      "text/plain": [
       "'y'"
      ]
     },
     "execution_count": 11,
     "metadata": {},
     "output_type": "execute_result"
    }
   ],
   "source": [
    "str1=\"python\"\n",
    "max(str1)"
   ]
  },
  {
   "cell_type": "code",
   "execution_count": 16,
   "id": "16214aec-9816-4856-b1ee-815c4070ea0a",
   "metadata": {},
   "outputs": [
    {
     "data": {
      "text/plain": [
       "'t'"
      ]
     },
     "execution_count": 16,
     "metadata": {},
     "output_type": "execute_result"
    }
   ],
   "source": [
    "max(\"likhith\")"
   ]
  },
  {
   "cell_type": "markdown",
   "id": "ca432e4e-0db8-4e30-9a41-3ec200f55b0a",
   "metadata": {},
   "source": [
    "**min**"
   ]
  },
  {
   "cell_type": "code",
   "execution_count": 12,
   "id": "9b9052b1-e9e1-4c03-909e-a6f753f34e35",
   "metadata": {},
   "outputs": [
    {
     "data": {
      "text/plain": [
       "'h'"
      ]
     },
     "execution_count": 12,
     "metadata": {},
     "output_type": "execute_result"
    }
   ],
   "source": [
    "str1=\"python\"\n",
    "min(str1)"
   ]
  },
  {
   "cell_type": "code",
   "execution_count": 17,
   "id": "848ed8fa-9da6-4826-ab79-5b1b0e398b1f",
   "metadata": {},
   "outputs": [
    {
     "data": {
      "text/plain": [
       "'h'"
      ]
     },
     "execution_count": 17,
     "metadata": {},
     "output_type": "execute_result"
    }
   ],
   "source": [
    "min(\"likhith\")"
   ]
  },
  {
   "cell_type": "markdown",
   "id": "5618593d-d1ca-4bc3-b4eb-1f14ca1e1636",
   "metadata": {},
   "source": [
    "**sum**"
   ]
  },
  {
   "cell_type": "markdown",
   "id": "c98423e1-ed9a-40a1-ae18-e17565e607f8",
   "metadata": {},
   "source": [
    "- sum will not work with string"
   ]
  },
  {
   "cell_type": "markdown",
   "id": "04035975-63a1-4ec5-9c75-47d4460751e8",
   "metadata": {},
   "source": [
    "**sorted**"
   ]
  },
  {
   "cell_type": "markdown",
   "id": "457369a7-d50a-47eb-9085-16978b4972e8",
   "metadata": {},
   "source": [
    "- sorted means either ascending or decending order\n",
    "- ascending order: small to big\n",
    "- descending order: big to small"
   ]
  },
  {
   "cell_type": "code",
   "execution_count": 13,
   "id": "38b3e21e-1485-4276-90ab-842697963243",
   "metadata": {},
   "outputs": [
    {
     "data": {
      "text/plain": [
       "['h', 'n', 'o', 'p', 't', 'y']"
      ]
     },
     "execution_count": 13,
     "metadata": {},
     "output_type": "execute_result"
    }
   ],
   "source": [
    "str1=\"python\"\n",
    "sorted(str1)"
   ]
  },
  {
   "cell_type": "markdown",
   "id": "6720cc7f-e946-4986-ad23-d61b4190bc38",
   "metadata": {},
   "source": [
    "**iterable**"
   ]
  },
  {
   "cell_type": "code",
   "execution_count": 21,
   "id": "2c9e03ce-9311-4a20-b416-6de472aa677b",
   "metadata": {},
   "outputs": [
    {
     "name": "stdout",
     "output_type": "stream",
     "text": [
      "30\n"
     ]
    }
   ],
   "source": [
    "def add(a,b):\n",
    "    print(a+b)\n",
    "\n",
    "add(10,20)"
   ]
  },
  {
   "cell_type": "code",
   "execution_count": 22,
   "id": "9bc7b3a7-0b04-4227-8e99-0bacf7604cf3",
   "metadata": {},
   "outputs": [
    {
     "name": "stdout",
     "output_type": "stream",
     "text": [
      "30\n"
     ]
    }
   ],
   "source": [
    "def add(a,b):\n",
    "    print(a+b)\n",
    "\n",
    "add(a=10,b=20)"
   ]
  },
  {
   "cell_type": "code",
   "execution_count": 23,
   "id": "1ef2df14-3744-442e-83ad-2db93f1525a7",
   "metadata": {},
   "outputs": [
    {
     "ename": "TypeError",
     "evalue": "add() got some positional-only arguments passed as keyword arguments: 'a'",
     "output_type": "error",
     "traceback": [
      "\u001b[1;31m---------------------------------------------------------------------------\u001b[0m",
      "\u001b[1;31mTypeError\u001b[0m                                 Traceback (most recent call last)",
      "Cell \u001b[1;32mIn[23], line 4\u001b[0m\n\u001b[0;32m      1\u001b[0m \u001b[38;5;28;01mdef\u001b[39;00m \u001b[38;5;21madd\u001b[39m(a,\u001b[38;5;241m/\u001b[39m,b):\n\u001b[0;32m      2\u001b[0m     \u001b[38;5;28mprint\u001b[39m(a\u001b[38;5;241m+\u001b[39mb)\n\u001b[1;32m----> 4\u001b[0m add(a\u001b[38;5;241m=\u001b[39m\u001b[38;5;241m10\u001b[39m,b\u001b[38;5;241m=\u001b[39m\u001b[38;5;241m20\u001b[39m)\n",
      "\u001b[1;31mTypeError\u001b[0m: add() got some positional-only arguments passed as keyword arguments: 'a'"
     ]
    }
   ],
   "source": [
    "def add(a,/,b):\n",
    "    print(a+b)\n",
    "\n",
    "add(a=10,b=20)"
   ]
  },
  {
   "cell_type": "code",
   "execution_count": 26,
   "id": "477aaa52-21e1-4396-8553-0f8a26976b35",
   "metadata": {},
   "outputs": [
    {
     "name": "stdout",
     "output_type": "stream",
     "text": [
      "30\n"
     ]
    }
   ],
   "source": [
    "def add(a,/,b):       \n",
    "    print(a+b)\n",
    "\n",
    "add(10,b=20)    #we shuld not again define the variable before slash "
   ]
  },
  {
   "cell_type": "code",
   "execution_count": 28,
   "id": "37fe4f35-4e55-4419-ac43-eb3e7bfd8434",
   "metadata": {},
   "outputs": [
    {
     "ename": "SyntaxError",
     "evalue": "positional argument follows keyword argument (4167779118.py, line 4)",
     "output_type": "error",
     "traceback": [
      "\u001b[1;36m  Cell \u001b[1;32mIn[28], line 4\u001b[1;36m\u001b[0m\n\u001b[1;33m    add(a=10,20)   #if we define the variable before the slash it leads to error\u001b[0m\n\u001b[1;37m               ^\u001b[0m\n\u001b[1;31mSyntaxError\u001b[0m\u001b[1;31m:\u001b[0m positional argument follows keyword argument\n"
     ]
    }
   ],
   "source": [
    "def add(a,/,b):\n",
    "    print(a+b)\n",
    "\n",
    "add(a=10,20)   #if we define the variable before the slash it leads to error"
   ]
  },
  {
   "cell_type": "code",
   "execution_count": 29,
   "id": "8a4bfcf2-9ffd-4c13-bdfd-11a03eb32c5d",
   "metadata": {},
   "outputs": [
    {
     "name": "stdout",
     "output_type": "stream",
     "text": [
      "30\n"
     ]
    }
   ],
   "source": [
    "def add(a,/,b):\n",
    "    print(a+b)\n",
    "\n",
    "add(10,20)   #if we use slash if we not defene the variable again it wont leads to any erro, it gives output"
   ]
  },
  {
   "cell_type": "markdown",
   "id": "81df73d4-a3d7-496f-87ad-b34b37a09316",
   "metadata": {},
   "source": [
    "**note:**\n",
    "- / before dont use arguments\n",
    "- / after you can use argument name, that is our wish\n",
    "- (*) indicates no need maintain the order of the arguments"
   ]
  },
  {
   "cell_type": "code",
   "execution_count": 33,
   "id": "74bc51c6-da2f-482e-a70b-1d9ff174da57",
   "metadata": {},
   "outputs": [
    {
     "ename": "TypeError",
     "evalue": "add() got multiple values for argument 'b'",
     "output_type": "error",
     "traceback": [
      "\u001b[1;31m---------------------------------------------------------------------------\u001b[0m",
      "\u001b[1;31mTypeError\u001b[0m                                 Traceback (most recent call last)",
      "Cell \u001b[1;32mIn[33], line 4\u001b[0m\n\u001b[0;32m      1\u001b[0m \u001b[38;5;28;01mdef\u001b[39;00m \u001b[38;5;21madd1\u001b[39m(a,\u001b[38;5;241m/\u001b[39m,\u001b[38;5;241m*\u001b[39m,b,c):\n\u001b[0;32m      2\u001b[0m         \u001b[38;5;28mprint\u001b[39m(a\u001b[38;5;241m+\u001b[39mb\u001b[38;5;241m+\u001b[39mc)\n\u001b[1;32m----> 4\u001b[0m add(\u001b[38;5;241m10\u001b[39m,\u001b[38;5;241m20\u001b[39m,b\u001b[38;5;241m=\u001b[39m\u001b[38;5;241m30\u001b[39m)\n",
      "\u001b[1;31mTypeError\u001b[0m: add() got multiple values for argument 'b'"
     ]
    }
   ],
   "source": [
    "def add1(a,/,*,b,c):\n",
    "        print(a+b+c)\n",
    "\n",
    "add(10,20,b=30)"
   ]
  },
  {
   "cell_type": "markdown",
   "id": "9572fc65-5226-4e57-bd43-ac9800165559",
   "metadata": {},
   "source": [
    "**note**\n",
    "- (*) indicates provide the argument name after star"
   ]
  },
  {
   "cell_type": "code",
   "execution_count": 34,
   "id": "9c3ab8b3-ac8e-4d39-9ed8-5d8c485e51aa",
   "metadata": {},
   "outputs": [
    {
     "data": {
      "text/plain": [
       "['y', 't', 'p', 'o', 'n', 'h']"
      ]
     },
     "execution_count": 34,
     "metadata": {},
     "output_type": "execute_result"
    }
   ],
   "source": [
    "sorted(\"python\",reverse=True)"
   ]
  },
  {
   "cell_type": "code",
   "execution_count": 35,
   "id": "a8edba3f-4b45-4a39-8fa4-d21243278a3d",
   "metadata": {},
   "outputs": [
    {
     "ename": "TypeError",
     "evalue": "sorted expected 1 argument, got 0",
     "output_type": "error",
     "traceback": [
      "\u001b[1;31m---------------------------------------------------------------------------\u001b[0m",
      "\u001b[1;31mTypeError\u001b[0m                                 Traceback (most recent call last)",
      "Cell \u001b[1;32mIn[35], line 1\u001b[0m\n\u001b[1;32m----> 1\u001b[0m \u001b[38;5;28msorted\u001b[39m(iterable\u001b[38;5;241m=\u001b[39m\u001b[38;5;124m\"\u001b[39m\u001b[38;5;124mpython\u001b[39m\u001b[38;5;124m\"\u001b[39m)\n",
      "\u001b[1;31mTypeError\u001b[0m: sorted expected 1 argument, got 0"
     ]
    }
   ],
   "source": [
    "sorted(iterable=\"python\")"
   ]
  },
  {
   "cell_type": "code",
   "execution_count": 37,
   "id": "60cf30a3-8e8d-40ba-89b2-fe4b1a823cbb",
   "metadata": {},
   "outputs": [
    {
     "data": {
      "text/plain": [
       "['y', 't', 'p', 'o', 'n', 'h']"
      ]
     },
     "execution_count": 37,
     "metadata": {},
     "output_type": "execute_result"
    }
   ],
   "source": [
    "sorted(\"python\", reverse=True)"
   ]
  },
  {
   "cell_type": "code",
   "execution_count": 38,
   "id": "ab8be539-6ee8-4c4c-8136-f2e5156b13e8",
   "metadata": {},
   "outputs": [
    {
     "ename": "TypeError",
     "evalue": "sorted expected 1 argument, got 0",
     "output_type": "error",
     "traceback": [
      "\u001b[1;31m---------------------------------------------------------------------------\u001b[0m",
      "\u001b[1;31mTypeError\u001b[0m                                 Traceback (most recent call last)",
      "Cell \u001b[1;32mIn[38], line 1\u001b[0m\n\u001b[1;32m----> 1\u001b[0m \u001b[38;5;28msorted\u001b[39m(iterable\u001b[38;5;241m=\u001b[39m\u001b[38;5;124m\"\u001b[39m\u001b[38;5;124mpython\u001b[39m\u001b[38;5;124m\"\u001b[39m,reverse\u001b[38;5;241m=\u001b[39m\u001b[38;5;28;01mTrue\u001b[39;00m)\n",
      "\u001b[1;31mTypeError\u001b[0m: sorted expected 1 argument, got 0"
     ]
    }
   ],
   "source": [
    "sorted(iterable=\"python\",reverse=True)"
   ]
  },
  {
   "cell_type": "code",
   "execution_count": 39,
   "id": "960e29d0-17e8-4a36-a804-2a0ad3073ede",
   "metadata": {},
   "outputs": [
    {
     "ename": "TypeError",
     "evalue": "sorted expected 1 argument, got 2",
     "output_type": "error",
     "traceback": [
      "\u001b[1;31m---------------------------------------------------------------------------\u001b[0m",
      "\u001b[1;31mTypeError\u001b[0m                                 Traceback (most recent call last)",
      "Cell \u001b[1;32mIn[39], line 1\u001b[0m\n\u001b[1;32m----> 1\u001b[0m \u001b[38;5;28msorted\u001b[39m(\u001b[38;5;124m\"\u001b[39m\u001b[38;5;124mpython\u001b[39m\u001b[38;5;124m\"\u001b[39m,\u001b[38;5;28;01mTrue\u001b[39;00m)\n",
      "\u001b[1;31mTypeError\u001b[0m: sorted expected 1 argument, got 2"
     ]
    }
   ],
   "source": [
    "sorted(\"python\",True)"
   ]
  },
  {
   "cell_type": "markdown",
   "id": "cc422fd3-84cf-4cc0-b703-c09ab011f8fa",
   "metadata": {},
   "source": [
    "**reversed**"
   ]
  },
  {
   "cell_type": "code",
   "execution_count": 43,
   "id": "c1d04f45-e292-4a28-b18f-d11a5409c115",
   "metadata": {},
   "outputs": [
    {
     "data": {
      "text/plain": [
       "<reversed at 0x19f2cade680>"
      ]
     },
     "execution_count": 43,
     "metadata": {},
     "output_type": "execute_result"
    }
   ],
   "source": [
    "str1=\"python\"\n",
    "ans=reversed(str1)\n",
    "ans   #here ans is saved at address memory location, then we can see the output by using the for loop or list"
   ]
  },
  {
   "cell_type": "code",
   "execution_count": 42,
   "id": "e82a5c0a-f222-4c6a-b652-21e2568b53ac",
   "metadata": {},
   "outputs": [
    {
     "name": "stdout",
     "output_type": "stream",
     "text": [
      "n  o  h  t  y  p  "
     ]
    }
   ],
   "source": [
    "for i in ans:\n",
    "    print(i,end=\"  \")"
   ]
  },
  {
   "cell_type": "markdown",
   "id": "646ed4c2-68f6-4438-873c-a52349b6a46c",
   "metadata": {},
   "source": [
    "- ans is saved at address memory location\n",
    "- then we can see the output by using the for loop or list\n",
    "- whenever we see <> symbol answer then apply for loop or list"
   ]
  },
  {
   "cell_type": "code",
   "execution_count": 44,
   "id": "4d37e439-3447-4731-aaf6-6682bacee0f5",
   "metadata": {},
   "outputs": [
    {
     "data": {
      "text/plain": [
       "['n', 'o', 'h', 't', 'y', 'p']"
      ]
     },
     "execution_count": 44,
     "metadata": {},
     "output_type": "execute_result"
    }
   ],
   "source": [
    "ans=reversed(\"python\")\n",
    "list(ans)"
   ]
  },
  {
   "cell_type": "markdown",
   "id": "ab96a833-c226-4abd-89aa-48c4a2e9171c",
   "metadata": {},
   "source": [
    "# concatenation"
   ]
  },
  {
   "cell_type": "code",
   "execution_count": 48,
   "id": "a4b821a7-ed9a-430c-8470-1221b33861f9",
   "metadata": {},
   "outputs": [
    {
     "data": {
      "text/plain": [
       "'likhithreddy'"
      ]
     },
     "execution_count": 48,
     "metadata": {},
     "output_type": "execute_result"
    }
   ],
   "source": [
    "str1=\"likhith\"\n",
    "str2=\"reddy\"\n",
    "str1+str2"
   ]
  },
  {
   "cell_type": "code",
   "execution_count": 49,
   "id": "aa1e8d7e-a597-4a0a-b84a-8f780d0624ae",
   "metadata": {},
   "outputs": [
    {
     "ename": "TypeError",
     "evalue": "unsupported operand type(s) for -: 'str' and 'str'",
     "output_type": "error",
     "traceback": [
      "\u001b[1;31m---------------------------------------------------------------------------\u001b[0m",
      "\u001b[1;31mTypeError\u001b[0m                                 Traceback (most recent call last)",
      "Cell \u001b[1;32mIn[49], line 1\u001b[0m\n\u001b[1;32m----> 1\u001b[0m str1\u001b[38;5;241m-\u001b[39mstr2\n",
      "\u001b[1;31mTypeError\u001b[0m: unsupported operand type(s) for -: 'str' and 'str'"
     ]
    }
   ],
   "source": [
    "str1-str2"
   ]
  },
  {
   "cell_type": "code",
   "execution_count": 50,
   "id": "065745b1-4b9f-4382-9b1f-bcd3c6ac23a5",
   "metadata": {},
   "outputs": [
    {
     "ename": "TypeError",
     "evalue": "can't multiply sequence by non-int of type 'str'",
     "output_type": "error",
     "traceback": [
      "\u001b[1;31m---------------------------------------------------------------------------\u001b[0m",
      "\u001b[1;31mTypeError\u001b[0m                                 Traceback (most recent call last)",
      "Cell \u001b[1;32mIn[50], line 1\u001b[0m\n\u001b[1;32m----> 1\u001b[0m str1\u001b[38;5;241m*\u001b[39mstr2\n",
      "\u001b[1;31mTypeError\u001b[0m: can't multiply sequence by non-int of type 'str'"
     ]
    }
   ],
   "source": [
    "str1*str2"
   ]
  },
  {
   "cell_type": "code",
   "execution_count": 53,
   "id": "e82baca2-acd2-4ed3-a9d3-50f72dd3e5d9",
   "metadata": {},
   "outputs": [
    {
     "data": {
      "text/plain": [
       "'pythonpythonpython'"
      ]
     },
     "execution_count": 53,
     "metadata": {},
     "output_type": "execute_result"
    }
   ],
   "source": [
    "\"python\"*3 # we cannot multiply string with string, but we can multiple string with int"
   ]
  },
  {
   "cell_type": "code",
   "execution_count": 51,
   "id": "81d5ccec-4d60-41ad-8d03-7f53d35e67c5",
   "metadata": {},
   "outputs": [
    {
     "ename": "TypeError",
     "evalue": "unsupported operand type(s) for /: 'str' and 'str'",
     "output_type": "error",
     "traceback": [
      "\u001b[1;31m---------------------------------------------------------------------------\u001b[0m",
      "\u001b[1;31mTypeError\u001b[0m                                 Traceback (most recent call last)",
      "Cell \u001b[1;32mIn[51], line 1\u001b[0m\n\u001b[1;32m----> 1\u001b[0m str1\u001b[38;5;241m/\u001b[39mstr2\n",
      "\u001b[1;31mTypeError\u001b[0m: unsupported operand type(s) for /: 'str' and 'str'"
     ]
    }
   ],
   "source": [
    "str1/str2"
   ]
  },
  {
   "cell_type": "code",
   "execution_count": 60,
   "id": "ef6f72c3-f89e-4e0f-9a76-f4ff806a8a8c",
   "metadata": {},
   "outputs": [
    {
     "data": {
      "text/plain": [
       "'likhithreddy'"
      ]
     },
     "execution_count": 60,
     "metadata": {},
     "output_type": "execute_result"
    }
   ],
   "source": [
    "str1=\"likhith\"\n",
    "str2=\"reddy\"\n",
    "str1+str2   # here it has no space between the strings"
   ]
  },
  {
   "cell_type": "code",
   "execution_count": 61,
   "id": "ceecc599-3d24-4048-9dc1-fe56c929c031",
   "metadata": {},
   "outputs": [
    {
     "data": {
      "text/plain": [
       "'likhith reddy'"
      ]
     },
     "execution_count": 61,
     "metadata": {},
     "output_type": "execute_result"
    }
   ],
   "source": [
    "str1=\"likhith\"\n",
    "str2=\" reddy\"\n",
    "str1+str2 #here we provided space before the str2 so in output we got space between the strings"
   ]
  },
  {
   "cell_type": "code",
   "execution_count": 62,
   "id": "c05275a7-1ad3-452b-bfab-5e932293e8c1",
   "metadata": {},
   "outputs": [
    {
     "data": {
      "text/plain": [
       "'likhith reddy'"
      ]
     },
     "execution_count": 62,
     "metadata": {},
     "output_type": "execute_result"
    }
   ],
   "source": [
    "str1=\"likhith \"\n",
    "str2=\"reddy\"\n",
    "str1+str2   #here we provided space after the str1 so in output we got space between the strings  "
   ]
  },
  {
   "cell_type": "code",
   "execution_count": 63,
   "id": "336dfb6e-3350-44ff-bc5a-fc5ba5eb73e1",
   "metadata": {},
   "outputs": [
    {
     "data": {
      "text/plain": [
       "'likhith reddy'"
      ]
     },
     "execution_count": 63,
     "metadata": {},
     "output_type": "execute_result"
    }
   ],
   "source": [
    "str1=\"likhith\"\n",
    "str2=\"reddy\"\n",
    "str1+' '+str2   # here we provided extra space in between the concatenation operation so we got space between the strings"
   ]
  },
  {
   "cell_type": "markdown",
   "id": "8dca54f8-d9ca-4ee7-929c-7a53b638fa5c",
   "metadata": {},
   "source": [
    "**indexing**"
   ]
  },
  {
   "cell_type": "code",
   "execution_count": null,
   "id": "6c15038b-7dad-4aa0-a913-c0631a18512a",
   "metadata": {},
   "outputs": [],
   "source": [
    "-6 -5 -4 -3 -2 -1\n",
    "p   y  t  h  o  n\n",
    "0   1  2  3  4  5"
   ]
  },
  {
   "cell_type": "markdown",
   "id": "fcf8b297-7356-4d93-b2ee-a4c4bf29e54b",
   "metadata": {},
   "source": [
    "- to access the characters or elements use square brackets"
   ]
  },
  {
   "cell_type": "code",
   "execution_count": 1,
   "id": "407a8845-bcf2-4acb-9744-39f4028af0f2",
   "metadata": {},
   "outputs": [
    {
     "data": {
      "text/plain": [
       "'p'"
      ]
     },
     "execution_count": 1,
     "metadata": {},
     "output_type": "execute_result"
    }
   ],
   "source": [
    "str1=\"python\"\n",
    "str1[0]"
   ]
  },
  {
   "cell_type": "code",
   "execution_count": 2,
   "id": "69029184-b8cd-4a3d-8408-86079725d9ca",
   "metadata": {},
   "outputs": [
    {
     "data": {
      "text/plain": [
       "'y'"
      ]
     },
     "execution_count": 2,
     "metadata": {},
     "output_type": "execute_result"
    }
   ],
   "source": [
    "str1[1]"
   ]
  },
  {
   "cell_type": "code",
   "execution_count": 4,
   "id": "d634664a-4763-41fb-94cf-018bbde5466d",
   "metadata": {},
   "outputs": [
    {
     "data": {
      "text/plain": [
       "'t'"
      ]
     },
     "execution_count": 4,
     "metadata": {},
     "output_type": "execute_result"
    }
   ],
   "source": [
    "str1[2]"
   ]
  },
  {
   "cell_type": "code",
   "execution_count": 5,
   "id": "ffa093fd-cab5-43d4-b540-5b52b5a65ee4",
   "metadata": {},
   "outputs": [
    {
     "data": {
      "text/plain": [
       "'h'"
      ]
     },
     "execution_count": 5,
     "metadata": {},
     "output_type": "execute_result"
    }
   ],
   "source": [
    "str1[3]"
   ]
  },
  {
   "cell_type": "code",
   "execution_count": 6,
   "id": "2806cf4d-a2d7-4fcc-a748-0cfdab8a45df",
   "metadata": {},
   "outputs": [
    {
     "data": {
      "text/plain": [
       "'o'"
      ]
     },
     "execution_count": 6,
     "metadata": {},
     "output_type": "execute_result"
    }
   ],
   "source": [
    "str1[4]"
   ]
  },
  {
   "cell_type": "code",
   "execution_count": 7,
   "id": "711ab981-4c89-4ccc-994a-d92847899d93",
   "metadata": {},
   "outputs": [
    {
     "data": {
      "text/plain": [
       "'n'"
      ]
     },
     "execution_count": 7,
     "metadata": {},
     "output_type": "execute_result"
    }
   ],
   "source": [
    "str1[5]"
   ]
  },
  {
   "cell_type": "code",
   "execution_count": 8,
   "id": "009fa55b-3b0e-401a-aba8-2cfd6d20b492",
   "metadata": {},
   "outputs": [
    {
     "data": {
      "text/plain": [
       "'n'"
      ]
     },
     "execution_count": 8,
     "metadata": {},
     "output_type": "execute_result"
    }
   ],
   "source": [
    "str1[-1]"
   ]
  },
  {
   "cell_type": "code",
   "execution_count": 9,
   "id": "f0c2704b-d575-4e69-9fe8-4137c3aeb376",
   "metadata": {},
   "outputs": [
    {
     "data": {
      "text/plain": [
       "'o'"
      ]
     },
     "execution_count": 9,
     "metadata": {},
     "output_type": "execute_result"
    }
   ],
   "source": [
    "str1[-2]"
   ]
  },
  {
   "cell_type": "code",
   "execution_count": 10,
   "id": "a405ba82-48ea-4569-ba47-d29493c6662d",
   "metadata": {},
   "outputs": [
    {
     "data": {
      "text/plain": [
       "'h'"
      ]
     },
     "execution_count": 10,
     "metadata": {},
     "output_type": "execute_result"
    }
   ],
   "source": [
    "str1[-3]"
   ]
  },
  {
   "cell_type": "code",
   "execution_count": 11,
   "id": "243a7640-1300-4547-b03b-cf71419adff6",
   "metadata": {},
   "outputs": [
    {
     "data": {
      "text/plain": [
       "'t'"
      ]
     },
     "execution_count": 11,
     "metadata": {},
     "output_type": "execute_result"
    }
   ],
   "source": [
    "str1[-4]"
   ]
  },
  {
   "cell_type": "code",
   "execution_count": 12,
   "id": "7bc7e74f-4ce9-4274-ac67-1b57d766b406",
   "metadata": {},
   "outputs": [
    {
     "data": {
      "text/plain": [
       "'y'"
      ]
     },
     "execution_count": 12,
     "metadata": {},
     "output_type": "execute_result"
    }
   ],
   "source": [
    "str1[-5]"
   ]
  },
  {
   "cell_type": "code",
   "execution_count": 13,
   "id": "a20e69fe-8b0f-4a31-8c65-a20e14d2afe0",
   "metadata": {},
   "outputs": [
    {
     "data": {
      "text/plain": [
       "'p'"
      ]
     },
     "execution_count": 13,
     "metadata": {},
     "output_type": "execute_result"
    }
   ],
   "source": [
    "str1[-6]"
   ]
  },
  {
   "cell_type": "markdown",
   "id": "aec9289a-8be6-44ea-8095-6067a07f00fd",
   "metadata": {},
   "source": [
    "- here positive indexing starts from 0 and negative indexing starts fron -1"
   ]
  },
  {
   "cell_type": "code",
   "execution_count": 29,
   "id": "f5aed4a7-3558-4811-afc0-90116f3975f2",
   "metadata": {},
   "outputs": [
    {
     "name": "stdin",
     "output_type": "stream",
     "text": [
      "enter the string: likhith\n"
     ]
    },
    {
     "name": "stdout",
     "output_type": "stream",
     "text": [
      "l\n",
      "i\n",
      "k\n",
      "h\n",
      "i\n",
      "t\n",
      "h\n"
     ]
    }
   ],
   "source": [
    "str1=input(\"enter the string:\")\n",
    "n=len(str1)\n",
    "for i in range(0,n):\n",
    "    print(str1[i])"
   ]
  },
  {
   "cell_type": "code",
   "execution_count": 20,
   "id": "40243265-a61a-4709-9ed6-13639ab38438",
   "metadata": {},
   "outputs": [
    {
     "name": "stdout",
     "output_type": "stream",
     "text": [
      "the posivive index of p is 0\n",
      "the posivive index of y is 1\n",
      "the posivive index of t is 2\n",
      "the posivive index of h is 3\n",
      "the posivive index of o is 4\n",
      "the posivive index of n is 5\n"
     ]
    }
   ],
   "source": [
    "str1=\"python\"\n",
    "for i in range(0,6):\n",
    "    print(f\"the posivive index of {str1[i]} is {i}\")"
   ]
  },
  {
   "cell_type": "code",
   "execution_count": 21,
   "id": "e6a4b28c-1fe1-4fce-bccc-40263f1ebee2",
   "metadata": {},
   "outputs": [
    {
     "name": "stdout",
     "output_type": "stream",
     "text": [
      "the negative index of p is -6\n",
      "the negative index of y is -5\n",
      "the negative index of t is -4\n",
      "the negative index of h is -3\n",
      "the negative index of o is -2\n",
      "the negative index of n is -1\n"
     ]
    }
   ],
   "source": [
    "str1=\"python\"\n",
    "for i in range(-6,0):\n",
    "    print(f\"the negative index of {str1[i]} is {i}\")"
   ]
  },
  {
   "cell_type": "code",
   "execution_count": 33,
   "id": "6cf42b99-f1cf-43f4-8cc8-f21c591887cb",
   "metadata": {},
   "outputs": [
    {
     "name": "stdin",
     "output_type": "stream",
     "text": [
      "enter the string: python\n"
     ]
    },
    {
     "name": "stdout",
     "output_type": "stream",
     "text": [
      "the posivive index is 0 and negative index is -6 for p\n",
      "the posivive index is 1 and negative index is -5 for y\n",
      "the posivive index is 2 and negative index is -4 for t\n",
      "the posivive index is 3 and negative index is -3 for h\n",
      "the posivive index is 4 and negative index is -2 for o\n",
      "the posivive index is 5 and negative index is -1 for n\n"
     ]
    }
   ],
   "source": [
    "str1=input(\"enter the string:\")\n",
    "n=len(str1)\n",
    "for i in range(0,n):\n",
    "    print(f\"the posivive index is {i} and negative index is {i-n} for {str1[i]}\")"
   ]
  },
  {
   "cell_type": "markdown",
   "id": "f8146145-57c1-4570-9d8c-78f4627123c8",
   "metadata": {},
   "source": [
    "**when to use in operator- when to use range operator**\n",
    "- in operator directly access the elements\n",
    "- range operator access the elements using index or numbers\n",
    "- any problem statement if you need numbers then go for range\n",
    "- otherwise go for in operator directly"
   ]
  },
  {
   "cell_type": "code",
   "execution_count": 34,
   "id": "8e3f27ee-cb82-4b33-91be-32af0991c789",
   "metadata": {},
   "outputs": [
    {
     "name": "stdout",
     "output_type": "stream",
     "text": [
      "p\n",
      "y\n",
      "t\n",
      "h\n",
      "o\n",
      "n\n"
     ]
    }
   ],
   "source": [
    "for i in \"python\":\n",
    "    print(i)"
   ]
  },
  {
   "cell_type": "code",
   "execution_count": 35,
   "id": "a50aeb73-8693-48ed-a11c-20423cfd05fb",
   "metadata": {},
   "outputs": [
    {
     "name": "stdout",
     "output_type": "stream",
     "text": [
      "p\n",
      "y\n",
      "t\n",
      "h\n",
      "o\n",
      "n\n"
     ]
    }
   ],
   "source": [
    "str1=\"python\"\n",
    "for i in range(0,6):\n",
    "    print(str1[i])"
   ]
  },
  {
   "cell_type": "code",
   "execution_count": 40,
   "id": "c18251c8-8f41-4dd3-8299-a11b9ca6517c",
   "metadata": {},
   "outputs": [
    {
     "name": "stdout",
     "output_type": "stream",
     "text": [
      "p\n",
      "y\n",
      "t\n",
      "h\n",
      "o\n",
      "n\n"
     ]
    }
   ],
   "source": [
    "str1=\"python\"\n",
    "for i in range(0,6):\n",
    "    print(str1[i])"
   ]
  },
  {
   "cell_type": "code",
   "execution_count": 46,
   "id": "17abb462-9b6c-4f94-9376-4ad949f0cb13",
   "metadata": {},
   "outputs": [
    {
     "name": "stdout",
     "output_type": "stream",
     "text": [
      "the index of 'a' in given string is 2\n",
      "the index of 'a' in given string is 6\n",
      "the index of 'a' in given string is 10\n"
     ]
    }
   ],
   "source": [
    "str11=\"ola ola ola\"\n",
    "n=len(str11)\n",
    "for i in range(0,n):\n",
    "    if str11[i]==\"a\":\n",
    "        print(f\"the index of 'a' in given string is {i}\")"
   ]
  },
  {
   "cell_type": "code",
   "execution_count": 51,
   "id": "19e04e5d-caf1-4cc6-8f9b-c376c174c5c2",
   "metadata": {},
   "outputs": [
    {
     "name": "stdout",
     "output_type": "stream",
     "text": [
      "the index of 'a' in given string is 2\n",
      "the index of 'a' in given string is 6\n",
      "the index of 'a' in given string is 10\n",
      "summ of indexes is 18\n"
     ]
    }
   ],
   "source": [
    "str11=\"ola ola ola\"\n",
    "n=len(str11)\n",
    "summ=0\n",
    "for i in range(0,n):\n",
    "    if str11[i]==\"a\":\n",
    "        print(f\"the index of 'a' in given string is {i}\")\n",
    "        summ=summ+i\n",
    "print(f\"summ of indexes is {summ}\")"
   ]
  },
  {
   "cell_type": "code",
   "execution_count": 53,
   "id": "a9e6564a-b5e4-4316-806b-5c0ecfd5270f",
   "metadata": {},
   "outputs": [
    {
     "name": "stdout",
     "output_type": "stream",
     "text": [
      "the index of 'a' in given string is 2\n",
      "the index of 'a' in given string is 6\n",
      "the index of 'a' in given string is 10\n",
      "count of index 'a' in given string is 3\n"
     ]
    }
   ],
   "source": [
    "str11=\"ola ola ola\"\n",
    "n=len(str11)\n",
    "count=0\n",
    "for i in range(0,n):\n",
    "    if str11[i]==\"a\":\n",
    "        print(f\"the index of 'a' in given string is {i}\")\n",
    "        count=count+1\n",
    "print(f\"count of index 'a' in given string is {count}\")"
   ]
  },
  {
   "cell_type": "code",
   "execution_count": 76,
   "id": "c1a322e2-d9a9-47b8-bd75-64b90ab929fe",
   "metadata": {},
   "outputs": [
    {
     "name": "stdout",
     "output_type": "stream",
     "text": [
      "a 1\n",
      "i 2\n",
      "o 5\n",
      "a 8\n",
      "e 10\n",
      "o 13\n",
      "u 14\n",
      "15\n"
     ]
    }
   ],
   "source": [
    "str22=\"hai how are you\"\n",
    "n=len(str22)\n",
    "count=0\n",
    "for i in range(0,n):\n",
    "    if str22[i] in \"aeiou\":\n",
    "        print(str22[i],i)\n",
    "    count=count+1\n",
    "\n",
    "print(count)"
   ]
  },
  {
   "cell_type": "code",
   "execution_count": 95,
   "id": "2ea35cd5-108f-4139-914a-b507d2314d89",
   "metadata": {},
   "outputs": [
    {
     "name": "stdout",
     "output_type": "stream",
     "text": [
      "a\n",
      "i\n",
      "o\n",
      "e\n",
      "u\n",
      "aioeu\n"
     ]
    }
   ],
   "source": [
    "str21=\"hai how are you\"\n",
    "str23=\"\"\n",
    "for i in str21:\n",
    "    if i in \"aeiou\" and i not in str23:\n",
    "        print(i)\n",
    "        str23=str23+i\n",
    "print(str23)"
   ]
  },
  {
   "cell_type": "markdown",
   "id": "c915db59-610c-46d9-a0f9-7f5737434c64",
   "metadata": {},
   "source": [
    "**mutable-immutable**\n",
    "- mutable means change\n",
    "- immutable means cannot change\n",
    "- we cannot change the elements using index operations\n",
    "- strings are immutable"
   ]
  },
  {
   "cell_type": "markdown",
   "id": "3de258ea-5b37-43d9-902d-c898b78ca060",
   "metadata": {},
   "source": [
    "**slice**\n",
    "- slice means cut into pieces\n",
    "- it has same analogy with for loop range\n",
    "- in the for loop range we have start,stop,step\n",
    "- range(start,stop,step) str[start:stop:step]"
   ]
  },
  {
   "cell_type": "code",
   "execution_count": null,
   "id": "b7e87743-c4ee-4f0f-b4f5-cf25dd01079b",
   "metadata": {},
   "outputs": [],
   "source": [
    "-17 -16 -15 -14 -13 -12 -11 -10 -9 -8 -7 -6 -5 -4 -3 -2 -1\n",
    "h    e   l   l    o      h   o   w     a  r  e     y  o  u\n",
    "0    1   2   3    4  5   6   7   8  9  10 11 12 13 14 15 16"
   ]
  },
  {
   "cell_type": "markdown",
   "id": "2e73e970-4783-4a24-a021-c91f5cd5ec82",
   "metadata": {},
   "source": [
    "# case-1\n",
    "**str[:stop]**\n",
    "- by default start=0\n",
    "- by default step=positive direction 1\n",
    "- stop=stop-1"
   ]
  },
  {
   "cell_type": "code",
   "execution_count": 2,
   "id": "a53b1d36-4c50-452c-b1ce-ee878cb50394",
   "metadata": {},
   "outputs": [
    {
     "data": {
      "text/plain": [
       "'hello '"
      ]
     },
     "execution_count": 2,
     "metadata": {},
     "output_type": "execute_result"
    }
   ],
   "source": [
    "str1=\"hello how are you\"\n",
    "str1[:6]   #strt=0, stop=6-1=5, step=1"
   ]
  },
  {
   "cell_type": "markdown",
   "id": "d3d76bf1-75d6-4266-8f3c-30fbe2d00ccc",
   "metadata": {},
   "source": [
    "# case-2\n",
    "**str[start:]**\n",
    "\n",
    "- by default start=0\n",
    "- by default step=positive direction 1\n",
    "- stop=last index"
   ]
  },
  {
   "cell_type": "code",
   "execution_count": 3,
   "id": "7307887e-35cd-4074-a7cb-40a2db95fbd4",
   "metadata": {},
   "outputs": [
    {
     "data": {
      "text/plain": [
       "'hello how are you'"
      ]
     },
     "execution_count": 3,
     "metadata": {},
     "output_type": "execute_result"
    }
   ],
   "source": [
    "str1[0:]"
   ]
  },
  {
   "cell_type": "code",
   "execution_count": 5,
   "id": "b97ad15c-8677-40c8-a6df-281c6bcaed9c",
   "metadata": {},
   "outputs": [
    {
     "data": {
      "text/plain": [
       "' how are you'"
      ]
     },
     "execution_count": 5,
     "metadata": {},
     "output_type": "execute_result"
    }
   ],
   "source": [
    "str1[5:]"
   ]
  },
  {
   "cell_type": "code",
   "execution_count": 7,
   "id": "bb9b92d7-be7b-420e-80bd-de1e5d5ccdc5",
   "metadata": {},
   "outputs": [
    {
     "data": {
      "text/plain": [
       "'you'"
      ]
     },
     "execution_count": 7,
     "metadata": {},
     "output_type": "execute_result"
    }
   ],
   "source": [
    "str1[-3:]"
   ]
  },
  {
   "cell_type": "markdown",
   "id": "0c6e14a3-5401-49aa-8d58-8a5795189432",
   "metadata": {},
   "source": [
    "# case-3\n",
    "**str[start:stop]**\n",
    "- by default start=start\n",
    "- by default step=positive direction\n",
    "- stop=stop-1"
   ]
  },
  {
   "cell_type": "code",
   "execution_count": 8,
   "id": "ee928ca4-9e69-4379-b460-50427fb8f3bf",
   "metadata": {},
   "outputs": [
    {
     "data": {
      "text/plain": [
       "'are y'"
      ]
     },
     "execution_count": 8,
     "metadata": {},
     "output_type": "execute_result"
    }
   ],
   "source": [
    "str1[10:15]"
   ]
  },
  {
   "cell_type": "code",
   "execution_count": 9,
   "id": "bbdde43d-657c-440e-8f64-8e972c40176e",
   "metadata": {},
   "outputs": [
    {
     "data": {
      "text/plain": [
       "'hello how are you'"
      ]
     },
     "execution_count": 9,
     "metadata": {},
     "output_type": "execute_result"
    }
   ],
   "source": [
    "str1[0:17]"
   ]
  },
  {
   "cell_type": "code",
   "execution_count": 14,
   "id": "bfab9407-67bd-4876-a626-2a60ac88984f",
   "metadata": {},
   "outputs": [
    {
     "data": {
      "text/plain": [
       "'llo how '"
      ]
     },
     "execution_count": 14,
     "metadata": {},
     "output_type": "execute_result"
    }
   ],
   "source": [
    "str1[-15:10]"
   ]
  },
  {
   "cell_type": "markdown",
   "id": "61d5b78a-7214-4461-ae7b-65801c277b70",
   "metadata": {},
   "source": [
    "# case-4\n",
    "**str[start:stop:step]**\n",
    "- by default start= start value\n",
    "- if step is positive\n",
    "    - step=step+1\n",
    "- if step is negative\n",
    "     - stop=stop+1"
   ]
  },
  {
   "cell_type": "code",
   "execution_count": 15,
   "id": "ccbb5520-b5ff-45e9-8b1c-b1f5cf2fa6bd",
   "metadata": {},
   "outputs": [
    {
     "data": {
      "text/plain": [
       "'o r o'"
      ]
     },
     "execution_count": 15,
     "metadata": {},
     "output_type": "execute_result"
    }
   ],
   "source": [
    "str1[-2:5:-2]"
   ]
  },
  {
   "cell_type": "code",
   "execution_count": 16,
   "id": "8d70bb3c-128d-4c0a-85b1-46efd9f31bf0",
   "metadata": {},
   "outputs": [
    {
     "data": {
      "text/plain": [
       "'uoy era woh olleh'"
      ]
     },
     "execution_count": 16,
     "metadata": {},
     "output_type": "execute_result"
    }
   ],
   "source": [
    "str1[::-1]"
   ]
  },
  {
   "cell_type": "code",
   "execution_count": 23,
   "id": "ba6d1d1d-d76a-4a37-95fe-b8fd18c29b5c",
   "metadata": {},
   "outputs": [
    {
     "data": {
      "text/plain": [
       "'uoy era woh olleh'"
      ]
     },
     "execution_count": 23,
     "metadata": {},
     "output_type": "execute_result"
    }
   ],
   "source": [
    "str1[16::-1]"
   ]
  },
  {
   "cell_type": "markdown",
   "id": "ac98500c-cc2f-49af-8424-d620cf3f03a9",
   "metadata": {},
   "source": [
    "# Methods"
   ]
  },
  {
   "cell_type": "code",
   "execution_count": 26,
   "id": "13622ae9-d721-4fae-8b5b-7b53ea7e1d33",
   "metadata": {},
   "outputs": [
    {
     "data": {
      "text/plain": [
       "['__add__',\n",
       " '__class__',\n",
       " '__contains__',\n",
       " '__delattr__',\n",
       " '__dir__',\n",
       " '__doc__',\n",
       " '__eq__',\n",
       " '__format__',\n",
       " '__ge__',\n",
       " '__getattribute__',\n",
       " '__getitem__',\n",
       " '__getnewargs__',\n",
       " '__getstate__',\n",
       " '__gt__',\n",
       " '__hash__',\n",
       " '__init__',\n",
       " '__init_subclass__',\n",
       " '__iter__',\n",
       " '__le__',\n",
       " '__len__',\n",
       " '__lt__',\n",
       " '__mod__',\n",
       " '__mul__',\n",
       " '__ne__',\n",
       " '__new__',\n",
       " '__reduce__',\n",
       " '__reduce_ex__',\n",
       " '__repr__',\n",
       " '__rmod__',\n",
       " '__rmul__',\n",
       " '__setattr__',\n",
       " '__sizeof__',\n",
       " '__str__',\n",
       " '__subclasshook__',\n",
       " 'capitalize',\n",
       " 'casefold',\n",
       " 'center',\n",
       " 'count',\n",
       " 'encode',\n",
       " 'endswith',\n",
       " 'expandtabs',\n",
       " 'find',\n",
       " 'format',\n",
       " 'format_map',\n",
       " 'index',\n",
       " 'isalnum',\n",
       " 'isalpha',\n",
       " 'isascii',\n",
       " 'isdecimal',\n",
       " 'isdigit',\n",
       " 'isidentifier',\n",
       " 'islower',\n",
       " 'isnumeric',\n",
       " 'isprintable',\n",
       " 'isspace',\n",
       " 'istitle',\n",
       " 'isupper',\n",
       " 'join',\n",
       " 'ljust',\n",
       " 'lower',\n",
       " 'lstrip',\n",
       " 'maketrans',\n",
       " 'partition',\n",
       " 'removeprefix',\n",
       " 'removesuffix',\n",
       " 'replace',\n",
       " 'rfind',\n",
       " 'rindex',\n",
       " 'rjust',\n",
       " 'rpartition',\n",
       " 'rsplit',\n",
       " 'rstrip',\n",
       " 'split',\n",
       " 'splitlines',\n",
       " 'startswith',\n",
       " 'strip',\n",
       " 'swapcase',\n",
       " 'title',\n",
       " 'translate',\n",
       " 'upper',\n",
       " 'zfill']"
      ]
     },
     "execution_count": 26,
     "metadata": {},
     "output_type": "execute_result"
    }
   ],
   "source": [
    "dir(\"\")    #here we can also use dir(\"python\")"
   ]
  },
  {
   "cell_type": "markdown",
   "id": "2ae481e6-45a3-4758-9784-8cf0cf3bd79d",
   "metadata": {},
   "source": [
    "**upper**"
   ]
  },
  {
   "cell_type": "code",
   "execution_count": 31,
   "id": "91ea5dc8-65dc-49e1-8465-ab840a779e5d",
   "metadata": {},
   "outputs": [
    {
     "data": {
      "text/plain": [
       "'WELCOME'"
      ]
     },
     "execution_count": 31,
     "metadata": {},
     "output_type": "execute_result"
    }
   ],
   "source": [
    "str1=\"welcome\"\n",
    "str1.upper()"
   ]
  },
  {
   "cell_type": "code",
   "execution_count": 32,
   "id": "8b464c64-28a5-4ab5-991e-ad67cdef304e",
   "metadata": {},
   "outputs": [
    {
     "data": {
      "text/plain": [
       "'welcome'"
      ]
     },
     "execution_count": 32,
     "metadata": {},
     "output_type": "execute_result"
    }
   ],
   "source": [
    "str1=\"welcome\"\n",
    "str1.lower()"
   ]
  },
  {
   "cell_type": "code",
   "execution_count": 33,
   "id": "1a77833e-bc04-4857-8354-26f4a4309964",
   "metadata": {},
   "outputs": [
    {
     "data": {
      "text/plain": [
       "'Welcome'"
      ]
     },
     "execution_count": 33,
     "metadata": {},
     "output_type": "execute_result"
    }
   ],
   "source": [
    "str1=\"welcome\"\n",
    "str1.capitalize()"
   ]
  },
  {
   "cell_type": "code",
   "execution_count": 34,
   "id": "cf147f7a-12e4-47a0-960e-f4ecd65a060e",
   "metadata": {},
   "outputs": [
    {
     "data": {
      "text/plain": [
       "'welcome'"
      ]
     },
     "execution_count": 34,
     "metadata": {},
     "output_type": "execute_result"
    }
   ],
   "source": [
    "str1=\"welcome\"\n",
    "str1.casefold()"
   ]
  },
  {
   "cell_type": "code",
   "execution_count": 35,
   "id": "f33a8072-f476-48f2-b4e5-c59e79e175f0",
   "metadata": {},
   "outputs": [
    {
     "data": {
      "text/plain": [
       "'Welcome'"
      ]
     },
     "execution_count": 35,
     "metadata": {},
     "output_type": "execute_result"
    }
   ],
   "source": [
    "str1=\"welcome\"\n",
    "str1.title()"
   ]
  },
  {
   "cell_type": "markdown",
   "id": "409a3ae8-f46c-4b81-a4be-40dcc28f2519",
   "metadata": {},
   "source": [
    "**difference between methods and inbuilt function**"
   ]
  },
  {
   "cell_type": "markdown",
   "id": "2f54e5e9-5d2c-4a75-bf98-628b5c4f1b0f",
   "metadata": {},
   "source": [
    "- inbuilt functin needs value\n",
    "    - ex.... print(<value>)\n",
    "- methods are given after the value\n",
    "    - ex....str1.method() or \"\".method()"
   ]
  },
  {
   "cell_type": "markdown",
   "id": "8b461b27-10e7-4b4e-8856-f2049746a74c",
   "metadata": {},
   "source": [
    "**center**"
   ]
  },
  {
   "cell_type": "code",
   "execution_count": 37,
   "id": "526db67e-01b5-4e3c-a8c1-edf5168a2b85",
   "metadata": {},
   "outputs": [],
   "source": [
    "str1=\"python\"\n",
    "ans=str1.center(12)"
   ]
  },
  {
   "cell_type": "code",
   "execution_count": 38,
   "id": "3cc7f514-98c5-462a-ba06-3a379e0c7b2f",
   "metadata": {},
   "outputs": [
    {
     "name": "stdout",
     "output_type": "stream",
     "text": [
      "   python   \n"
     ]
    }
   ],
   "source": [
    "print(ans)"
   ]
  },
  {
   "cell_type": "code",
   "execution_count": 41,
   "id": "1b3d2287-609b-49ac-a656-7e3809477f38",
   "metadata": {},
   "outputs": [
    {
     "data": {
      "text/plain": [
       "'***python***'"
      ]
     },
     "execution_count": 41,
     "metadata": {},
     "output_type": "execute_result"
    }
   ],
   "source": [
    "str1=\"python\"\n",
    "str1.center(12,'*')\n",
    "# here 12 means length of the string becomes 12 characyers\n",
    "# alraedy \"python\" sytring has six characters\n",
    "# so remaining 6 characters padd as *"
   ]
  },
  {
   "cell_type": "code",
   "execution_count": 40,
   "id": "bf1bd993-f571-435a-adb4-5359db97ef2a",
   "metadata": {},
   "outputs": [
    {
     "data": {
      "text/plain": [
       "'****python***'"
      ]
     },
     "execution_count": 40,
     "metadata": {},
     "output_type": "execute_result"
    }
   ],
   "source": [
    "str1=\"python\"\n",
    "str1.center(13,'*')"
   ]
  },
  {
   "cell_type": "markdown",
   "id": "3231f13a-0bb4-40f0-a665-537c5b2930b7",
   "metadata": {},
   "source": [
    "**strip-lstrip-rstrip**\n",
    "- strip will remove the characters both left and right side\n",
    "- lstrip will remove thecharacters on left side\n",
    "- rstrip will remove the characters on right side"
   ]
  },
  {
   "cell_type": "code",
   "execution_count": 64,
   "id": "9f93f564-29c4-4e1b-b081-6393cabf8bf5",
   "metadata": {},
   "outputs": [
    {
     "data": {
      "text/plain": [
       "'python'"
      ]
     },
     "execution_count": 64,
     "metadata": {},
     "output_type": "execute_result"
    }
   ],
   "source": [
    "str1=\" python \"\n",
    "str1.strip()"
   ]
  },
  {
   "cell_type": "code",
   "execution_count": 65,
   "id": "c9c509a5-7a7e-4dc2-800e-c2caccbc93c4",
   "metadata": {},
   "outputs": [
    {
     "data": {
      "text/plain": [
       "'python '"
      ]
     },
     "execution_count": 65,
     "metadata": {},
     "output_type": "execute_result"
    }
   ],
   "source": [
    "str1=\" python \"\n",
    "str1.lstrip()"
   ]
  },
  {
   "cell_type": "code",
   "execution_count": 66,
   "id": "fadc71ac-d182-455e-87ff-34b21cd7d125",
   "metadata": {},
   "outputs": [
    {
     "data": {
      "text/plain": [
       "' python'"
      ]
     },
     "execution_count": 66,
     "metadata": {},
     "output_type": "execute_result"
    }
   ],
   "source": [
    "str1=\" python \"\n",
    "str1.rstrip()"
   ]
  },
  {
   "cell_type": "code",
   "execution_count": 48,
   "id": "554b5afc-c5d1-45f2-9ebb-412e1c3d2698",
   "metadata": {},
   "outputs": [
    {
     "data": {
      "text/plain": [
       "'pytho'"
      ]
     },
     "execution_count": 48,
     "metadata": {},
     "output_type": "execute_result"
    }
   ],
   "source": [
    "str1=\"python\"\n",
    "str1.strip(\"n\")"
   ]
  },
  {
   "cell_type": "code",
   "execution_count": 50,
   "id": "2d5a39e4-1774-4b10-820a-0b52c22b192a",
   "metadata": {},
   "outputs": [
    {
     "data": {
      "text/plain": [
       "'ytho'"
      ]
     },
     "execution_count": 50,
     "metadata": {},
     "output_type": "execute_result"
    }
   ],
   "source": [
    "str1=\"python\"\n",
    "str1.strip(\"p,n\")"
   ]
  },
  {
   "cell_type": "code",
   "execution_count": 51,
   "id": "f257137b-033e-44a5-81a0-b25922104ac5",
   "metadata": {},
   "outputs": [
    {
     "data": {
      "text/plain": [
       "'python'"
      ]
     },
     "execution_count": 51,
     "metadata": {},
     "output_type": "execute_result"
    }
   ],
   "source": [
    "str1=\"python\"\n",
    "str1.lstrip(\"\")"
   ]
  },
  {
   "cell_type": "code",
   "execution_count": 52,
   "id": "b1d0dc7d-8102-48d0-be67-c49194ea77d3",
   "metadata": {},
   "outputs": [
    {
     "data": {
      "text/plain": [
       "'ython'"
      ]
     },
     "execution_count": 52,
     "metadata": {},
     "output_type": "execute_result"
    }
   ],
   "source": [
    "str1=\"python\"\n",
    "str1.lstrip(\"p\")"
   ]
  },
  {
   "cell_type": "code",
   "execution_count": 54,
   "id": "50a69d33-fe13-4a57-b414-37b03b63d66f",
   "metadata": {},
   "outputs": [
    {
     "data": {
      "text/plain": [
       "'python'"
      ]
     },
     "execution_count": 54,
     "metadata": {},
     "output_type": "execute_result"
    }
   ],
   "source": [
    "str1=\"python\"\n",
    "str1.rstrip()"
   ]
  },
  {
   "cell_type": "code",
   "execution_count": 55,
   "id": "1fda03e0-46cf-4809-b682-a5f5ee186a93",
   "metadata": {},
   "outputs": [
    {
     "data": {
      "text/plain": [
       "'python'"
      ]
     },
     "execution_count": 55,
     "metadata": {},
     "output_type": "execute_result"
    }
   ],
   "source": [
    "str1=\"python\"\n",
    "str1.lstrip()"
   ]
  },
  {
   "cell_type": "code",
   "execution_count": 57,
   "id": "3dbdb2ec-d7d5-404b-b653-5a7399ab5e22",
   "metadata": {},
   "outputs": [
    {
     "data": {
      "text/plain": [
       "'python'"
      ]
     },
     "execution_count": 57,
     "metadata": {},
     "output_type": "execute_result"
    }
   ],
   "source": [
    "str2=\"**python**\"\n",
    "str2.strip(\"*\")"
   ]
  },
  {
   "cell_type": "code",
   "execution_count": 58,
   "id": "96b76160-24fa-4583-85e3-08e3de65271f",
   "metadata": {},
   "outputs": [
    {
     "data": {
      "text/plain": [
       "'python**'"
      ]
     },
     "execution_count": 58,
     "metadata": {},
     "output_type": "execute_result"
    }
   ],
   "source": [
    "str2=\"**python**\"\n",
    "str2.lstrip(\"*\")"
   ]
  },
  {
   "cell_type": "code",
   "execution_count": 59,
   "id": "59c38d52-d317-4c1a-8d5f-77e4a1e7ff70",
   "metadata": {},
   "outputs": [
    {
     "data": {
      "text/plain": [
       "'**python'"
      ]
     },
     "execution_count": 59,
     "metadata": {},
     "output_type": "execute_result"
    }
   ],
   "source": [
    "str2=\"**python**\"\n",
    "str2.rstrip(\"*\")"
   ]
  },
  {
   "cell_type": "code",
   "execution_count": 67,
   "id": "e5477e6c-4120-4c2d-972f-1fbc2acd137b",
   "metadata": {},
   "outputs": [
    {
     "data": {
      "text/plain": [
       "'python****'"
      ]
     },
     "execution_count": 67,
     "metadata": {},
     "output_type": "execute_result"
    }
   ],
   "source": [
    "str3=\"   python****\"\n",
    "str3.strip()"
   ]
  },
  {
   "cell_type": "code",
   "execution_count": 76,
   "id": "34859124-05fc-4c22-ab95-3589cf19f65b",
   "metadata": {},
   "outputs": [
    {
     "data": {
      "text/plain": [
       "'python'"
      ]
     },
     "execution_count": 76,
     "metadata": {},
     "output_type": "execute_result"
    }
   ],
   "source": [
    "str3=\"     python****\"\n",
    "str3.strip().strip(\"*\")"
   ]
  },
  {
   "cell_type": "code",
   "execution_count": 75,
   "id": "0b440173-866a-40e5-a0f2-ebb444b05d5e",
   "metadata": {},
   "outputs": [
    {
     "data": {
      "text/plain": [
       "'python****'"
      ]
     },
     "execution_count": 75,
     "metadata": {},
     "output_type": "execute_result"
    }
   ],
   "source": [
    "str3=\"     python****\"\n",
    "str3.lstrip()"
   ]
  },
  {
   "cell_type": "code",
   "execution_count": 73,
   "id": "c4d17e59-78c1-4fce-9a3b-c52a8713cde6",
   "metadata": {},
   "outputs": [
    {
     "data": {
      "text/plain": [
       "'     python'"
      ]
     },
     "execution_count": 73,
     "metadata": {},
     "output_type": "execute_result"
    }
   ],
   "source": [
    "str3=\"     python****\"\n",
    "str3.rstrip(\"*\")"
   ]
  },
  {
   "cell_type": "code",
   "execution_count": 79,
   "id": "275891a9-12a9-4608-9110-2f910326d784",
   "metadata": {},
   "outputs": [
    {
     "data": {
      "text/plain": [
       "True"
      ]
     },
     "execution_count": 79,
     "metadata": {},
     "output_type": "execute_result"
    }
   ],
   "source": [
    "str3.startswith(\"\")"
   ]
  },
  {
   "cell_type": "code",
   "execution_count": 80,
   "id": "ca0056c6-b540-493f-b5f8-9421734843eb",
   "metadata": {},
   "outputs": [
    {
     "data": {
      "text/plain": [
       "False"
      ]
     },
     "execution_count": 80,
     "metadata": {},
     "output_type": "execute_result"
    }
   ],
   "source": [
    "str1.startswith(\"p\")"
   ]
  },
  {
   "cell_type": "code",
   "execution_count": 83,
   "id": "1f4a2f99-cf88-48ab-ab19-7073407fa3fa",
   "metadata": {},
   "outputs": [
    {
     "data": {
      "text/plain": [
       "False"
      ]
     },
     "execution_count": 83,
     "metadata": {},
     "output_type": "execute_result"
    }
   ],
   "source": [
    "str3.endswith(\"n\")"
   ]
  },
  {
   "cell_type": "code",
   "execution_count": 84,
   "id": "b5d9bce3-97ea-48b5-873f-7aea2d85d6d1",
   "metadata": {},
   "outputs": [],
   "source": [
    "string=\"likhith reddy\""
   ]
  },
  {
   "cell_type": "code",
   "execution_count": 85,
   "id": "76848c63-aaf4-4149-b32f-2acf8e345452",
   "metadata": {},
   "outputs": [
    {
     "data": {
      "text/plain": [
       "'Likhith reddy'"
      ]
     },
     "execution_count": 85,
     "metadata": {},
     "output_type": "execute_result"
    }
   ],
   "source": [
    "string.capitalize()"
   ]
  },
  {
   "cell_type": "code",
   "execution_count": 86,
   "id": "9b1d0d71-8907-4187-9959-571d9acb84fb",
   "metadata": {},
   "outputs": [
    {
     "data": {
      "text/plain": [
       "'LIKHITH REDDY'"
      ]
     },
     "execution_count": 86,
     "metadata": {},
     "output_type": "execute_result"
    }
   ],
   "source": [
    "string.upper()"
   ]
  },
  {
   "cell_type": "code",
   "execution_count": 87,
   "id": "a5b614ac-327d-4b3d-8ab3-424aaaa83528",
   "metadata": {},
   "outputs": [
    {
     "data": {
      "text/plain": [
       "'likhith reddy'"
      ]
     },
     "execution_count": 87,
     "metadata": {},
     "output_type": "execute_result"
    }
   ],
   "source": [
    "string.lower()"
   ]
  },
  {
   "cell_type": "code",
   "execution_count": 88,
   "id": "d08630e3-f3cd-4130-802c-3a31593c1f74",
   "metadata": {},
   "outputs": [
    {
     "data": {
      "text/plain": [
       "'likhith reddy'"
      ]
     },
     "execution_count": 88,
     "metadata": {},
     "output_type": "execute_result"
    }
   ],
   "source": [
    "string.casefold()"
   ]
  },
  {
   "cell_type": "code",
   "execution_count": 90,
   "id": "9209f932-be7d-49b8-979f-4b8b557dd0dc",
   "metadata": {},
   "outputs": [
    {
     "data": {
      "text/plain": [
       "'Likhith Reddy'"
      ]
     },
     "execution_count": 90,
     "metadata": {},
     "output_type": "execute_result"
    }
   ],
   "source": [
    "string.title()"
   ]
  },
  {
   "cell_type": "code",
   "execution_count": 92,
   "id": "f33f883f-4156-4ddb-852b-9844249bf5c5",
   "metadata": {},
   "outputs": [
    {
     "data": {
      "text/plain": [
       "'  likhith reddy  '"
      ]
     },
     "execution_count": 92,
     "metadata": {},
     "output_type": "execute_result"
    }
   ],
   "source": [
    "string.center(17)"
   ]
  },
  {
   "cell_type": "code",
   "execution_count": 93,
   "id": "ff60b70e-c43f-41cb-96ff-eefcbef2b593",
   "metadata": {},
   "outputs": [
    {
     "data": {
      "text/plain": [
       "True"
      ]
     },
     "execution_count": 93,
     "metadata": {},
     "output_type": "execute_result"
    }
   ],
   "source": [
    "string.startswith(\"l\")"
   ]
  },
  {
   "cell_type": "code",
   "execution_count": 94,
   "id": "eec6b498-91fc-4508-9054-b8087b452e6c",
   "metadata": {},
   "outputs": [
    {
     "data": {
      "text/plain": [
       "False"
      ]
     },
     "execution_count": 94,
     "metadata": {},
     "output_type": "execute_result"
    }
   ],
   "source": [
    "string.startswith(\"L\")"
   ]
  },
  {
   "cell_type": "code",
   "execution_count": 95,
   "id": "549662a9-702c-4586-8604-e8825d8eb050",
   "metadata": {},
   "outputs": [
    {
     "data": {
      "text/plain": [
       "True"
      ]
     },
     "execution_count": 95,
     "metadata": {},
     "output_type": "execute_result"
    }
   ],
   "source": [
    "string.endswith(\"y\")"
   ]
  },
  {
   "cell_type": "code",
   "execution_count": 96,
   "id": "a213506d-893c-412d-bf8a-104a989c9a3b",
   "metadata": {},
   "outputs": [
    {
     "data": {
      "text/plain": [
       "'ikhith redd'"
      ]
     },
     "execution_count": 96,
     "metadata": {},
     "output_type": "execute_result"
    }
   ],
   "source": [
    "string.strip(\"l,y\")"
   ]
  },
  {
   "cell_type": "code",
   "execution_count": 97,
   "id": "1d05372b-d56b-44e8-a2d0-2d6d07744d80",
   "metadata": {},
   "outputs": [
    {
     "data": {
      "text/plain": [
       "'ikhith reddy'"
      ]
     },
     "execution_count": 97,
     "metadata": {},
     "output_type": "execute_result"
    }
   ],
   "source": [
    "string.lstrip(\"l,y\")"
   ]
  },
  {
   "cell_type": "code",
   "execution_count": 98,
   "id": "91e92a63-6f32-492d-b590-7e6b92f17d30",
   "metadata": {},
   "outputs": [
    {
     "data": {
      "text/plain": [
       "'likhith redd'"
      ]
     },
     "execution_count": 98,
     "metadata": {},
     "output_type": "execute_result"
    }
   ],
   "source": [
    "string.rstrip(\"l,y\")"
   ]
  },
  {
   "cell_type": "markdown",
   "id": "5fd0a115-534f-45fc-b69c-1f5ddbc8261c",
   "metadata": {},
   "source": [
    "**count**"
   ]
  },
  {
   "cell_type": "code",
   "execution_count": 100,
   "id": "3f6e43df-db5d-43b3-9738-24d32b82cd12",
   "metadata": {},
   "outputs": [
    {
     "name": "stdout",
     "output_type": "stream",
     "text": [
      "3\n"
     ]
    }
   ],
   "source": [
    "str1=\"ola ola ola\"\n",
    "count=0\n",
    "for i in \"ola ola ola\":\n",
    "    if \"a\" in i:\n",
    "        count=count+1\n",
    "print(count)"
   ]
  },
  {
   "cell_type": "code",
   "execution_count": 104,
   "id": "ac2cc48a-bec4-4e08-9ba3-2eacdcf0d33a",
   "metadata": {},
   "outputs": [
    {
     "name": "stdout",
     "output_type": "stream",
     "text": [
      "3\n"
     ]
    }
   ],
   "source": [
    "str1=\"ola ola ola\"\n",
    "count=0\n",
    "for i in range(0,len(str1)):\n",
    "    if str1[i]==\"a\":\n",
    "        count=count+1\n",
    "print(count)"
   ]
  },
  {
   "cell_type": "markdown",
   "id": "3de9eecd-612b-4748-9bc7-f0d784f588c4",
   "metadata": {},
   "source": [
    "**case-1**"
   ]
  },
  {
   "cell_type": "code",
   "execution_count": 102,
   "id": "ba67aaf5-94bf-4660-9371-4f76b7a0c4fd",
   "metadata": {},
   "outputs": [
    {
     "data": {
      "text/plain": [
       "3"
      ]
     },
     "execution_count": 102,
     "metadata": {},
     "output_type": "execute_result"
    }
   ],
   "source": [
    "str1.count(\"a\")"
   ]
  },
  {
   "cell_type": "code",
   "execution_count": 105,
   "id": "90604538-af2c-4c09-981a-a9f9893b64af",
   "metadata": {},
   "outputs": [
    {
     "data": {
      "text/plain": [
       "3"
      ]
     },
     "execution_count": 105,
     "metadata": {},
     "output_type": "execute_result"
    }
   ],
   "source": [
    "str1.count(\"ola\")"
   ]
  },
  {
   "cell_type": "code",
   "execution_count": 106,
   "id": "845f2b65-a6a7-487d-b03c-bd5bbb70d8ce",
   "metadata": {},
   "outputs": [
    {
     "data": {
      "text/plain": [
       "2"
      ]
     },
     "execution_count": 106,
     "metadata": {},
     "output_type": "execute_result"
    }
   ],
   "source": [
    "str1.count(\"ola \")"
   ]
  },
  {
   "cell_type": "code",
   "execution_count": 107,
   "id": "555043d5-277c-49d5-ba14-4883f0790c3e",
   "metadata": {},
   "outputs": [
    {
     "data": {
      "text/plain": [
       "3"
      ]
     },
     "execution_count": 107,
     "metadata": {},
     "output_type": "execute_result"
    }
   ],
   "source": [
    "str1.count(\"la\")"
   ]
  },
  {
   "cell_type": "markdown",
   "id": "138c474a-7a5d-4c4f-861a-c8fecdc92164",
   "metadata": {},
   "source": [
    "**case-2**"
   ]
  },
  {
   "cell_type": "code",
   "execution_count": 109,
   "id": "0110dcbc-912a-4fe4-9a99-751f7be4c248",
   "metadata": {},
   "outputs": [
    {
     "data": {
      "text/plain": [
       "2"
      ]
     },
     "execution_count": 109,
     "metadata": {},
     "output_type": "execute_result"
    }
   ],
   "source": [
    "#o l a   o l a   o l a\n",
    "#0 1 2 3 4 5 6 7 8 9 10\n",
    "str1.count(\"a\",4)"
   ]
  },
  {
   "cell_type": "code",
   "execution_count": 113,
   "id": "197981b1-465e-4020-aec9-9f34f5caddb0",
   "metadata": {},
   "outputs": [
    {
     "data": {
      "text/plain": [
       "1"
      ]
     },
     "execution_count": 113,
     "metadata": {},
     "output_type": "execute_result"
    }
   ],
   "source": [
    "str1.count(\"a\",4,9)   # here start=4 end=9-1=8 positive"
   ]
  },
  {
   "cell_type": "code",
   "execution_count": 112,
   "id": "0fd6fc2f-12e0-4479-985e-39a28db8e0f2",
   "metadata": {},
   "outputs": [
    {
     "data": {
      "text/plain": [
       "1"
      ]
     },
     "execution_count": 112,
     "metadata": {},
     "output_type": "execute_result"
    }
   ],
   "source": [
    "str1.count(\"a\",4,10)"
   ]
  },
  {
   "cell_type": "code",
   "execution_count": 114,
   "id": "2fb95db6-e9c1-4848-b0e4-8f249ce44221",
   "metadata": {},
   "outputs": [
    {
     "data": {
      "text/plain": [
       "0"
      ]
     },
     "execution_count": 114,
     "metadata": {},
     "output_type": "execute_result"
    }
   ],
   "source": [
    "str1.count(\"a\",4,-11)"
   ]
  },
  {
   "cell_type": "code",
   "execution_count": 120,
   "id": "b5fe4fdc-6861-4f01-bd7f-2117ee520227",
   "metadata": {},
   "outputs": [
    {
     "data": {
      "text/plain": [
       "0"
      ]
     },
     "execution_count": 120,
     "metadata": {},
     "output_type": "execute_result"
    }
   ],
   "source": [
    "str1.count(\"a\",-1,-11)"
   ]
  },
  {
   "cell_type": "code",
   "execution_count": 121,
   "id": "b56b3719-002f-4559-81c9-acb0d674078c",
   "metadata": {},
   "outputs": [
    {
     "data": {
      "text/plain": [
       "2"
      ]
     },
     "execution_count": 121,
     "metadata": {},
     "output_type": "execute_result"
    }
   ],
   "source": [
    "str1.count(\"a\",-10,-1)"
   ]
  },
  {
   "cell_type": "code",
   "execution_count": 122,
   "id": "ca9668a0-9133-4404-ac57-904893b62010",
   "metadata": {},
   "outputs": [
    {
     "data": {
      "text/plain": [
       "0"
      ]
     },
     "execution_count": 122,
     "metadata": {},
     "output_type": "execute_result"
    }
   ],
   "source": [
    "str1.count(\"z\")"
   ]
  },
  {
   "cell_type": "code",
   "execution_count": 145,
   "id": "fcfc6ded-16c8-4b10-9111-879e8190dbde",
   "metadata": {},
   "outputs": [
    {
     "name": "stdout",
     "output_type": "stream",
     "text": [
      "3\n"
     ]
    }
   ],
   "source": [
    "str11=\"ola ola ola\"\n",
    "count=0\n",
    "str22=\"ola\"\n",
    "for i in range(0,len(str11)):\n",
    "    if str22[0:3] in str11[i:i+3]:\n",
    "        count=count+1\n",
    "\n",
    "print(count)"
   ]
  },
  {
   "cell_type": "markdown",
   "id": "03fb492b-4b2e-4e37-8f50-cb8f97b55dc4",
   "metadata": {},
   "source": [
    "**sliding window approach**\n",
    "- fix the slice value first: **str1[i:i+3]**\n",
    "- then incfrease the slice by 1: **for i o9n range(len(str1))**\n",
    "- whenever  it is equal to substring: **str1[i:i+3]==\"ola\"**\n",
    "-then update the count: **count=count+1**"
   ]
  },
  {
   "cell_type": "code",
   "execution_count": 146,
   "id": "f61a38cf-1eeb-43be-8bb2-13aa26f97690",
   "metadata": {},
   "outputs": [
    {
     "name": "stdout",
     "output_type": "stream",
     "text": [
      "3\n"
     ]
    }
   ],
   "source": [
    "str11=\"ola ola ola\"\n",
    "count=0\n",
    "str22=\"ola\"\n",
    "for i in range(0,len(str11)):\n",
    "    if str22[0:3]==str11[i:i+3]:\n",
    "        count=count+1\n",
    "\n",
    "print(count)"
   ]
  },
  {
   "cell_type": "code",
   "execution_count": 147,
   "id": "4391fca9-56da-4a84-9071-f09eb327ec79",
   "metadata": {},
   "outputs": [
    {
     "name": "stdout",
     "output_type": "stream",
     "text": [
      "3\n"
     ]
    }
   ],
   "source": [
    "str11=\"ola ola ola\"\n",
    "count=0\n",
    "for i in range(0,len(str11)):\n",
    "    if str11[i:i+3]==\"ola\":\n",
    "        count=count+1\n",
    "\n",
    "print(count)"
   ]
  },
  {
   "cell_type": "markdown",
   "id": "ce02e2e0-e20e-42fc-ba69-6f546a6271dd",
   "metadata": {},
   "source": [
    "**replace**"
   ]
  },
  {
   "cell_type": "code",
   "execution_count": 153,
   "id": "4d2edbb0-08f1-48d5-9b71-b1944feabc36",
   "metadata": {},
   "outputs": [
    {
     "data": {
      "text/plain": [
       "'weLcome'"
      ]
     },
     "execution_count": 153,
     "metadata": {},
     "output_type": "execute_result"
    }
   ],
   "source": [
    "str1=\"welcome\"\n",
    "str1.replace(\"l\",\"L\")"
   ]
  },
  {
   "cell_type": "code",
   "execution_count": 155,
   "id": "fe63f1af-dcdb-4ac2-94b5-b3288c83901f",
   "metadata": {},
   "outputs": [
    {
     "data": {
      "text/plain": [
       "'likhith reddy'"
      ]
     },
     "execution_count": 155,
     "metadata": {},
     "output_type": "execute_result"
    }
   ],
   "source": [
    "str11=\"likith reddy\"\n",
    "str11.replace(\"likith\",\"likhith\")"
   ]
  },
  {
   "cell_type": "code",
   "execution_count": 156,
   "id": "b0fe592c-b6bd-4b65-83a5-7f2f87bede7e",
   "metadata": {},
   "outputs": [
    {
     "data": {
      "text/plain": [
       "'welcome'"
      ]
     },
     "execution_count": 156,
     "metadata": {},
     "output_type": "execute_result"
    }
   ],
   "source": [
    "str1.replace(\"z\",\"Z\")"
   ]
  },
  {
   "cell_type": "code",
   "execution_count": 162,
   "id": "0d22e564-96bb-4338-bb66-da927642dfb2",
   "metadata": {},
   "outputs": [
    {
     "data": {
      "text/plain": [
       "'weLLLLcome'"
      ]
     },
     "execution_count": 162,
     "metadata": {},
     "output_type": "execute_result"
    }
   ],
   "source": [
    "str1=\"wellllcome\"\n",
    "str1.replace(\"l\",\"L\")  #by default if replaes the all occurance"
   ]
  },
  {
   "cell_type": "code",
   "execution_count": 158,
   "id": "b0821f1a-4db2-4631-9f06-6f325a729849",
   "metadata": {},
   "outputs": [
    {
     "data": {
      "text/plain": [
       "'weLlllcome'"
      ]
     },
     "execution_count": 158,
     "metadata": {},
     "output_type": "execute_result"
    }
   ],
   "source": [
    "str1=\"wellllcome\"\n",
    "str1.replace(\"l\",\"L\",1)   #here count=1 which indicates replace one "
   ]
  },
  {
   "cell_type": "code",
   "execution_count": 160,
   "id": "4a751f54-aac3-4f71-99ee-1d57de9f9f2a",
   "metadata": {},
   "outputs": [
    {
     "data": {
      "text/plain": [
       "'weLLLlcome'"
      ]
     },
     "execution_count": 160,
     "metadata": {},
     "output_type": "execute_result"
    }
   ],
   "source": [
    "str1=\"wellllcome\"\n",
    "str1.replace(\"l\",\"L\",3)  #here count=1 which indicates replaces three"
   ]
  },
  {
   "cell_type": "code",
   "execution_count": 176,
   "id": "5f08572e-d233-4b07-b2d7-55f7fc74aa85",
   "metadata": {},
   "outputs": [
    {
     "name": "stdout",
     "output_type": "stream",
     "text": [
      "resta$t\n"
     ]
    }
   ],
   "source": [
    "str1=\"restart\"\n",
    "str2=\"resta\"\n",
    "str3=str1[5:7].replace(\"r\",\"$\")\n",
    "str4=str2+str3\n",
    "print(str4)"
   ]
  },
  {
   "cell_type": "code",
   "execution_count": 178,
   "id": "0b16a294-f8bb-43fd-afa7-7e8835dc904f",
   "metadata": {},
   "outputs": [
    {
     "data": {
      "text/plain": [
       "'resta$t'"
      ]
     },
     "execution_count": 178,
     "metadata": {},
     "output_type": "execute_result"
    }
   ],
   "source": [
    "str1[::-1].replace(\"r\",\"$\",1)[::-1]"
   ]
  },
  {
   "cell_type": "markdown",
   "id": "34fb6300-e5ae-42ad-8092-3435f86f8cab",
   "metadata": {},
   "source": [
    "**index**"
   ]
  },
  {
   "cell_type": "code",
   "execution_count": 180,
   "id": "5192fc5e-a717-4958-8ea3-7efeafe405bf",
   "metadata": {},
   "outputs": [
    {
     "data": {
      "text/plain": [
       "3"
      ]
     },
     "execution_count": 180,
     "metadata": {},
     "output_type": "execute_result"
    }
   ],
   "source": [
    "str1=\"restart restart\"\n",
    "str1.index(\"t\")  #by default it gives first t index"
   ]
  },
  {
   "cell_type": "code",
   "execution_count": 186,
   "id": "c8323643-9098-43d6-8fd4-99ba00b0faec",
   "metadata": {},
   "outputs": [
    {
     "data": {
      "text/plain": [
       "5"
      ]
     },
     "execution_count": 186,
     "metadata": {},
     "output_type": "execute_result"
    }
   ],
   "source": [
    "str1=\"restart restart\"\n",
    "str1.index(\"t\")"
   ]
  },
  {
   "cell_type": "code",
   "execution_count": 187,
   "id": "efe37425-99d8-40a7-915f-d96aa3df05ad",
   "metadata": {},
   "outputs": [
    {
     "data": {
      "text/plain": [
       "8"
      ]
     },
     "execution_count": 187,
     "metadata": {},
     "output_type": "execute_result"
    }
   ],
   "source": [
    "str1=\"restart restart\"\n",
    "str1.index(\"r\",6)"
   ]
  },
  {
   "cell_type": "code",
   "execution_count": 188,
   "id": "fe53138b-0783-40ea-9f33-06eddda09559",
   "metadata": {},
   "outputs": [
    {
     "data": {
      "text/plain": [
       "13"
      ]
     },
     "execution_count": 188,
     "metadata": {},
     "output_type": "execute_result"
    }
   ],
   "source": [
    "str1=\"restart restart\"\n",
    "str1.index(\"r\",9)"
   ]
  },
  {
   "cell_type": "code",
   "execution_count": null,
   "id": "f1588e56-6a5f-4fe5-8140-af5a79cd4a40",
   "metadata": {},
   "outputs": [],
   "source": [
    "str1=\"restart restart\"\n",
    "str1.index(\"r\")\n",
    "str1.index(\"r\",1)\n",
    "str1.index(\"r\",6)\n",
    "str1.index(\"r\",9)"
   ]
  },
  {
   "cell_type": "code",
   "execution_count": 189,
   "id": "3ed9f4ec-471d-40cf-a0b1-d34ff02a213e",
   "metadata": {},
   "outputs": [
    {
     "name": "stdout",
     "output_type": "stream",
     "text": [
      "0 5 8 13\n"
     ]
    }
   ],
   "source": [
    "str1=\"restart restart\"\n",
    "i1=str1.index(\"r\")\n",
    "i2=str1.index(\"r\",i1+1)\n",
    "i3=str1.index(\"r\",i2+1)\n",
    "i4=str1.index(\"r\",i3+1)\n",
    "print(i1,i2,i3,i4)"
   ]
  },
  {
   "cell_type": "code",
   "execution_count": 195,
   "id": "828e83bc-e77b-4d3f-9a11-2249361c8ac9",
   "metadata": {},
   "outputs": [
    {
     "data": {
      "text/plain": [
       "0"
      ]
     },
     "execution_count": 195,
     "metadata": {},
     "output_type": "execute_result"
    }
   ],
   "source": [
    "str1=\"restart restart\"\n",
    "str1.find(\"r\")"
   ]
  },
  {
   "cell_type": "code",
   "execution_count": 9,
   "id": "8c4dfa3f-a46b-40c5-9dbd-ea7536274c21",
   "metadata": {},
   "outputs": [],
   "source": [
    "#str1=input(\"enter the full name:\")\n",
    "def extract(str1):\n",
    "    str1=input(\"enter the full name:\")\n",
    "    a=str1.find(\".\")\n",
    "    first_name=str1[0:a]\n",
    "    print(f\"first name={first_name}\")\n",
    "    b=str1.find(\"@\")\n",
    "    second_name=str1[a+1:b]\n",
    "    print(f\"second name={second_name}\")\n",
    "    c=str1.find(\".\",a+1)\n",
    "    company_name=str1[b+1:c]\n",
    "    print(f\"company name={company_name}\")\n",
    "    ending=str1[c+1:]\n",
    "    print(ending)"
   ]
  },
  {
   "cell_type": "code",
   "execution_count": 10,
   "id": "6101bfa1-9b0b-429b-8eb3-44a179227150",
   "metadata": {},
   "outputs": [
    {
     "name": "stdin",
     "output_type": "stream",
     "text": [
      "enter the full name: likhith.reddy@inc.com\n"
     ]
    },
    {
     "name": "stdout",
     "output_type": "stream",
     "text": [
      "first name=likhith\n",
      "second name=reddy\n",
      "company name=inc\n",
      "com\n"
     ]
    }
   ],
   "source": [
    "extract(str1)"
   ]
  },
  {
   "cell_type": "markdown",
   "id": "7b044520-16fb-4fb9-b29d-f07bef188116",
   "metadata": {},
   "source": [
    "**split**"
   ]
  },
  {
   "cell_type": "markdown",
   "id": "1e6f076a-9db9-403c-a610-17cced03ccc0",
   "metadata": {},
   "source": [
    "- split is used to convert a string to list of elements\n",
    "- by default it will seperate based on space "
   ]
  },
  {
   "cell_type": "code",
   "execution_count": 11,
   "id": "56ccabc9-d93e-4108-b9be-d64cb05a5d68",
   "metadata": {},
   "outputs": [
    {
     "data": {
      "text/plain": [
       "['hai', 'how', 'are', 'you']"
      ]
     },
     "execution_count": 11,
     "metadata": {},
     "output_type": "execute_result"
    }
   ],
   "source": [
    "str1=\"hai how are you\"\n",
    "str1.split()"
   ]
  },
  {
   "cell_type": "code",
   "execution_count": 12,
   "id": "7561e092-c0a9-4153-9798-c60a7ae05c86",
   "metadata": {},
   "outputs": [
    {
     "data": {
      "text/plain": [
       "['hai how', ' are you']"
      ]
     },
     "execution_count": 12,
     "metadata": {},
     "output_type": "execute_result"
    }
   ],
   "source": [
    "str1=\"hai how, are you\"\n",
    "str1.split(\",\")"
   ]
  },
  {
   "cell_type": "code",
   "execution_count": 13,
   "id": "91027aa0-0a20-48f5-8971-bad30396560a",
   "metadata": {},
   "outputs": [
    {
     "data": {
      "text/plain": [
       "['', 'ai ', 'ow are you']"
      ]
     },
     "execution_count": 13,
     "metadata": {},
     "output_type": "execute_result"
    }
   ],
   "source": [
    "str1=\"hai how are you\"\n",
    "str1.split(\"h\")"
   ]
  },
  {
   "cell_type": "code",
   "execution_count": 15,
   "id": "a5c6d532-d2db-48ae-8e3a-82f4c7344ca3",
   "metadata": {},
   "outputs": [
    {
     "data": {
      "text/plain": [
       "['hai', 'how,are', 'you']"
      ]
     },
     "execution_count": 15,
     "metadata": {},
     "output_type": "execute_result"
    }
   ],
   "source": [
    "str1=\"hai how,are you\"\n",
    "a=str1.split()\n",
    "a"
   ]
  },
  {
   "cell_type": "code",
   "execution_count": 17,
   "id": "dd3e37ed-8a8e-4c17-a8c7-652867bd2b21",
   "metadata": {},
   "outputs": [
    {
     "data": {
      "text/plain": [
       "'hai how,are you'"
      ]
     },
     "execution_count": 17,
     "metadata": {},
     "output_type": "execute_result"
    }
   ],
   "source": [
    "\" \".join(a)"
   ]
  },
  {
   "cell_type": "code",
   "execution_count": 18,
   "id": "8240a741-2c87-4752-b58c-da09193feec3",
   "metadata": {},
   "outputs": [
    {
     "data": {
      "text/plain": [
       "'hai***how,are***you'"
      ]
     },
     "execution_count": 18,
     "metadata": {},
     "output_type": "execute_result"
    }
   ],
   "source": [
    "\"***\".join(a)"
   ]
  },
  {
   "cell_type": "code",
   "execution_count": 19,
   "id": "64bad013-a37b-4b9c-9160-85a922dddf06",
   "metadata": {},
   "outputs": [
    {
     "data": {
      "text/plain": [
       "['hai how', ' are you']"
      ]
     },
     "execution_count": 19,
     "metadata": {},
     "output_type": "execute_result"
    }
   ],
   "source": [
    "str1=\"hai how, are you\"\n",
    "b=str1.split(\",\")\n",
    "b"
   ]
  },
  {
   "cell_type": "code",
   "execution_count": 20,
   "id": "704d8e44-cf55-441b-95e6-c1b318b5e190",
   "metadata": {},
   "outputs": [
    {
     "data": {
      "text/plain": [
       "'hai how, are you'"
      ]
     },
     "execution_count": 20,
     "metadata": {},
     "output_type": "execute_result"
    }
   ],
   "source": [
    "\",\".join(b)"
   ]
  },
  {
   "cell_type": "code",
   "execution_count": 22,
   "id": "fc083586-9448-41d7-9395-2f91920ccf58",
   "metadata": {},
   "outputs": [
    {
     "data": {
      "text/plain": [
       "['__add__',\n",
       " '__class__',\n",
       " '__contains__',\n",
       " '__delattr__',\n",
       " '__dir__',\n",
       " '__doc__',\n",
       " '__eq__',\n",
       " '__format__',\n",
       " '__ge__',\n",
       " '__getattribute__',\n",
       " '__getitem__',\n",
       " '__getnewargs__',\n",
       " '__getstate__',\n",
       " '__gt__',\n",
       " '__hash__',\n",
       " '__init__',\n",
       " '__init_subclass__',\n",
       " '__iter__',\n",
       " '__le__',\n",
       " '__len__',\n",
       " '__lt__',\n",
       " '__mod__',\n",
       " '__mul__',\n",
       " '__ne__',\n",
       " '__new__',\n",
       " '__reduce__',\n",
       " '__reduce_ex__',\n",
       " '__repr__',\n",
       " '__rmod__',\n",
       " '__rmul__',\n",
       " '__setattr__',\n",
       " '__sizeof__',\n",
       " '__str__',\n",
       " '__subclasshook__',\n",
       " 'capitalize',\n",
       " 'casefold',\n",
       " 'center',\n",
       " 'count',\n",
       " 'encode',\n",
       " 'endswith',\n",
       " 'expandtabs',\n",
       " 'find',\n",
       " 'format',\n",
       " 'format_map',\n",
       " 'index',\n",
       " 'isalnum',\n",
       " 'isalpha',\n",
       " 'isascii',\n",
       " 'isdecimal',\n",
       " 'isdigit',\n",
       " 'isidentifier',\n",
       " 'islower',\n",
       " 'isnumeric',\n",
       " 'isprintable',\n",
       " 'isspace',\n",
       " 'istitle',\n",
       " 'isupper',\n",
       " 'join',\n",
       " 'ljust',\n",
       " 'lower',\n",
       " 'lstrip',\n",
       " 'maketrans',\n",
       " 'partition',\n",
       " 'removeprefix',\n",
       " 'removesuffix',\n",
       " 'replace',\n",
       " 'rfind',\n",
       " 'rindex',\n",
       " 'rjust',\n",
       " 'rpartition',\n",
       " 'rsplit',\n",
       " 'rstrip',\n",
       " 'split',\n",
       " 'splitlines',\n",
       " 'startswith',\n",
       " 'strip',\n",
       " 'swapcase',\n",
       " 'title',\n",
       " 'translate',\n",
       " 'upper',\n",
       " 'zfill']"
      ]
     },
     "execution_count": 22,
     "metadata": {},
     "output_type": "execute_result"
    }
   ],
   "source": [
    "dir(\"\")"
   ]
  },
  {
   "cell_type": "code",
   "execution_count": 1,
   "id": "75d3f463-df41-4afc-bdaa-e0d4f55ad056",
   "metadata": {},
   "outputs": [
    {
     "name": "stdout",
     "output_type": "stream",
     "text": [
      "123456"
     ]
    }
   ],
   "source": [
    "str1=\"the telephone number is 123456\"\n",
    "for i in str1:\n",
    "    if i.isdigit():\n",
    "        print(i,end=\"\")"
   ]
  },
  {
   "cell_type": "code",
   "execution_count": 2,
   "id": "fa5d4037-2d86-4bf7-9261-e1991a6f2136",
   "metadata": {},
   "outputs": [
    {
     "data": {
      "text/plain": [
       "True"
      ]
     },
     "execution_count": 2,
     "metadata": {},
     "output_type": "execute_result"
    }
   ],
   "source": [
    "str1=\"12344\"\n",
    "str1.isdigit()"
   ]
  },
  {
   "cell_type": "code",
   "execution_count": 4,
   "id": "6c1ff4fb-6b6b-41a3-a690-82e33a68c48f",
   "metadata": {},
   "outputs": [
    {
     "name": "stdout",
     "output_type": "stream",
     "text": [
      "t h e t e l e p h o n e n u m b e r i s 1 2 3 4 5 6 "
     ]
    }
   ],
   "source": [
    "str1=\"the telephone number is 123456\"\n",
    "for i in str1:\n",
    "    if i.isalnum():\n",
    "        print(i,end=\" \")\n"
   ]
  },
  {
   "cell_type": "code",
   "execution_count": 5,
   "id": "41fc614d-38b5-4ec6-a3d0-6db575ef6271",
   "metadata": {},
   "outputs": [
    {
     "name": "stdout",
     "output_type": "stream",
     "text": [
      "t h e t e l e p h o n e n u m b e r i s "
     ]
    }
   ],
   "source": [
    "str1=\"the telephone number is 123456\"\n",
    "for i in str1:\n",
    "    if i.isalpha():\n",
    "        print(i,end=\" \")\n"
   ]
  },
  {
   "cell_type": "code",
   "execution_count": 6,
   "id": "a7e14540-546c-4dcc-8cb5-9a33829f0e16",
   "metadata": {},
   "outputs": [
    {
     "data": {
      "text/plain": [
       "True"
      ]
     },
     "execution_count": 6,
     "metadata": {},
     "output_type": "execute_result"
    }
   ],
   "source": [
    "str1=\"A\"\n",
    "str1.isascii()"
   ]
  },
  {
   "cell_type": "code",
   "execution_count": null,
   "id": "973a4943-8549-45a1-ade6-901e3df8fa9e",
   "metadata": {},
   "outputs": [],
   "source": []
  }
 ],
 "metadata": {
  "kernelspec": {
   "display_name": "Python 3 (ipykernel)",
   "language": "python",
   "name": "python3"
  },
  "language_info": {
   "codemirror_mode": {
    "name": "ipython",
    "version": 3
   },
   "file_extension": ".py",
   "mimetype": "text/x-python",
   "name": "python",
   "nbconvert_exporter": "python",
   "pygments_lexer": "ipython3",
   "version": "3.12.7"
  }
 },
 "nbformat": 4,
 "nbformat_minor": 5
}
