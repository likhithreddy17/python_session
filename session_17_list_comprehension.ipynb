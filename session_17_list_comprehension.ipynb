{
 "cells": [
  {
   "cell_type": "markdown",
   "id": "2ab816de-c975-474e-943f-c77e2307e8c1",
   "metadata": {},
   "source": [
    "# list comprehension\n",
    "- list comprehension a way to write list operations in a single line\n",
    "- when we apply for loop anf if-else conditional statements then the code compilation becomes slow\n",
    "- which means it takes much time\n",
    "- in order to avoid the time complexity we will use list comprehension\n",
    "- list comprehension is a single line code"
   ]
  },
  {
   "cell_type": "code",
   "execution_count": 2,
   "id": "b51377ce-8bee-4bc1-8983-815fb7f8278a",
   "metadata": {},
   "outputs": [
    {
     "data": {
      "text/plain": [
       "[0, 1, 2, 3, 4, 5, 6, 7, 8, 9]"
      ]
     },
     "execution_count": 2,
     "metadata": {},
     "output_type": "execute_result"
    }
   ],
   "source": [
    "list1=[]\n",
    "for i in range(10):\n",
    "    list1.append(i)\n",
    "\n",
    "list1"
   ]
  },
  {
   "cell_type": "code",
   "execution_count": 6,
   "id": "d3f87ef8-ddb6-4a9c-92b1-68b1ac7af630",
   "metadata": {},
   "outputs": [
    {
     "data": {
      "text/plain": [
       "[0, 1, 2, 3, 4, 5, 6, 7, 8, 9]"
      ]
     },
     "execution_count": 6,
     "metadata": {},
     "output_type": "execute_result"
    }
   ],
   "source": [
    "list1=[i for i in range(10)]\n",
    "list1"
   ]
  },
  {
   "cell_type": "code",
   "execution_count": 13,
   "id": "103a53f8-a85a-43f3-b6f7-0dca2d5bced4",
   "metadata": {},
   "outputs": [
    {
     "data": {
      "text/plain": [
       "['Hyd', 'Bengaluru', 'Pune', 'Mumbai']"
      ]
     },
     "execution_count": 13,
     "metadata": {},
     "output_type": "execute_result"
    }
   ],
   "source": [
    "inputt=[\"hyd\",\"bengaluru\",\"pune\",\"mumbai\"]\n",
    "a=\" \".join(inputt)\n",
    "b=a.title()\n",
    "output=b.split()\n",
    "output"
   ]
  },
  {
   "cell_type": "code",
   "execution_count": 15,
   "id": "8ef6b434-fb5b-4ccb-b590-c25e9e87bbef",
   "metadata": {},
   "outputs": [
    {
     "data": {
      "text/plain": [
       "['Hyd', 'Bengaluru', 'Pune', 'Mumbai']"
      ]
     },
     "execution_count": 15,
     "metadata": {},
     "output_type": "execute_result"
    }
   ],
   "source": [
    "inputt=[\"hyd\",\"bengaluru\",\"pune\",\"mumbai\"]\n",
    "output=[]\n",
    "for i in inputt:\n",
    "    output.append(i.capitalize())\n",
    "\n",
    "output"
   ]
  },
  {
   "cell_type": "code",
   "execution_count": 17,
   "id": "b5307f68-d09a-4152-9dd0-e5bc92d91beb",
   "metadata": {},
   "outputs": [
    {
     "data": {
      "text/plain": [
       "['Hyd', 'Bengaluru', 'Pune', 'Mumbai']"
      ]
     },
     "execution_count": 17,
     "metadata": {},
     "output_type": "execute_result"
    }
   ],
   "source": [
    "inputt=[\"hyd\",\"bengaluru\",\"pune\",\"mumbai\"]\n",
    "output=[i.capitalize() for i in inputt]\n",
    "output"
   ]
  },
  {
   "cell_type": "code",
   "execution_count": 19,
   "id": "ca802aef-e01d-48d5-98c1-adccbd9c5e37",
   "metadata": {},
   "outputs": [
    {
     "data": {
      "text/plain": [
       "['HYD', 'BENGALURU', 'PUNE', 'MUMBAI']"
      ]
     },
     "execution_count": 19,
     "metadata": {},
     "output_type": "execute_result"
    }
   ],
   "source": [
    "inputt=[\"hyd\",\"bengaluru\",\"pune\",\"mumbai\"]\n",
    "output=[]\n",
    "for i in inputt:\n",
    "    output.append(i.upper())\n",
    "\n",
    "output"
   ]
  },
  {
   "cell_type": "code",
   "execution_count": 18,
   "id": "e2b8cf65-3a40-43c1-98d8-bc712bbd19f3",
   "metadata": {},
   "outputs": [
    {
     "data": {
      "text/plain": [
       "['HYD', 'BENGALURU', 'PUNE', 'MUMBAI']"
      ]
     },
     "execution_count": 18,
     "metadata": {},
     "output_type": "execute_result"
    }
   ],
   "source": [
    "inputt=[\"hyd\",\"bengaluru\",\"pune\",\"mumbai\"]\n",
    "output=[i.upper() for i in inputt]\n",
    "output"
   ]
  },
  {
   "cell_type": "code",
   "execution_count": 23,
   "id": "dcde4d50-e353-41ac-b778-91f9c02fd58c",
   "metadata": {},
   "outputs": [
    {
     "data": {
      "text/plain": [
       "3"
      ]
     },
     "execution_count": 23,
     "metadata": {},
     "output_type": "execute_result"
    }
   ],
   "source": [
    "inputt=[\"hyd\",\"bengaluru\",\"pune\",\"mumbai\"]\n",
    "output=[]\n",
    "a=\" \".join(inputt)\n",
    "b=a.find(\" \")\n",
    "b"
   ]
  },
  {
   "cell_type": "code",
   "execution_count": 26,
   "id": "f55ab27d-e21a-44f9-85e0-00dd404200e8",
   "metadata": {},
   "outputs": [
    {
     "name": "stdout",
     "output_type": "stream",
     "text": [
      "0\n",
      "10\n",
      "20\n",
      "30\n"
     ]
    }
   ],
   "source": [
    "inputt=[\"hyd\",\"bengaluru\",\"pune\",\"mumbai\"]\n",
    "for i in inputt:\n",
    "    print(inputt.index(i)*10)"
   ]
  },
  {
   "cell_type": "code",
   "execution_count": 28,
   "id": "b0674a24-f184-429d-a008-22bc50a3e8af",
   "metadata": {},
   "outputs": [
    {
     "data": {
      "text/plain": [
       "[0, 10, 20, 30]"
      ]
     },
     "execution_count": 28,
     "metadata": {},
     "output_type": "execute_result"
    }
   ],
   "source": [
    "inputt=[\"hyd\",\"bengaluru\",\"pune\",\"mumbai\"]\n",
    "inputt=[inputt.index(i)*10 for i in inputt]\n",
    "inputt"
   ]
  },
  {
   "cell_type": "code",
   "execution_count": 34,
   "id": "268b94f5-dea5-48e4-b431-1701d2d4d8b1",
   "metadata": {},
   "outputs": [
    {
     "data": {
      "text/plain": [
       "4"
      ]
     },
     "execution_count": 34,
     "metadata": {},
     "output_type": "execute_result"
    }
   ],
   "source": [
    "inputt=[\"hyd\",\"bengaluru\",\"pune\",\"mumbai\"]\n",
    "summ=0\n",
    "for i in inputt:\n",
    "    #print(i)\n",
    "    summ=summ+1\n",
    "\n",
    "summ"
   ]
  },
  {
   "cell_type": "code",
   "execution_count": 37,
   "id": "a5f9a9dc-c40d-45f3-abaf-991cfa52584a",
   "metadata": {},
   "outputs": [
    {
     "data": {
      "text/plain": [
       "6"
      ]
     },
     "execution_count": 37,
     "metadata": {},
     "output_type": "execute_result"
    }
   ],
   "source": [
    "inputt=[\"hyd\",\"bengaluru\",\"pune\",\"mumbai\"]\n",
    "output=[inputt.index(i) for i in inputt]\n",
    "sum(output)"
   ]
  },
  {
   "cell_type": "code",
   "execution_count": 38,
   "id": "7141cd50-5d25-45ec-81d0-2afede31b82a",
   "metadata": {},
   "outputs": [
    {
     "ename": "SyntaxError",
     "evalue": "invalid syntax. Maybe you meant '==' or ':=' instead of '='? (2096007244.py, line 2)",
     "output_type": "error",
     "traceback": [
      "\u001b[1;36m  Cell \u001b[1;32mIn[38], line 2\u001b[1;36m\u001b[0m\n\u001b[1;33m    output=[summ=summ+1 for i in range(1,11)]\u001b[0m\n\u001b[1;37m            ^\u001b[0m\n\u001b[1;31mSyntaxError\u001b[0m\u001b[1;31m:\u001b[0m invalid syntax. Maybe you meant '==' or ':=' instead of '='?\n"
     ]
    }
   ],
   "source": [
    "inputt=[\"hyd\",\"bengaluru\",\"pune\",\"mumbai\"]\n",
    "output=[summ=summ+1 for i in range(1,11)]\n",
    "output"
   ]
  },
  {
   "cell_type": "markdown",
   "id": "b69ee7ef-4398-4ded-940e-f9835720b8d7",
   "metadata": {},
   "source": [
    "**walrus operator**"
   ]
  },
  {
   "cell_type": "code",
   "execution_count": 44,
   "id": "5526cd30-b8f7-46da-882c-46852d6a0e7a",
   "metadata": {},
   "outputs": [
    {
     "data": {
      "text/plain": [
       "[51, 52, 53, 54, 55, 56, 57, 58, 59, 60]"
      ]
     },
     "execution_count": 44,
     "metadata": {},
     "output_type": "execute_result"
    }
   ],
   "source": [
    "inputt=[\"hyd\",\"bengaluru\",\"pune\",\"mumbai\"]\n",
    "output=[summ:=summ+1 for i in range(1,11)]\n",
    "output"
   ]
  },
  {
   "cell_type": "code",
   "execution_count": null,
   "id": "0335bc25-1470-4f59-b023-ea57ee5727b5",
   "metadata": {},
   "outputs": [],
   "source": []
  },
  {
   "cell_type": "markdown",
   "id": "f0c35a36-7a9a-4650-8946-0462af8a8bf4",
   "metadata": {},
   "source": [
    "**for loop and if condition in list comprehension**"
   ]
  },
  {
   "cell_type": "code",
   "execution_count": 50,
   "id": "6b427ea9-0a36-42f4-b873-32d1b4b82199",
   "metadata": {},
   "outputs": [
    {
     "name": "stdout",
     "output_type": "stream",
     "text": [
      "2\n",
      "4\n",
      "6\n",
      "8\n"
     ]
    }
   ],
   "source": [
    "for i in range(1,10):\n",
    "    if i%2==0:\n",
    "        print(i)\n"
   ]
  },
  {
   "cell_type": "code",
   "execution_count": 51,
   "id": "0891b6eb-552a-4bff-bb32-af54e761fa1e",
   "metadata": {},
   "outputs": [
    {
     "data": {
      "text/plain": [
       "['even:2', 'even:4', 'even:6', 'even:8']"
      ]
     },
     "execution_count": 51,
     "metadata": {},
     "output_type": "execute_result"
    }
   ],
   "source": [
    "even_list=[]\n",
    "for i in range(1,10):\n",
    "    if i%2==0:\n",
    "        even_list.append(f\"even:{i}\")\n",
    "\n",
    "even_list"
   ]
  },
  {
   "cell_type": "code",
   "execution_count": 54,
   "id": "345ca445-452b-4440-b35f-4b5731c119cd",
   "metadata": {},
   "outputs": [
    {
     "data": {
      "text/plain": [
       "['even:2', 'even:4', 'even:6', 'even:8']"
      ]
     },
     "execution_count": 54,
     "metadata": {},
     "output_type": "execute_result"
    }
   ],
   "source": [
    "even_list=[f\"even:{i}\" for i in range(1,10) if i%2==0]\n",
    "even_list"
   ]
  },
  {
   "cell_type": "code",
   "execution_count": 58,
   "id": "32584a55-384e-449f-b2cd-62d2e911dd31",
   "metadata": {},
   "outputs": [
    {
     "data": {
      "text/plain": [
       "['ben#galuru', 'mu#mbai']"
      ]
     },
     "execution_count": 58,
     "metadata": {},
     "output_type": "execute_result"
    }
   ],
   "source": [
    "inputt=[\"hyd\",\"ben#galuru\",\"pune\",\"mu#mbai\"]\n",
    "output=[]\n",
    "for i in inputt:\n",
    "    if \"#\" in i:\n",
    "        output.append(i)\n",
    "\n",
    "output"
   ]
  },
  {
   "cell_type": "code",
   "execution_count": 55,
   "id": "d4e936a7-86bc-4e23-830d-35dd01cdf313",
   "metadata": {},
   "outputs": [
    {
     "data": {
      "text/plain": [
       "['ben#galuru', 'mu#mbai']"
      ]
     },
     "execution_count": 55,
     "metadata": {},
     "output_type": "execute_result"
    }
   ],
   "source": [
    "inputt=[\"hyd\",\"ben#galuru\",\"pune\",\"mu#mbai\"]\n",
    "output=[i for i in inputt if \"#\" in i]\n",
    "output"
   ]
  },
  {
   "cell_type": "code",
   "execution_count": 59,
   "id": "54ed6095-6891-41ed-9f8e-ede6d92dde8a",
   "metadata": {},
   "outputs": [
    {
     "data": {
      "text/plain": [
       "['hyd', 'pune']"
      ]
     },
     "execution_count": 59,
     "metadata": {},
     "output_type": "execute_result"
    }
   ],
   "source": [
    "inputt=[\"hyd\",\"ben#galuru\",\"pune\",\"mu#mbai\"]\n",
    "output=[]\n",
    "for i in inputt:\n",
    "    if \"#\" not in i:\n",
    "        output.append(i)\n",
    "\n",
    "output"
   ]
  },
  {
   "cell_type": "code",
   "execution_count": 56,
   "id": "1910e47b-847e-4182-ac31-2b37c0f1d0b0",
   "metadata": {},
   "outputs": [
    {
     "data": {
      "text/plain": [
       "['hyd', 'pune']"
      ]
     },
     "execution_count": 56,
     "metadata": {},
     "output_type": "execute_result"
    }
   ],
   "source": [
    "inputt=[\"hyd\",\"ben#galuru\",\"pune\",\"mu#mbai\"]\n",
    "output=[i for i in inputt if \"#\" not in i]\n",
    "output"
   ]
  },
  {
   "cell_type": "markdown",
   "id": "f0fc7dad-dde3-4a4c-950a-eef8a1302041",
   "metadata": {},
   "source": [
    "**for loop and if-else condition in list comprehension**"
   ]
  },
  {
   "cell_type": "code",
   "execution_count": 62,
   "id": "4756fa1b-0d7d-4e34-8bc9-d419a100a2b0",
   "metadata": {},
   "outputs": [
    {
     "name": "stdout",
     "output_type": "stream",
     "text": [
      "['even:2', 'even:4', 'even:6', 'even:8']\n",
      "['odd:1', 'odd:3', 'odd:5', 'odd:7', 'odd:9']\n"
     ]
    }
   ],
   "source": [
    "even_list=[]\n",
    "odd_list=[]\n",
    "for i in range(1,10):\n",
    "    if i%2==0:\n",
    "        even_list.append(f\"even:{i}\")\n",
    "    else:\n",
    "        odd_list.append(f\"odd:{i}\")\n",
    "\n",
    "print(even_list)\n",
    "print(odd_list)"
   ]
  },
  {
   "cell_type": "code",
   "execution_count": 63,
   "id": "926d712a-6d4b-4474-b188-49ac069094c4",
   "metadata": {},
   "outputs": [
    {
     "data": {
      "text/plain": [
       "['odd:1',\n",
       " 'even:2',\n",
       " 'odd:3',\n",
       " 'even:4',\n",
       " 'odd:5',\n",
       " 'even:6',\n",
       " 'odd:7',\n",
       " 'even:8',\n",
       " 'odd:9']"
      ]
     },
     "execution_count": 63,
     "metadata": {},
     "output_type": "execute_result"
    }
   ],
   "source": [
    "list1=[]\n",
    "for i in range(1,10):\n",
    "    if i%2==0:\n",
    "        list1.append(f\"even:{i}\")\n",
    "    else:\n",
    "        list1.append(f\"odd:{i}\")\n",
    "list1"
   ]
  },
  {
   "cell_type": "code",
   "execution_count": 65,
   "id": "96b14457-4bef-4875-9e07-76d88b5ebda7",
   "metadata": {},
   "outputs": [
    {
     "data": {
      "text/plain": [
       "['odd:1',\n",
       " 'even:2',\n",
       " 'odd:3',\n",
       " 'even:4',\n",
       " 'odd:5',\n",
       " 'even:6',\n",
       " 'odd:7',\n",
       " 'even:8',\n",
       " 'odd:9']"
      ]
     },
     "execution_count": 65,
     "metadata": {},
     "output_type": "execute_result"
    }
   ],
   "source": [
    "list1=[f\"even:{i}\" if i%2==0 else f\"odd:{i}\" for i in range(1,10)]\n",
    "list1"
   ]
  },
  {
   "cell_type": "markdown",
   "id": "150fd8bf-a5b8-4597-a8f3-22b130fbd81f",
   "metadata": {},
   "source": [
    "**for loop and if-elif-else condition in list comprehension**\n",
    "- in list comprehension we dont have elif representation\n",
    "- elif aslo represented as else+if\n",
    "- in elif we have elif condition and elif output\n",
    "- else if_output then elif_condition "
   ]
  },
  {
   "cell_type": "code",
   "execution_count": 69,
   "id": "e823d114-019c-446a-ae43-09069fb5ffdd",
   "metadata": {},
   "outputs": [
    {
     "data": {
      "text/plain": [
       "['45: C grade',\n",
       " '65: B grade',\n",
       " '77: B grade',\n",
       " '89: A grade',\n",
       " '55: C grade',\n",
       " '64: B grade',\n",
       " '32: C grade',\n",
       " '99: A grade',\n",
       " '41: C grade',\n",
       " '33: C grade',\n",
       " '45: C grade',\n",
       " '67: B grade',\n",
       " '86: A grade']"
      ]
     },
     "execution_count": 69,
     "metadata": {},
     "output_type": "execute_result"
    }
   ],
   "source": [
    "l=[45,65,77,89,55,64,32,99,41,33,45,67,86]\n",
    "out=[]\n",
    "for i in l:\n",
    "    if i>85:\n",
    "        out.append(f\"{i}: A grade\")\n",
    "    elif i>60:\n",
    "         out.append(f\"{i}: B grade\")\n",
    "    else:\n",
    "         out.append(f\"{i}: B grade\")\n",
    "\n",
    "out"
   ]
  },
  {
   "cell_type": "code",
   "execution_count": 70,
   "id": "62cc06fe-c861-499a-9abe-ed0df68314b8",
   "metadata": {},
   "outputs": [
    {
     "data": {
      "text/plain": [
       "['45: B grade',\n",
       " '65: B grade',\n",
       " '77: B grade',\n",
       " '89: A grade',\n",
       " '55: B grade',\n",
       " '64: B grade',\n",
       " '32: B grade',\n",
       " '99: A grade',\n",
       " '41: B grade',\n",
       " '33: B grade',\n",
       " '45: B grade',\n",
       " '67: B grade',\n",
       " '86: A grade']"
      ]
     },
     "execution_count": 70,
     "metadata": {},
     "output_type": "execute_result"
    }
   ],
   "source": [
    "l=[45,65,77,89,55,64,32,99,41,33,45,67,86]\n",
    "out=[f\"{i}: A grade\" if i>85 else f\"{i}: B grade\" if i>60 else f\"{i}: B grade\" for i in l]\n",
    "out"
   ]
  },
  {
   "cell_type": "code",
   "execution_count": null,
   "id": "b700f2ab-d596-4d13-a1e2-366e55d3bb47",
   "metadata": {},
   "outputs": [],
   "source": []
  }
 ],
 "metadata": {
  "kernelspec": {
   "display_name": "Python 3 (ipykernel)",
   "language": "python",
   "name": "python3"
  },
  "language_info": {
   "codemirror_mode": {
    "name": "ipython",
    "version": 3
   },
   "file_extension": ".py",
   "mimetype": "text/x-python",
   "name": "python",
   "nbconvert_exporter": "python",
   "pygments_lexer": "ipython3",
   "version": "3.12.7"
  }
 },
 "nbformat": 4,
 "nbformat_minor": 5
}
