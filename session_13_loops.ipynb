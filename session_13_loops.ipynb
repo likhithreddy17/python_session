{
 "cells": [
  {
   "cell_type": "markdown",
   "id": "b5c61324-1f38-4830-b32e-84dfed16dfc5",
   "metadata": {},
   "source": [
    "# loops"
   ]
  },
  {
   "cell_type": "markdown",
   "id": "f90b7958-751e-4ef1-adbb-3ec8c24007f3",
   "metadata": {},
   "source": [
    "- loops are used to iterate the code multiple times\n",
    "- functions are used to reuse thye code block\n",
    "- that code block can be repeated multiple times then think about loop\n",
    "- we have two loops\n",
    "    - for lopp\n",
    "    - while loop\n",
    "- any loop we need three things\n",
    "    - initialization\n",
    "    - increment or decrement\n",
    "    - condition to stop"
   ]
  },
  {
   "cell_type": "markdown",
   "id": "d32b5530-54ca-40a6-832c-94faeb21f4d3",
   "metadata": {},
   "source": [
    "**for loop**\n"
   ]
  },
  {
   "cell_type": "code",
   "execution_count": null,
   "id": "51af2142-7a54-4e56-8a12-8f3e944cf47e",
   "metadata": {},
   "outputs": [],
   "source": [
    "for <variable> in range(<number>):\n",
    "    <write your code here>"
   ]
  },
  {
   "cell_type": "code",
   "execution_count": 7,
   "id": "0a3a866a-9d6d-4739-8be2-922714f79498",
   "metadata": {},
   "outputs": [
    {
     "name": "stdout",
     "output_type": "stream",
     "text": [
      "0\n",
      "1\n",
      "2\n",
      "3\n",
      "4\n"
     ]
    }
   ],
   "source": [
    "for i in range(5):\n",
    "    print(i)"
   ]
  },
  {
   "cell_type": "code",
   "execution_count": 8,
   "id": "46be3de0-8374-4c27-860d-ae11896e6276",
   "metadata": {},
   "outputs": [
    {
     "name": "stdout",
     "output_type": "stream",
     "text": [
      "01234"
     ]
    }
   ],
   "source": [
    "for i in range(5):\n",
    "    print(i,end=\"\")"
   ]
  },
  {
   "cell_type": "code",
   "execution_count": 9,
   "id": "9f1deb53-493c-4aed-a557-9120ba2135f3",
   "metadata": {},
   "outputs": [
    {
     "name": "stdout",
     "output_type": "stream",
     "text": [
      "0  1  2  3  4  "
     ]
    }
   ],
   "source": [
    "for i in range(5):\n",
    "    print(i,end=\"  \")"
   ]
  },
  {
   "cell_type": "markdown",
   "id": "29461b6a-5ca6-43df-8dda-e5ac68b05804",
   "metadata": {},
   "source": [
    "**case:1:range(stop)**\n",
    "- start=0: oython index always starts with zero\n",
    "- increment by 1\n",
    "- last value= stop-1"
   ]
  },
  {
   "cell_type": "code",
   "execution_count": 12,
   "id": "08fbe2fe-f322-411b-b53c-8e2655aee0b8",
   "metadata": {},
   "outputs": [
    {
     "name": "stdout",
     "output_type": "stream",
     "text": [
      "0  1  2  3  4  5  6  7  8  9  "
     ]
    }
   ],
   "source": [
    "for i in range(10):    # here it prints 0 to 9 because range=10 so it runs upto 10-1=9\n",
    "    print(i,end=\"  \")"
   ]
  },
  {
   "cell_type": "code",
   "execution_count": 13,
   "id": "f037b681-e292-49e8-89ae-af532b9d4392",
   "metadata": {},
   "outputs": [
    {
     "name": "stdout",
     "output_type": "stream",
     "text": [
      "good mornimg\n",
      "good mornimg\n",
      "good mornimg\n",
      "good mornimg\n",
      "good mornimg\n"
     ]
    }
   ],
   "source": [
    "for i in range(5):\n",
    "    print(\"good mornimg\")"
   ]
  },
  {
   "cell_type": "code",
   "execution_count": null,
   "id": "f252ff5b-c469-48de-8ef6-9b62b7101055",
   "metadata": {},
   "outputs": [],
   "source": [
    "**case-2:range(start,stop)**\n",
    "\n",
    "- suppose i wnt to start my loop with a particular number\n",
    "- then add start also inside the range\n",
    "- start=start\n",
    "- increment by 1\n",
    "last= stop-1"
   ]
  },
  {
   "cell_type": "code",
   "execution_count": 15,
   "id": "ced2b801-4960-41a5-a80c-8114d8f3ed45",
   "metadata": {},
   "outputs": [
    {
     "name": "stdout",
     "output_type": "stream",
     "text": [
      "5  6  7  8  9  10  11  12  13  14  "
     ]
    }
   ],
   "source": [
    "for i in range(5,15):\n",
    "    print(i,end=\"  \")"
   ]
  },
  {
   "cell_type": "code",
   "execution_count": 16,
   "id": "08ab4246-d263-4fc7-8b2f-ac8ac81296ad",
   "metadata": {},
   "outputs": [
    {
     "name": "stdout",
     "output_type": "stream",
     "text": [
      "1  4  9  16  "
     ]
    }
   ],
   "source": [
    "for i in range(1,5):\n",
    "    print(i*i,end=\"  \")"
   ]
  },
  {
   "cell_type": "code",
   "execution_count": 17,
   "id": "0df96a47-9d0e-4892-98c2-f86dff6dcb01",
   "metadata": {},
   "outputs": [
    {
     "name": "stdin",
     "output_type": "stream",
     "text": [
      "enter the number: 12\n"
     ]
    },
    {
     "name": "stdout",
     "output_type": "stream",
     "text": [
      "the square of 120\n"
     ]
    },
    {
     "name": "stdin",
     "output_type": "stream",
     "text": [
      "enter the number: 45\n"
     ]
    },
    {
     "name": "stdout",
     "output_type": "stream",
     "text": [
      "the square of 451\n"
     ]
    },
    {
     "name": "stdin",
     "output_type": "stream",
     "text": [
      "enter the number: 78\n"
     ]
    },
    {
     "name": "stdout",
     "output_type": "stream",
     "text": [
      "the square of 784\n"
     ]
    },
    {
     "name": "stdin",
     "output_type": "stream",
     "text": [
      "enter the number: 90\n"
     ]
    },
    {
     "name": "stdout",
     "output_type": "stream",
     "text": [
      "the square of 909\n"
     ]
    },
    {
     "name": "stdin",
     "output_type": "stream",
     "text": [
      "enter the number: 47\n"
     ]
    },
    {
     "name": "stdout",
     "output_type": "stream",
     "text": [
      "the square of 4716\n"
     ]
    }
   ],
   "source": [
    "for i in range(5):\n",
    "    num=eval(input(\"enter the number:\"))\n",
    "    print(f\"the square of {num:}{i*i}\")"
   ]
  },
  {
   "cell_type": "markdown",
   "id": "4389f6d2-229a-4d4a-9fc7-16208c792268",
   "metadata": {},
   "source": [
    "**case-3: range(start,stop,step)**\n",
    "- start = start only\n",
    "- step:\n",
    "    - look about step sign is positive or negative\n",
    "     - positive means increment\n",
    "        - last=stop-1\n",
    "    - negative means decreament\n",
    "        - last=stop+1"
   ]
  },
  {
   "cell_type": "code",
   "execution_count": 19,
   "id": "c43340a2-98d0-4e95-8d7e-f1491b56c615",
   "metadata": {},
   "outputs": [
    {
     "name": "stdout",
     "output_type": "stream",
     "text": [
      "3  5  7  9  11  13  15  17  "
     ]
    }
   ],
   "source": [
    "#example1 range(3,19,2)\n",
    "# start=3\n",
    "#step=+2 positive direction\n",
    "# last= 19-1=19\n",
    "for i in range(3,19,2):\n",
    "    print(i,end=\"  \")"
   ]
  },
  {
   "cell_type": "code",
   "execution_count": 23,
   "id": "e2e684bf-460f-4992-a2e0-39902aaf3e39",
   "metadata": {},
   "outputs": [
    {
     "name": "stdout",
     "output_type": "stream",
     "text": [
      "19  17  15  13  11  9  7  5  "
     ]
    }
   ],
   "source": [
    "#example1 range(19,3,-2)\n",
    "# start=3\n",
    "#step=+2 negative direction\n",
    "# last= 19-1=19\n",
    "for i in range(19,3,-2):\n",
    "    print(i,end=\"  \")"
   ]
  },
  {
   "cell_type": "code",
   "execution_count": 24,
   "id": "956795c0-0b99-4a63-82f4-788553a5d53e",
   "metadata": {},
   "outputs": [
    {
     "name": "stdout",
     "output_type": "stream",
     "text": [
      "3  1  -1  -3  -5  -7  -9  -11  -13  -15  -17  "
     ]
    }
   ],
   "source": [
    "for i in range(3,-19,-2):\n",
    "    print(i,end=\"  \")"
   ]
  },
  {
   "cell_type": "code",
   "execution_count": 26,
   "id": "d8c3b551-0802-4d01-961f-84b59e3e0cf3",
   "metadata": {},
   "outputs": [
    {
     "name": "stdout",
     "output_type": "stream",
     "text": [
      "-19  -17  -15  -13  -11  -9  -7  -5  -3  -1  1  "
     ]
    }
   ],
   "source": [
    "for i in range(-19,3,2):\n",
    "    print(i,end=\"  \")"
   ]
  },
  {
   "cell_type": "code",
   "execution_count": 10,
   "id": "922577c4-0c82-4c17-8bbb-297a06965d90",
   "metadata": {},
   "outputs": [
    {
     "name": "stdin",
     "output_type": "stream",
     "text": [
      "enetr number: 7\n"
     ]
    },
    {
     "name": "stdout",
     "output_type": "stream",
     "text": [
      "7x1=7\n",
      "7x2=14\n",
      "7x3=21\n",
      "7x4=28\n",
      "7x5=35\n",
      "7x6=42\n",
      "7x7=49\n",
      "7x8=56\n",
      "7x9=63\n",
      "7x10=70\n"
     ]
    }
   ],
   "source": [
    "#exercise\n",
    "num=eval(input(\"enetr number:\"))\n",
    "for i in range(1,11):\n",
    "    print(f\"{num}x{i}={num*i}\")"
   ]
  },
  {
   "cell_type": "code",
   "execution_count": 22,
   "id": "1f529467-6cc4-4345-b0af-6f3aa1018e76",
   "metadata": {},
   "outputs": [
    {
     "name": "stdin",
     "output_type": "stream",
     "text": [
      "enter the number 18\n"
     ]
    },
    {
     "name": "stdout",
     "output_type": "stream",
     "text": [
      "1 is a divisor of 18\n",
      "2 is a divisor of 18\n",
      "3 is a divisor of 18\n",
      "6 is a divisor of 18\n",
      "9 is a divisor of 18\n",
      "18 is a divisor of 18\n"
     ]
    }
   ],
   "source": [
    "#exercise\n",
    "num=eval(input(\"enter the number\"))\n",
    "for i in range(1,num+1):\n",
    "    if num%i==0:\n",
    "        print(f\"{i} is a divisor of {num}\")"
   ]
  },
  {
   "cell_type": "markdown",
   "id": "3d73773b-2209-417a-b205-52038a7c05b4",
   "metadata": {},
   "source": [
    "**summation wrapper**\n",
    "- starting we initialize the sum value =0\n",
    "- inside loop we will add a simple line: summ=summ+i"
   ]
  },
  {
   "cell_type": "code",
   "execution_count": 32,
   "id": "a24d3e69-0bf6-4cd6-b13b-d66171a4d13c",
   "metadata": {},
   "outputs": [
    {
     "name": "stdout",
     "output_type": "stream",
     "text": [
      "1\n",
      "3\n",
      "6\n",
      "10\n",
      "15\n",
      "21\n",
      "28\n",
      "36\n",
      "45\n",
      "55\n",
      "###########################\n",
      "55\n"
     ]
    }
   ],
   "source": [
    "#sum of first ten natural numbers\n",
    "summ=0\n",
    "for i in range (1,11):\n",
    "    summ=summ+i\n",
    "    print(summ)    #inside loop will give all values\n",
    "print(\"###########################\")\n",
    "print(summ)    #outside for loop will gives only last answers\n",
    "   "
   ]
  },
  {
   "cell_type": "code",
   "execution_count": 34,
   "id": "a8d9ad99-7717-4cee-bf55-bbfeb966ddfd",
   "metadata": {},
   "outputs": [
    {
     "name": "stdin",
     "output_type": "stream",
     "text": [
      "enter the number: 75\n"
     ]
    },
    {
     "name": "stdout",
     "output_type": "stream",
     "text": [
      "124\n"
     ]
    }
   ],
   "source": [
    "#sum of divisors of 75\n",
    "summ=0\n",
    "num=eval(input(\"enter the number:\"))\n",
    "for i in range(1,num+1):\n",
    "    if num%i==0:\n",
    "        summ=summ+i\n",
    "\n",
    "print(summ)"
   ]
  },
  {
   "cell_type": "markdown",
   "id": "f734447e-5472-4527-80a6-37054a65c127",
   "metadata": {},
   "source": [
    "**counter wrapper**\n",
    "- counter means counting the success ones\n",
    "- count=0\n",
    "- for loop\n",
    "    - count=count+1\n"
   ]
  },
  {
   "cell_type": "code",
   "execution_count": 39,
   "id": "7c05e178-c3dd-4d31-b227-23677ead96d5",
   "metadata": {},
   "outputs": [
    {
     "name": "stdin",
     "output_type": "stream",
     "text": [
      "enter the number: 75\n"
     ]
    },
    {
     "name": "stdout",
     "output_type": "stream",
     "text": [
      "6\n"
     ]
    }
   ],
   "source": [
    "#find no of divisors of 75\n",
    "count=0\n",
    "num=eval(input(\"enter the number:\"))\n",
    "for i in range(1,num+1):\n",
    "    if num%i==0:\n",
    "        count=count+1\n",
    "\n",
    "print(count)"
   ]
  },
  {
   "cell_type": "code",
   "execution_count": 45,
   "id": "6be62558-600e-41fe-97df-207b22fd0909",
   "metadata": {},
   "outputs": [
    {
     "name": "stdout",
     "output_type": "stream",
     "text": [
      "76 is an even\n",
      "15 is an odd\n",
      "100 is an even\n",
      "9 is an odd\n",
      "56 is an even\n",
      "summ of even 232\n",
      "count of even 3\n",
      "summ of odd 24\n",
      "count of odd 2\n"
     ]
    }
   ],
   "source": [
    "import random\n",
    "even_count,odd_count=0,0\n",
    "even_summ,odd_summ=0,0\n",
    "for i in range(1,6):\n",
    "    num=random.randint(1,100)\n",
    "    if num%2==0:\n",
    "        print(f\"{num} is an even\")\n",
    "        even_summ=even_summ+num\n",
    "        even_count=even_count+1\n",
    "    else:\n",
    "        print(f\"{num} is an odd\")\n",
    "        odd_summ=odd_summ+num\n",
    "        odd_count=odd_count+1\n",
    "\n",
    "print(\"summ of even\",even_summ)\n",
    "print(\"count of even\",even_count)\n",
    "print(\"summ of odd\",odd_summ)\n",
    "print(\"count of odd\",odd_count)"
   ]
  },
  {
   "cell_type": "code",
   "execution_count": 52,
   "id": "cbf023b1-e253-4193-a2e4-28f0aae84ac5",
   "metadata": {},
   "outputs": [
    {
     "name": "stdin",
     "output_type": "stream",
     "text": [
      "enter number: 3\n"
     ]
    },
    {
     "name": "stdout",
     "output_type": "stream",
     "text": [
      "lost\n"
     ]
    },
    {
     "name": "stdin",
     "output_type": "stream",
     "text": [
      "enter number: 4\n"
     ]
    },
    {
     "name": "stdout",
     "output_type": "stream",
     "text": [
      "lost\n"
     ]
    }
   ],
   "source": [
    "for i in range(1,3):\n",
    "    num1=eval(input(\"enter number:\"))\n",
    "    num2=random.randint(1,10)\n",
    "    if num1==num2:\n",
    "        print(\"won\")\n",
    "\n",
    "    else:\n",
    "        print(\"lost\")"
   ]
  },
  {
   "cell_type": "code",
   "execution_count": 53,
   "id": "e291b607-dfa0-4513-83af-0218bf47a036",
   "metadata": {},
   "outputs": [
    {
     "name": "stdin",
     "output_type": "stream",
     "text": [
      "enter number: 7\n"
     ]
    },
    {
     "name": "stdout",
     "output_type": "stream",
     "text": [
      "lost\n"
     ]
    },
    {
     "name": "stdin",
     "output_type": "stream",
     "text": [
      "enter number: 4\n"
     ]
    },
    {
     "name": "stdout",
     "output_type": "stream",
     "text": [
      "won\n"
     ]
    }
   ],
   "source": [
    "for i in range(1,3):\n",
    "    num1=eval(input(\"enter number:\"))\n",
    "    num2=random.randint(1,10)\n",
    "    if num1==num2:\n",
    "        print(\"won\")\n",
    "        break\n",
    "\n",
    "    else:\n",
    "        print(\"lost\")"
   ]
  },
  {
   "cell_type": "code",
   "execution_count": 21,
   "id": "94c97e74-0994-4d86-80e0-1d105b33bd64",
   "metadata": {},
   "outputs": [
    {
     "name": "stdin",
     "output_type": "stream",
     "text": [
      "no.of total chances 2\n",
      "enter number: 4\n"
     ]
    },
    {
     "name": "stdout",
     "output_type": "stream",
     "text": [
      "u lost\n",
      "no.of chances left 1\n"
     ]
    },
    {
     "name": "stdin",
     "output_type": "stream",
     "text": [
      "enter number: 5\n"
     ]
    },
    {
     "name": "stdout",
     "output_type": "stream",
     "text": [
      "u lost\n",
      "no.of chances left 0\n"
     ]
    }
   ],
   "source": [
    "import random\n",
    "n=eval(input(\"no.of total chances\"))\n",
    "for i in range(n):\n",
    "    num1=eval(input(\"enter number:\"))\n",
    "    num2=random.randint(1,10)\n",
    "    if num1==num2:\n",
    "        print(\"u won\")\n",
    "        break\n",
    "\n",
    "    else:\n",
    "        print(\"u lost\")\n",
    "        n=n-1\n",
    "        print(f\"no.of chances left {n}\")\n",
    "        "
   ]
  },
  {
   "cell_type": "code",
   "execution_count": 23,
   "id": "50acb77e-0fb7-4765-abd7-c8a4a4d21946",
   "metadata": {},
   "outputs": [
    {
     "name": "stdin",
     "output_type": "stream",
     "text": [
      "no.of total chances 3\n",
      "enter number: 3\n"
     ]
    },
    {
     "name": "stdout",
     "output_type": "stream",
     "text": [
      "u lost\n",
      "no.of chances left 2\n"
     ]
    },
    {
     "name": "stdin",
     "output_type": "stream",
     "text": [
      "enter number: 4\n"
     ]
    },
    {
     "name": "stdout",
     "output_type": "stream",
     "text": [
      "u lost\n",
      "no.of chances left 1\n"
     ]
    },
    {
     "name": "stdin",
     "output_type": "stream",
     "text": [
      "enter number: 5\n"
     ]
    },
    {
     "name": "stdout",
     "output_type": "stream",
     "text": [
      "u lost\n",
      "no.of chances left 0\n",
      "no chances left try after 24 hours\n"
     ]
    }
   ],
   "source": [
    "import random\n",
    "n=eval(input(\"no.of total chances\"))\n",
    "for i in range(n):\n",
    "    num1=eval(input(\"enter number:\"))\n",
    "    num2=random.randint(1,10)\n",
    "    if num1==num2:\n",
    "        print(\"u won\")\n",
    "        break\n",
    "\n",
    "    else:\n",
    "        print(\"u lost\")\n",
    "        n=n-1\n",
    "        print(f\"no.of chances left {n}\")\n",
    "        if n==0:\n",
    "            print(\"no chances left try after 24 hours\")"
   ]
  },
  {
   "cell_type": "markdown",
   "id": "f440bcaa-84b3-461e-8076-39f2378868e9",
   "metadata": {},
   "source": [
    "# in operator"
   ]
  },
  {
   "cell_type": "markdown",
   "id": "d1552758-045a-45f4-a4b0-bb33bec3d37e",
   "metadata": {},
   "source": [
    "- in for loop we have range and in operators\n",
    "- range is a math related word, whenever we use range it expects a number inside range\n",
    "- in operator expects a string"
   ]
  },
  {
   "cell_type": "code",
   "execution_count": 24,
   "id": "2488f6e5-e0dd-4dc9-8ac9-3ada7f6275f7",
   "metadata": {},
   "outputs": [
    {
     "name": "stdout",
     "output_type": "stream",
     "text": [
      "0  1  2  3  4  5  6  7  8  9  "
     ]
    }
   ],
   "source": [
    "for i in range(10):\n",
    "    print(i,end=\"  \")"
   ]
  },
  {
   "cell_type": "code",
   "execution_count": 26,
   "id": "ac01f813-ed84-448e-91a1-24e44e5ffdb6",
   "metadata": {},
   "outputs": [
    {
     "ename": "TypeError",
     "evalue": "'str' object cannot be interpreted as an integer",
     "output_type": "error",
     "traceback": [
      "\u001b[1;31m---------------------------------------------------------------------------\u001b[0m",
      "\u001b[1;31mTypeError\u001b[0m                                 Traceback (most recent call last)",
      "Cell \u001b[1;32mIn[26], line 1\u001b[0m\n\u001b[1;32m----> 1\u001b[0m \u001b[38;5;28;01mfor\u001b[39;00m i \u001b[38;5;129;01min\u001b[39;00m \u001b[38;5;28mrange\u001b[39m(\u001b[38;5;124m\"\u001b[39m\u001b[38;5;124mpython\u001b[39m\u001b[38;5;124m\"\u001b[39m):\n\u001b[0;32m      2\u001b[0m     \u001b[38;5;28mprint\u001b[39m(i,end\u001b[38;5;241m=\u001b[39m\u001b[38;5;124m\"\u001b[39m\u001b[38;5;124m  \u001b[39m\u001b[38;5;124m\"\u001b[39m)\n",
      "\u001b[1;31mTypeError\u001b[0m: 'str' object cannot be interpreted as an integer"
     ]
    }
   ],
   "source": [
    "for i in range(\"python\"):\n",
    "    print(i,end=\"  \")"
   ]
  },
  {
   "cell_type": "code",
   "execution_count": 25,
   "id": "98cb3a6f-8527-436d-a97c-1cbb375b73ac",
   "metadata": {},
   "outputs": [
    {
     "name": "stdout",
     "output_type": "stream",
     "text": [
      "p  y  t  h  o  n  "
     ]
    }
   ],
   "source": [
    "for i in 'python':\n",
    "    print(i,end=\"  \")"
   ]
  },
  {
   "cell_type": "code",
   "execution_count": 28,
   "id": "02bf3b3a-dbea-42b3-a8ba-7117f89d1eb3",
   "metadata": {},
   "outputs": [
    {
     "data": {
      "text/plain": [
       "True"
      ]
     },
     "execution_count": 28,
     "metadata": {},
     "output_type": "execute_result"
    }
   ],
   "source": [
    "\"p\" in \"python\"\n",
    "\"y\" in \"python\"\n",
    "\"t\" in \"python\"\n",
    "\"h\" in \"python\"\n",
    "\"o\" in \"python\"\n",
    "\"n\" in \"python\"\n",
    "\n",
    "# here python is common and p,y,t,h,o,n is changing so we can write i in python"
   ]
  },
  {
   "cell_type": "markdown",
   "id": "c5df0335-2174-448c-a58e-68b8de68adf2",
   "metadata": {},
   "source": [
    "# ASCII\n",
    "- American Standard Code for Information Interchange "
   ]
  },
  {
   "cell_type": "code",
   "execution_count": 29,
   "id": "7d25db54-aecd-42d0-934e-6f3f1b6a2cb9",
   "metadata": {},
   "outputs": [
    {
     "data": {
      "text/plain": [
       "False"
      ]
     },
     "execution_count": 29,
     "metadata": {},
     "output_type": "execute_result"
    }
   ],
   "source": [
    "#A value 65\n",
    "#a value is 97\n",
    "\"A\"==\"a\""
   ]
  },
  {
   "cell_type": "code",
   "execution_count": 30,
   "id": "743287a8-a76a-449a-bd6b-703803748b0a",
   "metadata": {},
   "outputs": [
    {
     "data": {
      "text/plain": [
       "False"
      ]
     },
     "execution_count": 30,
     "metadata": {},
     "output_type": "execute_result"
    }
   ],
   "source": [
    "\"A\">\"a\""
   ]
  },
  {
   "cell_type": "code",
   "execution_count": 31,
   "id": "bc927e87-c770-4384-a6a8-d1d11ce4ab11",
   "metadata": {},
   "outputs": [
    {
     "data": {
      "text/plain": [
       "True"
      ]
     },
     "execution_count": 31,
     "metadata": {},
     "output_type": "execute_result"
    }
   ],
   "source": [
    "\"A\"<\"a\""
   ]
  },
  {
   "cell_type": "markdown",
   "id": "36934216-d04a-4f35-ba18-84579ced44fa",
   "metadata": {},
   "source": [
    "- how to convert character to number\n",
    "- how to convert number to character\n",
    "- it has 2 methods"
   ]
  },
  {
   "cell_type": "markdown",
   "id": "d4a0e2fe-1735-406c-9de1-db9bdcb412dd",
   "metadata": {},
   "source": [
    "**chr-ord**"
   ]
  },
  {
   "cell_type": "code",
   "execution_count": 38,
   "id": "e8fd07b0-4fc9-4e56-9bff-8d5088aa653a",
   "metadata": {},
   "outputs": [
    {
     "ename": "TypeError",
     "evalue": "'str' object cannot be interpreted as an integer",
     "output_type": "error",
     "traceback": [
      "\u001b[1;31m---------------------------------------------------------------------------\u001b[0m",
      "\u001b[1;31mTypeError\u001b[0m                                 Traceback (most recent call last)",
      "Cell \u001b[1;32mIn[38], line 1\u001b[0m\n\u001b[1;32m----> 1\u001b[0m \u001b[38;5;28mchr\u001b[39m(\u001b[38;5;124m\"\u001b[39m\u001b[38;5;124ma\u001b[39m\u001b[38;5;124m\"\u001b[39m)\n",
      "\u001b[1;31mTypeError\u001b[0m: 'str' object cannot be interpreted as an integer"
     ]
    }
   ],
   "source": [
    "chr(\"a\")"
   ]
  },
  {
   "cell_type": "code",
   "execution_count": 33,
   "id": "e0ebf974-d26d-4463-adfc-906771a711c3",
   "metadata": {},
   "outputs": [
    {
     "data": {
      "text/plain": [
       "97"
      ]
     },
     "execution_count": 33,
     "metadata": {},
     "output_type": "execute_result"
    }
   ],
   "source": [
    "ord(\"a\")"
   ]
  },
  {
   "cell_type": "code",
   "execution_count": 39,
   "id": "ccbf67c5-9ae4-4915-a23a-7dd073b4ea1d",
   "metadata": {},
   "outputs": [
    {
     "data": {
      "text/plain": [
       "'a'"
      ]
     },
     "execution_count": 39,
     "metadata": {},
     "output_type": "execute_result"
    }
   ],
   "source": [
    "chr(97)"
   ]
  },
  {
   "cell_type": "code",
   "execution_count": 36,
   "id": "c702596b-d5c2-4694-bd2c-e1ff467f4af3",
   "metadata": {},
   "outputs": [
    {
     "ename": "TypeError",
     "evalue": "ord() expected string of length 1, but int found",
     "output_type": "error",
     "traceback": [
      "\u001b[1;31m---------------------------------------------------------------------------\u001b[0m",
      "\u001b[1;31mTypeError\u001b[0m                                 Traceback (most recent call last)",
      "Cell \u001b[1;32mIn[36], line 1\u001b[0m\n\u001b[1;32m----> 1\u001b[0m \u001b[38;5;28mord\u001b[39m(\u001b[38;5;241m97\u001b[39m)\n",
      "\u001b[1;31mTypeError\u001b[0m: ord() expected string of length 1, but int found"
     ]
    }
   ],
   "source": [
    "ord(97)"
   ]
  },
  {
   "cell_type": "code",
   "execution_count": 40,
   "id": "8bfc3ccd-ab71-48f7-ab04-2556830fd043",
   "metadata": {},
   "outputs": [
    {
     "data": {
      "text/plain": [
       "'\\x11'"
      ]
     },
     "execution_count": 40,
     "metadata": {},
     "output_type": "execute_result"
    }
   ],
   "source": [
    "chr(17)"
   ]
  },
  {
   "cell_type": "code",
   "execution_count": 41,
   "id": "a9107008-2eee-4ec2-a423-745f568d1085",
   "metadata": {},
   "outputs": [
    {
     "data": {
      "text/plain": [
       "'\\x14'"
      ]
     },
     "execution_count": 41,
     "metadata": {},
     "output_type": "execute_result"
    }
   ],
   "source": [
    "chr(20)"
   ]
  },
  {
   "cell_type": "code",
   "execution_count": 42,
   "id": "a6051190-b44e-438f-978c-1efc4455b94b",
   "metadata": {},
   "outputs": [
    {
     "data": {
      "text/plain": [
       "108"
      ]
     },
     "execution_count": 42,
     "metadata": {},
     "output_type": "execute_result"
    }
   ],
   "source": [
    "ord(\"l\")"
   ]
  },
  {
   "cell_type": "markdown",
   "id": "310c9ff9-aed6-4ef0-b62b-f05d43abed96",
   "metadata": {},
   "source": [
    "- ord converts character to number\n",
    "- chr converting number to character"
   ]
  },
  {
   "cell_type": "code",
   "execution_count": 45,
   "id": "3ef2967b-a9a6-4ee4-992d-0ec0aac3de73",
   "metadata": {},
   "outputs": [
    {
     "name": "stdout",
     "output_type": "stream",
     "text": [
      "A=65\n",
      "B=66\n",
      "C=67\n",
      "D=68\n",
      "E=69\n",
      "F=70\n",
      "G=71\n",
      "H=72\n",
      "I=73\n",
      "J=74\n",
      "K=75\n",
      "L=76\n",
      "M=77\n",
      "N=78\n",
      "O=79\n",
      "P=80\n",
      "Q=81\n",
      "R=82\n",
      "S=83\n",
      "T=84\n",
      "U=85\n",
      "V=86\n",
      "W=87\n",
      "X=88\n",
      "Y=89\n",
      "Z=90\n"
     ]
    }
   ],
   "source": [
    "for i in \"ABCDEFGHIJKLMNOPQRSTUVWXYZ\":\n",
    "    ASCII=ord(i)\n",
    "    print(f\"{i}={ASCII}\")"
   ]
  },
  {
   "cell_type": "markdown",
   "id": "b11ad861-01b8-4df4-96a3-19e0055f8004",
   "metadata": {},
   "source": [
    "**package:strings**"
   ]
  },
  {
   "cell_type": "code",
   "execution_count": 47,
   "id": "41ff09ad-56dd-4e18-9d2c-1040ee8ee688",
   "metadata": {},
   "outputs": [
    {
     "data": {
      "text/plain": [
       "['Formatter',\n",
       " 'Template',\n",
       " '_ChainMap',\n",
       " '__all__',\n",
       " '__builtins__',\n",
       " '__cached__',\n",
       " '__doc__',\n",
       " '__file__',\n",
       " '__loader__',\n",
       " '__name__',\n",
       " '__package__',\n",
       " '__spec__',\n",
       " '_re',\n",
       " '_sentinel_dict',\n",
       " '_string',\n",
       " 'ascii_letters',\n",
       " 'ascii_lowercase',\n",
       " 'ascii_uppercase',\n",
       " 'capwords',\n",
       " 'digits',\n",
       " 'hexdigits',\n",
       " 'octdigits',\n",
       " 'printable',\n",
       " 'punctuation',\n",
       " 'whitespace']"
      ]
     },
     "execution_count": 47,
     "metadata": {},
     "output_type": "execute_result"
    }
   ],
   "source": [
    "import string\n",
    "dir(string)"
   ]
  },
  {
   "cell_type": "code",
   "execution_count": 49,
   "id": "5e012758-e2af-42c0-a9da-523b6151867c",
   "metadata": {},
   "outputs": [
    {
     "name": "stdout",
     "output_type": "stream",
     "text": [
      "A=65\n",
      "B=66\n",
      "C=67\n",
      "D=68\n",
      "E=69\n",
      "F=70\n",
      "G=71\n",
      "H=72\n",
      "I=73\n",
      "J=74\n",
      "K=75\n",
      "L=76\n",
      "M=77\n",
      "N=78\n",
      "O=79\n",
      "P=80\n",
      "Q=81\n",
      "R=82\n",
      "S=83\n",
      "T=84\n",
      "U=85\n",
      "V=86\n",
      "W=87\n",
      "X=88\n",
      "Y=89\n",
      "Z=90\n"
     ]
    }
   ],
   "source": [
    "from string import ascii_uppercase\n",
    "for i in ascii_uppercase:\n",
    "    ASCII=ord(i)\n",
    "    print(f\"{i}={ASCII}\")"
   ]
  },
  {
   "cell_type": "code",
   "execution_count": 50,
   "id": "d02abc04-ce07-46bb-8e70-ba9882b8faf0",
   "metadata": {},
   "outputs": [
    {
     "name": "stdout",
     "output_type": "stream",
     "text": [
      "a=97\n",
      "b=98\n",
      "c=99\n",
      "d=100\n",
      "e=101\n",
      "f=102\n",
      "g=103\n",
      "h=104\n",
      "i=105\n",
      "j=106\n",
      "k=107\n",
      "l=108\n",
      "m=109\n",
      "n=110\n",
      "o=111\n",
      "p=112\n",
      "q=113\n",
      "r=114\n",
      "s=115\n",
      "t=116\n",
      "u=117\n",
      "v=118\n",
      "w=119\n",
      "x=120\n",
      "y=121\n",
      "z=122\n"
     ]
    }
   ],
   "source": [
    "from string import ascii_lowercase\n",
    "for i in ascii_lowercase:\n",
    "    ASCII=ord(i)\n",
    "    print(f\"{i}={ASCII}\")"
   ]
  },
  {
   "cell_type": "code",
   "execution_count": 51,
   "id": "b61f8449-35b5-4f5a-8331-a0aa10459a59",
   "metadata": {},
   "outputs": [
    {
     "name": "stdout",
     "output_type": "stream",
     "text": [
      "a=97\n",
      "b=98\n",
      "c=99\n",
      "d=100\n",
      "e=101\n",
      "f=102\n",
      "g=103\n",
      "h=104\n",
      "i=105\n",
      "j=106\n",
      "k=107\n",
      "l=108\n",
      "m=109\n",
      "n=110\n",
      "o=111\n",
      "p=112\n",
      "q=113\n",
      "r=114\n",
      "s=115\n",
      "t=116\n",
      "u=117\n",
      "v=118\n",
      "w=119\n",
      "x=120\n",
      "y=121\n",
      "z=122\n",
      "A=65\n",
      "B=66\n",
      "C=67\n",
      "D=68\n",
      "E=69\n",
      "F=70\n",
      "G=71\n",
      "H=72\n",
      "I=73\n",
      "J=74\n",
      "K=75\n",
      "L=76\n",
      "M=77\n",
      "N=78\n",
      "O=79\n",
      "P=80\n",
      "Q=81\n",
      "R=82\n",
      "S=83\n",
      "T=84\n",
      "U=85\n",
      "V=86\n",
      "W=87\n",
      "X=88\n",
      "Y=89\n",
      "Z=90\n"
     ]
    }
   ],
   "source": [
    "from string import ascii_letters\n",
    "for i in ascii_letters:\n",
    "    ASCII=ord(i)\n",
    "    print(f\"{i}={ASCII}\")"
   ]
  },
  {
   "cell_type": "code",
   "execution_count": 52,
   "id": "1f17c09f-23f3-4151-90ae-30df1cd400c6",
   "metadata": {},
   "outputs": [
    {
     "name": "stdout",
     "output_type": "stream",
     "text": [
      "!=33\n",
      "\"=34\n",
      "#=35\n",
      "$=36\n",
      "%=37\n",
      "&=38\n",
      "'=39\n",
      "(=40\n",
      ")=41\n",
      "*=42\n",
      "+=43\n",
      ",=44\n",
      "-=45\n",
      ".=46\n",
      "/=47\n",
      ":=58\n",
      ";=59\n",
      "<=60\n",
      "==61\n",
      ">=62\n",
      "?=63\n",
      "@=64\n",
      "[=91\n",
      "\\=92\n",
      "]=93\n",
      "^=94\n",
      "_=95\n",
      "`=96\n",
      "{=123\n",
      "|=124\n",
      "}=125\n",
      "~=126\n"
     ]
    }
   ],
   "source": [
    "from string import punctuation\n",
    "for i in punctuation:\n",
    "    ASCII=ord(i)\n",
    "    print(f\"{i}={ASCII}\")"
   ]
  },
  {
   "cell_type": "code",
   "execution_count": 54,
   "id": "010304a0-3bb9-4dc3-a641-c440746d3fd1",
   "metadata": {},
   "outputs": [
    {
     "name": "stdout",
     "output_type": "stream",
     "text": [
      " =32\n",
      "\t=9\n",
      "\n",
      "=10\n",
      "=13\n",
      "\u000b",
      "=11\n",
      "\f",
      "=12\n"
     ]
    }
   ],
   "source": [
    "from string import whitespace\n",
    "for i in whitespace:\n",
    "    ASCII=ord(i)\n",
    "    print(f\"{i}={ASCII}\")"
   ]
  },
  {
   "cell_type": "code",
   "execution_count": 55,
   "id": "49cc6a17-2279-4aec-9905-f661711fc336",
   "metadata": {},
   "outputs": [
    {
     "name": "stdout",
     "output_type": "stream",
     "text": [
      "33=!\n",
      "34=\"\n",
      "35=#\n",
      "36=$\n",
      "37=%\n",
      "38=&\n",
      "39='\n",
      "40=(\n",
      "41=)\n",
      "42=*\n",
      "43=+\n",
      "44=,\n",
      "45=-\n",
      "46=.\n",
      "47=/\n",
      "48=0\n",
      "49=1\n",
      "50=2\n",
      "51=3\n",
      "52=4\n",
      "53=5\n",
      "54=6\n",
      "55=7\n",
      "56=8\n",
      "57=9\n",
      "58=:\n",
      "59=;\n",
      "60=<\n",
      "61==\n",
      "62=>\n",
      "63=?\n",
      "64=@\n",
      "65=A\n",
      "66=B\n",
      "67=C\n",
      "68=D\n",
      "69=E\n",
      "70=F\n",
      "71=G\n",
      "72=H\n",
      "73=I\n",
      "74=J\n",
      "75=K\n",
      "76=L\n",
      "77=M\n",
      "78=N\n",
      "79=O\n",
      "80=P\n",
      "81=Q\n",
      "82=R\n",
      "83=S\n",
      "84=T\n",
      "85=U\n",
      "86=V\n",
      "87=W\n",
      "88=X\n",
      "89=Y\n",
      "90=Z\n",
      "91=[\n",
      "92=\\\n",
      "93=]\n",
      "94=^\n",
      "95=_\n",
      "96=`\n",
      "97=a\n",
      "98=b\n",
      "99=c\n",
      "100=d\n",
      "101=e\n",
      "102=f\n",
      "103=g\n",
      "104=h\n",
      "105=i\n",
      "106=j\n",
      "107=k\n",
      "108=l\n",
      "109=m\n",
      "110=n\n",
      "111=o\n",
      "112=p\n",
      "113=q\n",
      "114=r\n",
      "115=s\n",
      "116=t\n",
      "117=u\n",
      "118=v\n",
      "119=w\n",
      "120=x\n",
      "121=y\n",
      "122=z\n",
      "123={\n",
      "124=|\n",
      "125=}\n",
      "126=~\n"
     ]
    }
   ],
   "source": [
    "for i in range(33,127):\n",
    "    num=chr(i)\n",
    "    print(f\"{i}={num}\")"
   ]
  },
  {
   "cell_type": "code",
   "execution_count": 56,
   "id": "b610680e-259d-4c8d-8717-ed50654dfbb7",
   "metadata": {},
   "outputs": [
    {
     "name": "stdout",
     "output_type": "stream",
     "text": [
      "0=\u0000\n",
      "1=\u0001\n",
      "2=\u0002\n",
      "3=\u0003\n",
      "4=\u0004\n",
      "5=\u0005\n",
      "6=\u0006\n",
      "7=\u0007\n",
      "8\n",
      "9=\t\n",
      "10=\n",
      "\n",
      "11=\u000b",
      "\n",
      "12=\f",
      "\n",
      "13=\n",
      "14=\u000e\n",
      "15=\u000f\n",
      "16=\u0010\n",
      "17=\u0011\n",
      "18=\u0012\n",
      "19=\u0013\n",
      "20=\u0014\n",
      "21=\u0015\n",
      "22=\u0016\n",
      "23=\u0017\n",
      "24=\u0018\n",
      "25=\u0019\n",
      "26=\u001a\n",
      "27=\u001b\n",
      "28=\u001c",
      "\n",
      "29=\u001d",
      "\n",
      "30=\u001e",
      "\n",
      "31=\u001f\n",
      "32= \n",
      "33=!\n"
     ]
    }
   ],
   "source": [
    "for i in range(0,34):\n",
    "    abc=chr(i)\n",
    "    print(f\"{i}={abc}\")"
   ]
  },
  {
   "cell_type": "code",
   "execution_count": 61,
   "id": "8dd927c0-8ff8-477c-a181-46875229f027",
   "metadata": {},
   "outputs": [
    {
     "name": "stdout",
     "output_type": "stream",
     "text": [
      "127=\n",
      "128=\n",
      "129=\n",
      "130=\n",
      "131=\n",
      "132=\n",
      "133=",
      "\n",
      "134=\n",
      "135=\n",
      "136=\n",
      "137=\n",
      "138=\n",
      "139=\n",
      "140=\n",
      "141=\n",
      "142=\n",
      "143=\n",
      "144=\n",
      "145=\n",
      "146=\n",
      "147=\n",
      "148=\n",
      "149=\n",
      "150=\n",
      "151=\n",
      "152=\n",
      "153=\n",
      "154=\n",
      "155=\n",
      "156=\n",
      "157=\n",
      "158=\n",
      "159=\n",
      "160= \n",
      "161=¡\n",
      "162=¢\n",
      "163=£\n",
      "164=¤\n",
      "165=¥\n",
      "166=¦\n",
      "167=§\n",
      "168=¨\n",
      "169=©\n",
      "170=ª\n",
      "171=«\n",
      "172=¬\n",
      "173=­\n",
      "174=®\n",
      "175=¯\n",
      "176=°\n",
      "177=±\n",
      "178=²\n",
      "179=³\n",
      "180=´\n",
      "181=µ\n",
      "182=¶\n",
      "183=·\n",
      "184=¸\n",
      "185=¹\n",
      "186=º\n",
      "187=»\n",
      "188=¼\n",
      "189=½\n",
      "190=¾\n",
      "191=¿\n",
      "192=À\n",
      "193=Á\n",
      "194=Â\n",
      "195=Ã\n",
      "196=Ä\n",
      "197=Å\n",
      "198=Æ\n",
      "199=Ç\n",
      "200=È\n",
      "201=É\n",
      "202=Ê\n",
      "203=Ë\n",
      "204=Ì\n",
      "205=Í\n",
      "206=Î\n",
      "207=Ï\n",
      "208=Ð\n",
      "209=Ñ\n",
      "210=Ò\n",
      "211=Ó\n",
      "212=Ô\n",
      "213=Õ\n",
      "214=Ö\n",
      "215=×\n",
      "216=Ø\n",
      "217=Ù\n",
      "218=Ú\n",
      "219=Û\n",
      "220=Ü\n",
      "221=Ý\n",
      "222=Þ\n",
      "223=ß\n",
      "224=à\n",
      "225=á\n",
      "226=â\n",
      "227=ã\n",
      "228=ä\n",
      "229=å\n",
      "230=æ\n",
      "231=ç\n",
      "232=è\n",
      "233=é\n",
      "234=ê\n",
      "235=ë\n",
      "236=ì\n",
      "237=í\n",
      "238=î\n",
      "239=ï\n",
      "240=ð\n",
      "241=ñ\n",
      "242=ò\n",
      "243=ó\n",
      "244=ô\n",
      "245=õ\n",
      "246=ö\n",
      "247=÷\n",
      "248=ø\n",
      "249=ù\n"
     ]
    }
   ],
   "source": [
    "for i in range(127,250):\n",
    "    abc=chr(i)\n",
    "    print(f\"{i}={abc}\")"
   ]
  },
  {
   "cell_type": "code",
   "execution_count": 62,
   "id": "14eb153d-58b9-4cf5-8097-08a276575f56",
   "metadata": {},
   "outputs": [
    {
     "name": "stdout",
     "output_type": "stream",
     "text": [
      "1632=٠\n",
      "1633=١\n",
      "1634=٢\n",
      "1635=٣\n",
      "1636=٤\n",
      "1637=٥\n",
      "1638=٦\n",
      "1639=٧\n",
      "1640=٨\n",
      "1641=٩\n",
      "1642=٪\n",
      "1643=٫\n",
      "1644=٬\n",
      "1645=٭\n",
      "1646=ٮ\n",
      "1647=ٯ\n",
      "1648=ٰ\n",
      "1649=ٱ\n",
      "1650=ٲ\n",
      "1651=ٳ\n",
      "1652=ٴ\n",
      "1653=ٵ\n",
      "1654=ٶ\n",
      "1655=ٷ\n",
      "1656=ٸ\n",
      "1657=ٹ\n",
      "1658=ٺ\n",
      "1659=ٻ\n",
      "1660=ټ\n",
      "1661=ٽ\n",
      "1662=پ\n",
      "1663=ٿ\n",
      "1664=ڀ\n",
      "1665=ځ\n",
      "1666=ڂ\n",
      "1667=ڃ\n",
      "1668=ڄ\n",
      "1669=څ\n",
      "1670=چ\n",
      "1671=ڇ\n",
      "1672=ڈ\n",
      "1673=ډ\n",
      "1674=ڊ\n",
      "1675=ڋ\n",
      "1676=ڌ\n",
      "1677=ڍ\n",
      "1678=ڎ\n",
      "1679=ڏ\n",
      "1680=ڐ\n",
      "1681=ڑ\n",
      "1682=ڒ\n",
      "1683=ړ\n",
      "1684=ڔ\n",
      "1685=ڕ\n",
      "1686=ږ\n",
      "1687=ڗ\n",
      "1688=ژ\n",
      "1689=ڙ\n",
      "1690=ښ\n",
      "1691=ڛ\n",
      "1692=ڜ\n",
      "1693=ڝ\n",
      "1694=ڞ\n",
      "1695=ڟ\n",
      "1696=ڠ\n",
      "1697=ڡ\n",
      "1698=ڢ\n",
      "1699=ڣ\n"
     ]
    }
   ],
   "source": [
    "for i in range(1632,1700):\n",
    "    abc=chr(i)\n",
    "    print(f\"{i}={abc}\")"
   ]
  },
  {
   "cell_type": "code",
   "execution_count": 63,
   "id": "b8022e83-ca35-4026-a938-41bce470c561",
   "metadata": {},
   "outputs": [
    {
     "name": "stdout",
     "output_type": "stream",
     "text": [
      "2308=ऄ\n",
      "2309=अ\n",
      "2310=आ\n",
      "2311=इ\n",
      "2312=ई\n",
      "2313=उ\n",
      "2314=ऊ\n",
      "2315=ऋ\n",
      "2316=ऌ\n",
      "2317=ऍ\n",
      "2318=ऎ\n",
      "2319=ए\n",
      "2320=ऐ\n",
      "2321=ऑ\n",
      "2322=ऒ\n",
      "2323=ओ\n",
      "2324=औ\n",
      "2325=क\n",
      "2326=ख\n",
      "2327=ग\n",
      "2328=घ\n",
      "2329=ङ\n",
      "2330=च\n",
      "2331=छ\n",
      "2332=ज\n",
      "2333=झ\n",
      "2334=ञ\n",
      "2335=ट\n",
      "2336=ठ\n",
      "2337=ड\n",
      "2338=ढ\n",
      "2339=ण\n",
      "2340=त\n",
      "2341=थ\n",
      "2342=द\n",
      "2343=ध\n",
      "2344=न\n",
      "2345=ऩ\n",
      "2346=प\n",
      "2347=फ\n",
      "2348=ब\n",
      "2349=भ\n",
      "2350=म\n",
      "2351=य\n",
      "2352=र\n",
      "2353=ऱ\n",
      "2354=ल\n",
      "2355=ळ\n",
      "2356=ऴ\n",
      "2357=व\n",
      "2358=श\n",
      "2359=ष\n",
      "2360=स\n",
      "2361=ह\n",
      "2362=ऺ\n",
      "2363=ऻ\n",
      "2364=़\n",
      "2365=ऽ\n",
      "2366=ा\n",
      "2367=ि\n",
      "2368=ी\n",
      "2369=ु\n",
      "2370=ू\n",
      "2371=ृ\n",
      "2372=ॄ\n",
      "2373=ॅ\n",
      "2374=ॆ\n",
      "2375=े\n",
      "2376=ै\n",
      "2377=ॉ\n",
      "2378=ॊ\n",
      "2379=ो\n",
      "2380=ौ\n",
      "2381=्\n",
      "2382=ॎ\n",
      "2383=ॏ\n",
      "2384=ॐ\n",
      "2385=॑\n",
      "2386=॒\n",
      "2387=॓\n",
      "2388=॔\n",
      "2389=ॕ\n",
      "2390=ॖ\n",
      "2391=ॗ\n",
      "2392=क़\n",
      "2393=ख़\n",
      "2394=ग़\n",
      "2395=ज़\n",
      "2396=ड़\n",
      "2397=ढ़\n",
      "2398=फ़\n",
      "2399=य़\n",
      "2400=ॠ\n",
      "2401=ॡ\n",
      "2402=ॢ\n",
      "2403=ॣ\n",
      "2404=।\n",
      "2405=॥\n",
      "2406=०\n",
      "2407=१\n",
      "2408=२\n",
      "2409=३\n",
      "2410=४\n",
      "2411=५\n",
      "2412=६\n",
      "2413=७\n",
      "2414=८\n",
      "2415=९\n",
      "2416=॰\n",
      "2417=ॱ\n",
      "2418=ॲ\n",
      "2419=ॳ\n",
      "2420=ॴ\n",
      "2421=ॵ\n",
      "2422=ॶ\n",
      "2423=ॷ\n",
      "2424=ॸ\n",
      "2425=ॹ\n",
      "2426=ॺ\n",
      "2427=ॻ\n",
      "2428=ॼ\n",
      "2429=ॽ\n",
      "2430=ॾ\n",
      "2431=ॿ\n",
      "2432=ঀ\n",
      "2433=ঁ\n",
      "2434=ং\n",
      "2435=ঃ\n",
      "2436=঄\n",
      "2437=অ\n",
      "2438=আ\n",
      "2439=ই\n",
      "2440=ঈ\n",
      "2441=উ\n",
      "2442=ঊ\n",
      "2443=ঋ\n",
      "2444=ঌ\n",
      "2445=঍\n",
      "2446=঎\n",
      "2447=এ\n",
      "2448=ঐ\n",
      "2449=঑\n"
     ]
    }
   ],
   "source": [
    "for i in range(2308,2450):\n",
    "    abc=chr(i)\n",
    "    print(f\"{i}={abc}\")"
   ]
  },
  {
   "cell_type": "code",
   "execution_count": 64,
   "id": "f4dec3d5-960c-493e-90d8-6242a24e4bd7",
   "metadata": {},
   "outputs": [
    {
     "name": "stdout",
     "output_type": "stream",
     "text": [
      "2693=અ\n",
      "2694=આ\n",
      "2695=ઇ\n",
      "2696=ઈ\n",
      "2697=ઉ\n",
      "2698=ઊ\n",
      "2699=ઋ\n",
      "2700=ઌ\n",
      "2701=ઍ\n",
      "2702=઎\n",
      "2703=એ\n",
      "2704=ઐ\n",
      "2705=ઑ\n",
      "2706=઒\n",
      "2707=ઓ\n",
      "2708=ઔ\n",
      "2709=ક\n",
      "2710=ખ\n",
      "2711=ગ\n",
      "2712=ઘ\n",
      "2713=ઙ\n",
      "2714=ચ\n",
      "2715=છ\n",
      "2716=જ\n",
      "2717=ઝ\n",
      "2718=ઞ\n",
      "2719=ટ\n",
      "2720=ઠ\n",
      "2721=ડ\n",
      "2722=ઢ\n",
      "2723=ણ\n",
      "2724=ત\n",
      "2725=થ\n",
      "2726=દ\n",
      "2727=ધ\n",
      "2728=ન\n",
      "2729=઩\n",
      "2730=પ\n",
      "2731=ફ\n",
      "2732=બ\n",
      "2733=ભ\n",
      "2734=મ\n",
      "2735=ય\n",
      "2736=ર\n",
      "2737=઱\n",
      "2738=લ\n",
      "2739=ળ\n",
      "2740=઴\n",
      "2741=વ\n",
      "2742=શ\n",
      "2743=ષ\n",
      "2744=સ\n",
      "2745=હ\n",
      "2746=઺\n",
      "2747=઻\n",
      "2748=઼\n",
      "2749=ઽ\n"
     ]
    }
   ],
   "source": [
    "for i in range(2693,2750):\n",
    "    abc=chr(i)\n",
    "    print(f\"{i}={abc}\")"
   ]
  },
  {
   "cell_type": "code",
   "execution_count": 65,
   "id": "2f42cdf5-cc39-487f-9daf-f8216382a186",
   "metadata": {},
   "outputs": [
    {
     "name": "stdout",
     "output_type": "stream",
     "text": [
      "3077=అ\n",
      "3078=ఆ\n",
      "3079=ఇ\n",
      "3080=ఈ\n",
      "3081=ఉ\n",
      "3082=ఊ\n",
      "3083=ఋ\n",
      "3084=ఌ\n",
      "3085=఍\n",
      "3086=ఎ\n",
      "3087=ఏ\n",
      "3088=ఐ\n",
      "3089=఑\n",
      "3090=ఒ\n",
      "3091=ఓ\n",
      "3092=ఔ\n",
      "3093=క\n",
      "3094=ఖ\n",
      "3095=గ\n",
      "3096=ఘ\n",
      "3097=ఙ\n",
      "3098=చ\n",
      "3099=ఛ\n",
      "3100=జ\n",
      "3101=ఝ\n",
      "3102=ఞ\n",
      "3103=ట\n",
      "3104=ఠ\n",
      "3105=డ\n",
      "3106=ఢ\n",
      "3107=ణ\n",
      "3108=త\n",
      "3109=థ\n",
      "3110=ద\n",
      "3111=ధ\n",
      "3112=న\n",
      "3113=఩\n",
      "3114=ప\n",
      "3115=ఫ\n",
      "3116=బ\n",
      "3117=భ\n",
      "3118=మ\n",
      "3119=య\n",
      "3120=ర\n",
      "3121=ఱ\n",
      "3122=ల\n",
      "3123=ళ\n",
      "3124=ఴ\n",
      "3125=వ\n",
      "3126=శ\n",
      "3127=ష\n",
      "3128=స\n",
      "3129=హ\n",
      "3130=఺\n",
      "3131=఻\n",
      "3132=఼\n",
      "3133=ఽ\n",
      "3134=ా\n",
      "3135=ి\n",
      "3136=ీ\n",
      "3137=ు\n",
      "3138=ూ\n",
      "3139=ృ\n",
      "3140=ౄ\n",
      "3141=౅\n",
      "3142=ె\n",
      "3143=ే\n",
      "3144=ై\n",
      "3145=౉\n",
      "3146=ొ\n",
      "3147=ో\n",
      "3148=ౌ\n",
      "3149=్\n"
     ]
    }
   ],
   "source": [
    "for i in range(3077,3150):\n",
    "    abc=chr(i)\n",
    "    print(f\"{i}={abc}\")"
   ]
  },
  {
   "cell_type": "code",
   "execution_count": null,
   "id": "bfbf9312-7247-4ff9-bf85-205f01d63dca",
   "metadata": {},
   "outputs": [],
   "source": []
  }
 ],
 "metadata": {
  "kernelspec": {
   "display_name": "Python 3 (ipykernel)",
   "language": "python",
   "name": "python3"
  },
  "language_info": {
   "codemirror_mode": {
    "name": "ipython",
    "version": 3
   },
   "file_extension": ".py",
   "mimetype": "text/x-python",
   "name": "python",
   "nbconvert_exporter": "python",
   "pygments_lexer": "ipython3",
   "version": "3.12.7"
  }
 },
 "nbformat": 4,
 "nbformat_minor": 5
}
