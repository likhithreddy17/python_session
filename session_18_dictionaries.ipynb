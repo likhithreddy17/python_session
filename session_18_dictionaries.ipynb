{
 "cells": [
  {
   "cell_type": "code",
   "execution_count": 2,
   "id": "919a6ed9-f5f8-4dd8-9f09-5f52007eba78",
   "metadata": {},
   "outputs": [
    {
     "name": "stdout",
     "output_type": "stream",
     "text": [
      "ramesh age is 20\n",
      "suresh age is 25\n",
      "satish age is 26\n"
     ]
    }
   ],
   "source": [
    "names=[\"ramesh\",\"suresh\",\"satish\"]\n",
    "age=[20,25,26]\n",
    "for i in range(len(names)):\n",
    "    print(f\"{names[i]} age is {age[i]}\")"
   ]
  },
  {
   "cell_type": "code",
   "execution_count": 4,
   "id": "9abb9b6d-d32b-434b-83d9-f3d650f2781b",
   "metadata": {},
   "outputs": [
    {
     "name": "stdout",
     "output_type": "stream",
     "text": [
      "ramesh 20\n",
      "ramesh age is 20\n",
      "suresh 25\n",
      "suresh age is 25\n",
      "satish 26\n",
      "satish age is 26\n"
     ]
    }
   ],
   "source": [
    "names=[\"ramesh\",\"suresh\",\"satish\"]\n",
    "age=[20,25,26]\n",
    "for i,j in zip(names,age):\n",
    "    print(i,j)\n",
    "    print(f\"{i} age is {j}\")"
   ]
  },
  {
   "cell_type": "markdown",
   "id": "21f8b75f-5635-48e8-ad8f-b330665e2ed9",
   "metadata": {},
   "source": [
    "**dictionary**"
   ]
  },
  {
   "cell_type": "markdown",
   "id": "aa083d72-810f-4a44-8ce7-b18bf13a7928",
   "metadata": {},
   "source": [
    "- in above example names and age both are together\n",
    "- when both are together we can pair them\n",
    "- this can happen using dictionary\n",
    "- dictionary is called as **key-value** pair\n",
    "- it representss with curly braces:**{key:value}**"
   ]
  },
  {
   "cell_type": "code",
   "execution_count": 5,
   "id": "9feb8b9b-744e-4202-9cab-e48b5d0a759a",
   "metadata": {},
   "outputs": [
    {
     "data": {
      "text/plain": [
       "{'ramesh': 20, 'suresh': 30, 'satish': 45}"
      ]
     },
     "execution_count": 5,
     "metadata": {},
     "output_type": "execute_result"
    }
   ],
   "source": [
    "d1={\"ramesh\":20,\"suresh\":30,\"satish\":45}\n",
    "d1"
   ]
  },
  {
   "cell_type": "markdown",
   "id": "d3b68fba-0c33-4ee5-ac7b-7dc2be43dddf",
   "metadata": {},
   "source": [
    "- if both keys are same it will take the latest values\n",
    "- dictionaries does not allow duplicates\n",
    "- keys cannot be duplicate but values can be duplicate"
   ]
  },
  {
   "cell_type": "markdown",
   "id": "83f3d3eb-8d05-4273-a614-9c05f146e0ac",
   "metadata": {},
   "source": [
    "- list as keys fails because list has a mutable behaiour\n",
    "- tuple as key works because tuple has a immutable behaviour\n",
    "- in dictionary keys are very very important\n",
    "- keys does not change so when we apply list then it fails"
   ]
  },
  {
   "cell_type": "code",
   "execution_count": 6,
   "id": "8b131521-f125-4b34-95a7-d9ee24cf5368",
   "metadata": {},
   "outputs": [],
   "source": [
    "dict1={\"apple\":20,\"banana\":30,\"cherry\":50}\n",
    "dict2={\"apple\":20,\"apple\":30}\n",
    "dict3={20:\"apple\",30:\"banana\",50:\"cherry\"}"
   ]
  },
  {
   "cell_type": "code",
   "execution_count": 7,
   "id": "fab14590-dcce-4615-b4a3-cb29842db52e",
   "metadata": {},
   "outputs": [
    {
     "name": "stdout",
     "output_type": "stream",
     "text": [
      "{'apple': 20, 'banana': 30, 'cherry': 50}\n"
     ]
    }
   ],
   "source": [
    "print(dict1)"
   ]
  },
  {
   "cell_type": "code",
   "execution_count": 8,
   "id": "f80da481-fda3-4811-b99a-4e87fc6b697a",
   "metadata": {},
   "outputs": [
    {
     "name": "stdout",
     "output_type": "stream",
     "text": [
      "{'apple': 30}\n"
     ]
    }
   ],
   "source": [
    "print(dict2)"
   ]
  },
  {
   "cell_type": "code",
   "execution_count": 9,
   "id": "e95bd644-7c3d-416f-a67d-8ac1ec283023",
   "metadata": {},
   "outputs": [
    {
     "name": "stdout",
     "output_type": "stream",
     "text": [
      "{20: 'apple', 30: 'banana', 50: 'cherry'}\n"
     ]
    }
   ],
   "source": [
    "print(dict3)"
   ]
  },
  {
   "cell_type": "code",
   "execution_count": 10,
   "id": "62cd3b63-7cfb-4c55-bb8f-e9d9f499768c",
   "metadata": {},
   "outputs": [
    {
     "data": {
      "text/plain": [
       "'apple'"
      ]
     },
     "execution_count": 10,
     "metadata": {},
     "output_type": "execute_result"
    }
   ],
   "source": [
    "min(dict1)"
   ]
  },
  {
   "cell_type": "code",
   "execution_count": 11,
   "id": "a129b11e-d602-4692-b874-d070d563a9e5",
   "metadata": {},
   "outputs": [
    {
     "data": {
      "text/plain": [
       "'apple'"
      ]
     },
     "execution_count": 11,
     "metadata": {},
     "output_type": "execute_result"
    }
   ],
   "source": [
    "min(dict2)"
   ]
  },
  {
   "cell_type": "code",
   "execution_count": 12,
   "id": "83c38c16-9220-425d-9d34-5ec5a51e4895",
   "metadata": {},
   "outputs": [
    {
     "data": {
      "text/plain": [
       "20"
      ]
     },
     "execution_count": 12,
     "metadata": {},
     "output_type": "execute_result"
    }
   ],
   "source": [
    "min(dict3)"
   ]
  },
  {
   "cell_type": "code",
   "execution_count": 13,
   "id": "07b435f8-ab64-4c10-8104-f5860d09a9bb",
   "metadata": {},
   "outputs": [
    {
     "data": {
      "text/plain": [
       "'cherry'"
      ]
     },
     "execution_count": 13,
     "metadata": {},
     "output_type": "execute_result"
    }
   ],
   "source": [
    "max(dict1)"
   ]
  },
  {
   "cell_type": "code",
   "execution_count": 14,
   "id": "d7fd0888-95b7-4cf1-b7d4-9c636d7d7a0f",
   "metadata": {},
   "outputs": [
    {
     "data": {
      "text/plain": [
       "'apple'"
      ]
     },
     "execution_count": 14,
     "metadata": {},
     "output_type": "execute_result"
    }
   ],
   "source": [
    "max(dict2)"
   ]
  },
  {
   "cell_type": "code",
   "execution_count": 15,
   "id": "1f6aa4c6-c0e0-4854-8afa-65d18b6c2ce6",
   "metadata": {},
   "outputs": [
    {
     "data": {
      "text/plain": [
       "50"
      ]
     },
     "execution_count": 15,
     "metadata": {},
     "output_type": "execute_result"
    }
   ],
   "source": [
    "max(dict3)"
   ]
  },
  {
   "cell_type": "code",
   "execution_count": 16,
   "id": "6a473959-131f-4e30-ad16-aec5a685c446",
   "metadata": {},
   "outputs": [
    {
     "data": {
      "text/plain": [
       "['apple', 'banana', 'cherry']"
      ]
     },
     "execution_count": 16,
     "metadata": {},
     "output_type": "execute_result"
    }
   ],
   "source": [
    "sorted(dict1)"
   ]
  },
  {
   "cell_type": "code",
   "execution_count": 17,
   "id": "63e12456-4e2f-4593-90d7-eab6b098c67e",
   "metadata": {},
   "outputs": [
    {
     "data": {
      "text/plain": [
       "['apple']"
      ]
     },
     "execution_count": 17,
     "metadata": {},
     "output_type": "execute_result"
    }
   ],
   "source": [
    "sorted(dict2)"
   ]
  },
  {
   "cell_type": "code",
   "execution_count": 18,
   "id": "e98d55fb-aa6f-45ea-a940-8f8199f519e6",
   "metadata": {},
   "outputs": [
    {
     "data": {
      "text/plain": [
       "[20, 30, 50]"
      ]
     },
     "execution_count": 18,
     "metadata": {},
     "output_type": "execute_result"
    }
   ],
   "source": [
    "sorted(dict3)"
   ]
  },
  {
   "cell_type": "code",
   "execution_count": 20,
   "id": "e1ee4e9f-3d82-4f63-9c90-b5842310dab9",
   "metadata": {},
   "outputs": [
    {
     "data": {
      "text/plain": [
       "['cherry', 'banana', 'apple']"
      ]
     },
     "execution_count": 20,
     "metadata": {},
     "output_type": "execute_result"
    }
   ],
   "source": [
    "ans=reversed(dict1)\n",
    "list(ans)"
   ]
  },
  {
   "cell_type": "code",
   "execution_count": 21,
   "id": "3a3bfaf3-267a-405f-92d6-374031ae6f73",
   "metadata": {},
   "outputs": [
    {
     "data": {
      "text/plain": [
       "['apple']"
      ]
     },
     "execution_count": 21,
     "metadata": {},
     "output_type": "execute_result"
    }
   ],
   "source": [
    "ans=reversed(dict2)\n",
    "list(ans)"
   ]
  },
  {
   "cell_type": "code",
   "execution_count": 22,
   "id": "90cced1d-8994-475f-8676-6f2c123a9a35",
   "metadata": {},
   "outputs": [
    {
     "data": {
      "text/plain": [
       "[50, 30, 20]"
      ]
     },
     "execution_count": 22,
     "metadata": {},
     "output_type": "execute_result"
    }
   ],
   "source": [
    "ans=reversed(dict3)\n",
    "list(ans)"
   ]
  },
  {
   "cell_type": "code",
   "execution_count": 29,
   "id": "0d364ff5-8adf-48df-b067-439d689dde39",
   "metadata": {},
   "outputs": [
    {
     "data": {
      "text/plain": [
       "True"
      ]
     },
     "execution_count": 29,
     "metadata": {},
     "output_type": "execute_result"
    }
   ],
   "source": [
    "\"apple\" in dict1"
   ]
  },
  {
   "cell_type": "code",
   "execution_count": 30,
   "id": "38c583be-56f4-443b-ba06-cb72369474e8",
   "metadata": {},
   "outputs": [
    {
     "data": {
      "text/plain": [
       "False"
      ]
     },
     "execution_count": 30,
     "metadata": {},
     "output_type": "execute_result"
    }
   ],
   "source": [
    "20 in dict1"
   ]
  },
  {
   "cell_type": "code",
   "execution_count": 31,
   "id": "a4092fec-db3c-44df-81c8-b91a7a58e3f5",
   "metadata": {},
   "outputs": [
    {
     "ename": "SyntaxError",
     "evalue": "illegal target for annotation (1876122813.py, line 1)",
     "output_type": "error",
     "traceback": [
      "\u001b[1;36m  Cell \u001b[1;32mIn[31], line 1\u001b[1;36m\u001b[0m\n\u001b[1;33m    \"apple\":20 in dict1\u001b[0m\n\u001b[1;37m    ^\u001b[0m\n\u001b[1;31mSyntaxError\u001b[0m\u001b[1;31m:\u001b[0m illegal target for annotation\n"
     ]
    }
   ],
   "source": [
    "\"apple\":20 in dict1"
   ]
  },
  {
   "cell_type": "code",
   "execution_count": 32,
   "id": "3789ab7b-b343-4bcb-b54d-01f4c256a15f",
   "metadata": {},
   "outputs": [
    {
     "name": "stdout",
     "output_type": "stream",
     "text": [
      "apple\n",
      "banana\n",
      "cherry\n"
     ]
    }
   ],
   "source": [
    "for i in dict1:\n",
    "    print(i)"
   ]
  },
  {
   "cell_type": "markdown",
   "id": "b4f08bf1-b7d8-4339-9d90-d53b59b99c23",
   "metadata": {},
   "source": [
    "**index**"
   ]
  },
  {
   "cell_type": "code",
   "execution_count": 34,
   "id": "3e7dabf8-5228-47fa-9788-5970c051d354",
   "metadata": {},
   "outputs": [
    {
     "ename": "KeyError",
     "evalue": "0",
     "output_type": "error",
     "traceback": [
      "\u001b[1;31m---------------------------------------------------------------------------\u001b[0m",
      "\u001b[1;31mKeyError\u001b[0m                                  Traceback (most recent call last)",
      "Cell \u001b[1;32mIn[34], line 1\u001b[0m\n\u001b[1;32m----> 1\u001b[0m dict1[\u001b[38;5;241m0\u001b[39m]\n",
      "\u001b[1;31mKeyError\u001b[0m: 0"
     ]
    }
   ],
   "source": [
    "dict1[0]"
   ]
  },
  {
   "cell_type": "markdown",
   "id": "449cae43-a48e-4414-9d8c-f573582263d6",
   "metadata": {},
   "source": [
    "**how to extract the values**\n",
    "\n",
    "- in dictionary we have a concept key:value pair\n",
    "- keys are imp\n",
    "- inorder to get the values we need to take keys help"
   ]
  },
  {
   "cell_type": "code",
   "execution_count": 36,
   "id": "f10bada6-4f6c-4ecd-b8f4-d6b72d67b252",
   "metadata": {},
   "outputs": [
    {
     "data": {
      "text/plain": [
       "20"
      ]
     },
     "execution_count": 36,
     "metadata": {},
     "output_type": "execute_result"
    }
   ],
   "source": [
    "dict1={\"apple\":20,\"banana\":30,\"cherry\":50}\n",
    "dict1[\"apple\"]"
   ]
  },
  {
   "cell_type": "code",
   "execution_count": 37,
   "id": "9a345ddc-05c6-4f9c-a12a-1c572585b15d",
   "metadata": {},
   "outputs": [
    {
     "data": {
      "text/plain": [
       "30"
      ]
     },
     "execution_count": 37,
     "metadata": {},
     "output_type": "execute_result"
    }
   ],
   "source": [
    "dict1[\"banana\"]"
   ]
  },
  {
   "cell_type": "code",
   "execution_count": 39,
   "id": "dabdbf72-8cf8-4218-b8a0-ec87cf98da35",
   "metadata": {},
   "outputs": [
    {
     "name": "stdout",
     "output_type": "stream",
     "text": [
      "20\n",
      "30\n",
      "50\n"
     ]
    }
   ],
   "source": [
    "for i in dict1:\n",
    "    print(dict1[i])"
   ]
  },
  {
   "cell_type": "code",
   "execution_count": 42,
   "id": "8d094725-8cfd-4965-ad88-d004cac8820e",
   "metadata": {},
   "outputs": [
    {
     "data": {
      "text/plain": [
       "{'ramesh': 20, 'suresh': 25, 'satish': 26}"
      ]
     },
     "execution_count": 42,
     "metadata": {},
     "output_type": "execute_result"
    }
   ],
   "source": [
    "names=[\"ramesh\",\"suresh\",\"satish\"]\n",
    "age=[20,25,26]\n",
    "a=zip(names,age)\n",
    "dict(a)"
   ]
  },
  {
   "cell_type": "code",
   "execution_count": 43,
   "id": "2b05eedb-5394-4176-902b-a3ea4efb0dee",
   "metadata": {},
   "outputs": [
    {
     "name": "stdout",
     "output_type": "stream",
     "text": [
      "ramesh age is 20\n",
      "suresh age is 25\n",
      "satish age is 26\n"
     ]
    }
   ],
   "source": [
    "names={'ramesh': 20, 'suresh': 25, 'satish': 26}\n",
    "for key in names:\n",
    "    value=names[key]\n",
    "    print(f\"{key} age is {value}\")"
   ]
  },
  {
   "cell_type": "code",
   "execution_count": 49,
   "id": "3038812d-b18f-47d1-b20e-d4c58195f210",
   "metadata": {},
   "outputs": [
    {
     "data": {
      "text/plain": [
       "'cherry'"
      ]
     },
     "execution_count": 49,
     "metadata": {},
     "output_type": "execute_result"
    }
   ],
   "source": [
    "d={\"fruits\":[\"apple\",\"banana\",\"cherry\"]}\n",
    "d[\"fruits\"][2]"
   ]
  },
  {
   "cell_type": "code",
   "execution_count": 50,
   "id": "536b9430-26a1-453b-8871-9b5d2acb748a",
   "metadata": {},
   "outputs": [
    {
     "data": {
      "text/plain": [
       "'green'"
      ]
     },
     "execution_count": 50,
     "metadata": {},
     "output_type": "execute_result"
    }
   ],
   "source": [
    "d1={\"fruits\":{\"apple\":[\"sweet\",\"sour\",\"green\"]}}\n",
    "d1[\"fruits\"][\"apple\"][2]"
   ]
  },
  {
   "cell_type": "code",
   "execution_count": 58,
   "id": "450a1de1-c71d-4f96-8148-042a33bc43e6",
   "metadata": {},
   "outputs": [
    {
     "data": {
      "text/plain": [
       "50"
      ]
     },
     "execution_count": 58,
     "metadata": {},
     "output_type": "execute_result"
    }
   ],
   "source": [
    "d={'Fruits':[{'Cost':[50]}]}\n",
    "d[\"Fruits\"][0][\"Cost\"][0]"
   ]
  },
  {
   "cell_type": "code",
   "execution_count": 81,
   "id": "e11c991b-28d1-4f3c-83c2-ee01827afb21",
   "metadata": {},
   "outputs": [
    {
     "data": {
      "text/plain": [
       "(40, 'None')"
      ]
     },
     "execution_count": 81,
     "metadata": {},
     "output_type": "execute_result"
    }
   ],
   "source": [
    "d={'Fruites':['Apple'],'Cost':[{'1kg':[20,30,40],'2kg':\"None\"}]}\n",
    "d[\"Cost\"][0][\"1kg\"][2],d[\"Cost\"][0][\"2kg\"]"
   ]
  },
  {
   "cell_type": "code",
   "execution_count": 80,
   "id": "3a9272e5-c593-42c2-993d-410f97b50df8",
   "metadata": {},
   "outputs": [],
   "source": [
    "d={'Fruites':['Apple'],'Cost':[{'1kg':[20,30,40],'2kg':None}]}\n",
    "d[\"Cost\"][0][\"2kg\"]"
   ]
  },
  {
   "cell_type": "code",
   "execution_count": 94,
   "id": "30379c33-59f7-45d1-856d-91ecf0d3a3bb",
   "metadata": {},
   "outputs": [
    {
     "data": {
      "text/plain": [
       "{'Shambaji'}"
      ]
     },
     "execution_count": 94,
     "metadata": {},
     "output_type": "execute_result"
    }
   ],
   "source": [
    "d={'Fruites':{'Orange':{'Nagpur':{'MH':{'King':{'Shivaji':{'Shambaji'}}}}}}}\n",
    "d[\"Fruites\"][\"Orange\"][\"Nagpur\"][\"MH\"][\"King\"][\"Shivaji\"]"
   ]
  },
  {
   "cell_type": "markdown",
   "id": "6f6c5c5c-23b5-4554-91b5-e153282e2af7",
   "metadata": {},
   "source": [
    "**how to create a empty dictionary**\n",
    "\n",
    "- now onwars focus on creation of empty list, strings and dictionary\n",
    "- we will take wmpty list will use append operation\n",
    "- we will take empty string will use concatenation\n",
    "- we will take empty dictionary will use key:value pair concept"
   ]
  },
  {
   "cell_type": "code",
   "execution_count": 95,
   "id": "5f23352b-ec99-4427-a9a1-0268e446c863",
   "metadata": {},
   "outputs": [
    {
     "data": {
      "text/plain": [
       "[10, 20]"
      ]
     },
     "execution_count": 95,
     "metadata": {},
     "output_type": "execute_result"
    }
   ],
   "source": [
    "#list\n",
    "l=[]\n",
    "l.append(10)\n",
    "l.append(20)\n",
    "l"
   ]
  },
  {
   "cell_type": "code",
   "execution_count": 97,
   "id": "c86b0d1a-332c-41bd-9758-ce4ffeba6f72",
   "metadata": {},
   "outputs": [
    {
     "data": {
      "text/plain": [
       "'py'"
      ]
     },
     "execution_count": 97,
     "metadata": {},
     "output_type": "execute_result"
    }
   ],
   "source": [
    "#strings\n",
    "s=\"\"\n",
    "s=s+\"p\"\n",
    "s=s+\"y\"\n",
    "s"
   ]
  },
  {
   "cell_type": "code",
   "execution_count": 99,
   "id": "3c1530df-baa1-47dc-8ebf-a0850a36a154",
   "metadata": {},
   "outputs": [
    {
     "data": {
      "text/plain": [
       "{'Ramesh': 20, 'suresh': 30}"
      ]
     },
     "execution_count": 99,
     "metadata": {},
     "output_type": "execute_result"
    }
   ],
   "source": [
    "d={}\n",
    "d[\"Ramesh\"]=20\n",
    "d[\"suresh\"]=30\n",
    "d"
   ]
  },
  {
   "cell_type": "code",
   "execution_count": 107,
   "id": "312c37ea-9ff9-4880-b23e-6529502f23b4",
   "metadata": {},
   "outputs": [
    {
     "data": {
      "text/plain": [
       "{'ramesh': 26, 'suresh': 26, 'satish': 26}"
      ]
     },
     "execution_count": 107,
     "metadata": {},
     "output_type": "execute_result"
    }
   ],
   "source": [
    "d={}\n",
    "names=[\"ramesh\",\"suresh\",\"satish\"]\n",
    "age=[20,25,26]\n",
    "for i in names:\n",
    "    for j in age:\n",
    "        d[i]=j\n",
    "d"
   ]
  },
  {
   "cell_type": "code",
   "execution_count": 108,
   "id": "789a3354-c857-4dfc-8c72-a20f9a8628c1",
   "metadata": {},
   "outputs": [
    {
     "data": {
      "text/plain": [
       "{'ramesh': 20, 'suresh': 25, 'satish': 26}"
      ]
     },
     "execution_count": 108,
     "metadata": {},
     "output_type": "execute_result"
    }
   ],
   "source": [
    "d={}\n",
    "names=[\"ramesh\",\"suresh\",\"satish\"]\n",
    "age=[20,25,26]\n",
    "for i,j in zip(names,age):\n",
    "    d[i]=j\n",
    "\n",
    "d"
   ]
  },
  {
   "cell_type": "code",
   "execution_count": 110,
   "id": "9c5625a9-aa90-4dbb-a903-4c54b558fc1f",
   "metadata": {},
   "outputs": [
    {
     "data": {
      "text/plain": [
       "{'ramesh': 20, 'suresh': 25, 'satish': 26}"
      ]
     },
     "execution_count": 110,
     "metadata": {},
     "output_type": "execute_result"
    }
   ],
   "source": [
    "names=[\"ramesh\",\"suresh\",\"satish\"]\n",
    "age=[20,25,26]\n",
    "d=zip(names,age)\n",
    "dict(d)"
   ]
  },
  {
   "cell_type": "markdown",
   "id": "b1d5a9b6-2c0e-436f-a29c-f822161e053f",
   "metadata": {},
   "source": [
    "**dictionary comprehension**"
   ]
  },
  {
   "cell_type": "markdown",
   "id": "7a065f12-1d32-469a-966a-363837b50ecd",
   "metadata": {},
   "source": [
    "- for list comprehension we written everythong inside the list\n",
    "- for dictionary comprehension we should write everything inside the dictionary"
   ]
  },
  {
   "cell_type": "code",
   "execution_count": 111,
   "id": "13800a49-705f-4c44-854c-713ffe94489a",
   "metadata": {},
   "outputs": [],
   "source": [
    "# dict comprehension: {key:value <for loop>}"
   ]
  },
  {
   "cell_type": "code",
   "execution_count": 119,
   "id": "96ba6188-4d68-45f5-bfc7-ec57ad4cc6aa",
   "metadata": {},
   "outputs": [
    {
     "data": {
      "text/plain": [
       "{'ramesh': 20, 'suresh': 25, 'satish': 26}"
      ]
     },
     "execution_count": 119,
     "metadata": {},
     "output_type": "execute_result"
    }
   ],
   "source": [
    "names=[\"ramesh\",\"suresh\",\"satish\"]\n",
    "age=[20,25,26]\n",
    "d={i:j for i,j in zip(names,age)}\n",
    "d"
   ]
  },
  {
   "cell_type": "markdown",
   "id": "38df17cf-de66-43e6-a062-ee7e77c47afa",
   "metadata": {},
   "source": [
    "**mutable-immutable**\n",
    "\n",
    "- lists are mutable\n",
    "- dictionaries are also mutable\n",
    "- strings are immutable\n",
    "- tuples are immutable\n",
    "- in dictionaries we can change the valus using keys"
   ]
  },
  {
   "cell_type": "code",
   "execution_count": 123,
   "id": "d4ac3bb3-9a42-4078-8da1-c8ecaf9eb471",
   "metadata": {},
   "outputs": [
    {
     "data": {
      "text/plain": [
       "{'ramesh': 30, 'suresh': 25, 'satish': 26}"
      ]
     },
     "execution_count": 123,
     "metadata": {},
     "output_type": "execute_result"
    }
   ],
   "source": [
    "d={'ramesh': 20, 'suresh': 25, 'satish': 26}\n",
    "d[\"ramesh\"]=30\n",
    "d"
   ]
  },
  {
   "cell_type": "code",
   "execution_count": 124,
   "id": "36a3c25e-6805-4efc-ba48-c4b7b12d9ae5",
   "metadata": {},
   "outputs": [
    {
     "data": {
      "text/plain": [
       "['__class__',\n",
       " '__class_getitem__',\n",
       " '__contains__',\n",
       " '__delattr__',\n",
       " '__delitem__',\n",
       " '__dir__',\n",
       " '__doc__',\n",
       " '__eq__',\n",
       " '__format__',\n",
       " '__ge__',\n",
       " '__getattribute__',\n",
       " '__getitem__',\n",
       " '__getstate__',\n",
       " '__gt__',\n",
       " '__hash__',\n",
       " '__init__',\n",
       " '__init_subclass__',\n",
       " '__ior__',\n",
       " '__iter__',\n",
       " '__le__',\n",
       " '__len__',\n",
       " '__lt__',\n",
       " '__ne__',\n",
       " '__new__',\n",
       " '__or__',\n",
       " '__reduce__',\n",
       " '__reduce_ex__',\n",
       " '__repr__',\n",
       " '__reversed__',\n",
       " '__ror__',\n",
       " '__setattr__',\n",
       " '__setitem__',\n",
       " '__sizeof__',\n",
       " '__str__',\n",
       " '__subclasshook__',\n",
       " 'clear',\n",
       " 'copy',\n",
       " 'fromkeys',\n",
       " 'get',\n",
       " 'items',\n",
       " 'keys',\n",
       " 'pop',\n",
       " 'popitem',\n",
       " 'setdefault',\n",
       " 'update',\n",
       " 'values']"
      ]
     },
     "execution_count": 124,
     "metadata": {},
     "output_type": "execute_result"
    }
   ],
   "source": [
    "dir({})"
   ]
  },
  {
   "cell_type": "code",
   "execution_count": 1,
   "id": "f1d492d0-0026-40d7-99e7-1c503352ea46",
   "metadata": {},
   "outputs": [],
   "source": [
    "d={'ramesh': 20, 'suresh': 25, 'satish': 26}\n",
    "d.clear()"
   ]
  },
  {
   "cell_type": "code",
   "execution_count": 2,
   "id": "f2987a1e-25e6-48f0-a3fa-9c953cf0b47a",
   "metadata": {},
   "outputs": [
    {
     "data": {
      "text/plain": [
       "{}"
      ]
     },
     "execution_count": 2,
     "metadata": {},
     "output_type": "execute_result"
    }
   ],
   "source": [
    "d.copy()"
   ]
  },
  {
   "cell_type": "code",
   "execution_count": 15,
   "id": "da9f5157-a0c2-40be-b443-51d0f7d9f123",
   "metadata": {},
   "outputs": [
    {
     "data": {
      "text/plain": [
       "{'r': None, 'a': None, 'm': None, 'e': None, 's': None, 'h': None}"
      ]
     },
     "execution_count": 15,
     "metadata": {},
     "output_type": "execute_result"
    }
   ],
   "source": [
    "d={'ramesh': 20, 'suresh': 25, 'satish': 26}\n",
    "d.fromkeys(\"ramesh\")"
   ]
  },
  {
   "cell_type": "code",
   "execution_count": 8,
   "id": "728b7495-108f-4f64-9f53-417cc6b4f399",
   "metadata": {},
   "outputs": [
    {
     "data": {
      "text/plain": [
       "dict_items([('ramesh', 20), ('suresh', 25), ('satish', 26)])"
      ]
     },
     "execution_count": 8,
     "metadata": {},
     "output_type": "execute_result"
    }
   ],
   "source": [
    "d={'ramesh': 20, 'suresh': 25, 'satish': 26}\n",
    "d.items()"
   ]
  },
  {
   "cell_type": "markdown",
   "id": "fc354c62-062f-4113-9868-57c5e683bd07",
   "metadata": {},
   "source": [
    "**keys**"
   ]
  },
  {
   "cell_type": "code",
   "execution_count": null,
   "id": "6a49d4a7-ea90-4f7a-8800-a7bd830cebb8",
   "metadata": {},
   "outputs": [],
   "source": [
    "- dictiona"
   ]
  },
  {
   "cell_type": "code",
   "execution_count": 10,
   "id": "b9031744-ac04-4776-899a-005f27d92782",
   "metadata": {},
   "outputs": [
    {
     "data": {
      "text/plain": [
       "dict_keys(['ramesh', 'suresh', 'satish'])"
      ]
     },
     "execution_count": 10,
     "metadata": {},
     "output_type": "execute_result"
    }
   ],
   "source": [
    "d={'ramesh': 20, 'suresh': 25, 'satish': 26}\n",
    "keys=d.keys()\n",
    "keys"
   ]
  },
  {
   "cell_type": "markdown",
   "id": "8cd2ca1b-c986-4ba2-a251-e6348e1800d4",
   "metadata": {},
   "source": [
    "**convert dictionary to list**\n",
    "- inorder to convert dictionary to list\n",
    "- first we need to seperate keys and values\n",
    "- then apply list type casting"
   ]
  },
  {
   "cell_type": "code",
   "execution_count": 16,
   "id": "b6295688-8d87-4cb5-b3cc-210341c11342",
   "metadata": {},
   "outputs": [
    {
     "data": {
      "text/plain": [
       "['ramesh', 'suresh', 'satish']"
      ]
     },
     "execution_count": 16,
     "metadata": {},
     "output_type": "execute_result"
    }
   ],
   "source": [
    "d={'ramesh': 20, 'suresh': 25, 'satish': 26}\n",
    "keys=d.keys()\n",
    "keys_list=list(keys)\n",
    "keys_list"
   ]
  },
  {
   "cell_type": "code",
   "execution_count": 18,
   "id": "389f9b5a-dd1f-4f09-8888-ada5b8051aaf",
   "metadata": {},
   "outputs": [
    {
     "data": {
      "text/plain": [
       "1"
      ]
     },
     "execution_count": 18,
     "metadata": {},
     "output_type": "execute_result"
    }
   ],
   "source": [
    "keys_list.count(\"ramesh\")"
   ]
  },
  {
   "cell_type": "code",
   "execution_count": 17,
   "id": "32799fc7-9e83-40f8-8f08-07e956a9a602",
   "metadata": {},
   "outputs": [
    {
     "data": {
      "text/plain": [
       "[20, 25, 26]"
      ]
     },
     "execution_count": 17,
     "metadata": {},
     "output_type": "execute_result"
    }
   ],
   "source": [
    "d={'ramesh': 20, 'suresh': 25, 'satish': 26}\n",
    "values=d.values()\n",
    "value_list=list(values)\n",
    "value_list"
   ]
  },
  {
   "cell_type": "code",
   "execution_count": 19,
   "id": "e49a288e-f297-4f09-8ac1-5857363dc080",
   "metadata": {},
   "outputs": [
    {
     "data": {
      "text/plain": [
       "1"
      ]
     },
     "execution_count": 19,
     "metadata": {},
     "output_type": "execute_result"
    }
   ],
   "source": [
    "value_list.count(20)"
   ]
  },
  {
   "cell_type": "code",
   "execution_count": null,
   "id": "dea48656-b89b-45fb-8f7e-89987d96d9d0",
   "metadata": {},
   "outputs": [],
   "source": []
  },
  {
   "cell_type": "markdown",
   "id": "55c855f5-236f-4214-be12-21cf7d39e94c",
   "metadata": {},
   "source": [
    "- list to string    using join\n",
    "- string to list    using split\n",
    "- list to dict      using zip\n",
    "- dict to list      using type casting"
   ]
  },
  {
   "cell_type": "code",
   "execution_count": 34,
   "id": "ff013092-b663-4cdc-a08f-54bf913de188",
   "metadata": {},
   "outputs": [
    {
     "data": {
      "text/plain": [
       "{'fname': ['virat', 'rohit', 'ms'],\n",
       " 'sname': ['kohli', 'sharma', 'dhoni'],\n",
       " 'cname': ['rcb', 'mi', 'csk']}"
      ]
     },
     "execution_count": 34,
     "metadata": {},
     "output_type": "execute_result"
    }
   ],
   "source": [
    "s1=\"virat.kohli@rcb.com;rohit.sharma@mi.com;ms.dhoni@csk.com\"\n",
    "b=s1.split(\";\")\n",
    "fname=[]\n",
    "sname=[]\n",
    "cname=[]\n",
    "d={}\n",
    "for i in b:\n",
    "    #print(i)\n",
    "    id1=i.find(\".\")\n",
    "    id2=i.find(\"@\")\n",
    "    id3=i.find(\".\",id1+1)\n",
    "    fname.append(i[0:id1])\n",
    "    sname.append(i[id1+1:id2])\n",
    "    cname.append(i[id2+1:id3])\n",
    "fname,sname,cname\n",
    "d[\"fname\"]=fname\n",
    "d[\"sname\"]=sname\n",
    "d[\"cname\"]=cname\n",
    "d"
   ]
  },
  {
   "cell_type": "code",
   "execution_count": 35,
   "id": "6ef278c5-b809-48b2-b247-eb8c003a322c",
   "metadata": {},
   "outputs": [
    {
     "data": {
      "text/plain": [
       "20"
      ]
     },
     "execution_count": 35,
     "metadata": {},
     "output_type": "execute_result"
    }
   ],
   "source": [
    "d={'ramesh': 20, 'suresh': 25, 'satish': 26}\n",
    "d.pop(\"ramesh\")"
   ]
  },
  {
   "cell_type": "code",
   "execution_count": 37,
   "id": "32ead4bc-de21-49b4-a7d1-9d0983084011",
   "metadata": {},
   "outputs": [
    {
     "data": {
      "text/plain": [
       "('satish', 26)"
      ]
     },
     "execution_count": 37,
     "metadata": {},
     "output_type": "execute_result"
    }
   ],
   "source": [
    "d={'ramesh': 20, 'suresh': 25, 'satish': 26}\n",
    "d.popitem()"
   ]
  },
  {
   "cell_type": "code",
   "execution_count": 38,
   "id": "bc307106-22a4-4b89-8391-72acf751c8ef",
   "metadata": {},
   "outputs": [
    {
     "data": {
      "text/plain": [
       "{'ramesh': 20, 'suresh': 25}"
      ]
     },
     "execution_count": 38,
     "metadata": {},
     "output_type": "execute_result"
    }
   ],
   "source": [
    "d"
   ]
  },
  {
   "cell_type": "code",
   "execution_count": 40,
   "id": "1a02746f-92d4-49ec-93ff-ffa8f4752ea6",
   "metadata": {},
   "outputs": [
    {
     "data": {
      "text/plain": [
       "26"
      ]
     },
     "execution_count": 40,
     "metadata": {},
     "output_type": "execute_result"
    }
   ],
   "source": [
    "d={'ramesh': 20, 'suresh': 25, 'satish': 26}\n",
    "d.get(\"satish\")"
   ]
  },
  {
   "cell_type": "markdown",
   "id": "224774b2-c188-41de-8790-e04b3985ee1f",
   "metadata": {},
   "source": [
    "**update**\n",
    "- update is a similar analogy **list extend**\n",
    "- take two dictionaries and aply update method"
   ]
  },
  {
   "cell_type": "code",
   "execution_count": 43,
   "id": "ccc1857a-da3e-4b46-a6d8-c48f9251618a",
   "metadata": {},
   "outputs": [
    {
     "data": {
      "text/plain": [
       "{'ramesh': 20,\n",
       " 'suresh': 25,\n",
       " 'satish': 26,\n",
       " 'apple': 20,\n",
       " 'banana': 30,\n",
       " 'cherry': 50}"
      ]
     },
     "execution_count": 43,
     "metadata": {},
     "output_type": "execute_result"
    }
   ],
   "source": [
    "d={'ramesh': 20, 'suresh': 25, 'satish': 26}\n",
    "d1={\"apple\":20,\"banana\":30,\"cherry\":50}\n",
    "d.update(d1)\n",
    "d"
   ]
  },
  {
   "cell_type": "markdown",
   "id": "0583eead-6fd7-4e12-a9d0-448b9f2fe549",
   "metadata": {},
   "source": [
    "**set default**"
   ]
  },
  {
   "cell_type": "markdown",
   "id": "5c369f70-919b-45e0-8846-770063bf5807",
   "metadata": {},
   "source": [
    "- suppose an already existed dictionary available\n",
    "- we can update tge dictionary with new key:value pair\n",
    "- set default in dictionary is similar analogy of list append "
   ]
  },
  {
   "cell_type": "code",
   "execution_count": 46,
   "id": "48dc4bfe-43c9-425d-b2aa-588869fa5ace",
   "metadata": {},
   "outputs": [
    {
     "data": {
      "text/plain": [
       "{'ramesh': 20, 'suresh': 25, 'satish': 26, 'ramu': 17}"
      ]
     },
     "execution_count": 46,
     "metadata": {},
     "output_type": "execute_result"
    }
   ],
   "source": [
    "d={'ramesh': 20, 'suresh': 25, 'satish': 26}\n",
    "d.setdefault(\"ramu\",17)\n",
    "d"
   ]
  },
  {
   "cell_type": "markdown",
   "id": "d431a6c2-e3cb-4149-806f-af3d805d27be",
   "metadata": {},
   "source": [
    "**fromkeys**"
   ]
  },
  {
   "cell_type": "markdown",
   "id": "c8f6ec6f-afb9-49d6-82eb-a0f9644a2234",
   "metadata": {},
   "source": [
    "- create a dictionary with different keys but same value\n",
    "- fromkeys will take an argument iterable\n",
    "- try to provide an iterator i.e, string,list,tuple"
   ]
  },
  {
   "cell_type": "code",
   "execution_count": 47,
   "id": "9f06ba29-f449-44da-b19c-a8f06755bcff",
   "metadata": {},
   "outputs": [
    {
     "data": {
      "text/plain": [
       "{'rames': 'nareshit', 'suresh': 'nareshit', 'sathish': 'nareshit'}"
      ]
     },
     "execution_count": 47,
     "metadata": {},
     "output_type": "execute_result"
    }
   ],
   "source": [
    "d={}\n",
    "names=[\"rames\",\"suresh\",\"sathish\"]\n",
    "d.fromkeys(names,\"nareshit\")"
   ]
  },
  {
   "cell_type": "code",
   "execution_count": null,
   "id": "bcd17a6e-3382-45f4-9e5c-f70f6531fc12",
   "metadata": {},
   "outputs": [],
   "source": []
  }
 ],
 "metadata": {
  "kernelspec": {
   "display_name": "Python 3 (ipykernel)",
   "language": "python",
   "name": "python3"
  },
  "language_info": {
   "codemirror_mode": {
    "name": "ipython",
    "version": 3
   },
   "file_extension": ".py",
   "mimetype": "text/x-python",
   "name": "python",
   "nbconvert_exporter": "python",
   "pygments_lexer": "ipython3",
   "version": "3.12.7"
  }
 },
 "nbformat": 4,
 "nbformat_minor": 5
}
