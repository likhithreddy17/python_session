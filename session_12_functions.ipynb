{
 "cells": [
  {
   "cell_type": "markdown",
   "id": "2a4903b9-81f7-430c-b3bf-01853285be26",
   "metadata": {},
   "source": [
    "# function\n",
    "\n",
    "- operation and task \n",
    "- block of code which executes on a call\n",
    "- reduce redundancy\n",
    "\n",
    "- reuse of code block\n",
    "- function also called as method\n",
    "- function without argument\n",
    "- function with argument\n",
    "- function with default argument\n",
    "- function with keyword argument(kwargs)\n",
    "- funtion with global and local variable\n",
    "- function with return\n",
    "- function in function"
   ]
  },
  {
   "cell_type": "markdown",
   "id": "9820ccc5-93e2-4d5a-81c6-1f1d4c57cbbf",
   "metadata": {},
   "source": [
    "**functions without arguments**\n"
   ]
  },
  {
   "cell_type": "code",
   "execution_count": null,
   "id": "cf190d24-cf50-4b9c-9863-66c0e9ad3ca3",
   "metadata": {},
   "outputs": [],
   "source": [
    "# syntax\n",
    "def <function name>():\n",
    "    <write your code here>"
   ]
  },
  {
   "cell_type": "code",
   "execution_count": 1,
   "id": "a0006818-e3f7-450f-afd9-fe2a5487536c",
   "metadata": {},
   "outputs": [
    {
     "name": "stdin",
     "output_type": "stream",
     "text": [
      "enter num1: 100\n",
      "enter the num2: 200\n"
     ]
    },
    {
     "name": "stdout",
     "output_type": "stream",
     "text": [
      "the addition of num1:100 and num2:200 is 300\n"
     ]
    }
   ],
   "source": [
    "num1=eval(input(\"enter num1:\"))\n",
    "num2=eval(input(\"enter the num2:\"))\n",
    "add=num1+num2\n",
    "print(f\"the addition of num1:{num1} and num2:{num2} is {add}\")"
   ]
  },
  {
   "cell_type": "code",
   "execution_count": 2,
   "id": "a2bba996-482e-4eb2-a9bc-0837fefa1660",
   "metadata": {},
   "outputs": [],
   "source": [
    "def addition():\n",
    "    num1=eval(input(\"enter num1:\"))\n",
    "    num2=eval(input(\"enter the num2:\"))\n",
    "    add=num1+num2\n",
    "    print(f\"the addition of num1:{num1} and num2:{num2} is {add}\")    "
   ]
  },
  {
   "cell_type": "markdown",
   "id": "fca0152e-c527-43ab-9871-b814574fe947",
   "metadata": {},
   "source": [
    "**call the function**"
   ]
  },
  {
   "cell_type": "code",
   "execution_count": 3,
   "id": "98007f89-afa4-4bf8-8c18-fa1f13957733",
   "metadata": {},
   "outputs": [
    {
     "name": "stdin",
     "output_type": "stream",
     "text": [
      "enter num1: 100\n",
      "enter the num2: 200\n"
     ]
    },
    {
     "name": "stdout",
     "output_type": "stream",
     "text": [
      "the addition of num1:100 and num2:200 is 300\n"
     ]
    }
   ],
   "source": [
    "addition()"
   ]
  },
  {
   "cell_type": "code",
   "execution_count": 7,
   "id": "133d40ab-f296-4b53-b3d9-a9a9377855d0",
   "metadata": {},
   "outputs": [],
   "source": [
    "def subtraction():\n",
    "    num1=eval(input(\"enter num1:\"))\n",
    "    num2=eval(input(\"enter the num2:\"))\n",
    "    sub=num1-num2\n",
    "    print(f\"the subtraction of num1:{num1} and num2:{num2} is {sub}\")"
   ]
  },
  {
   "cell_type": "code",
   "execution_count": 8,
   "id": "d1975bf6-1347-4d4b-a04b-c710f3307c4f",
   "metadata": {},
   "outputs": [
    {
     "name": "stdin",
     "output_type": "stream",
     "text": [
      "enter num1: 100\n",
      "enter the num2: 50\n"
     ]
    },
    {
     "name": "stdout",
     "output_type": "stream",
     "text": [
      "the subtraction of num1:100 and num2:50 is 50\n"
     ]
    }
   ],
   "source": [
    "subtraction()"
   ]
  },
  {
   "cell_type": "markdown",
   "id": "ef380dd5-9196-4c2b-aa71-69aa63bfdfb0",
   "metadata": {},
   "source": [
    "**note**\n",
    "- function name rules as variable rules\n",
    "    - no special characters\n",
    "    - no numbers before\n",
    "    - no space between words\n",
    "- function name should not be any keyword\n",
    "- function name should not be any package name\n",
    "- function name should not be your notebook name\n",
    "- function name should not be any variable which is using inside that function\n",
    "- while define the function we does not know whether the error is there or not\n",
    "- for that we need to call the function"
   ]
  },
  {
   "cell_type": "code",
   "execution_count": 14,
   "id": "9d8eb980-99e5-4922-90ae-a13a008c2d07",
   "metadata": {},
   "outputs": [
    {
     "name": "stdin",
     "output_type": "stream",
     "text": [
      "enter num1: 100\n",
      "enter the num2: 200\n"
     ]
    },
    {
     "name": "stdout",
     "output_type": "stream",
     "text": [
      "the addition of num1:100 and num2:200 is 300\n"
     ]
    }
   ],
   "source": [
    "try:\n",
    "    def addition2():\n",
    "        n1=eval(input(\"enter num1:\"))\n",
    "        n2=eval(input(\"enter the num2:\"))\n",
    "        add1=num1+num2\n",
    "        print(f\"the addition of num1:{n1} and num2:{n2} is {add1}\") \n",
    "except Exception as e:\n",
    "    print(e)\n",
    "\n",
    "addition2()"
   ]
  },
  {
   "cell_type": "code",
   "execution_count": 12,
   "id": "589717b8-de4f-4821-a7bb-45cee6a8f810",
   "metadata": {},
   "outputs": [
    {
     "name": "stdin",
     "output_type": "stream",
     "text": [
      "enter num1: 100\n",
      "enter the num2: 202\n"
     ]
    },
    {
     "name": "stdout",
     "output_type": "stream",
     "text": [
      "the addition of num1:100 and num2:202 is 302\n"
     ]
    }
   ],
   "source": [
    "def addition3():\n",
    "    try:\n",
    "        num1=eval(input(\"enter num1:\"))\n",
    "        num2=eval(input(\"enter the num2:\"))\n",
    "        add=num1+num2\n",
    "        print(f\"the addition of num1:{num1} and num2:{num2} is {add}\") \n",
    "    except Exception as e:\n",
    "        print(e)\n",
    "\n",
    "addition3()"
   ]
  },
  {
   "cell_type": "code",
   "execution_count": 17,
   "id": "bef06a67-861c-40df-ace2-ba7d10c7b59a",
   "metadata": {},
   "outputs": [
    {
     "name": "stdin",
     "output_type": "stream",
     "text": [
      "enter the value1: 2\n",
      "enter the value2: 3\n",
      "enter the value3: 4\n"
     ]
    },
    {
     "name": "stdout",
     "output_type": "stream",
     "text": [
      "the avg of 2,3,4is:3.0\n"
     ]
    }
   ],
   "source": [
    "#calculate average\n",
    "def AVG():\n",
    "    n1=eval(input(\"enter the value1:\"))\n",
    "    n2=eval(input(\"enter the value2:\"))\n",
    "    n3=eval(input(\"enter the value3:\"))\n",
    "    avg=(n1+n2+n3)/3\n",
    "    avg1=round(avg,2)\n",
    "    print(f\"the avg of {n1},{n2},{n3}is:{avg1}\")\n",
    "\n",
    "AVG()"
   ]
  },
  {
   "cell_type": "markdown",
   "id": "ad912e25-509b-47f5-b07f-37d570296fb2",
   "metadata": {},
   "source": [
    "**functions with arguments**"
   ]
  },
  {
   "cell_type": "code",
   "execution_count": null,
   "id": "65093628-cb29-4a41-b970-4b106e681d3c",
   "metadata": {},
   "outputs": [],
   "source": [
    "def addition():\n",
    "    num1=eval(input(\"enter num1:\"))\n",
    "    num2=eval(input(\"enter the num2:\"))\n",
    "    add=num1+num2\n",
    "    print(f\"the addition of num1:{num1} and num2:{num2} is {add}\")\n",
    "\n",
    "addition()"
   ]
  },
  {
   "cell_type": "markdown",
   "id": "cef2e9c0-5963-4358-97f9-6caded1a2df3",
   "metadata": {},
   "source": [
    "- how many variables are thereinside the function\n",
    "    - in above addition function 3 variables are there: num1,num2,add\n",
    "- how many input variables are there\n",
    "    - input variables means the variable acces the value from iser as input: num1,num2\n",
    "- how many output variables are there\n",
    "     output varuiables means the variable the variables created because of some operations:add\n",
    "- dont touch the output variable"
   ]
  },
  {
   "cell_type": "code",
   "execution_count": 20,
   "id": "838bb76e-6e5c-4b18-a6b2-29ff4e703c4b",
   "metadata": {},
   "outputs": [],
   "source": [
    "def addition1(n1,n2):\n",
    "    add=n1+n2\n",
    "    print(f\"the addition of num1:{n1} and num2:{n2} is {add}\")"
   ]
  },
  {
   "cell_type": "code",
   "execution_count": 21,
   "id": "64a9e439-a83a-44de-98f5-0aaf896305c5",
   "metadata": {},
   "outputs": [
    {
     "name": "stdout",
     "output_type": "stream",
     "text": [
      "the addition of num1:17 and num2:18 is 35\n"
     ]
    }
   ],
   "source": [
    "addition1(17,18)"
   ]
  },
  {
   "cell_type": "code",
   "execution_count": 23,
   "id": "d1841de2-3cdd-4c84-9f45-6cac7867c40a",
   "metadata": {},
   "outputs": [],
   "source": [
    "def subb(n1,n2):\n",
    "    sub=n1-n2\n",
    "    print(sub)"
   ]
  },
  {
   "cell_type": "code",
   "execution_count": 24,
   "id": "24a19edc-0e24-4a3a-8621-b1373bc303f9",
   "metadata": {},
   "outputs": [
    {
     "name": "stdout",
     "output_type": "stream",
     "text": [
      "5\n"
     ]
    }
   ],
   "source": [
    "subb(10,5)"
   ]
  },
  {
   "cell_type": "markdown",
   "id": "202b0b19-d2db-44eb-991e-90a7593c9160",
   "metadata": {},
   "source": [
    "**functions with default arguments**"
   ]
  },
  {
   "cell_type": "code",
   "execution_count": 25,
   "id": "8f0fc668-b619-4d1b-95b7-b3ef838a8b66",
   "metadata": {},
   "outputs": [],
   "source": [
    "def total_bill1(B_A,T_P=20):\n",
    "    totalbill=B_A+B_A*T_P/100\n",
    "    print(f\"total bill={totalbill}\")"
   ]
  },
  {
   "cell_type": "code",
   "execution_count": 27,
   "id": "fb07987d-e819-48ea-9564-d2d9706e5113",
   "metadata": {},
   "outputs": [
    {
     "name": "stdout",
     "output_type": "stream",
     "text": [
      "total bill=1200.0\n"
     ]
    }
   ],
   "source": [
    "total_bill1(1000)"
   ]
  },
  {
   "cell_type": "markdown",
   "id": "801dee42-0737-44df-92a9-67cbecfb0958",
   "metadata": {},
   "source": [
    "- in above function tip per is fixed as 20\n",
    "- this is called default arguments\n",
    "- white calliung the function no need to provide tip per again\n",
    "- if you provide again the value will override then default value will nwglected and new value will take as tip per"
   ]
  },
  {
   "cell_type": "code",
   "execution_count": 28,
   "id": "f168a7e4-4d42-4742-a6dd-09703d542d50",
   "metadata": {},
   "outputs": [],
   "source": [
    "def addition2(n1,n2=18):\n",
    "    add=n1+n2\n",
    "    print(f\"the addition of num1:{n1} and num2:{n2} is {add}\")"
   ]
  },
  {
   "cell_type": "code",
   "execution_count": 30,
   "id": "63f6e2ea-db43-4bfa-b094-5eb2ebd236b9",
   "metadata": {},
   "outputs": [
    {
     "name": "stdout",
     "output_type": "stream",
     "text": [
      "the addition of num1:10 and num2:18 is 28\n"
     ]
    }
   ],
   "source": [
    "addition2(10)"
   ]
  },
  {
   "cell_type": "code",
   "execution_count": 32,
   "id": "7edd5556-2c6e-4f18-962a-867fe9095741",
   "metadata": {},
   "outputs": [
    {
     "name": "stdout",
     "output_type": "stream",
     "text": [
      "the addition of num1:10 and num2:20 is 30\n"
     ]
    }
   ],
   "source": [
    "addition2(10,20) #n2 wiil be 20 the default n2=18 will neglected here"
   ]
  },
  {
   "cell_type": "markdown",
   "id": "9ff09af8-7727-4675-9f5f-745f9e2373be",
   "metadata": {},
   "source": [
    "**note**: default argument always should be last in the brackets()"
   ]
  },
  {
   "cell_type": "code",
   "execution_count": 36,
   "id": "aa45e7cf-bf6b-4e95-bbf3-251f087bfada",
   "metadata": {},
   "outputs": [
    {
     "name": "stdout",
     "output_type": "stream",
     "text": [
      "function without arguments\n"
     ]
    },
    {
     "name": "stdin",
     "output_type": "stream",
     "text": [
      "enter the salary: 50000\n",
      "enter tax: 10\n"
     ]
    },
    {
     "name": "stdout",
     "output_type": "stream",
     "text": [
      "tax_pay=5000.0\n",
      "function with arguments\n",
      "tax_pay=5000.0\n",
      "function with default arguments\n",
      "tax_pay=5000.0\n"
     ]
    }
   ],
   "source": [
    "print(\"function without arguments\")\n",
    "def tax_cal():\n",
    "    salary=eval(input(\"enter the salary:\"))\n",
    "    tax_per=eval(input(\"enter tax:\"))\n",
    "    tax_pay=salary*tax_per/100\n",
    "    print(f\"tax_pay={tax_pay}\")\n",
    "\n",
    "tax_cal()\n",
    "\n",
    "print(\"function with arguments\")\n",
    "def tax_cal1(salary,tax_per):\n",
    "    tax_pay=salary*tax_per/100\n",
    "    print(f\"tax_pay={tax_pay}\")\n",
    "\n",
    "tax_cal1(50000,10)\n",
    "\n",
    "print(\"function with default arguments\")\n",
    "def tax_cal2(salary,tax_per=10):\n",
    "    tax_pay=salary*tax_per/100\n",
    "    print(f\"tax_pay={tax_pay}\")\n",
    "\n",
    "tax_cal2(50000)"
   ]
  },
  {
   "cell_type": "code",
   "execution_count": 39,
   "id": "1bc77844-3d6d-4e45-911e-65352d7dfe9d",
   "metadata": {},
   "outputs": [
    {
     "name": "stdout",
     "output_type": "stream",
     "text": [
      "a: 100\n",
      "b: 200\n",
      "c: 300\n",
      "the summation of 100,200and300 is 600\n"
     ]
    }
   ],
   "source": [
    "#case 1\n",
    "def addi(a,b,c):\n",
    "    print('a:',a)\n",
    "    print('b:',b)\n",
    "    print('c:',c)\n",
    "    summ=a+b+c\n",
    "    print(f\"the summation of {a},{b}and{c} is {summ}\")\n",
    "\n",
    "addi(100,200,300)"
   ]
  },
  {
   "cell_type": "code",
   "execution_count": 40,
   "id": "883675cd-a8f5-48ec-87fa-0c7580753923",
   "metadata": {},
   "outputs": [
    {
     "name": "stdout",
     "output_type": "stream",
     "text": [
      "a: 100\n",
      "b: 200\n",
      "c: 600\n",
      "the summation of 100,200and600 is 900\n"
     ]
    }
   ],
   "source": [
    "#case2\n",
    "def addi(a,b,c=400):\n",
    "    print('a:',a)\n",
    "    print('b:',b)\n",
    "    print('c:',c)\n",
    "    summ=a+b+c\n",
    "    print(f\"the summation of {a},{b}and{c} is {summ}\")\n",
    "\n",
    "addi(100,200,600)      # the default argument c=400 will be changed to c=600"
   ]
  },
  {
   "cell_type": "code",
   "execution_count": 41,
   "id": "8b4df9fa-24b9-4a28-adb1-e81a5e41a34b",
   "metadata": {},
   "outputs": [
    {
     "name": "stdout",
     "output_type": "stream",
     "text": [
      "a: 100\n",
      "b: 200\n",
      "c: 1000\n",
      "the summation of 100,200and1000 is 1300\n"
     ]
    }
   ],
   "source": [
    "def addi(a,b,c=400):\n",
    "    c=1000\n",
    "    print('a:',a)\n",
    "    print('b:',b)\n",
    "    print('c:',c)\n",
    "    summ=a+b+c\n",
    "    print(f\"the summation of {a},{b}and{c} is {summ}\")\n",
    "\n",
    "addi(100,200,600)"
   ]
  },
  {
   "cell_type": "markdown",
   "id": "b29a7622-1cef-4b39-8d63-40c9ca6a76a4",
   "metadata": {},
   "source": [
    "**global variables vs local variables**\n",
    "- the variables outside the function is called the **global variables**\n",
    "    - global variables can use any where\n",
    "    - global variables can be used inside and outside function\n",
    "\n",
    "- the variables inside the function is called as **loacal variables** \n",
    "    - local variables can be use only inside the function\n",
    "    - local variables can not be use the outside the function"
   ]
  },
  {
   "cell_type": "code",
   "execution_count": 47,
   "id": "08839bee-b0a8-4042-9c08-2c3cd538a628",
   "metadata": {},
   "outputs": [
    {
     "name": "stdout",
     "output_type": "stream",
     "text": [
      "the summation of 100 and 200 is 300\n"
     ]
    }
   ],
   "source": [
    "def summ():        #local variables\n",
    "    n1=100\n",
    "    n2=200\n",
    "    add=n1+n2\n",
    "    print(f\"the summation of {n1} and {n2} is {add}\")\n",
    "\n",
    "summ()"
   ]
  },
  {
   "cell_type": "code",
   "execution_count": 46,
   "id": "650ac14f-7b89-4f08-a937-03fc213c9360",
   "metadata": {},
   "outputs": [
    {
     "name": "stdout",
     "output_type": "stream",
     "text": [
      "the summation of 100 and 200 is 300\n"
     ]
    }
   ],
   "source": [
    "n1=100            #global variables\n",
    "n2=200\n",
    "def summ():\n",
    "    add=n1+n2\n",
    "    print(f\"the summation of {n1} and {n2} is {add}\")\n",
    "\n",
    "summ()"
   ]
  },
  {
   "cell_type": "markdown",
   "id": "d8c7a284-3e79-4443-9d26-4e92d9ebb9ac",
   "metadata": {},
   "source": [
    "**how to convert local to global variable**\n",
    "- if we want to use add variable outside the function\n",
    "- then initialize add as global also using global keyword"
   ]
  },
  {
   "cell_type": "code",
   "execution_count": 48,
   "id": "d600c417-57ad-475b-8a65-a5e0cfcdf1f0",
   "metadata": {},
   "outputs": [
    {
     "name": "stdout",
     "output_type": "stream",
     "text": [
      "the summation of 100 and 200 is 300\n"
     ]
    }
   ],
   "source": [
    "n1=100            #global variables\n",
    "n2=200\n",
    "def summ():\n",
    "    global add\n",
    "    add=n1+n2\n",
    "    print(f\"the summation of {n1} and {n2} is {add}\")\n",
    "\n",
    "summ()"
   ]
  },
  {
   "cell_type": "code",
   "execution_count": 51,
   "id": "81bf7327-38eb-4553-bb23-95474c40057d",
   "metadata": {},
   "outputs": [],
   "source": [
    "def abc():\n",
    "    global c\n",
    "    a=10\n",
    "    b=10\n",
    "    c=a+b\n",
    "    print(c)"
   ]
  },
  {
   "cell_type": "code",
   "execution_count": 50,
   "id": "adf82dcc-47c6-4f5b-b352-85243b2fdd59",
   "metadata": {},
   "outputs": [
    {
     "name": "stdout",
     "output_type": "stream",
     "text": [
      "20\n"
     ]
    }
   ],
   "source": [
    "abc()"
   ]
  },
  {
   "cell_type": "code",
   "execution_count": 53,
   "id": "6ab9ad1f-b38e-4a99-aea2-fc7e664ccdb5",
   "metadata": {},
   "outputs": [
    {
     "ename": "NameError",
     "evalue": "name 'c' is not defined",
     "output_type": "error",
     "traceback": [
      "\u001b[1;31m---------------------------------------------------------------------------\u001b[0m",
      "\u001b[1;31mNameError\u001b[0m                                 Traceback (most recent call last)",
      "Cell \u001b[1;32mIn[53], line 1\u001b[0m\n\u001b[1;32m----> 1\u001b[0m c\n",
      "\u001b[1;31mNameError\u001b[0m: name 'c' is not defined"
     ]
    }
   ],
   "source": [
    "c"
   ]
  },
  {
   "cell_type": "code",
   "execution_count": 64,
   "id": "2b68af9f-5218-4937-8b9a-d05b48cda925",
   "metadata": {},
   "outputs": [
    {
     "name": "stdin",
     "output_type": "stream",
     "text": [
      "enter the number: 14\n"
     ]
    },
    {
     "name": "stdout",
     "output_type": "stream",
     "text": [
      "it is even number\n"
     ]
    }
   ],
   "source": [
    "def abc():\n",
    "    a=eval(input(\"enter the number:\"))\n",
    "    b=a%2\n",
    "    if b==0:\n",
    "        print(\"it is even number\")\n",
    "    else:\n",
    "        print(\"it is odd number\")\n",
    "\n",
    "abc()"
   ]
  },
  {
   "cell_type": "code",
   "execution_count": 60,
   "id": "ddb43dea-3489-48ea-a8c6-028bab744d2a",
   "metadata": {},
   "outputs": [
    {
     "name": "stdout",
     "output_type": "stream",
     "text": [
      "it is odd number\n"
     ]
    }
   ],
   "source": [
    "def abc1(a):\n",
    "    b=a%2\n",
    "    if b==0:\n",
    "        print(\"it is even number\")\n",
    "    else:\n",
    "        print(\"it is odd number\")\n",
    "\n",
    "abc1(17)"
   ]
  },
  {
   "cell_type": "code",
   "execution_count": 61,
   "id": "b6d1c733-ef36-4f07-bc59-927163604fe1",
   "metadata": {},
   "outputs": [
    {
     "name": "stdout",
     "output_type": "stream",
     "text": [
      "it is odd number\n"
     ]
    }
   ],
   "source": [
    "def abc2(a=17):\n",
    "    b=a%2\n",
    "    if b==0:\n",
    "        print(\"it is even number\")\n",
    "    else:\n",
    "        print(\"it is odd number\")\n",
    "\n",
    "abc2()"
   ]
  },
  {
   "cell_type": "code",
   "execution_count": 62,
   "id": "8d9b9715-a2b3-4ac4-a301-7934bd28ae5d",
   "metadata": {},
   "outputs": [
    {
     "name": "stdin",
     "output_type": "stream",
     "text": [
      "enter the number: 17\n"
     ]
    },
    {
     "name": "stdout",
     "output_type": "stream",
     "text": [
      "it is odd number\n"
     ]
    }
   ],
   "source": [
    "a=eval(input(\"enter the number:\"))\n",
    "def abc3():\n",
    "    b=a%2\n",
    "    if b==0:\n",
    "        print(\"it is even number\")\n",
    "    else:\n",
    "        print(\"it is odd number\")\n",
    "\n",
    "abc3()"
   ]
  },
  {
   "cell_type": "code",
   "execution_count": 63,
   "id": "472c8242-4801-444f-afb7-b977dad670ab",
   "metadata": {},
   "outputs": [
    {
     "name": "stdin",
     "output_type": "stream",
     "text": [
      "enter the number: 18\n"
     ]
    },
    {
     "name": "stdout",
     "output_type": "stream",
     "text": [
      "it is even number\n"
     ]
    }
   ],
   "source": [
    "def abc4():\n",
    "    global a\n",
    "    a=eval(input(\"enter the number:\"))\n",
    "    b=a%2\n",
    "    if b==0:\n",
    "        print(\"it is even number\")\n",
    "    else:\n",
    "        print(\"it is odd number\")\n",
    "\n",
    "abc4()"
   ]
  },
  {
   "cell_type": "markdown",
   "id": "b4d937b2-44f8-45fd-962a-7730f5e3545d",
   "metadata": {},
   "source": [
    "**parameters vs variables**\n",
    "- parameter always inside the function bracket\n",
    "- variables either outside or inside the function bracket"
   ]
  },
  {
   "cell_type": "markdown",
   "id": "cfe46522-f0b8-494e-9836-d7625c1a00cb",
   "metadata": {},
   "source": [
    "**return**\n",
    "- return means function is giving something\n",
    "- we know that local variables cannot use outside the function\n",
    "- in order to use local variables outside the function, we have two mwthods\n",
    "    - global\n",
    "    - return"
   ]
  },
  {
   "cell_type": "code",
   "execution_count": 65,
   "id": "4caded02-8c00-40b6-bbf9-a45b518b47b3",
   "metadata": {},
   "outputs": [],
   "source": [
    "def add():\n",
    "    a=10\n",
    "    b=20\n",
    "    c=a+b\n",
    "    return(c)\n",
    "\n",
    "c=add()"
   ]
  },
  {
   "cell_type": "code",
   "execution_count": 66,
   "id": "73dd2ec6-2c2d-4f86-83cb-630f7b1be0d4",
   "metadata": {},
   "outputs": [
    {
     "data": {
      "text/plain": [
       "30"
      ]
     },
     "execution_count": 66,
     "metadata": {},
     "output_type": "execute_result"
    }
   ],
   "source": [
    "c"
   ]
  },
  {
   "cell_type": "code",
   "execution_count": 67,
   "id": "3bb9930c-b926-49b6-b74c-ca56b5c6d75b",
   "metadata": {},
   "outputs": [],
   "source": [
    "def add():\n",
    "    a=10\n",
    "    b=20\n",
    "    c=a+b\n",
    "    return(a,c)\n",
    "\n",
    "a,c=add()"
   ]
  },
  {
   "cell_type": "code",
   "execution_count": 68,
   "id": "175c6a1b-fe8a-4d67-8f60-bbee14177d67",
   "metadata": {},
   "outputs": [
    {
     "data": {
      "text/plain": [
       "10"
      ]
     },
     "execution_count": 68,
     "metadata": {},
     "output_type": "execute_result"
    }
   ],
   "source": [
    "a"
   ]
  },
  {
   "cell_type": "code",
   "execution_count": 69,
   "id": "df60016b-cd42-428c-9634-d87a668ea67d",
   "metadata": {},
   "outputs": [
    {
     "data": {
      "text/plain": [
       "30"
      ]
     },
     "execution_count": 69,
     "metadata": {},
     "output_type": "execute_result"
    }
   ],
   "source": [
    "c"
   ]
  },
  {
   "cell_type": "code",
   "execution_count": 70,
   "id": "0308249a-e969-40c7-b869-c4fd7bb299d5",
   "metadata": {},
   "outputs": [
    {
     "data": {
      "text/plain": [
       "(10, 30)"
      ]
     },
     "execution_count": 70,
     "metadata": {},
     "output_type": "execute_result"
    }
   ],
   "source": [
    "a,c"
   ]
  },
  {
   "cell_type": "code",
   "execution_count": 72,
   "id": "b082e4b2-69ed-4b52-815f-a3ddec10dab3",
   "metadata": {},
   "outputs": [],
   "source": [
    "def avg(a,b,c):\n",
    "    summ=a+b+c\n",
    "    AVG=summ/3\n",
    "    return(summ,AVG)\n",
    "\n",
    "summ,AVG=avg(10,20,30)"
   ]
  },
  {
   "cell_type": "code",
   "execution_count": 73,
   "id": "275b400b-1a08-4c3d-9985-facbb3090294",
   "metadata": {},
   "outputs": [
    {
     "data": {
      "text/plain": [
       "60"
      ]
     },
     "execution_count": 73,
     "metadata": {},
     "output_type": "execute_result"
    }
   ],
   "source": [
    "summ"
   ]
  },
  {
   "cell_type": "code",
   "execution_count": 74,
   "id": "2d89a459-760a-4345-992c-191cd008c10d",
   "metadata": {},
   "outputs": [
    {
     "data": {
      "text/plain": [
       "20.0"
      ]
     },
     "execution_count": 74,
     "metadata": {},
     "output_type": "execute_result"
    }
   ],
   "source": [
    "AVG"
   ]
  },
  {
   "cell_type": "code",
   "execution_count": 75,
   "id": "ff2ea502-3a01-497a-bc81-702f99e34b80",
   "metadata": {},
   "outputs": [
    {
     "data": {
      "text/plain": [
       "(60, 20.0)"
      ]
     },
     "execution_count": 75,
     "metadata": {},
     "output_type": "execute_result"
    }
   ],
   "source": [
    "summ,AVG"
   ]
  },
  {
   "cell_type": "code",
   "execution_count": 81,
   "id": "a07f9d76-a891-45bd-a94b-53cf27300404",
   "metadata": {},
   "outputs": [
    {
     "name": "stdin",
     "output_type": "stream",
     "text": [
      "enter the number: 17\n"
     ]
    }
   ],
   "source": [
    "def abc():\n",
    "    a=eval(input(\"enter the number:\"))\n",
    "    b=a%2\n",
    "    if b==0:\n",
    "        return(\"it is even number\")\n",
    "    else:\n",
    "        return(\"it is odd number\")\n",
    "\n",
    "a=abc()"
   ]
  },
  {
   "cell_type": "code",
   "execution_count": 78,
   "id": "a6242ffa-ef55-44a2-bcb9-86b65ed05862",
   "metadata": {},
   "outputs": [
    {
     "data": {
      "text/plain": [
       "17"
      ]
     },
     "execution_count": 78,
     "metadata": {},
     "output_type": "execute_result"
    }
   ],
   "source": [
    "a"
   ]
  },
  {
   "cell_type": "code",
   "execution_count": 80,
   "id": "d93f6873-10f3-4eed-94ea-92c474dc9530",
   "metadata": {},
   "outputs": [
    {
     "name": "stdin",
     "output_type": "stream",
     "text": [
      "enter the number: 12\n"
     ]
    }
   ],
   "source": [
    "a=abc()"
   ]
  },
  {
   "cell_type": "code",
   "execution_count": 82,
   "id": "37b785aa-2aaf-440e-b705-05bdc9fcf047",
   "metadata": {},
   "outputs": [
    {
     "name": "stdin",
     "output_type": "stream",
     "text": [
      "enter the number: 15\n"
     ]
    },
    {
     "name": "stdout",
     "output_type": "stream",
     "text": [
      "it is odd number\n",
      "35\n"
     ]
    }
   ],
   "source": [
    "def abc():\n",
    "    a=eval(input(\"enter the number:\"))\n",
    "    b=a%2\n",
    "    if b==0:\n",
    "        print(\"it is even number\")\n",
    "        return(a+10)\n",
    "    else:\n",
    "        print(\"it is odd number\")\n",
    "        return(a+20)\n",
    "\n",
    "output=abc()\n",
    "print(output)"
   ]
  },
  {
   "cell_type": "markdown",
   "id": "0b3b93b0-7312-41f3-8195-e3bdf94328e1",
   "metadata": {},
   "source": [
    "**function in function**"
   ]
  },
  {
   "cell_type": "code",
   "execution_count": 91,
   "id": "3bf38436-ae2a-42a6-a6e4-05e216530878",
   "metadata": {},
   "outputs": [
    {
     "name": "stdout",
     "output_type": "stream",
     "text": [
      "hello good morning\n",
      "hello good night\n"
     ]
    }
   ],
   "source": [
    "def greet1():\n",
    "    print(\"hello good morning\")\n",
    "\n",
    "def greet2():\n",
    "    print(\"hello good night\")\n",
    "\n",
    "greet1()\n",
    "greet2()"
   ]
  },
  {
   "cell_type": "code",
   "execution_count": 84,
   "id": "5dd5f14f-43bf-433e-bb8b-a041a84d6411",
   "metadata": {},
   "outputs": [
    {
     "name": "stdout",
     "output_type": "stream",
     "text": [
      "hello good night\n",
      "hello good morning\n"
     ]
    }
   ],
   "source": [
    "def greet1():\n",
    "    print(\"hello good morning\")\n",
    "\n",
    "def greet2():\n",
    "    print(\"hello good night\")\n",
    "    greet1()\n",
    "\n",
    "greet2()"
   ]
  },
  {
   "cell_type": "code",
   "execution_count": 85,
   "id": "1195dd8c-4b07-4ed2-a492-7949f1c82c93",
   "metadata": {},
   "outputs": [
    {
     "name": "stdout",
     "output_type": "stream",
     "text": [
      "hello good morning\n",
      "hello good night\n"
     ]
    }
   ],
   "source": [
    "def greet1():\n",
    "    print(\"hello good morning\")\n",
    "    greet2()\n",
    "\n",
    "def greet2():\n",
    "    print(\"hello good night\")\n",
    "\n",
    "greet1()"
   ]
  },
  {
   "cell_type": "code",
   "execution_count": null,
   "id": "cff5075a-3234-4f82-ba4b-28ffa34787c6",
   "metadata": {},
   "outputs": [],
   "source": [
    "****"
   ]
  },
  {
   "cell_type": "code",
   "execution_count": 90,
   "id": "4162e9ff-9319-4e9e-bcc4-3bf26b0f42db",
   "metadata": {},
   "outputs": [
    {
     "data": {
      "text/plain": [
       "10"
      ]
     },
     "execution_count": 90,
     "metadata": {},
     "output_type": "execute_result"
    }
   ],
   "source": [
    "def add(n):\n",
    "    if n==0:\n",
    "        return(0)\n",
    "\n",
    "    else:\n",
    "        return(n+add(n-1))\n",
    "add(4)"
   ]
  },
  {
   "cell_type": "code",
   "execution_count": 106,
   "id": "c4f8ed73-9d5c-424f-a329-e4473c5e6951",
   "metadata": {},
   "outputs": [
    {
     "data": {
      "text/plain": [
       "120"
      ]
     },
     "execution_count": 106,
     "metadata": {},
     "output_type": "execute_result"
    }
   ],
   "source": [
    "def factorial(n):\n",
    "    if n==1:\n",
    "        return(1)\n",
    "\n",
    "    else:\n",
    "        return(n*factorial(n-1))\n",
    "\n",
    "factorial(5)"
   ]
  },
  {
   "cell_type": "code",
   "execution_count": 115,
   "id": "c09ad7d9-e1f1-414d-a331-91346358218e",
   "metadata": {},
   "outputs": [
    {
     "name": "stdout",
     "output_type": "stream",
     "text": [
      "1 for additon, 2 for subtraction, 3 for multiplication, 4 for division\n"
     ]
    }
   ],
   "source": [
    "def add(a,b):\n",
    "    return(a+b)\n",
    "\n",
    "def subb(a,b):\n",
    "    return(a-b)\n",
    "\n",
    "def mul(a,b):\n",
    "    return(a*b)\n",
    "\n",
    "def div(a,b):\n",
    "    return(a/b)\n",
    "\n",
    "print(\"1 for additon, 2 for subtraction, 3 for multiplication, 4 for division\")\n",
    "\n",
    "def main():\n",
    "    option=eval(input(\"enter option between 1 to 4:\"))\n",
    "    if option==1:\n",
    "        a=eval(input(\"enter value:\"))\n",
    "        b=eval(input(\"enter value:\"))\n",
    "        add(a,b)\n",
    "        return(add(a,b))\n",
    "\n",
    "    elif option==2:\n",
    "        a=eval(input(\"enter value:\"))\n",
    "        b=eval(input(\"enter value:\"))\n",
    "        subb(a,b)\n",
    "        return(subb(a,b))\n",
    "\n",
    "    elif option==3:\n",
    "        a=eval(input(\"enter value:\"))\n",
    "        b=eval(input(\"enter value:\"))\n",
    "        mul(a,b)\n",
    "        return(mul(a,b))\n",
    "\n",
    "    else:\n",
    "        a=eval(input(\"enter value:\"))\n",
    "        b=eval(input(\"enter value:\"))\n",
    "        div(a,b)\n",
    "        return(div(a,b))"
   ]
  },
  {
   "cell_type": "code",
   "execution_count": 116,
   "id": "44f22de0-8ca4-43eb-8ca4-7c8f01048b40",
   "metadata": {},
   "outputs": [
    {
     "name": "stdin",
     "output_type": "stream",
     "text": [
      "enter option between 1 to 4: 3\n",
      "enter value: 5\n",
      "enter value: 7\n"
     ]
    },
    {
     "data": {
      "text/plain": [
       "35"
      ]
     },
     "execution_count": 116,
     "metadata": {},
     "output_type": "execute_result"
    }
   ],
   "source": [
    "main()"
   ]
  },
  {
   "cell_type": "code",
   "execution_count": null,
   "id": "f7293e04-3932-41c4-be7d-a01efe8690b1",
   "metadata": {},
   "outputs": [],
   "source": []
  }
 ],
 "metadata": {
  "kernelspec": {
   "display_name": "Python 3 (ipykernel)",
   "language": "python",
   "name": "python3"
  },
  "language_info": {
   "codemirror_mode": {
    "name": "ipython",
    "version": 3
   },
   "file_extension": ".py",
   "mimetype": "text/x-python",
   "name": "python",
   "nbconvert_exporter": "python",
   "pygments_lexer": "ipython3",
   "version": "3.12.7"
  }
 },
 "nbformat": 4,
 "nbformat_minor": 5
}
